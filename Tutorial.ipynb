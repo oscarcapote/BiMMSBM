{
 "cells": [
  {
   "cell_type": "markdown",
   "id": "f8602eab-6f2c-4ab7-b431-51461a603513",
   "metadata": {
    "tags": []
   },
   "source": [
    "# MMSBM library"
   ]
  },
  {
   "cell_type": "markdown",
   "id": "58be8a29-2af4-4f51-9b59-8292e1ff0eb9",
   "metadata": {},
   "source": [
    "## Introduction"
   ]
  },
  {
   "cell_type": "markdown",
   "id": "b1fdd729-498f-436f-944c-705071474bcd",
   "metadata": {},
   "source": [
    "## ``nodes_layer`` class"
   ]
  },
  {
   "cell_type": "markdown",
   "id": "0fbeaa28-1408-4fb3-80bc-8b18583c4c6c",
   "metadata": {},
   "source": [
    "The `nodes_layer` class represents one type of nodes that forms the bipartite network. It can represent people, researchers, papers, metabolites, movies... That depends on your dataset.\n",
    "\n",
    "The best way to initialize a nodes_layer is from a pandas DataFrame."
   ]
  },
  {
   "cell_type": "code",
   "execution_count": 1,
   "id": "2aa026b5-a293-4dde-bffd-e5cdc9453ab1",
   "metadata": {
    "ExecuteTime": {
     "end_time": "2024-09-13T01:25:28.257627Z",
     "start_time": "2024-09-13T01:25:28.246162Z"
    }
   },
   "outputs": [
    {
     "name": "stdout",
     "output_type": "stream",
     "text": [
      "Numba imported\n"
     ]
    }
   ],
   "source": [
    "import pandas as pd\n",
    "import numpy as np\n",
    "from numba import jit\n",
    "import sys, os\n",
    "\n",
    "\n",
    "sys.path.append(r'../')\n",
    "import MMSBM_library as sbm\n",
    "\n",
    "\n",
    "#Dataframe to use\n",
    "df_politicians =pd.DataFrame( {\"legislator\":[\"Pedro\", \"Santiago\", \"Alberto\", \"Yolanda\"],\n",
    "                               \"Party\":[\"PSOE\", \"VOX\", \"PP\", \"Sumar\"],\n",
    "                               \"Movies_preferences\":[\"Action|Drama\",\"Belic\",\"Belic|Comedy\",\"Comedy|Drama\"]})\n",
    "#Number of groups\n",
    "K = 9\n",
    "#You have to tell in which the name of the nodes will be as the second parameter \n",
    "politicians = sbm.nodes_layer(K,\"legislator\",df_politicians)"
   ]
  },
  {
   "cell_type": "markdown",
   "id": "3af6880b-9949-4190-887f-bd1a253c06fe",
   "metadata": {},
   "source": [
    "Once the object is initialized, you can acces to the dataframe from the `df` attribute,but now it will notain a new column with an integer id thet the library will use in the future. The name of the column is the same as the column of the names, but finished in `_id`."
   ]
  },
  {
   "cell_type": "code",
   "execution_count": 2,
   "id": "2f247f51-8100-4c29-8954-1890aa61dbff",
   "metadata": {
    "ExecuteTime": {
     "end_time": "2024-09-13T01:25:50.149833Z",
     "start_time": "2024-09-13T01:25:50.137459Z"
    }
   },
   "outputs": [
    {
     "data": {
      "text/html": [
       "<div>\n",
       "<style scoped>\n",
       "    .dataframe tbody tr th:only-of-type {\n",
       "        vertical-align: middle;\n",
       "    }\n",
       "\n",
       "    .dataframe tbody tr th {\n",
       "        vertical-align: top;\n",
       "    }\n",
       "\n",
       "    .dataframe thead th {\n",
       "        text-align: right;\n",
       "    }\n",
       "</style>\n",
       "<table border=\"1\" class=\"dataframe\">\n",
       "  <thead>\n",
       "    <tr style=\"text-align: right;\">\n",
       "      <th></th>\n",
       "      <th>legislator</th>\n",
       "      <th>Party</th>\n",
       "      <th>Movies_preferences</th>\n",
       "      <th>legislator_id</th>\n",
       "    </tr>\n",
       "  </thead>\n",
       "  <tbody>\n",
       "    <tr>\n",
       "      <th>0</th>\n",
       "      <td>Pedro</td>\n",
       "      <td>PSOE</td>\n",
       "      <td>Action|Drama</td>\n",
       "      <td>1</td>\n",
       "    </tr>\n",
       "    <tr>\n",
       "      <th>1</th>\n",
       "      <td>Santiago</td>\n",
       "      <td>VOX</td>\n",
       "      <td>Belic</td>\n",
       "      <td>2</td>\n",
       "    </tr>\n",
       "    <tr>\n",
       "      <th>2</th>\n",
       "      <td>Alberto</td>\n",
       "      <td>PP</td>\n",
       "      <td>Belic|Comedy</td>\n",
       "      <td>0</td>\n",
       "    </tr>\n",
       "    <tr>\n",
       "      <th>3</th>\n",
       "      <td>Yolanda</td>\n",
       "      <td>Sumar</td>\n",
       "      <td>Comedy|Drama</td>\n",
       "      <td>3</td>\n",
       "    </tr>\n",
       "  </tbody>\n",
       "</table>\n",
       "</div>"
      ],
      "text/plain": [
       "  legislator  Party Movies_preferences  legislator_id\n",
       "0      Pedro   PSOE       Action|Drama              1\n",
       "1   Santiago    VOX              Belic              2\n",
       "2    Alberto     PP       Belic|Comedy              0\n",
       "3    Yolanda  Sumar       Comedy|Drama              3"
      ]
     },
     "execution_count": 2,
     "metadata": {},
     "output_type": "execute_result"
    }
   ],
   "source": [
    "politicians.df"
   ]
  },
  {
   "cell_type": "markdown",
   "id": "62389ee2-481d-468b-8a90-b732d1406506",
   "metadata": {},
   "source": [
    "The asignment of the ids with the names of the nodes is in the `dict_codes` attribute."
   ]
  },
  {
   "cell_type": "code",
   "execution_count": 3,
   "id": "28c102da-367b-448a-9891-2551f5b110ef",
   "metadata": {
    "ExecuteTime": {
     "end_time": "2024-09-13T01:25:51.588301Z",
     "start_time": "2024-09-13T01:25:51.584150Z"
    }
   },
   "outputs": [
    {
     "data": {
      "text/plain": [
       "{'Pedro': 1, 'Santiago': 2, 'Alberto': 0, 'Yolanda': 3}"
      ]
     },
     "execution_count": 3,
     "metadata": {},
     "output_type": "execute_result"
    }
   ],
   "source": [
    "politicians.dict_codes"
   ]
  },
  {
   "cell_type": "markdown",
   "id": "e7890dd8-5264-4874-89b1-8226b892d6af",
   "metadata": {},
   "source": [
    "This id represents the array position that corresponds to each node for the `theta` and `omega` matricies"
   ]
  },
  {
   "cell_type": "markdown",
   "id": "a453bdf1-dccc-44c8-a23c-bf3316a95bbf",
   "metadata": {},
   "source": [
    "You can modify whenever you want the number of groups from the ``K`` attribute."
   ]
  },
  {
   "cell_type": "code",
   "execution_count": 4,
   "id": "b4cdbaa1-8ef2-4a2b-a5b9-f4abb88865fd",
   "metadata": {
    "ExecuteTime": {
     "end_time": "2024-09-13T01:25:52.641939Z",
     "start_time": "2024-09-13T01:25:52.638063Z"
    }
   },
   "outputs": [
    {
     "name": "stdout",
     "output_type": "stream",
     "text": [
      "Number of groups of politicians: 9\n",
      "Number of groups of politicians: 2\n"
     ]
    }
   ],
   "source": [
    "print(f\"Number of groups of politicians: {politicians.K}\")\n",
    "politicians.K = 2\n",
    "print(f\"Number of groups of politicians: {politicians.K}\")"
   ]
  },
  {
   "cell_type": "markdown",
   "id": "a154c571-e93a-487f-96ff-c57744c4a50e",
   "metadata": {},
   "source": [
    "*WARNING!!!* If yoy change the value of `K` you have to initialize again all the matrices!!"
   ]
  },
  {
   "cell_type": "markdown",
   "id": "e70132b1-4a91-4d37-a238-7956b8940a07",
   "metadata": {},
   "source": [
    "### Adding metadata"
   ]
  },
  {
   "cell_type": "markdown",
   "id": "0d5d9c6c-44bd-498f-86f8-a9d7077e3726",
   "metadata": {},
   "source": [
    "When in your dataframe you have extra information about the nodes, you have to tell which columns are metadata and which type of metadata. There are two types of metadata:\n",
    " * Exclusive metadata: These are metadata where each node can only have assigned one attribute. For exameple the age of a person. A person only have one age, not more of one.\n",
    " * Inclusive metadata: These are metadata where each node can have assigned more of one attributes. For example the genre of a movie, one movie can belong to different genre at the same time.\n",
    " "
   ]
  },
  {
   "cell_type": "markdown",
   "id": "c20efe1f-8a1c-45cc-88c4-7adf55d35800",
   "metadata": {},
   "source": [
    "### Exclusive metadata"
   ]
  },
  {
   "cell_type": "markdown",
   "id": "63897cb8-616e-44a6-91bf-980d1c3f614a",
   "metadata": {},
   "source": [
    "Once the `nodes_layer` is initialized, you can add the metadata using the `add_exclusive_metadata` method that will return a `exclusive_metadata` class. "
   ]
  },
  {
   "cell_type": "code",
   "execution_count": 5,
   "id": "e84c5fb2-4acc-4940-bfb6-e6c10549597a",
   "metadata": {
    "ExecuteTime": {
     "end_time": "2024-09-13T01:25:54.568321Z",
     "start_time": "2024-09-13T01:25:54.556723Z"
    }
   },
   "outputs": [],
   "source": [
    "# Importance of the metadata\n",
    "lambda_party = 100\n",
    "parties = politicians.add_exclusive_metadata(lambda_party,\"Party\")"
   ]
  },
  {
   "cell_type": "markdown",
   "id": "5fec0252-4a65-4c22-8f3a-fce5d29b6ef7",
   "metadata": {},
   "source": [
    "Also, this object will be stored inside the `nodes_layer` object in the `meta_exclusives` attribute that is a dictionary whose keys are the column names of the metadaa and the value the object."
   ]
  },
  {
   "cell_type": "code",
   "execution_count": 6,
   "id": "09773552-59af-4f3c-92f7-3faf91ecde72",
   "metadata": {
    "ExecuteTime": {
     "end_time": "2024-09-13T01:25:55.044133Z",
     "start_time": "2024-09-13T01:25:55.041748Z"
    }
   },
   "outputs": [
    {
     "data": {
      "text/plain": [
       "True"
      ]
     },
     "execution_count": 6,
     "metadata": {},
     "output_type": "execute_result"
    }
   ],
   "source": [
    "parties == politicians.meta_exclusives[\"Party\"]"
   ]
  },
  {
   "cell_type": "markdown",
   "id": "35b141c5-2b22-4ea5-86dc-61b88125df8f",
   "metadata": {},
   "source": [
    "The value of `lambda_party` is how important will be the metadata while the inference procedure is running and it can be accesed from the `lambda_val` attribute."
   ]
  },
  {
   "cell_type": "code",
   "execution_count": 7,
   "id": "b7036b04-dd9c-4955-84ed-ff8a90c1c767",
   "metadata": {
    "ExecuteTime": {
     "end_time": "2024-09-13T01:25:55.337354Z",
     "start_time": "2024-09-13T01:25:55.334412Z"
    }
   },
   "outputs": [
    {
     "name": "stdout",
     "output_type": "stream",
     "text": [
      "Importance of political parties: 100\n",
      "Importance of political parties: 2.3\n"
     ]
    }
   ],
   "source": [
    "print(f\"Importance of political parties: {parties.lambda_val}\")\n",
    "parties.lambda_val = 2.3\n",
    "print(f\"Importance of political parties: {parties.lambda_val}\")"
   ]
  },
  {
   "cell_type": "markdown",
   "id": "e59c358a-caf9-4424-864e-64c00eaee838",
   "metadata": {},
   "source": [
    "When the metadata has been added to the `nodes_layer` object, its dataframe will add a new column with the ids of the metadata with the same column name but finished in `_id`."
   ]
  },
  {
   "cell_type": "code",
   "execution_count": 8,
   "id": "5c734535-ccb6-42cb-83ff-304daa1bac50",
   "metadata": {
    "ExecuteTime": {
     "end_time": "2024-09-13T01:25:55.761138Z",
     "start_time": "2024-09-13T01:25:55.756871Z"
    }
   },
   "outputs": [
    {
     "data": {
      "text/html": [
       "<div>\n",
       "<style scoped>\n",
       "    .dataframe tbody tr th:only-of-type {\n",
       "        vertical-align: middle;\n",
       "    }\n",
       "\n",
       "    .dataframe tbody tr th {\n",
       "        vertical-align: top;\n",
       "    }\n",
       "\n",
       "    .dataframe thead th {\n",
       "        text-align: right;\n",
       "    }\n",
       "</style>\n",
       "<table border=\"1\" class=\"dataframe\">\n",
       "  <thead>\n",
       "    <tr style=\"text-align: right;\">\n",
       "      <th></th>\n",
       "      <th>legislator</th>\n",
       "      <th>Party</th>\n",
       "      <th>Movies_preferences</th>\n",
       "      <th>legislator_id</th>\n",
       "      <th>Party_id</th>\n",
       "    </tr>\n",
       "  </thead>\n",
       "  <tbody>\n",
       "    <tr>\n",
       "      <th>0</th>\n",
       "      <td>Pedro</td>\n",
       "      <td>PSOE</td>\n",
       "      <td>Action|Drama</td>\n",
       "      <td>1</td>\n",
       "      <td>1</td>\n",
       "    </tr>\n",
       "    <tr>\n",
       "      <th>1</th>\n",
       "      <td>Santiago</td>\n",
       "      <td>VOX</td>\n",
       "      <td>Belic</td>\n",
       "      <td>2</td>\n",
       "      <td>3</td>\n",
       "    </tr>\n",
       "    <tr>\n",
       "      <th>2</th>\n",
       "      <td>Alberto</td>\n",
       "      <td>PP</td>\n",
       "      <td>Belic|Comedy</td>\n",
       "      <td>0</td>\n",
       "      <td>0</td>\n",
       "    </tr>\n",
       "    <tr>\n",
       "      <th>3</th>\n",
       "      <td>Yolanda</td>\n",
       "      <td>Sumar</td>\n",
       "      <td>Comedy|Drama</td>\n",
       "      <td>3</td>\n",
       "      <td>2</td>\n",
       "    </tr>\n",
       "  </tbody>\n",
       "</table>\n",
       "</div>"
      ],
      "text/plain": [
       "  legislator  Party Movies_preferences  legislator_id  Party_id\n",
       "0      Pedro   PSOE       Action|Drama              1         1\n",
       "1   Santiago    VOX              Belic              2         3\n",
       "2    Alberto     PP       Belic|Comedy              0         0\n",
       "3    Yolanda  Sumar       Comedy|Drama              3         2"
      ]
     },
     "execution_count": 8,
     "metadata": {},
     "output_type": "execute_result"
    }
   ],
   "source": [
    "politicians.df"
   ]
  },
  {
   "cell_type": "markdown",
   "id": "73d20ae2-04db-4660-826d-d5b5aed45105",
   "metadata": {},
   "source": [
    "Similarly to the `nodes_layer`, you can acces to the metadata ids through the `dict_codes` attribute."
   ]
  },
  {
   "cell_type": "code",
   "execution_count": 9,
   "id": "2e511b25-9e2e-41d4-b601-96f7ce2e75ac",
   "metadata": {
    "ExecuteTime": {
     "end_time": "2024-09-13T01:25:56.078466Z",
     "start_time": "2024-09-13T01:25:56.075360Z"
    },
    "tags": []
   },
   "outputs": [
    {
     "data": {
      "text/plain": [
       "{'PSOE': 1, 'VOX': 3, 'PP': 0, 'Sumar': 2}"
      ]
     },
     "execution_count": 9,
     "metadata": {},
     "output_type": "execute_result"
    }
   ],
   "source": [
    "parties.dict_codes"
   ]
  },
  {
   "cell_type": "markdown",
   "id": "73e18955-fb33-49df-a1b5-d5518ae416ee",
   "metadata": {},
   "source": [
    "### Inclusive metadata"
   ]
  },
  {
   "cell_type": "markdown",
   "id": "b954a1ea-8661-486d-8f9a-4d24a33090e6",
   "metadata": {},
   "source": [
    "Once the `nodes_layer` is initialized, you can add the metadata using the `add_inclusive_metadata` method that will return a `inclusive_metadata` class. "
   ]
  },
  {
   "cell_type": "code",
   "execution_count": 10,
   "id": "5c5268d7-6a7c-451c-9f20-e8cc482e94a1",
   "metadata": {
    "ExecuteTime": {
     "end_time": "2024-09-13T01:25:57.805874Z",
     "start_time": "2024-09-13T01:25:57.801776Z"
    }
   },
   "outputs": [],
   "source": [
    "# Importance of the metadata\n",
    "lambda_movies = 0.3\n",
    "# Number of groups of genres\n",
    "Tau_movies = 6\n",
    "movies = politicians.add_inclusive_metadata(lambda_movies,\"Movies_preferences\",Tau_movies)"
   ]
  },
  {
   "cell_type": "markdown",
   "id": "1cf43c73-f413-402f-87d8-21017ae47439",
   "metadata": {},
   "source": [
    "Also, this object will be stored inside the `nodes_layer` object in the `meta_inclusives` attribute that is a dictionary whose keys are the column names of the metadaa and the value the object."
   ]
  },
  {
   "cell_type": "code",
   "execution_count": 11,
   "id": "0fdd0345-6184-4c15-8d29-1d6e00664f28",
   "metadata": {
    "ExecuteTime": {
     "end_time": "2024-09-13T01:25:58.407508Z",
     "start_time": "2024-09-13T01:25:58.404792Z"
    }
   },
   "outputs": [
    {
     "data": {
      "text/plain": [
       "True"
      ]
     },
     "execution_count": 11,
     "metadata": {},
     "output_type": "execute_result"
    }
   ],
   "source": [
    "politicians.meta_inclusives[str(movies)] == movies"
   ]
  },
  {
   "cell_type": "markdown",
   "id": "d5420b1e-8225-4a93-abe3-8a54d1fa9107",
   "metadata": {},
   "source": [
    "The value of `lambda_movies` is how important will be the metadata while the inference procedure is running and it can be accesed from the `lambda_val` attribute."
   ]
  },
  {
   "cell_type": "code",
   "execution_count": 12,
   "id": "25a2eefe-37d3-4863-9cbf-9ceffbadc14f",
   "metadata": {
    "ExecuteTime": {
     "end_time": "2024-09-13T01:25:59.421959Z",
     "start_time": "2024-09-13T01:25:59.419759Z"
    }
   },
   "outputs": [
    {
     "name": "stdout",
     "output_type": "stream",
     "text": [
      "Importance of politicians movies preferences: 0.3\n",
      "Importance of politicians movies preferences: 20\n"
     ]
    }
   ],
   "source": [
    "print(f\"Importance of politicians movies preferences: {movies.lambda_val}\")\n",
    "movies.lambda_val = 20\n",
    "print(f\"Importance of politicians movies preferences: {movies.lambda_val}\")"
   ]
  },
  {
   "cell_type": "markdown",
   "id": "afe254ff-a0e1-49c1-8079-234acf3d74f4",
   "metadata": {},
   "source": [
    "The value of `Tau_movies` is the number of groups which the metadata will be grouped in the inference and it can be accesed from the `lambda_val` attribute."
   ]
  },
  {
   "cell_type": "code",
   "execution_count": 13,
   "id": "9d41d117-5415-4bcf-be7c-a2162be3ba2c",
   "metadata": {
    "ExecuteTime": {
     "end_time": "2024-09-13T01:25:59.859978Z",
     "start_time": "2024-09-13T01:25:59.857727Z"
    }
   },
   "outputs": [
    {
     "name": "stdout",
     "output_type": "stream",
     "text": [
      "Number of groups of politicians: 6\n",
      "Number of groups of politicians: 3\n"
     ]
    }
   ],
   "source": [
    "print(f\"Number of groups of politicians: {movies.Tau}\")\n",
    "movies.Tau = 3\n",
    "print(f\"Number of groups of politicians: {movies.Tau}\")"
   ]
  },
  {
   "cell_type": "markdown",
   "id": "b28c689e-b156-41ca-82a4-ff596d55bf8d",
   "metadata": {},
   "source": [
    "When the metadata has been added to the `nodes_layer` object, its dataframe will add a new column with the ids of the metadata with the same column name but finished in `_id`."
   ]
  },
  {
   "cell_type": "code",
   "execution_count": 14,
   "id": "138907c5-dfdc-483a-a3eb-4b7f83341a49",
   "metadata": {
    "ExecuteTime": {
     "end_time": "2024-09-13T01:26:00.760572Z",
     "start_time": "2024-09-13T01:26:00.753104Z"
    }
   },
   "outputs": [
    {
     "data": {
      "text/html": [
       "<div>\n",
       "<style scoped>\n",
       "    .dataframe tbody tr th:only-of-type {\n",
       "        vertical-align: middle;\n",
       "    }\n",
       "\n",
       "    .dataframe tbody tr th {\n",
       "        vertical-align: top;\n",
       "    }\n",
       "\n",
       "    .dataframe thead th {\n",
       "        text-align: right;\n",
       "    }\n",
       "</style>\n",
       "<table border=\"1\" class=\"dataframe\">\n",
       "  <thead>\n",
       "    <tr style=\"text-align: right;\">\n",
       "      <th></th>\n",
       "      <th>legislator</th>\n",
       "      <th>Party</th>\n",
       "      <th>Movies_preferences</th>\n",
       "      <th>legislator_id</th>\n",
       "      <th>Party_id</th>\n",
       "    </tr>\n",
       "  </thead>\n",
       "  <tbody>\n",
       "    <tr>\n",
       "      <th>0</th>\n",
       "      <td>Pedro</td>\n",
       "      <td>PSOE</td>\n",
       "      <td>Action|Drama</td>\n",
       "      <td>1</td>\n",
       "      <td>1</td>\n",
       "    </tr>\n",
       "    <tr>\n",
       "      <th>1</th>\n",
       "      <td>Santiago</td>\n",
       "      <td>VOX</td>\n",
       "      <td>Belic</td>\n",
       "      <td>2</td>\n",
       "      <td>3</td>\n",
       "    </tr>\n",
       "    <tr>\n",
       "      <th>2</th>\n",
       "      <td>Alberto</td>\n",
       "      <td>PP</td>\n",
       "      <td>Belic|Comedy</td>\n",
       "      <td>0</td>\n",
       "      <td>0</td>\n",
       "    </tr>\n",
       "    <tr>\n",
       "      <th>3</th>\n",
       "      <td>Yolanda</td>\n",
       "      <td>Sumar</td>\n",
       "      <td>Comedy|Drama</td>\n",
       "      <td>3</td>\n",
       "      <td>2</td>\n",
       "    </tr>\n",
       "  </tbody>\n",
       "</table>\n",
       "</div>"
      ],
      "text/plain": [
       "  legislator  Party Movies_preferences  legislator_id  Party_id\n",
       "0      Pedro   PSOE       Action|Drama              1         1\n",
       "1   Santiago    VOX              Belic              2         3\n",
       "2    Alberto     PP       Belic|Comedy              0         0\n",
       "3    Yolanda  Sumar       Comedy|Drama              3         2"
      ]
     },
     "execution_count": 14,
     "metadata": {},
     "output_type": "execute_result"
    }
   ],
   "source": [
    "politicians.df"
   ]
  },
  {
   "cell_type": "markdown",
   "id": "832956f3-3686-4dbb-b118-561f6ec709a7",
   "metadata": {},
   "source": [
    "Similarly to the `nodes_layer`, you can acces to the metadata ids through the `dict_codes` attribute."
   ]
  },
  {
   "cell_type": "code",
   "execution_count": 15,
   "id": "c3b78fca-f0e3-423d-b4c1-9a3202867cd6",
   "metadata": {
    "ExecuteTime": {
     "end_time": "2024-09-13T01:26:01.246536Z",
     "start_time": "2024-09-13T01:26:01.243838Z"
    },
    "tags": []
   },
   "outputs": [
    {
     "data": {
      "text/plain": [
       "{'Belic': 0, 'Comedy': 1, 'Action': 2, 'Drama': 3}"
      ]
     },
     "execution_count": 15,
     "metadata": {},
     "output_type": "execute_result"
    }
   ],
   "source": [
    "movies.dict_codes"
   ]
  },
  {
   "cell_type": "markdown",
   "id": "41523b53-fa49-43e4-90ed-162e1b40b33e",
   "metadata": {},
   "source": [
    "### Accesing to the metadata object from its name"
   ]
  },
  {
   "cell_type": "markdown",
   "id": "dd3f1de2-0703-4413-bf4e-d8d866862500",
   "metadata": {},
   "source": [
    "You can access to the metadata_layer objects without using the `meta_inclusive` and `meta_exclusives` dictionaries."
   ]
  },
  {
   "cell_type": "code",
   "execution_count": 16,
   "id": "d241d730-3723-455c-a14d-e2093080a54a",
   "metadata": {
    "ExecuteTime": {
     "end_time": "2024-09-13T01:26:02.844327Z",
     "start_time": "2024-09-13T01:26:02.841893Z"
    }
   },
   "outputs": [
    {
     "data": {
      "text/plain": [
       "True"
      ]
     },
     "execution_count": 16,
     "metadata": {},
     "output_type": "execute_result"
    }
   ],
   "source": [
    "politicians[str(movies)] == movies"
   ]
  },
  {
   "cell_type": "code",
   "execution_count": 17,
   "id": "7161c12b-5a7a-473f-b780-2668d70cf283",
   "metadata": {
    "ExecuteTime": {
     "end_time": "2024-09-13T01:26:03.127353Z",
     "start_time": "2024-09-13T01:26:03.123614Z"
    }
   },
   "outputs": [
    {
     "data": {
      "text/plain": [
       "True"
      ]
     },
     "execution_count": 17,
     "metadata": {},
     "output_type": "execute_result"
    }
   ],
   "source": [
    "politicians[str(parties)] == parties"
   ]
  },
  {
   "cell_type": "markdown",
   "id": "644023b1-a301-42ea-96e3-a0d74fee043e",
   "metadata": {},
   "source": [
    "# `BiNet` class"
   ]
  },
  {
   "cell_type": "markdown",
   "id": "cc6661d0-b078-484f-8f97-9e6c248ce531",
   "metadata": {},
   "source": [
    "The BinNet class contains the information about a Bipartite network. It contains information about:\n",
    " - Each of the layers that forms the bipartite network\n",
    " - The observed links."
   ]
  },
  {
   "cell_type": "markdown",
   "id": "351a614d-5cac-48a9-baf4-88d9859692fc",
   "metadata": {},
   "source": [
    "## `BiNet` class without nodes metadata"
   ]
  },
  {
   "cell_type": "markdown",
   "id": "4fed6b51-e4fb-4d2e-a7cf-32e169ea8b93",
   "metadata": {},
   "source": [
    "To declare a `BiNet` object you need always, at less, a dataframe with (minimum) three columns:\n",
    " - One with the source node\n",
    " - One with the target node\n",
    " - The label of the link"
   ]
  },
  {
   "cell_type": "code",
   "execution_count": 18,
   "id": "1d9b29a5-65fd-4352-8d25-6d8505d2f312",
   "metadata": {
    "ExecuteTime": {
     "end_time": "2024-09-13T01:26:06.103107Z",
     "start_time": "2024-09-13T01:26:06.095487Z"
    }
   },
   "outputs": [],
   "source": [
    "links_df = pd.DataFrame({\"source\":[0,0,0,1,1,1,2,2,2],\n",
    "             \"target\":[\"A\",\"B\",\"C\",\"A\",\"B\",\"C\",\"A\",\"B\",\"C\"],\n",
    "             \"labels\":[\"positive\",\"negative\",\"positive\",\"positive\",\"negative\",\"positive\",\"negative\",\"negative\",\"positive\"]})"
   ]
  },
  {
   "cell_type": "code",
   "execution_count": 19,
   "id": "136972a0-d335-46a3-8911-58fd7bf3f1bb",
   "metadata": {
    "ExecuteTime": {
     "end_time": "2024-09-13T01:26:06.332899Z",
     "start_time": "2024-09-13T01:26:06.310749Z"
    }
   },
   "outputs": [],
   "source": [
    "BiNet = sbm.BiNet(links_df,\"labels\",nodes_a_name=\"source\",Ka=1,nodes_b_name=\"target\",Kb=2)"
   ]
  },
  {
   "cell_type": "markdown",
   "id": "432cf533-ff45-40d1-a0a8-7447e194b087",
   "metadata": {},
   "source": [
    "Notice that you need to specify wich columns represent nodes and which is the column of the labels.\n",
    "Also, because the class only distiguish undirect networks, the columns assignments of `nodes_a` and `nodes_b` are irrelevant. Only will affect in the indexing of the matrices of the MMSBM parameters."
   ]
  },
  {
   "cell_type": "markdown",
   "id": "bb941565-d760-40c3-bd0e-48cdd2a085c4",
   "metadata": {},
   "source": [
    "Once the object is initialized, you can acces to the dataframe from the `df` attribute, but now it will notain three new columns, one for each node type and another for the labels, with an integer id that the library will use in the future. The name of the column is the same as the column of the names, but finished in `_id`."
   ]
  },
  {
   "cell_type": "code",
   "execution_count": 20,
   "id": "9a465ecc-7f5f-4cc6-992f-1a296a566dad",
   "metadata": {
    "ExecuteTime": {
     "end_time": "2024-09-13T01:26:08.484196Z",
     "start_time": "2024-09-13T01:26:08.466778Z"
    }
   },
   "outputs": [
    {
     "data": {
      "text/html": [
       "<div>\n",
       "<style scoped>\n",
       "    .dataframe tbody tr th:only-of-type {\n",
       "        vertical-align: middle;\n",
       "    }\n",
       "\n",
       "    .dataframe tbody tr th {\n",
       "        vertical-align: top;\n",
       "    }\n",
       "\n",
       "    .dataframe thead th {\n",
       "        text-align: right;\n",
       "    }\n",
       "</style>\n",
       "<table border=\"1\" class=\"dataframe\">\n",
       "  <thead>\n",
       "    <tr style=\"text-align: right;\">\n",
       "      <th></th>\n",
       "      <th>source</th>\n",
       "      <th>target</th>\n",
       "      <th>labels</th>\n",
       "      <th>labels_id</th>\n",
       "      <th>source_id</th>\n",
       "      <th>target_id</th>\n",
       "    </tr>\n",
       "  </thead>\n",
       "  <tbody>\n",
       "    <tr>\n",
       "      <th>0</th>\n",
       "      <td>0</td>\n",
       "      <td>A</td>\n",
       "      <td>positive</td>\n",
       "      <td>1</td>\n",
       "      <td>0</td>\n",
       "      <td>0</td>\n",
       "    </tr>\n",
       "    <tr>\n",
       "      <th>1</th>\n",
       "      <td>0</td>\n",
       "      <td>B</td>\n",
       "      <td>negative</td>\n",
       "      <td>0</td>\n",
       "      <td>0</td>\n",
       "      <td>1</td>\n",
       "    </tr>\n",
       "    <tr>\n",
       "      <th>2</th>\n",
       "      <td>0</td>\n",
       "      <td>C</td>\n",
       "      <td>positive</td>\n",
       "      <td>1</td>\n",
       "      <td>0</td>\n",
       "      <td>2</td>\n",
       "    </tr>\n",
       "    <tr>\n",
       "      <th>3</th>\n",
       "      <td>1</td>\n",
       "      <td>A</td>\n",
       "      <td>positive</td>\n",
       "      <td>1</td>\n",
       "      <td>1</td>\n",
       "      <td>0</td>\n",
       "    </tr>\n",
       "    <tr>\n",
       "      <th>4</th>\n",
       "      <td>1</td>\n",
       "      <td>B</td>\n",
       "      <td>negative</td>\n",
       "      <td>0</td>\n",
       "      <td>1</td>\n",
       "      <td>1</td>\n",
       "    </tr>\n",
       "    <tr>\n",
       "      <th>5</th>\n",
       "      <td>1</td>\n",
       "      <td>C</td>\n",
       "      <td>positive</td>\n",
       "      <td>1</td>\n",
       "      <td>1</td>\n",
       "      <td>2</td>\n",
       "    </tr>\n",
       "    <tr>\n",
       "      <th>6</th>\n",
       "      <td>2</td>\n",
       "      <td>A</td>\n",
       "      <td>negative</td>\n",
       "      <td>0</td>\n",
       "      <td>2</td>\n",
       "      <td>0</td>\n",
       "    </tr>\n",
       "    <tr>\n",
       "      <th>7</th>\n",
       "      <td>2</td>\n",
       "      <td>B</td>\n",
       "      <td>negative</td>\n",
       "      <td>0</td>\n",
       "      <td>2</td>\n",
       "      <td>1</td>\n",
       "    </tr>\n",
       "    <tr>\n",
       "      <th>8</th>\n",
       "      <td>2</td>\n",
       "      <td>C</td>\n",
       "      <td>positive</td>\n",
       "      <td>1</td>\n",
       "      <td>2</td>\n",
       "      <td>2</td>\n",
       "    </tr>\n",
       "  </tbody>\n",
       "</table>\n",
       "</div>"
      ],
      "text/plain": [
       "   source target    labels  labels_id  source_id  target_id\n",
       "0       0      A  positive          1          0          0\n",
       "1       0      B  negative          0          0          1\n",
       "2       0      C  positive          1          0          2\n",
       "3       1      A  positive          1          1          0\n",
       "4       1      B  negative          0          1          1\n",
       "5       1      C  positive          1          1          2\n",
       "6       2      A  negative          0          2          0\n",
       "7       2      B  negative          0          2          1\n",
       "8       2      C  positive          1          2          2"
      ]
     },
     "execution_count": 20,
     "metadata": {},
     "output_type": "execute_result"
    }
   ],
   "source": [
    "BiNet.df"
   ]
  },
  {
   "cell_type": "markdown",
   "id": "598ee3e3-a1ad-4285-b581-4a4087b29bca",
   "metadata": {},
   "source": [
    "## Accesing to the `node_layer` objects"
   ]
  },
  {
   "cell_type": "markdown",
   "id": "dfccf5dc-8bc2-4455-81ec-887c86c83885",
   "metadata": {},
   "source": [
    "Two attributes that contains the information of the nodes are the `nodes_a` and `nodes_b` attributes that are `nodes_layer` objects."
   ]
  },
  {
   "cell_type": "code",
   "execution_count": 21,
   "id": "a806bc6b-725e-4b81-bb37-ba7d427d8f98",
   "metadata": {
    "ExecuteTime": {
     "end_time": "2024-09-13T01:26:21.715552Z",
     "start_time": "2024-09-13T01:26:21.713079Z"
    }
   },
   "outputs": [
    {
     "name": "stdout",
     "output_type": "stream",
     "text": [
      "source <class 'MMSBM_library.nodes_layer'>\n",
      "target <class 'MMSBM_library.nodes_layer'>\n"
     ]
    }
   ],
   "source": [
    "print(BiNet.nodes_a,type(BiNet.nodes_a))\n",
    "print(BiNet.nodes_b,type(BiNet.nodes_b))"
   ]
  },
  {
   "cell_type": "markdown",
   "id": "e7b5e40a-8fd6-42ea-b0d4-4ce5afe93ba0",
   "metadata": {},
   "source": [
    "An easier way to access to these objects is by using the name of the layer:"
   ]
  },
  {
   "cell_type": "code",
   "execution_count": 22,
   "id": "f1a0d471-bde0-4091-b8b4-3b03b4f71d7d",
   "metadata": {
    "ExecuteTime": {
     "end_time": "2024-09-13T01:26:23.829036Z",
     "start_time": "2024-09-13T01:26:23.824968Z"
    }
   },
   "outputs": [
    {
     "data": {
      "text/plain": [
       "True"
      ]
     },
     "execution_count": 22,
     "metadata": {},
     "output_type": "execute_result"
    }
   ],
   "source": [
    "BiNet[\"source\"] == BiNet.nodes_a"
   ]
  },
  {
   "cell_type": "code",
   "execution_count": 23,
   "id": "1c7d557d-87d2-43a9-b8be-8ac5940f554e",
   "metadata": {
    "ExecuteTime": {
     "end_time": "2024-09-13T01:26:24.747360Z",
     "start_time": "2024-09-13T01:26:24.743612Z"
    }
   },
   "outputs": [
    {
     "data": {
      "text/plain": [
       "True"
      ]
     },
     "execution_count": 23,
     "metadata": {},
     "output_type": "execute_result"
    }
   ],
   "source": [
    "BiNet[\"target\"] == BiNet.nodes_b"
   ]
  },
  {
   "cell_type": "markdown",
   "id": "1fa6e1e9-a6bb-432e-929b-47b4f4d23561",
   "metadata": {},
   "source": [
    "As before, you can access to a dataframe with the `df` method. Also, it will contain an extra column with the ids."
   ]
  },
  {
   "cell_type": "code",
   "execution_count": 24,
   "id": "f251bf51-81bd-467c-9771-839e429053c1",
   "metadata": {
    "ExecuteTime": {
     "end_time": "2024-09-13T01:26:27.121613Z",
     "start_time": "2024-09-13T01:26:27.117667Z"
    }
   },
   "outputs": [
    {
     "data": {
      "text/html": [
       "<div>\n",
       "<style scoped>\n",
       "    .dataframe tbody tr th:only-of-type {\n",
       "        vertical-align: middle;\n",
       "    }\n",
       "\n",
       "    .dataframe tbody tr th {\n",
       "        vertical-align: top;\n",
       "    }\n",
       "\n",
       "    .dataframe thead th {\n",
       "        text-align: right;\n",
       "    }\n",
       "</style>\n",
       "<table border=\"1\" class=\"dataframe\">\n",
       "  <thead>\n",
       "    <tr style=\"text-align: right;\">\n",
       "      <th></th>\n",
       "      <th>source</th>\n",
       "      <th>source_id</th>\n",
       "    </tr>\n",
       "  </thead>\n",
       "  <tbody>\n",
       "    <tr>\n",
       "      <th>0</th>\n",
       "      <td>0</td>\n",
       "      <td>0</td>\n",
       "    </tr>\n",
       "    <tr>\n",
       "      <th>1</th>\n",
       "      <td>1</td>\n",
       "      <td>1</td>\n",
       "    </tr>\n",
       "    <tr>\n",
       "      <th>2</th>\n",
       "      <td>2</td>\n",
       "      <td>2</td>\n",
       "    </tr>\n",
       "  </tbody>\n",
       "</table>\n",
       "</div>"
      ],
      "text/plain": [
       "   source  source_id\n",
       "0       0          0\n",
       "1       1          1\n",
       "2       2          2"
      ]
     },
     "execution_count": 24,
     "metadata": {},
     "output_type": "execute_result"
    }
   ],
   "source": [
    "BiNet[\"source\"].df"
   ]
  },
  {
   "cell_type": "code",
   "execution_count": 25,
   "id": "64f27672-3888-44d7-8b93-68551fabbdbb",
   "metadata": {
    "ExecuteTime": {
     "end_time": "2024-09-13T01:26:28.149900Z",
     "start_time": "2024-09-13T01:26:28.136629Z"
    }
   },
   "outputs": [
    {
     "data": {
      "text/html": [
       "<div>\n",
       "<style scoped>\n",
       "    .dataframe tbody tr th:only-of-type {\n",
       "        vertical-align: middle;\n",
       "    }\n",
       "\n",
       "    .dataframe tbody tr th {\n",
       "        vertical-align: top;\n",
       "    }\n",
       "\n",
       "    .dataframe thead th {\n",
       "        text-align: right;\n",
       "    }\n",
       "</style>\n",
       "<table border=\"1\" class=\"dataframe\">\n",
       "  <thead>\n",
       "    <tr style=\"text-align: right;\">\n",
       "      <th></th>\n",
       "      <th>target</th>\n",
       "      <th>target_id</th>\n",
       "    </tr>\n",
       "  </thead>\n",
       "  <tbody>\n",
       "    <tr>\n",
       "      <th>0</th>\n",
       "      <td>A</td>\n",
       "      <td>0</td>\n",
       "    </tr>\n",
       "    <tr>\n",
       "      <th>1</th>\n",
       "      <td>B</td>\n",
       "      <td>1</td>\n",
       "    </tr>\n",
       "    <tr>\n",
       "      <th>2</th>\n",
       "      <td>C</td>\n",
       "      <td>2</td>\n",
       "    </tr>\n",
       "  </tbody>\n",
       "</table>\n",
       "</div>"
      ],
      "text/plain": [
       "  target  target_id\n",
       "0      A          0\n",
       "1      B          1\n",
       "2      C          2"
      ]
     },
     "execution_count": 25,
     "metadata": {},
     "output_type": "execute_result"
    }
   ],
   "source": [
    "BiNet[\"target\"].df"
   ]
  },
  {
   "cell_type": "markdown",
   "id": "6b26e09d-c375-44d6-bc0b-2d91c8fc8b8c",
   "metadata": {},
   "source": [
    "## Using `nodes_layer` objects to initialize a `BiNet` object"
   ]
  },
  {
   "cell_type": "markdown",
   "id": "7029c78a-34b7-41b9-9bb1-befa2900313b",
   "metadata": {},
   "source": [
    "The example of before only has a link list with labels. Sometimes you want to infer using nodes' metadata. The best way to do that is by using `nodes_layer` objects."
   ]
  },
  {
   "cell_type": "markdown",
   "id": "fbcb64ff-297d-4228-93c8-3608cd256f94",
   "metadata": {},
   "source": [
    "First let's create the `nodes_layer` objects"
   ]
  },
  {
   "cell_type": "code",
   "execution_count": 26,
   "id": "c57ba59e-dffa-46bf-b24d-1932baf98e90",
   "metadata": {
    "ExecuteTime": {
     "end_time": "2024-09-13T01:26:35.249524Z",
     "start_time": "2024-09-13T01:26:35.240826Z"
    }
   },
   "outputs": [
    {
     "data": {
      "text/plain": [
       "<MMSBM_library.inclusive_metadata at 0x7fbfbd6bef10>"
      ]
     },
     "execution_count": 26,
     "metadata": {},
     "output_type": "execute_result"
    }
   ],
   "source": [
    "#Dataframe to use\n",
    "df_politicians =pd.DataFrame( {\"legislator\":[\"Pedro\", \"Santiago\", \"Alberto\", \"Yolanda\"],\n",
    "                               \"Party\":[\"PSOE\", \"VOX\", \"PP\", \"Sumar\"],\n",
    "                               \"Movies_preferences\":[\"Action|Drama\",\"Belic\",\"Belic|Comedy\",\"Comedy|Drama\"]})\n",
    "#Number of groups\n",
    "K = 2\n",
    "#You have to tell in which the name of the nodes will be as the second parameter \n",
    "politicians = sbm.nodes_layer(K,\"legislator\",df_politicians)\n",
    "\n",
    "politicians.add_exclusive_metadata(1,\"Party\")\n",
    "politicians.add_inclusive_metadata(1,\"Movies_preferences\",1)"
   ]
  },
  {
   "cell_type": "code",
   "execution_count": 27,
   "id": "aeae6e26-caf5-486b-98e3-c3f9fabb60b2",
   "metadata": {
    "ExecuteTime": {
     "end_time": "2024-09-13T01:26:36.103971Z",
     "start_time": "2024-09-13T01:26:36.099531Z"
    }
   },
   "outputs": [],
   "source": [
    "#Dataframe to use\n",
    "df_bills =pd.DataFrame( {\"bill\":[\"A\", \"B\", \"C\",\"D\"],\n",
    "                            \"Year\":[2020, 2020, 2021, 2022]})\n",
    "#Number of groups\n",
    "K = 2\n",
    "#You have to tell in which the name of the nodes will be as the second parameter \n",
    "bills = sbm.nodes_layer(K,\"bill\",df_bills)"
   ]
  },
  {
   "cell_type": "markdown",
   "id": "96f9fcfb-d315-4e46-bc71-41514829ef25",
   "metadata": {},
   "source": [
    "Now we can create the `BiNet` object, but with the difference that instead of specifying the name of the nodes layer, you have to use as a parameter the `nodes_layer` object using the `nodes_a` and `nodes_b` parameters."
   ]
  },
  {
   "cell_type": "code",
   "execution_count": 28,
   "id": "3a54d080-795d-4c93-9ba4-7bc6ce24cca6",
   "metadata": {
    "ExecuteTime": {
     "end_time": "2024-09-13T01:26:37.361466Z",
     "start_time": "2024-09-13T01:26:37.355397Z"
    }
   },
   "outputs": [],
   "source": [
    "#Dataframe to use\n",
    "df_votes =pd.DataFrame( {\"legislator\":[\"Pedro\",\"Pedro\",\"Pedro\",\"Santiago\",\"Santiago\",\"Santiago\", \n",
    "                                       \"Alberto\", \"Alberto\", \"Alberto\", \"Yolanda\", \"Yolanda\", \"Yolanda\"],\n",
    "                         \"bill\":[\"A\", \"B\", \"D\",  \"A\",\"C\", \"D\",\n",
    "                                 \"A\", \"B\", \"C\",  \"B\",\"C\", \"D\",],\n",
    "                         \"votes\":[\"Yes\",\"No\",\"No\",  \"No\",\"Yes\",\"Yes\",\n",
    "                                  \"No\",\"No\",\"Yes\",  \"Yes\",\"No\",\"No\"]})\n",
    "#Creating the BiNet object\n",
    "votes = sbm.BiNet(df_votes,\"votes\",nodes_a=bills,nodes_b=politicians)"
   ]
  },
  {
   "cell_type": "markdown",
   "id": "02354b29-7619-41bc-9f5c-82aba05581c8",
   "metadata": {},
   "source": [
    "Notice that you do not need to specify the number of the groups of each `nodes_layer` because it is contained in the correspondence `nodes_layer`.\n",
    "\n",
    "IMPORTANT: The name of the columns of the layer in both Dataframes (from the `nodes_layer` object and for the `BiNet` object) must to coincide. Else, a `KeyError` will arrise."
   ]
  },
  {
   "cell_type": "markdown",
   "id": "3c621580-c2a2-4b78-a1cc-348f759adcad",
   "metadata": {},
   "source": [
    "Is not mandatory to use two `nodes_layer` to create the `BiNet` object when you need metadata from only one of the layers. Remember to specify the number of groups."
   ]
  },
  {
   "cell_type": "code",
   "execution_count": 29,
   "id": "07db6448-a139-40b3-87c9-ebdf9b58b421",
   "metadata": {
    "ExecuteTime": {
     "end_time": "2024-09-13T01:26:38.213570Z",
     "start_time": "2024-09-13T01:26:38.207329Z"
    }
   },
   "outputs": [],
   "source": [
    "#Example using only one nodes_layer object\n",
    "votes = sbm.BiNet(df_votes,\"votes\",nodes_a_name=\"bill\",Ka=2,nodes_b=politicians)"
   ]
  },
  {
   "cell_type": "markdown",
   "id": "975275ea-0c42-48d9-adcb-7e99dc3f1c31",
   "metadata": {},
   "source": [
    "If you display the dataframe of the `BinNet` and the `nodes_layer` objects, the nodes ids from both layers will coincide."
   ]
  },
  {
   "cell_type": "code",
   "execution_count": 30,
   "id": "fad81ed1-66a6-432b-affe-ac7b7441386f",
   "metadata": {
    "ExecuteTime": {
     "end_time": "2024-09-13T01:26:39.046289Z",
     "start_time": "2024-09-13T01:26:39.001550Z"
    }
   },
   "outputs": [
    {
     "data": {
      "text/html": [
       "<div>\n",
       "<style scoped>\n",
       "    .dataframe tbody tr th:only-of-type {\n",
       "        vertical-align: middle;\n",
       "    }\n",
       "\n",
       "    .dataframe tbody tr th {\n",
       "        vertical-align: top;\n",
       "    }\n",
       "\n",
       "    .dataframe thead th {\n",
       "        text-align: right;\n",
       "    }\n",
       "</style>\n",
       "<table border=\"1\" class=\"dataframe\">\n",
       "  <thead>\n",
       "    <tr style=\"text-align: right;\">\n",
       "      <th></th>\n",
       "      <th>legislator</th>\n",
       "      <th>legislator_id</th>\n",
       "      <th>bill</th>\n",
       "      <th>bill_id</th>\n",
       "    </tr>\n",
       "  </thead>\n",
       "  <tbody>\n",
       "    <tr>\n",
       "      <th>0</th>\n",
       "      <td>Pedro</td>\n",
       "      <td>1</td>\n",
       "      <td>A</td>\n",
       "      <td>0</td>\n",
       "    </tr>\n",
       "    <tr>\n",
       "      <th>1</th>\n",
       "      <td>Pedro</td>\n",
       "      <td>1</td>\n",
       "      <td>B</td>\n",
       "      <td>1</td>\n",
       "    </tr>\n",
       "    <tr>\n",
       "      <th>2</th>\n",
       "      <td>Pedro</td>\n",
       "      <td>1</td>\n",
       "      <td>D</td>\n",
       "      <td>3</td>\n",
       "    </tr>\n",
       "    <tr>\n",
       "      <th>3</th>\n",
       "      <td>Santiago</td>\n",
       "      <td>2</td>\n",
       "      <td>A</td>\n",
       "      <td>0</td>\n",
       "    </tr>\n",
       "    <tr>\n",
       "      <th>4</th>\n",
       "      <td>Santiago</td>\n",
       "      <td>2</td>\n",
       "      <td>C</td>\n",
       "      <td>2</td>\n",
       "    </tr>\n",
       "    <tr>\n",
       "      <th>5</th>\n",
       "      <td>Santiago</td>\n",
       "      <td>2</td>\n",
       "      <td>D</td>\n",
       "      <td>3</td>\n",
       "    </tr>\n",
       "    <tr>\n",
       "      <th>6</th>\n",
       "      <td>Alberto</td>\n",
       "      <td>0</td>\n",
       "      <td>A</td>\n",
       "      <td>0</td>\n",
       "    </tr>\n",
       "    <tr>\n",
       "      <th>7</th>\n",
       "      <td>Alberto</td>\n",
       "      <td>0</td>\n",
       "      <td>B</td>\n",
       "      <td>1</td>\n",
       "    </tr>\n",
       "    <tr>\n",
       "      <th>8</th>\n",
       "      <td>Alberto</td>\n",
       "      <td>0</td>\n",
       "      <td>C</td>\n",
       "      <td>2</td>\n",
       "    </tr>\n",
       "    <tr>\n",
       "      <th>9</th>\n",
       "      <td>Yolanda</td>\n",
       "      <td>3</td>\n",
       "      <td>B</td>\n",
       "      <td>1</td>\n",
       "    </tr>\n",
       "    <tr>\n",
       "      <th>10</th>\n",
       "      <td>Yolanda</td>\n",
       "      <td>3</td>\n",
       "      <td>C</td>\n",
       "      <td>2</td>\n",
       "    </tr>\n",
       "    <tr>\n",
       "      <th>11</th>\n",
       "      <td>Yolanda</td>\n",
       "      <td>3</td>\n",
       "      <td>D</td>\n",
       "      <td>3</td>\n",
       "    </tr>\n",
       "  </tbody>\n",
       "</table>\n",
       "</div>"
      ],
      "text/plain": [
       "   legislator  legislator_id bill  bill_id\n",
       "0       Pedro              1    A        0\n",
       "1       Pedro              1    B        1\n",
       "2       Pedro              1    D        3\n",
       "3    Santiago              2    A        0\n",
       "4    Santiago              2    C        2\n",
       "5    Santiago              2    D        3\n",
       "6     Alberto              0    A        0\n",
       "7     Alberto              0    B        1\n",
       "8     Alberto              0    C        2\n",
       "9     Yolanda              3    B        1\n",
       "10    Yolanda              3    C        2\n",
       "11    Yolanda              3    D        3"
      ]
     },
     "metadata": {},
     "output_type": "display_data"
    },
    {
     "data": {
      "text/html": [
       "<div>\n",
       "<style scoped>\n",
       "    .dataframe tbody tr th:only-of-type {\n",
       "        vertical-align: middle;\n",
       "    }\n",
       "\n",
       "    .dataframe tbody tr th {\n",
       "        vertical-align: top;\n",
       "    }\n",
       "\n",
       "    .dataframe thead th {\n",
       "        text-align: right;\n",
       "    }\n",
       "</style>\n",
       "<table border=\"1\" class=\"dataframe\">\n",
       "  <thead>\n",
       "    <tr style=\"text-align: right;\">\n",
       "      <th></th>\n",
       "      <th>legislator</th>\n",
       "      <th>legislator_id</th>\n",
       "    </tr>\n",
       "  </thead>\n",
       "  <tbody>\n",
       "    <tr>\n",
       "      <th>0</th>\n",
       "      <td>Pedro</td>\n",
       "      <td>1</td>\n",
       "    </tr>\n",
       "    <tr>\n",
       "      <th>1</th>\n",
       "      <td>Santiago</td>\n",
       "      <td>2</td>\n",
       "    </tr>\n",
       "    <tr>\n",
       "      <th>2</th>\n",
       "      <td>Alberto</td>\n",
       "      <td>0</td>\n",
       "    </tr>\n",
       "    <tr>\n",
       "      <th>3</th>\n",
       "      <td>Yolanda</td>\n",
       "      <td>3</td>\n",
       "    </tr>\n",
       "  </tbody>\n",
       "</table>\n",
       "</div>"
      ],
      "text/plain": [
       "  legislator  legislator_id\n",
       "0      Pedro              1\n",
       "1   Santiago              2\n",
       "2    Alberto              0\n",
       "3    Yolanda              3"
      ]
     },
     "metadata": {},
     "output_type": "display_data"
    },
    {
     "data": {
      "text/html": [
       "<div>\n",
       "<style scoped>\n",
       "    .dataframe tbody tr th:only-of-type {\n",
       "        vertical-align: middle;\n",
       "    }\n",
       "\n",
       "    .dataframe tbody tr th {\n",
       "        vertical-align: top;\n",
       "    }\n",
       "\n",
       "    .dataframe thead th {\n",
       "        text-align: right;\n",
       "    }\n",
       "</style>\n",
       "<table border=\"1\" class=\"dataframe\">\n",
       "  <thead>\n",
       "    <tr style=\"text-align: right;\">\n",
       "      <th></th>\n",
       "      <th>bill</th>\n",
       "      <th>bill_id</th>\n",
       "    </tr>\n",
       "  </thead>\n",
       "  <tbody>\n",
       "    <tr>\n",
       "      <th>0</th>\n",
       "      <td>A</td>\n",
       "      <td>0</td>\n",
       "    </tr>\n",
       "    <tr>\n",
       "      <th>1</th>\n",
       "      <td>B</td>\n",
       "      <td>1</td>\n",
       "    </tr>\n",
       "    <tr>\n",
       "      <th>2</th>\n",
       "      <td>D</td>\n",
       "      <td>3</td>\n",
       "    </tr>\n",
       "    <tr>\n",
       "      <th>3</th>\n",
       "      <td>C</td>\n",
       "      <td>2</td>\n",
       "    </tr>\n",
       "  </tbody>\n",
       "</table>\n",
       "</div>"
      ],
      "text/plain": [
       "  bill  bill_id\n",
       "0    A        0\n",
       "1    B        1\n",
       "2    D        3\n",
       "3    C        2"
      ]
     },
     "metadata": {},
     "output_type": "display_data"
    }
   ],
   "source": [
    "display(votes.df[[\"legislator\",\"legislator_id\",\"bill\",\"bill_id\"]])\n",
    "display(votes[\"legislator\"].df[[\"legislator\",\"legislator_id\"]])\n",
    "display(votes[\"bill\"].df[[\"bill\",\"bill_id\"]])"
   ]
  },
  {
   "cell_type": "code",
   "execution_count": 31,
   "id": "10458104-ad9f-429d-b59e-d8ecf748ce6d",
   "metadata": {
    "ExecuteTime": {
     "end_time": "2024-09-13T01:26:39.274097Z",
     "start_time": "2024-09-13T01:26:39.271514Z"
    }
   },
   "outputs": [],
   "source": [
    "votes.init_EM()"
   ]
  },
  {
   "cell_type": "markdown",
   "id": "43057b97-4cef-4331-8313-0e7aa45ad04d",
   "metadata": {},
   "source": [
    "# The Expectation Maximization (EM) algorithm"
   ]
  },
  {
   "cell_type": "markdown",
   "id": "c196d597-2301-488e-8257-136ad277cc4d",
   "metadata": {},
   "source": [
    "To start to infer the parameters of the MMSBM, you have to initialize the parameters. It can be easily done with the `init_EM` method."
   ]
  },
  {
   "cell_type": "code",
   "execution_count": 31,
   "id": "f65daa6b-c4b7-47aa-92ef-a019693680be",
   "metadata": {
    "ExecuteTime": {
     "end_time": "2024-09-13T01:26:40.536025Z",
     "start_time": "2024-09-13T01:26:40.525048Z"
    }
   },
   "outputs": [],
   "source": [
    "votes.init_EM()"
   ]
  },
  {
   "cell_type": "markdown",
   "id": "bd1b42f7-93f6-42a9-abda-209db9f3914e",
   "metadata": {},
   "source": [
    "Once the EM have been initialized, the parameters will be stored in attributes. For the membership parameters, each `nodes_layer` will have a `theta` attribute that is a matrix."
   ]
  },
  {
   "cell_type": "code",
   "execution_count": 32,
   "id": "8a43cb4c-dca8-487f-a4b2-78a668021a0c",
   "metadata": {
    "ExecuteTime": {
     "end_time": "2024-09-13T01:26:41.046720Z",
     "start_time": "2024-09-13T01:26:41.040921Z"
    }
   },
   "outputs": [
    {
     "data": {
      "text/plain": [
       "array([[0.46589065, 0.53410935],\n",
       "       [0.28143496, 0.71856504],\n",
       "       [0.61828973, 0.38171027],\n",
       "       [0.83892364, 0.16107636]])"
      ]
     },
     "execution_count": 32,
     "metadata": {},
     "output_type": "execute_result"
    }
   ],
   "source": [
    "votes[\"legislator\"].theta"
   ]
  },
  {
   "cell_type": "code",
   "execution_count": 33,
   "id": "28761b9e-2394-4609-a99a-7896b1c02258",
   "metadata": {
    "ExecuteTime": {
     "end_time": "2024-09-13T01:33:51.470495Z",
     "start_time": "2024-09-13T01:33:51.465389Z"
    }
   },
   "outputs": [
    {
     "data": {
      "text/plain": [
       "array([[0.37897771, 0.62102229],\n",
       "       [0.30551597, 0.69448403],\n",
       "       [0.15799121, 0.84200879],\n",
       "       [0.86881567, 0.13118433]])"
      ]
     },
     "execution_count": 33,
     "metadata": {},
     "output_type": "execute_result"
    }
   ],
   "source": [
    "votes[\"bill\"].theta"
   ]
  },
  {
   "cell_type": "markdown",
   "id": "6b6899c9-a289-4992-9a61-1dc6765c14ca",
   "metadata": {},
   "source": [
    "The first index corresponds to the id of the node, the second correspond to the group number."
   ]
  },
  {
   "cell_type": "markdown",
   "id": "f4c1449b-781f-478b-b8ba-f385ecca1dc0",
   "metadata": {},
   "source": [
    "For the `BiNet` object, the probabilities matrix and the expectation parameters will be stored in the `pkl` and `omega` attributes respectivly"
   ]
  },
  {
   "cell_type": "code",
   "execution_count": 34,
   "id": "068f410e-6a85-4da9-9fe7-e7faaee39065",
   "metadata": {
    "ExecuteTime": {
     "end_time": "2024-09-13T01:33:52.566909Z",
     "start_time": "2024-09-13T01:33:52.558505Z"
    }
   },
   "outputs": [
    {
     "data": {
      "text/plain": [
       "array([[[0.73906198, 0.26093802],\n",
       "        [0.83798451, 0.16201549]],\n",
       "\n",
       "       [[0.61748432, 0.38251568],\n",
       "        [0.77402566, 0.22597434]]])"
      ]
     },
     "execution_count": 34,
     "metadata": {},
     "output_type": "execute_result"
    }
   ],
   "source": [
    "votes.pkl"
   ]
  },
  {
   "cell_type": "markdown",
   "id": "20c4ceef-2dab-4b61-8fe4-9dc9286f12e1",
   "metadata": {},
   "source": [
    "The first and second index corresponds to the groups from `nodes_a` and `nodes_b` respectively. The third correspond to the label id."
   ]
  },
  {
   "cell_type": "code",
   "execution_count": 35,
   "id": "81782cae-1e1a-469c-9dac-2fc5178ffdf3",
   "metadata": {
    "ExecuteTime": {
     "end_time": "2024-09-13T01:33:53.254247Z",
     "start_time": "2024-09-13T01:33:53.244739Z"
    }
   },
   "outputs": [
    {
     "data": {
      "text/plain": [
       "array([[[[0.17741561, 0.23061797],\n",
       "         [0.24290163, 0.34906479]],\n",
       "\n",
       "        [[0.11613383, 0.18410516],\n",
       "         [0.27897426, 0.42078676]],\n",
       "\n",
       "        [[0.24221106, 0.16954731],\n",
       "         [0.33161378, 0.25662785]],\n",
       "\n",
       "        [[0.        , 0.        ],\n",
       "         [0.        , 0.        ]]],\n",
       "\n",
       "\n",
       "       [[[0.14433405, 0.18761611],\n",
       "         [0.27412095, 0.39392889]],\n",
       "\n",
       "        [[0.08422756, 0.24383576],\n",
       "         [0.15996598, 0.5119707 ]],\n",
       "\n",
       "        [[0.        , 0.        ],\n",
       "         [0.        , 0.        ]],\n",
       "\n",
       "        [[0.20706264, 0.02468484],\n",
       "         [0.68998867, 0.07826385]]],\n",
       "\n",
       "\n",
       "       [[[0.06749651, 0.04804483],\n",
       "         [0.5273232 , 0.35713545]],\n",
       "\n",
       "        [[0.        , 0.        ],\n",
       "         [0.        , 0.        ]],\n",
       "\n",
       "        [[0.08302008, 0.03182322],\n",
       "         [0.64860264, 0.23655406]],\n",
       "\n",
       "        [[0.14832078, 0.03228988],\n",
       "         [0.66043604, 0.1589533 ]]],\n",
       "\n",
       "\n",
       "       [[[0.        , 0.        ],\n",
       "         [0.        , 0.        ]],\n",
       "\n",
       "        [[0.22599526, 0.65424815],\n",
       "         [0.0285101 , 0.09124649]],\n",
       "\n",
       "        [[0.59333463, 0.22743677],\n",
       "         [0.13133058, 0.04789802]],\n",
       "\n",
       "        [[0.72768599, 0.15841946],\n",
       "         [0.09180015, 0.0220944 ]]]])"
      ]
     },
     "execution_count": 35,
     "metadata": {},
     "output_type": "execute_result"
    }
   ],
   "source": [
    "votes.omega"
   ]
  },
  {
   "cell_type": "markdown",
   "id": "b9913e5f-5f81-43bd-9e21-652a22d8100b",
   "metadata": {},
   "source": [
    "The first and second index corresponds to the nodes id from `nodes_a` and `nodes_b` respectively. The second and third index corresponds to the groups from `nodes_a` and `nodes_b` respectively."
   ]
  },
  {
   "cell_type": "markdown",
   "id": "7b305e4167a5b8bb",
   "metadata": {},
   "source": [
    "## Runing the EM algorithm and checking the convergence"
   ]
  },
  {
   "cell_type": "markdown",
   "id": "c8998eb14cff2dd9",
   "metadata": {},
   "source": [
    "To run the EM algorithm, you have to use the `EM_step` method. It will make an iteration of the algorithm by default. You can specify the number of iterations with the `N_steps` parameter. To check the convergence, you can use the `converges` method."
   ]
  },
  {
   "cell_type": "code",
   "execution_count": 36,
   "id": "f05e49b5-3943-4456-bb5a-6655cf2ea48f",
   "metadata": {
    "ExecuteTime": {
     "end_time": "2024-09-13T01:33:54.653621Z",
     "start_time": "2024-09-13T01:33:54.646300Z"
    }
   },
   "outputs": [
    {
     "name": "stdout",
     "output_type": "stream",
     "text": [
      "Iteration 0: False\n",
      "Iteration 5: False\n",
      "Iteration 10: False\n",
      "Iteration 15: False\n",
      "Iteration 20: False\n",
      "Iteration 25: False\n",
      "Iteration 30: False\n",
      "Iteration 35: False\n",
      "Iteration 40: False\n",
      "Iteration 45: False\n",
      "Iteration 50: False\n",
      "Iteration 55: False\n",
      "Iteration 60: False\n",
      "Iteration 65: True\n"
     ]
    }
   ],
   "source": [
    "N_itt = 100\n",
    "N_check = 5 #Number of iterations to measure the convergence\n",
    "\n",
    "for itt in range(N_itt//N_check):\n",
    "    votes.EM_step(N_check)\n",
    "    converges = votes.converges()\n",
    "    print(f\"Iteration {itt*N_check}: {converges}\")\n",
    "    if converges:\n",
    "        break"
   ]
  },
  {
   "cell_type": "markdown",
   "id": "ec30e3c3bd7d9385",
   "metadata": {},
   "source": [
    "# Using training sets and test sets"
   ]
  },
  {
   "cell_type": "markdown",
   "id": "4874eda2-10cf-4759-8949-fadb1cb62470",
   "metadata": {},
   "source": [
    "You can select a training set instead of using all the links to infer the parameters. You can do that using the `training` parameter when you initialize the EM algorithm. \n",
    "\n",
    "This parameter can be a list of the links ids that you want to use as a training set, another dataframe with more links.If not specified, all the links will be used."
   ]
  },
  {
   "cell_type": "code",
   "execution_count": 62,
   "id": "3d9c77fe32d66dad",
   "metadata": {
    "ExecuteTime": {
     "end_time": "2024-09-13T01:33:56.469448Z",
     "start_time": "2024-09-13T01:33:56.424898Z"
    }
   },
   "outputs": [
    {
     "name": "stdout",
     "output_type": "stream",
     "text": [
      "Iteration 0: False\n",
      "Iteration 5: False\n",
      "Iteration 10: False\n",
      "Iteration 15: False\n",
      "Iteration 20: False\n",
      "Iteration 25: False\n",
      "Iteration 30: True\n"
     ]
    }
   ],
   "source": [
    "from sklearn.model_selection import train_test_split\n",
    "\n",
    "#Defining the training and test sets\n",
    "df_train, df_test = train_test_split(votes.df, test_size=0.2)\n",
    "\n",
    "\n",
    "#Initializing the EM algorithm with the training set\n",
    "votes.init_EM(training=df_train)\n",
    "\n",
    "#Running the EM algorithm\n",
    "N_itt = 100\n",
    "N_check = 5 #Number of iterations to measure the convergence\n",
    "for itt in range(N_itt//N_check):\n",
    "    votes.EM_step(N_check)\n",
    "    converges = votes.converges()\n",
    "    print(f\"Iteration {itt*N_check}: converges? {converges}\")\n",
    "    if converges:\n",
    "        break"
   ]
  },
  {
   "cell_type": "code",
   "execution_count": 38,
   "id": "8a11ef08",
   "metadata": {},
   "outputs": [
    {
     "data": {
      "text/plain": [
       "1.0"
      ]
     },
     "execution_count": 38,
     "metadata": {},
     "output_type": "execute_result"
    }
   ],
   "source": [
    "votes.get_accuracy()"
   ]
  },
  {
   "cell_type": "markdown",
   "id": "935c364f3c0d18ad",
   "metadata": {},
   "source": [
    "## Checking the accuracy and getting predictions"
   ]
  },
  {
   "cell_type": "markdown",
   "id": "1e0e8e141676b18c",
   "metadata": {},
   "source": [
    "Once the EM algorithm have converged, you can get the predictions using the `get_predicted_labels` method. You can spicify which links you want to infer its labels with the `links` parameters. If no links are specified, it will use the links used for training the model."
   ]
  },
  {
   "cell_type": "code",
   "execution_count": 63,
   "id": "85dd08a5a5c1e0e5",
   "metadata": {
    "ExecuteTime": {
     "end_time": "2024-09-13T01:33:57.660897Z",
     "start_time": "2024-09-13T01:33:57.653929Z"
    }
   },
   "outputs": [
    {
     "data": {
      "text/html": [
       "<div>\n",
       "<style scoped>\n",
       "    .dataframe tbody tr th:only-of-type {\n",
       "        vertical-align: middle;\n",
       "    }\n",
       "\n",
       "    .dataframe tbody tr th {\n",
       "        vertical-align: top;\n",
       "    }\n",
       "\n",
       "    .dataframe thead th {\n",
       "        text-align: right;\n",
       "    }\n",
       "</style>\n",
       "<table border=\"1\" class=\"dataframe\">\n",
       "  <thead>\n",
       "    <tr style=\"text-align: right;\">\n",
       "      <th></th>\n",
       "      <th>bill</th>\n",
       "      <th>legislator</th>\n",
       "      <th>Predicted votes</th>\n",
       "    </tr>\n",
       "  </thead>\n",
       "  <tbody>\n",
       "    <tr>\n",
       "      <th>0</th>\n",
       "      <td>B</td>\n",
       "      <td>Alberto</td>\n",
       "      <td>No</td>\n",
       "    </tr>\n",
       "    <tr>\n",
       "      <th>1</th>\n",
       "      <td>D</td>\n",
       "      <td>Pedro</td>\n",
       "      <td>No</td>\n",
       "    </tr>\n",
       "    <tr>\n",
       "      <th>2</th>\n",
       "      <td>A</td>\n",
       "      <td>Pedro</td>\n",
       "      <td>Yes</td>\n",
       "    </tr>\n",
       "    <tr>\n",
       "      <th>3</th>\n",
       "      <td>C</td>\n",
       "      <td>Yolanda</td>\n",
       "      <td>No</td>\n",
       "    </tr>\n",
       "    <tr>\n",
       "      <th>4</th>\n",
       "      <td>C</td>\n",
       "      <td>Santiago</td>\n",
       "      <td>Yes</td>\n",
       "    </tr>\n",
       "    <tr>\n",
       "      <th>5</th>\n",
       "      <td>D</td>\n",
       "      <td>Yolanda</td>\n",
       "      <td>No</td>\n",
       "    </tr>\n",
       "    <tr>\n",
       "      <th>6</th>\n",
       "      <td>B</td>\n",
       "      <td>Pedro</td>\n",
       "      <td>No</td>\n",
       "    </tr>\n",
       "    <tr>\n",
       "      <th>7</th>\n",
       "      <td>D</td>\n",
       "      <td>Santiago</td>\n",
       "      <td>Yes</td>\n",
       "    </tr>\n",
       "    <tr>\n",
       "      <th>8</th>\n",
       "      <td>B</td>\n",
       "      <td>Yolanda</td>\n",
       "      <td>No</td>\n",
       "    </tr>\n",
       "  </tbody>\n",
       "</table>\n",
       "</div>"
      ],
      "text/plain": [
       "  bill legislator Predicted votes\n",
       "0    B    Alberto              No\n",
       "1    D      Pedro              No\n",
       "2    A      Pedro             Yes\n",
       "3    C    Yolanda              No\n",
       "4    C   Santiago             Yes\n",
       "5    D    Yolanda              No\n",
       "6    B      Pedro              No\n",
       "7    D   Santiago             Yes\n",
       "8    B    Yolanda              No"
      ]
     },
     "execution_count": 63,
     "metadata": {},
     "output_type": "execute_result"
    }
   ],
   "source": [
    "votes.get_predicted_labels()"
   ]
  },
  {
   "cell_type": "code",
   "execution_count": 64,
   "id": "c63ee32922969e3f",
   "metadata": {
    "ExecuteTime": {
     "end_time": "2024-09-13T01:33:58.108851Z",
     "start_time": "2024-09-13T01:33:58.097688Z"
    }
   },
   "outputs": [
    {
     "data": {
      "text/html": [
       "<div>\n",
       "<style scoped>\n",
       "    .dataframe tbody tr th:only-of-type {\n",
       "        vertical-align: middle;\n",
       "    }\n",
       "\n",
       "    .dataframe tbody tr th {\n",
       "        vertical-align: top;\n",
       "    }\n",
       "\n",
       "    .dataframe thead th {\n",
       "        text-align: right;\n",
       "    }\n",
       "</style>\n",
       "<table border=\"1\" class=\"dataframe\">\n",
       "  <thead>\n",
       "    <tr style=\"text-align: right;\">\n",
       "      <th></th>\n",
       "      <th>legislator</th>\n",
       "      <th>bill</th>\n",
       "      <th>votes</th>\n",
       "      <th>votes_id</th>\n",
       "      <th>bill_id</th>\n",
       "      <th>legislator_id</th>\n",
       "    </tr>\n",
       "  </thead>\n",
       "  <tbody>\n",
       "    <tr>\n",
       "      <th>8</th>\n",
       "      <td>Alberto</td>\n",
       "      <td>C</td>\n",
       "      <td>Yes</td>\n",
       "      <td>1</td>\n",
       "      <td>2</td>\n",
       "      <td>0</td>\n",
       "    </tr>\n",
       "    <tr>\n",
       "      <th>6</th>\n",
       "      <td>Alberto</td>\n",
       "      <td>A</td>\n",
       "      <td>No</td>\n",
       "      <td>0</td>\n",
       "      <td>0</td>\n",
       "      <td>0</td>\n",
       "    </tr>\n",
       "    <tr>\n",
       "      <th>3</th>\n",
       "      <td>Santiago</td>\n",
       "      <td>A</td>\n",
       "      <td>No</td>\n",
       "      <td>0</td>\n",
       "      <td>0</td>\n",
       "      <td>2</td>\n",
       "    </tr>\n",
       "  </tbody>\n",
       "</table>\n",
       "</div>"
      ],
      "text/plain": [
       "  legislator bill votes  votes_id  bill_id  legislator_id\n",
       "8    Alberto    C   Yes         1        2              0\n",
       "6    Alberto    A    No         0        0              0\n",
       "3   Santiago    A    No         0        0              2"
      ]
     },
     "execution_count": 64,
     "metadata": {},
     "output_type": "execute_result"
    }
   ],
   "source": [
    "df_test"
   ]
  },
  {
   "cell_type": "code",
   "execution_count": 65,
   "id": "d82fa976206daaa8",
   "metadata": {
    "ExecuteTime": {
     "end_time": "2024-09-13T01:33:58.579335Z",
     "start_time": "2024-09-13T01:33:58.559797Z"
    }
   },
   "outputs": [
    {
     "data": {
      "text/html": [
       "<div>\n",
       "<style scoped>\n",
       "    .dataframe tbody tr th:only-of-type {\n",
       "        vertical-align: middle;\n",
       "    }\n",
       "\n",
       "    .dataframe tbody tr th {\n",
       "        vertical-align: top;\n",
       "    }\n",
       "\n",
       "    .dataframe thead th {\n",
       "        text-align: right;\n",
       "    }\n",
       "</style>\n",
       "<table border=\"1\" class=\"dataframe\">\n",
       "  <thead>\n",
       "    <tr style=\"text-align: right;\">\n",
       "      <th></th>\n",
       "      <th>legislator</th>\n",
       "      <th>bill</th>\n",
       "      <th>votes</th>\n",
       "      <th>votes_id</th>\n",
       "      <th>bill_id</th>\n",
       "      <th>legislator_id</th>\n",
       "      <th>Predicted votes</th>\n",
       "    </tr>\n",
       "  </thead>\n",
       "  <tbody>\n",
       "    <tr>\n",
       "      <th>8</th>\n",
       "      <td>Alberto</td>\n",
       "      <td>C</td>\n",
       "      <td>Yes</td>\n",
       "      <td>1</td>\n",
       "      <td>2</td>\n",
       "      <td>0</td>\n",
       "      <td>No</td>\n",
       "    </tr>\n",
       "    <tr>\n",
       "      <th>6</th>\n",
       "      <td>Alberto</td>\n",
       "      <td>A</td>\n",
       "      <td>No</td>\n",
       "      <td>0</td>\n",
       "      <td>0</td>\n",
       "      <td>0</td>\n",
       "      <td>Yes</td>\n",
       "    </tr>\n",
       "    <tr>\n",
       "      <th>3</th>\n",
       "      <td>Santiago</td>\n",
       "      <td>A</td>\n",
       "      <td>No</td>\n",
       "      <td>0</td>\n",
       "      <td>0</td>\n",
       "      <td>2</td>\n",
       "      <td>Yes</td>\n",
       "    </tr>\n",
       "  </tbody>\n",
       "</table>\n",
       "</div>"
      ],
      "text/plain": [
       "  legislator bill votes  votes_id  bill_id  legislator_id Predicted votes\n",
       "8    Alberto    C   Yes         1        2              0              No\n",
       "6    Alberto    A    No         0        0              0             Yes\n",
       "3   Santiago    A    No         0        0              2             Yes"
      ]
     },
     "execution_count": 65,
     "metadata": {},
     "output_type": "execute_result"
    }
   ],
   "source": [
    "votes.get_predicted_labels(links=df_test)"
   ]
  },
  {
   "cell_type": "code",
   "execution_count": 66,
   "id": "f0ab9792bbcd1d9f",
   "metadata": {
    "ExecuteTime": {
     "end_time": "2024-09-13T01:33:58.934367Z",
     "start_time": "2024-09-13T01:33:58.930894Z"
    }
   },
   "outputs": [
    {
     "name": "stdout",
     "output_type": "stream",
     "text": [
      "Help on method get_accuracy in module MMSBM_library:\n",
      "\n",
      "get_accuracy(predicted_labels=None, test_labels=None, Pij=None, links=None, estimator='max_probability') method of MMSBM_library.BiNet instance\n",
      "    Computes the ratio of correctly predicted labels of the model given the MMSBM parameters. They can be measured by different estimators:\n",
      "        -max_probability: The predicted label will be the most plausible label\n",
      "        -mean: The predicted label will be the mean\n",
      "    \n",
      "    Parameters\n",
      "    ----------\n",
      "    predicted_labels: array-like, default:None.\n",
      "        Array-like with the predicted labels ids given by the MMSBM. If None, predictions will be generated using\n",
      "    the specified links and estimator.\n",
      "    \n",
      "    test_labels: array-like, default:None.\n",
      "        List or array with the observed labels. If None, labels from self.labels_array are taken given pos_test_labels\n",
      "    \n",
      "    links: ndarray of 1 or 2 dimensions, pandas DataFrame, default: None\n",
      "        Array with links for which label probabilities are computed.\n",
      "        -If a 2d-array, the first column must contain the ids from nodes_a layer and the second\n",
      "         column must contain the ids from nodes_b layers.\n",
      "        -If a 1d-array, it must contain the positions of the links list from self.df attribute\n",
      "        -If a pandas DataFrame, it must contain at least two columns with the name of the nodes' layers\n",
      "         and a column with the same name as the labels column from BiNet.df.\n",
      "        -If None, self.links_training will be used.\n",
      "    \n",
      "    \n",
      "    estimator: {\"max_probability\",\"mean\"}, default: max_probability\n",
      "        Estimator used to get the predicted labels:\n",
      "        -max_probability: Selects the most plausible label\n",
      "        -mean: Selects the mean label (sum [Pij(l)*l])\n",
      "    \n",
      "    Returns\n",
      "    -------\n",
      "    accuracy: float\n",
      "        Ratio of correctly predicted labels to the total number of predicted labels.\n",
      "\n"
     ]
    }
   ],
   "source": [
    "help(votes.get_accuracy)"
   ]
  },
  {
   "cell_type": "markdown",
   "id": "69c5a3dc18d529ba",
   "metadata": {},
   "source": [
    "### Checking the accuracy"
   ]
  },
  {
   "cell_type": "markdown",
   "id": "e802980598a7778f",
   "metadata": {},
   "source": [
    "You can check the accuracy of the predictions using the `get_accuracy` method. By default, it will compute the accuracy of the training set. You can specify the test set with the `links` parameter, by using a list of the links ids or another dataframe with other links."
   ]
  },
  {
   "cell_type": "code",
   "execution_count": 67,
   "id": "fcb75d527201be36",
   "metadata": {
    "ExecuteTime": {
     "end_time": "2024-09-13T01:34:00.407472Z",
     "start_time": "2024-09-13T01:34:00.404358Z"
    }
   },
   "outputs": [
    {
     "name": "stdout",
     "output_type": "stream",
     "text": [
      "Accuracy of the training set: 0.8888888888888888\n",
      "Accuracy of the test set: 0.0\n"
     ]
    }
   ],
   "source": [
    "#Accuracy of the training set\n",
    "print(f\"Accuracy of the training set: {votes.get_accuracy()}\")\n",
    "print(f\"Accuracy of the test set: {votes.get_accuracy(links=df_test)}\")"
   ]
  },
  {
   "cell_type": "markdown",
   "id": "4827a39ed7948a68",
   "metadata": {},
   "source": [
    "# Saving and loading the parameters"
   ]
  },
  {
   "cell_type": "markdown",
   "id": "11c14faa902e20ae",
   "metadata": {},
   "source": [
    "For long runs or for using the parameters later, you can save the parameters. It is very important to notice that also is important to save the ids of the nodes and labels, and some information of the nodes_layer and BiNet objects before initializing the EM algorithm. To save the parameters you can use the `save_nodes_layer` and `save_BiNet` methods."
   ]
  },
  {
   "cell_type": "markdown",
   "id": "6eaf1371f63ccd5b",
   "metadata": {},
   "source": [
    "## The ``save_nodes_layer`` method"
   ]
  },
  {
   "cell_type": "code",
   "execution_count": 68,
   "id": "1fc7cf15fa62bfbc",
   "metadata": {
    "ExecuteTime": {
     "end_time": "2024-09-13T01:34:01.599474Z",
     "start_time": "2024-09-13T01:34:01.596859Z"
    }
   },
   "outputs": [
    {
     "name": "stdout",
     "output_type": "stream",
     "text": [
      "Help on function save_nodes_layer in module MMSBM_library:\n",
      "\n",
      "save_nodes_layer(self, dir='.')\n",
      "    It saves the nodes_layer object\n",
      "    \n",
      "    Parameters\n",
      "    -----------\n",
      "    dir: str\n",
      "        Directory where the json with the nodes_layer information will be saved\n",
      "\n"
     ]
    }
   ],
   "source": [
    "help(sbm.nodes_layer.save_nodes_layer)"
   ]
  },
  {
   "cell_type": "markdown",
   "id": "33890a993959d437",
   "metadata": {},
   "source": [
    "This method is useful  when you only want to save the information of a nodes_layer object. One example can be when you want to do a 5-fold cross-validation, instead of saving the nodes information  for each fold, you can save it once and load it later for each fold.\n",
    "\n",
    "The name of the JSON will be layer_{nodes_layer.name}_data.json"
   ]
  },
  {
   "cell_type": "code",
   "execution_count": 69,
   "id": "caf2b9a508e65d0b",
   "metadata": {
    "ExecuteTime": {
     "end_time": "2024-09-13T01:34:02.264575Z",
     "start_time": "2024-09-13T01:34:02.260092Z"
    }
   },
   "outputs": [
    {
     "data": {
      "text/plain": [
       "'legislator'"
      ]
     },
     "execution_count": 69,
     "metadata": {},
     "output_type": "execute_result"
    }
   ],
   "source": [
    "politicians.node_type"
   ]
  },
  {
   "cell_type": "markdown",
   "id": "86d8d978eb66ded6",
   "metadata": {},
   "source": [
    "## The ``save_BiNet`` method"
   ]
  },
  {
   "cell_type": "code",
   "execution_count": 70,
   "id": "ca1ecdeb56db5e61",
   "metadata": {
    "ExecuteTime": {
     "end_time": "2024-09-13T01:34:02.947117Z",
     "start_time": "2024-09-13T01:34:02.942100Z"
    }
   },
   "outputs": [
    {
     "name": "stdout",
     "output_type": "stream",
     "text": [
      "Help on method save_BiNet in module MMSBM_library:\n",
      "\n",
      "save_BiNet(dir='.', layers=True) method of MMSBM_library.BiNet instance\n",
      "    It saves the BiNet data into a JSON file in dir. If layers==True,\n",
      "    it saves the nodes_layer objects in JSONs files in the same directory.\n",
      "    \n",
      "    Parameters\n",
      "    -----------\n",
      "    dir: str\n",
      "        Directory where the JSON with the BiNet information will be saved\n",
      "    layers: bool, default: True\n",
      "        If True, it saves the nodes_layer objects in JSONs files in the same directory.\n",
      "\n"
     ]
    }
   ],
   "source": [
    "help(votes.save_BiNet)"
   ]
  },
  {
   "cell_type": "markdown",
   "id": "49539af16810626",
   "metadata": {},
   "source": [
    "The method will save with the ids of the nodes, metadata and labels in a JSON file. Also, in this file, it will be stored. The name of the file will be BiNet_data.json."
   ]
  },
  {
   "cell_type": "markdown",
   "id": "4227d9bb2d9fd5eb",
   "metadata": {},
   "source": []
  },
  {
   "cell_type": "markdown",
   "id": "d29042362577ab28",
   "metadata": {},
   "source": [
    "This method is can also save in the same directory the nodes_layer objects that are in the BiNet object when ``layers=True``. In the JSON file, elemental information of the nodes_layer objects will be stored, just in case you don´t use metadata for a specific layer.  "
   ]
  },
  {
   "cell_type": "markdown",
   "id": "91a02295b833de5f",
   "metadata": {},
   "source": [
    "Here an example using both methods for saving using the EM algorith from before"
   ]
  },
  {
   "cell_type": "code",
   "execution_count": 71,
   "id": "b8a01bc2961269f3",
   "metadata": {
    "ExecuteTime": {
     "end_time": "2024-09-13T01:34:12.025769Z",
     "start_time": "2024-09-13T01:34:12.016335Z"
    }
   },
   "outputs": [
    {
     "name": "stdout",
     "output_type": "stream",
     "text": [
      "Iteration 0: True\n"
     ]
    }
   ],
   "source": [
    "\n",
    "N_check = 5 #Number of iterations to measure the convergence\n",
    "try:\n",
    "    os.mkdir(\"tutorial_saves\")\n",
    "    os.mkdir(\"tutorial_saves/example_BiNet\")\n",
    "except:\n",
    "    pass\n",
    "\n",
    "politicians.save_nodes_layer(\"./example_parameters/\")\n",
    "\n",
    "for itt in range(N_itt//N_check):\n",
    "    votes.EM_step(N_check)\n",
    "    converges = votes.converges()\n",
    "    print(f\"Iteration {itt*N_check}: {converges}\")\n",
    "    if converges:\n",
    "        votes.save_BiNet(\"./example_parameters/\")\n",
    "        break"
   ]
  },
  {
   "cell_type": "code",
   "execution_count": 72,
   "id": "5851fc75327b10b9",
   "metadata": {
    "ExecuteTime": {
     "end_time": "2024-09-13T01:34:12.728243Z",
     "start_time": "2024-09-13T01:34:12.725060Z"
    }
   },
   "outputs": [
    {
     "data": {
      "text/plain": [
       "7     1\n",
       "2     3\n",
       "0     0\n",
       "10    2\n",
       "4     2\n",
       "11    3\n",
       "1     1\n",
       "5     3\n",
       "9     1\n",
       "Name: bill_id, dtype: int8"
      ]
     },
     "execution_count": 72,
     "metadata": {},
     "output_type": "execute_result"
    }
   ],
   "source": [
    "help(save_MMSBM_parameters)"
   ]
  },
  {
   "cell_type": "code",
   "execution_count": 73,
   "id": "8e3c7b9fc7198f7f",
   "metadata": {
    "ExecuteTime": {
     "end_time": "2024-09-13T01:34:13.460712Z",
     "start_time": "2024-09-13T01:34:13.458005Z"
    }
   },
   "outputs": [
    {
     "data": {
      "text/plain": [
       "3"
      ]
     },
     "execution_count": 73,
     "metadata": {},
     "output_type": "execute_result"
    }
   ],
   "source": [
    "from sklearn.model_selection import train_test_split\n",
    "\n",
    "\n",
    "try:\n",
    "    os.mkdir(\"tutorial_saves\")\n",
    "    os.mkdir(\"tutorial_saves/example_BiNet\")\n",
    "    os.mkdir(\"tutorial_saves/example_parameters\")\n",
    "except:\n",
    "    pass\n",
    "\n",
    "#Defining the training and test sets\n",
    "df_train, df_test = train_test_split(votes.df, test_size=0.2)\n",
    "\n",
    "\n",
    "\n",
    "votes.save_BiNet(\"./tutorial_saves/example_BiNet/\")\n",
    "\n",
    "#Initializing the EM algorithm with the training set\n",
    "votes.init_EM(training=df_train)\n",
    "\n",
    "#Running the EM algorithm\n",
    "N_itt = 100\n",
    "N_check = 5 #Number of iterations to measure the convergence\n",
    "for itt in range(N_itt//N_check):\n",
    "    votes.EM_step(N_check)\n",
    "    converges = votes.converges()\n",
    "    print(f\"Iteration {itt*N_check}: converges? {converges}\")\n",
    "    if converges:\n",
    "        save_MMSBM_parameters(votes,\"./tutorial_saves/example_parameters\")\n",
    "        break"
   ]
  },
  {
   "cell_type": "code",
   "execution_count": 74,
   "id": "74b298cf32fe9ad2",
   "metadata": {
    "ExecuteTime": {
     "end_time": "2024-09-13T01:34:13.841876Z",
     "start_time": "2024-09-13T01:34:13.838593Z"
    }
   },
   "outputs": [
    {
     "data": {
      "text/plain": [
       "12"
      ]
     },
     "execution_count": 74,
     "metadata": {},
     "output_type": "execute_result"
    }
   ],
   "source": [
    "## The ``load_BiNet_from_json`` and the ``init_EM_from_directory`` methods: "
   ]
  },
  {
   "cell_type": "code",
   "execution_count": 75,
   "id": "b216bab92e3503e5",
   "metadata": {
    "ExecuteTime": {
     "end_time": "2024-09-13T01:34:14.049917Z",
     "start_time": "2024-09-13T01:34:14.047090Z"
    }
   },
   "outputs": [],
   "source": [
    "Also, you can load your saved `BiNet` class using the `load_BiNet_from_json` class method:"
   ]
  },
  {
   "cell_type": "code",
   "execution_count": 76,
   "id": "27ac95304503ed53",
   "metadata": {
    "ExecuteTime": {
     "end_time": "2024-09-13T01:34:14.231056Z",
     "start_time": "2024-09-13T01:34:14.222388Z"
    }
   },
   "outputs": [
    {
     "ename": "NameError",
     "evalue": "name 'meta' is not defined",
     "output_type": "error",
     "traceback": [
      "\u001b[0;31m---------------------------------------------------------------------------\u001b[0m",
      "\u001b[0;31mNameError\u001b[0m                                 Traceback (most recent call last)",
      "Cell \u001b[0;32mIn[76], line 1\u001b[0m\n\u001b[0;32m----> 1\u001b[0m \u001b[43mmeta\u001b[49m\u001b[38;5;241m.\u001b[39mdenominators\u001b[38;5;241m.\u001b[39mshape\n",
      "\u001b[0;31mNameError\u001b[0m: name 'meta' is not defined"
     ]
    }
   ],
   "source": [
    "help(sbm.BiNet.load_BiNet_from_json)"
   ]
  },
  {
   "cell_type": "code",
   "execution_count": null,
   "id": "4579abff28574cad",
   "metadata": {
    "ExecuteTime": {
     "end_time": "2024-09-13T01:33:39.310644731Z",
     "start_time": "2024-02-22T13:53:19.100683900Z"
    }
   },
   "outputs": [],
   "source": [
    "loaded_votes = sbm.BiNet.load_BiNet_from_json(\"./tutorial_saves/example_BiNet/BiNet_data.json\",\n",
    "                                              links=df_votes,links_label = \"votes\",\n",
    "                                              nodes_a=bills,nodes_b=politicians)"
   ]
  },
  {
   "cell_type": "code",
   "execution_count": 57,
   "id": "283b192b52c6c005",
   "metadata": {
    "ExecuteTime": {
     "end_time": "2024-09-13T01:33:39.383129Z",
     "start_time": "2024-09-13T01:33:39.374990Z"
    }
   },
   "outputs": [
    {
     "ename": "NameError",
     "evalue": "name 'meta' is not defined",
     "output_type": "error",
     "traceback": [
      "\u001b[0;31m---------------------------------------------------------------------------\u001b[0m",
      "\u001b[0;31mNameError\u001b[0m                                 Traceback (most recent call last)",
      "Cell \u001b[0;32mIn[57], line 1\u001b[0m\n\u001b[0;32m----> 1\u001b[0m \u001b[43mmeta\u001b[49m\u001b[38;5;241m.\u001b[39mzeta\u001b[38;5;241m.\u001b[39mshape\n",
      "\u001b[0;31mNameError\u001b[0m: name 'meta' is not defined"
     ]
    }
   ],
   "source": [
    "If you want to load the parameters  obtained from a EM procedure to continue the procedure or to analyze the parameters you have to use the  `init_EM_from_directory` method."
   ]
  },
  {
   "cell_type": "code",
   "execution_count": 54,
   "id": "80cf0b92",
   "metadata": {},
   "outputs": [
    {
     "ename": "NameError",
     "evalue": "name 'meta' is not defined",
     "output_type": "error",
     "traceback": [
      "\u001b[1;31m---------------------------------------------------------------------------\u001b[0m",
      "\u001b[1;31mNameError\u001b[0m                                 Traceback (most recent call last)",
      "\u001b[1;32m~\\AppData\\Local\\Temp\\ipykernel_5300\\1200147972.py\u001b[0m in \u001b[0;36m<module>\u001b[1;34m\u001b[0m\n\u001b[1;32m----> 1\u001b[1;33m \u001b[0mmeta\u001b[0m\u001b[1;33m.\u001b[0m\u001b[0mzeta\u001b[0m\u001b[1;33m/\u001b[0m\u001b[0mmeta\u001b[0m\u001b[1;33m.\u001b[0m\u001b[0mdenominators\u001b[0m\u001b[1;33m\u001b[0m\u001b[1;33m\u001b[0m\u001b[0m\n\u001b[0m",
      "\u001b[1;31mNameError\u001b[0m: name 'meta' is not defined"
     ]
    }
   ],
   "source": [
    "help(loaded_votes.init_EM_from_directory)"
   ]
  },
  {
   "cell_type": "code",
   "execution_count": 52,
   "id": "f0b5ccae3f5dbbfa",
   "metadata": {
    "ExecuteTime": {
     "end_time": "2024-02-22T01:29:14.304173900Z",
     "start_time": "2024-02-22T01:29:14.122108200Z"
    }
   },
   "outputs": [
    {
     "ename": "NameError",
     "evalue": "name 'meta' is not defined",
     "output_type": "error",
     "traceback": [
      "\u001b[1;31m---------------------------------------------------------------------------\u001b[0m",
      "\u001b[1;31mNameError\u001b[0m                                 Traceback (most recent call last)",
      "\u001b[1;32m~\\AppData\\Local\\Temp\\ipykernel_5300\\1748705070.py\u001b[0m in \u001b[0;36m<module>\u001b[1;34m\u001b[0m\n\u001b[1;32m----> 1\u001b[1;33m \u001b[0mmeta\u001b[0m\u001b[1;33m.\u001b[0m\u001b[0momega\u001b[0m\u001b[1;33m[\u001b[0m\u001b[0mmeta\u001b[0m\u001b[1;33m.\u001b[0m\u001b[0mlinks\u001b[0m\u001b[1;33m[\u001b[0m\u001b[1;33m:\u001b[0m\u001b[1;33m,\u001b[0m\u001b[1;36m0\u001b[0m\u001b[1;33m]\u001b[0m\u001b[1;33m,\u001b[0m\u001b[0mmeta\u001b[0m\u001b[1;33m.\u001b[0m\u001b[0mlinks\u001b[0m\u001b[1;33m[\u001b[0m\u001b[1;33m:\u001b[0m\u001b[1;33m,\u001b[0m\u001b[1;36m1\u001b[0m\u001b[1;33m]\u001b[0m\u001b[1;33m,\u001b[0m\u001b[1;33m:\u001b[0m\u001b[1;33m,\u001b[0m\u001b[1;33m:\u001b[0m\u001b[1;33m]\u001b[0m\u001b[1;33m.\u001b[0m\u001b[0msum\u001b[0m\u001b[1;33m(\u001b[0m\u001b[1;36m1\u001b[0m\u001b[1;33m)\u001b[0m\u001b[1;33m\u001b[0m\u001b[1;33m\u001b[0m\u001b[0m\n\u001b[0m",
      "\u001b[1;31mNameError\u001b[0m: name 'meta' is not defined"
     ]
    }
   ],
   "source": [
    "loaded_votes.init_EM_from_directory(dir=\"./tutorial_saves/example_parameters\",training=df_train)"
   ]
  },
  {
   "cell_type": "markdown",
   "id": "d628af79b135acbf",
   "metadata": {
    "ExecuteTime": {
     "start_time": "2024-02-21T13:24:21.717267900Z"
    }
   },
   "source": [
    "From here you can continue the EM procedure using the `EM_step` method:\n"
   ]
  },
  {
   "cell_type": "code",
   "execution_count": 56,
   "id": "5b91168a",
   "metadata": {},
   "outputs": [
    {
     "data": {
      "text/html": [
       "<div>\n",
       "<style scoped>\n",
       "    .dataframe tbody tr th:only-of-type {\n",
       "        vertical-align: middle;\n",
       "    }\n",
       "\n",
       "    .dataframe tbody tr th {\n",
       "        vertical-align: top;\n",
       "    }\n",
       "\n",
       "    .dataframe thead th {\n",
       "        text-align: right;\n",
       "    }\n",
       "</style>\n",
       "<table border=\"1\" class=\"dataframe\">\n",
       "  <thead>\n",
       "    <tr style=\"text-align: right;\">\n",
       "      <th></th>\n",
       "      <th>legislator</th>\n",
       "      <th>bill</th>\n",
       "      <th>votes</th>\n",
       "      <th>votes_id</th>\n",
       "      <th>bill_id</th>\n",
       "      <th>legislator_id</th>\n",
       "    </tr>\n",
       "  </thead>\n",
       "  <tbody>\n",
       "    <tr>\n",
       "      <th>0</th>\n",
       "      <td>Pedro</td>\n",
       "      <td>A</td>\n",
       "      <td>Yes</td>\n",
       "      <td>1</td>\n",
       "      <td>0</td>\n",
       "      <td>1</td>\n",
       "    </tr>\n",
       "    <tr>\n",
       "      <th>1</th>\n",
       "      <td>Pedro</td>\n",
       "      <td>B</td>\n",
       "      <td>No</td>\n",
       "      <td>0</td>\n",
       "      <td>1</td>\n",
       "      <td>1</td>\n",
       "    </tr>\n",
       "    <tr>\n",
       "      <th>2</th>\n",
       "      <td>Pedro</td>\n",
       "      <td>D</td>\n",
       "      <td>No</td>\n",
       "      <td>0</td>\n",
       "      <td>3</td>\n",
       "      <td>1</td>\n",
       "    </tr>\n",
       "    <tr>\n",
       "      <th>3</th>\n",
       "      <td>Santiago</td>\n",
       "      <td>A</td>\n",
       "      <td>No</td>\n",
       "      <td>0</td>\n",
       "      <td>0</td>\n",
       "      <td>2</td>\n",
       "    </tr>\n",
       "    <tr>\n",
       "      <th>4</th>\n",
       "      <td>Santiago</td>\n",
       "      <td>C</td>\n",
       "      <td>Yes</td>\n",
       "      <td>1</td>\n",
       "      <td>2</td>\n",
       "      <td>2</td>\n",
       "    </tr>\n",
       "    <tr>\n",
       "      <th>5</th>\n",
       "      <td>Santiago</td>\n",
       "      <td>D</td>\n",
       "      <td>Yes</td>\n",
       "      <td>1</td>\n",
       "      <td>3</td>\n",
       "      <td>2</td>\n",
       "    </tr>\n",
       "    <tr>\n",
       "      <th>6</th>\n",
       "      <td>Alberto</td>\n",
       "      <td>A</td>\n",
       "      <td>No</td>\n",
       "      <td>0</td>\n",
       "      <td>0</td>\n",
       "      <td>0</td>\n",
       "    </tr>\n",
       "    <tr>\n",
       "      <th>7</th>\n",
       "      <td>Alberto</td>\n",
       "      <td>B</td>\n",
       "      <td>No</td>\n",
       "      <td>0</td>\n",
       "      <td>1</td>\n",
       "      <td>0</td>\n",
       "    </tr>\n",
       "    <tr>\n",
       "      <th>8</th>\n",
       "      <td>Alberto</td>\n",
       "      <td>C</td>\n",
       "      <td>Yes</td>\n",
       "      <td>1</td>\n",
       "      <td>2</td>\n",
       "      <td>0</td>\n",
       "    </tr>\n",
       "    <tr>\n",
       "      <th>9</th>\n",
       "      <td>Yolanda</td>\n",
       "      <td>B</td>\n",
       "      <td>Yes</td>\n",
       "      <td>1</td>\n",
       "      <td>1</td>\n",
       "      <td>3</td>\n",
       "    </tr>\n",
       "    <tr>\n",
       "      <th>10</th>\n",
       "      <td>Yolanda</td>\n",
       "      <td>C</td>\n",
       "      <td>No</td>\n",
       "      <td>0</td>\n",
       "      <td>2</td>\n",
       "      <td>3</td>\n",
       "    </tr>\n",
       "    <tr>\n",
       "      <th>11</th>\n",
       "      <td>Yolanda</td>\n",
       "      <td>D</td>\n",
       "      <td>No</td>\n",
       "      <td>0</td>\n",
       "      <td>3</td>\n",
       "      <td>3</td>\n",
       "    </tr>\n",
       "  </tbody>\n",
       "</table>\n",
       "</div>"
      ],
      "text/plain": [
       "   legislator bill votes  votes_id  bill_id  legislator_id\n",
       "0       Pedro    A   Yes         1        0              1\n",
       "1       Pedro    B    No         0        1              1\n",
       "2       Pedro    D    No         0        3              1\n",
       "3    Santiago    A    No         0        0              2\n",
       "4    Santiago    C   Yes         1        2              2\n",
       "5    Santiago    D   Yes         1        3              2\n",
       "6     Alberto    A    No         0        0              0\n",
       "7     Alberto    B    No         0        1              0\n",
       "8     Alberto    C   Yes         1        2              0\n",
       "9     Yolanda    B   Yes         1        1              3\n",
       "10    Yolanda    C    No         0        2              3\n",
       "11    Yolanda    D    No         0        3              3"
      ]
     },
     "execution_count": 56,
     "metadata": {},
     "output_type": "execute_result"
    }
   ],
   "source": [
    "loaded_votes.df"
   ]
  },
  {
   "cell_type": "code",
   "execution_count": 45,
   "id": "735f82d358e5d926",
   "metadata": {
    "ExecuteTime": {
     "start_time": "2024-02-21T13:24:20.906212700Z"
    }
   },
   "outputs": [
    {
     "ename": "NameError",
     "evalue": "name 'theta_comp_array' is not defined",
     "output_type": "error",
     "traceback": [
      "\u001b[1;31m---------------------------------------------------------------------------\u001b[0m",
      "\u001b[1;31mNameError\u001b[0m                                 Traceback (most recent call last)",
      "\u001b[1;32m~\\AppData\\Local\\Temp\\ipykernel_19288\\2528771915.py\u001b[0m in \u001b[0;36m<module>\u001b[1;34m\u001b[0m\n\u001b[1;32m----> 1\u001b[1;33m \u001b[0mmeta\u001b[0m\u001b[1;33m.\u001b[0m\u001b[0mzeta\u001b[0m \u001b[1;33m=\u001b[0m \u001b[0mtheta_comp_array\u001b[0m\u001b[1;33m(\u001b[0m\u001b[0mmeta\u001b[0m\u001b[1;33m.\u001b[0m\u001b[0mN_att\u001b[0m\u001b[1;33m,\u001b[0m\u001b[0mmeta\u001b[0m\u001b[1;33m.\u001b[0m\u001b[0mTau\u001b[0m\u001b[1;33m,\u001b[0m\u001b[0mmeta\u001b[0m\u001b[1;33m.\u001b[0m\u001b[0momega\u001b[0m\u001b[1;33m,\u001b[0m\u001b[0mmeta\u001b[0m\u001b[1;33m.\u001b[0m\u001b[0mdenominators\u001b[0m\u001b[1;33m,\u001b[0m\u001b[0mmeta\u001b[0m\u001b[1;33m.\u001b[0m\u001b[0mlinks\u001b[0m\u001b[1;33m,\u001b[0m\u001b[0mmeta\u001b[0m\u001b[1;33m.\u001b[0m\u001b[0mmasks_att_list\u001b[0m\u001b[1;33m)\u001b[0m\u001b[1;33m\u001b[0m\u001b[1;33m\u001b[0m\u001b[0m\n\u001b[0m",
      "\u001b[1;31mNameError\u001b[0m: name 'theta_comp_array' is not defined"
     ]
    }
   ],
   "source": [
    "loaded_votes.EM_step(10)"
   ]
  },
  {
   "cell_type": "markdown",
   "id": "75d63f72",
   "metadata": {},
   "source": [
    "Or analyze the parameters and/or links and/or accuracies:"
   ]
  },
  {
   "cell_type": "code",
   "execution_count": 58,
   "id": "49d887d6",
   "metadata": {},
   "outputs": [
    {
     "ename": "TypingError",
     "evalue": "Failed in nopython mode pipeline (step: nopython frontend)\n\u001b[1m\u001b[1m\u001b[1mNo implementation of function Function(<built-in function getitem>) found for signature:\n \n >>> getitem(array(float64, 2d, C), Tuple(slice<a:b>, slice<a:b>, none))\n \nThere are 22 candidate implementations:\n\u001b[1m   - Of which 20 did not match due to:\n   Overload of function 'getitem': File: <numerous>: Line N/A.\n     With argument(s): '(array(float64, 2d, C), Tuple(slice<a:b>, slice<a:b>, none))':\u001b[0m\n\u001b[1m    No match.\u001b[0m\n\u001b[1m   - Of which 2 did not match due to:\n   Overload in function 'GetItemBuffer.generic': File: numba\\core\\typing\\arraydecl.py: Line 166.\n     With argument(s): '(array(float64, 2d, C), Tuple(slice<a:b>, slice<a:b>, none))':\u001b[0m\n\u001b[1m    Rejected as the implementation raised a specific error:\n      NumbaTypeError: \u001b[1munsupported array index type none in Tuple(slice<a:b>, slice<a:b>, none)\u001b[0m\u001b[0m\n  raised from C:\\Users\\oscar\\anaconda3\\lib\\site-packages\\numba\\core\\typing\\arraydecl.py:72\n\u001b[0m\n\u001b[0m\u001b[1mDuring: typing of intrinsic-call at C:\\Users\\oscar\\AppData\\Local\\Temp\\ipykernel_19288\\1186126865.py (5)\u001b[0m\n\u001b[0m\u001b[1mDuring: typing of static-get-item at C:\\Users\\oscar\\AppData\\Local\\Temp\\ipykernel_19288\\1186126865.py (5)\u001b[0m\n\u001b[1m\nFile \"..\\..\\..\\AppData\\Local\\Temp\\ipykernel_19288\\1186126865.py\", line 5:\u001b[0m\n\u001b[1m<source missing, REPL/exec in use?>\u001b[0m\n",
     "output_type": "error",
     "traceback": [
      "\u001b[1;31m---------------------------------------------------------------------------\u001b[0m",
      "\u001b[1;31mTypingError\u001b[0m                               Traceback (most recent call last)",
      "\u001b[1;32m~\\AppData\\Local\\Temp\\ipykernel_19288\\1756350859.py\u001b[0m in \u001b[0;36m<module>\u001b[1;34m\u001b[0m\n\u001b[1;32m----> 1\u001b[1;33m log_like_comp_numba(votes[\"legislator\"].theta, votes[\"bill\"].theta, votes.pkl, votes.links, votes.labels_array\n\u001b[0m\u001b[0;32m      2\u001b[0m )\n",
      "\u001b[1;32m~\\anaconda3\\lib\\site-packages\\numba\\core\\dispatcher.py\u001b[0m in \u001b[0;36m_compile_for_args\u001b[1;34m(self, *args, **kws)\u001b[0m\n\u001b[0;32m    466\u001b[0m                 \u001b[0me\u001b[0m\u001b[1;33m.\u001b[0m\u001b[0mpatch_message\u001b[0m\u001b[1;33m(\u001b[0m\u001b[0mmsg\u001b[0m\u001b[1;33m)\u001b[0m\u001b[1;33m\u001b[0m\u001b[1;33m\u001b[0m\u001b[0m\n\u001b[0;32m    467\u001b[0m \u001b[1;33m\u001b[0m\u001b[0m\n\u001b[1;32m--> 468\u001b[1;33m             \u001b[0merror_rewrite\u001b[0m\u001b[1;33m(\u001b[0m\u001b[0me\u001b[0m\u001b[1;33m,\u001b[0m \u001b[1;34m'typing'\u001b[0m\u001b[1;33m)\u001b[0m\u001b[1;33m\u001b[0m\u001b[1;33m\u001b[0m\u001b[0m\n\u001b[0m\u001b[0;32m    469\u001b[0m         \u001b[1;32mexcept\u001b[0m \u001b[0merrors\u001b[0m\u001b[1;33m.\u001b[0m\u001b[0mUnsupportedError\u001b[0m \u001b[1;32mas\u001b[0m \u001b[0me\u001b[0m\u001b[1;33m:\u001b[0m\u001b[1;33m\u001b[0m\u001b[1;33m\u001b[0m\u001b[0m\n\u001b[0;32m    470\u001b[0m             \u001b[1;31m# Something unsupported is present in the user code, add help info\u001b[0m\u001b[1;33m\u001b[0m\u001b[1;33m\u001b[0m\u001b[0m\n",
      "\u001b[1;32m~\\anaconda3\\lib\\site-packages\\numba\\core\\dispatcher.py\u001b[0m in \u001b[0;36merror_rewrite\u001b[1;34m(e, issue_type)\u001b[0m\n\u001b[0;32m    407\u001b[0m                 \u001b[1;32mraise\u001b[0m \u001b[0me\u001b[0m\u001b[1;33m\u001b[0m\u001b[1;33m\u001b[0m\u001b[0m\n\u001b[0;32m    408\u001b[0m             \u001b[1;32melse\u001b[0m\u001b[1;33m:\u001b[0m\u001b[1;33m\u001b[0m\u001b[1;33m\u001b[0m\u001b[0m\n\u001b[1;32m--> 409\u001b[1;33m                 \u001b[1;32mraise\u001b[0m \u001b[0me\u001b[0m\u001b[1;33m.\u001b[0m\u001b[0mwith_traceback\u001b[0m\u001b[1;33m(\u001b[0m\u001b[1;32mNone\u001b[0m\u001b[1;33m)\u001b[0m\u001b[1;33m\u001b[0m\u001b[1;33m\u001b[0m\u001b[0m\n\u001b[0m\u001b[0;32m    410\u001b[0m \u001b[1;33m\u001b[0m\u001b[0m\n\u001b[0;32m    411\u001b[0m         \u001b[0margtypes\u001b[0m \u001b[1;33m=\u001b[0m \u001b[1;33m[\u001b[0m\u001b[1;33m]\u001b[0m\u001b[1;33m\u001b[0m\u001b[1;33m\u001b[0m\u001b[0m\n",
      "\u001b[1;31mTypingError\u001b[0m: Failed in nopython mode pipeline (step: nopython frontend)\n\u001b[1m\u001b[1m\u001b[1mNo implementation of function Function(<built-in function getitem>) found for signature:\n \n >>> getitem(array(float64, 2d, C), Tuple(slice<a:b>, slice<a:b>, none))\n \nThere are 22 candidate implementations:\n\u001b[1m   - Of which 20 did not match due to:\n   Overload of function 'getitem': File: <numerous>: Line N/A.\n     With argument(s): '(array(float64, 2d, C), Tuple(slice<a:b>, slice<a:b>, none))':\u001b[0m\n\u001b[1m    No match.\u001b[0m\n\u001b[1m   - Of which 2 did not match due to:\n   Overload in function 'GetItemBuffer.generic': File: numba\\core\\typing\\arraydecl.py: Line 166.\n     With argument(s): '(array(float64, 2d, C), Tuple(slice<a:b>, slice<a:b>, none))':\u001b[0m\n\u001b[1m    Rejected as the implementation raised a specific error:\n      NumbaTypeError: \u001b[1munsupported array index type none in Tuple(slice<a:b>, slice<a:b>, none)\u001b[0m\u001b[0m\n  raised from C:\\Users\\oscar\\anaconda3\\lib\\site-packages\\numba\\core\\typing\\arraydecl.py:72\n\u001b[0m\n\u001b[0m\u001b[1mDuring: typing of intrinsic-call at C:\\Users\\oscar\\AppData\\Local\\Temp\\ipykernel_19288\\1186126865.py (5)\u001b[0m\n\u001b[0m\u001b[1mDuring: typing of static-get-item at C:\\Users\\oscar\\AppData\\Local\\Temp\\ipykernel_19288\\1186126865.py (5)\u001b[0m\n\u001b[1m\nFile \"..\\..\\..\\AppData\\Local\\Temp\\ipykernel_19288\\1186126865.py\", line 5:\u001b[0m\n\u001b[1m<source missing, REPL/exec in use?>\u001b[0m\n"
     ]
    }
   ],
   "source": [
    "log_like_comp_numba(votes[\"legislator\"].theta, votes[\"bill\"].theta, votes.pkl, votes.links, votes.labels_array\n",
    ")"
   ]
  },
  {
   "cell_type": "code",
   "execution_count": null,
   "id": "df828d0c24105610",
   "metadata": {
    "ExecuteTime": {
     "start_time": "2024-02-21T13:24:21.715207900Z"
    }
   ],
   "source": [
    "loaded_votes.df"
   ]
  },
  {
   "cell_type": "code",
   "execution_count": 59,
   "id": "7f0e7cd1",
   "metadata": {},
   "outputs": [
    {
     "data": {
      "text/plain": [
       "[<matplotlib.axis.XTick at 0x1fd9d91ec40>,\n",
       " <matplotlib.axis.XTick at 0x1fd9d91ec10>]"
      ]
     },
     "execution_count": 59,
     "metadata": {},
     "output_type": "execute_result"
    },
    {
     "data": {
      "image/png": "iVBORw0KGgoAAAANSUhEUgAAA7wAAAHUCAYAAAAZeyQpAAAAOXRFWHRTb2Z0d2FyZQBNYXRwbG90bGliIHZlcnNpb24zLjUuMiwgaHR0cHM6Ly9tYXRwbG90bGliLm9yZy8qNh9FAAAACXBIWXMAAA9hAAAPYQGoP6dpAABK70lEQVR4nO3deXxU1f3/8fcAySQQEmQLBAIEFIiylaAYkAJSgmERXL5g6ZedX0VARZRWxApSKxYoRcWAVhZtFXEB6kJVVBAs8C1gUCq4FTQICQjIqiQkc35/0NwwJIFMZrLMnNfz8biPB7nc5cxkec/nnnPPdRljjAAAAAAACDFVKroBAAAAAACUBQpeAAAAAEBIouAFAAAAAIQkCl4AAAAAQEii4AUAAAAAhCQKXgAAAABASKLgBQAAAACEJApeAAAAAEBIouAFAAAAAIQkCl4fLVu2TC6XS9u2bSvX844cOVLNmjXzaZ9vvvlGLpdLy5Yt8/l8Bw4c0IwZM7Rjxw6f9y0L+a+lJMs333xTJt+nNWvWaMaMGQE7Xr78tuYv1apVU+PGjTVq1Cjt378/4OerTCrbzxkAVJQLs8DlcqlevXrq0aOH3nzzzULbu1wur0xav369XC6X1q9f76ybMWOGXC5XwNtV1JL/GWXkyJGKiory65wXSktLK9VnmUsZOXKk12twu91q1aqVpk+frjNnzgT8fJXJpk2bNGPGDB07dqyimwKUuWoV3QCUzO9+9zvdfffd5Xa+AwcO6OGHH1azZs3UoUOHcjtvcRo2bKjNmzd7rRs/fryOHz+uF154odC2ZWHNmjV66qmnyqTolaSlS5eqdevW+umnn7RhwwbNmjVLH374oXbu3KkaNWqUyTkrWmX7OQOAipafBcYYZWVlacGCBRowYIBef/11DRgwwNlu8+bNaty4cZm3p1+/foXyNzk5WbfeeqvuvfdeZ53b7S6zNqSlpalu3boaOXJkwI8dGRmpDz74QJL0ww8/aPny5Zo5c6Y+//xzrVixIuDnqyw2bdqkhx9+WCNHjlStWrUqujlAmaLgDRItWrSo6CYExI8//qjq1av7vJ/b7da1117rtS46Olo5OTmF1gerNm3aqFOnTpKknj17Ki8vT7///e+1evVq/epXv/Lr2D/99JMiIyMD0cyg8NNPPykiIsLvng0AKG/nZ4Ek3XDDDbrsssu0fPlyr4K3vLKvXr16qlevXqH1sbGxIZG/VapU8Xodqamp+uabb/Tyyy9r3rx5atSoUamPnZeXp9zc3DK9GFDZlPZzHlCWGNJcRr766isNHTpU9evXl9vtVmJiop566qlC23322WdKSUlR9erVVa9ePU2YMEFvvfVWoWFJRQ1pfuWVV9S5c2fFxMSoevXqat68uUaPHn3Rdn399dcaNWqUrrjiClWvXl2NGjXSgAEDtHPnTmeb9evX6+qrr5YkjRo1yhnqc37P5uuvv67k5GRVr15dNWvWVO/evQtdAc4fSvXxxx/r1ltv1WWXXeYU7nv27NFtt92muLg4ud1uxcbGqlevXgEf2nry5Endcccdqlu3rurUqaObb75ZBw4cKLTdihUrlJycrBo1aigqKkp9+vRRenq68/8jR450vn8XDp+WpKeeeko///nPVb9+fdWoUUNt27bV7Nmzdfbs2VK3PT+Av/32W0nSww8/rM6dO6t27dqKjo5Wx44dtXjxYhljvPZr1qyZ+vfvr5UrV+pnP/uZIiIi9PDDD/vUzh49eqhNmzbavHmzunTposjISDVr1kxLly6VJL311lvq2LGjqlevrrZt2+rtt98u1P5L/Q6U5Ods27ZtuvHGG1W7dm1FREToZz/7mV5++WWv8+QPt3v33Xc1evRo1atXT9WrV1d2dra+//57/frXv1Z8fLzcbrfq1aunrl276r333ivNtwQAyl1ERITCw8MVFhbmtf7Cv5cl9cEHH6hHjx6qU6eOIiMj1aRJE91yyy368ccfA9Tic77++mv17dtXUVFRio+P17333qvs7GyvbXJycvTII4+odevWzt/oUaNG6fvvv3e2adasmT777DN9+OGHhYZPnzlzRvfee686dOigmJgY1a5dW8nJyfr73//uV9vPz9/vv/9e48eP15VXXqmoqCjVr19f119/vTZu3Oi1T/6tV7Nnz9YjjzyihIQEud1urVu3zqd2ulwuTZw4UUuXLlWrVq0UGRmpTp06acuWLTLGaM6cOUpISFBUVJSuv/56ff3114WO8d5776lXr16Kjo5W9erV1bVrV73//vvO/8+YMUNTpkyRJCUkJDjv6/mfOy/1uUgqGL6+c+dOpaSkqGbNmurVq5ckKT09Xf3793c+A8TFxalfv3767rvvSvdNAfxAD28Z2LVrl7p06aImTZroT3/6kxo0aKB33nlHd911lw4fPqzp06dLkjIzM9W9e3fVqFFDCxcuVP369bV8+XJNnDjxkufYvHmzhgwZoiFDhmjGjBmKiIjQt99+6wzLKc6BAwdUp04dPfbYY6pXr56OHj2q5557Tp07d1Z6erpatWqljh07aunSpRo1apQefPBB9evXT5KcoVMvvviifvWrXyklJUXLly9Xdna2Zs+erR49euj999/Xdddd53XOm2++WbfddpvGjRun06dPS5L69u2rvLw8zZ49W02aNNHhw4e1adOmgN9LMnbsWPXr108vvvii9u3bpylTpuh///d/vd6nRx99VA8++KDzenNycjRnzhx169ZN//rXv3TllVfqd7/7nU6fPq1XX33Vq7DPHz79n//8R0OHDlVCQoLCw8P1ySef6A9/+IM+//xzLVmypFRtzw+x/Cvr33zzjW6//XY1adJEkrRlyxbdeeed2r9/vx566CGvfT/++GPt3r1bDz74oBISEpwh0b60MysrS6NGjdJvfvMbNW7cWE8++aRGjx6tffv26dVXX9UDDzygmJgYzZw5U4MGDdKePXsUFxcnqWS/A5f6OVu3bp1uuOEGde7cWYsWLVJMTIxeeuklDRkyRD/++GOhoW2jR49Wv3799Ne//lWnT59WWFiYhg0bpo8//lh/+MMf1LJlSx07dkwff/yxjhw5UqrvCQCUtfxeQWOMDh48qDlz5uj06dMaOnSo38f+5ptv1K9fP3Xr1k1LlixRrVq1tH//fr399tvKyckJWM/c2bNndeONN2rMmDG69957tWHDBv3+979XTEyMk1cej0cDBw7Uxo0b9Zvf/EZdunTRt99+q+nTp6tHjx7atm2bIiMjtWrVKt16662KiYlRWlqapILh09nZ2Tp69Kjuu+8+NWrUSDk5OXrvvfd08803a+nSpRo+fHip2n9+/h49elSSNH36dDVo0ECnTp3SqlWrnM88PXr08Nr3iSeeUMuWLTV37lxFR0friiuu8Lmdb775ptLT0/XYY4/J5XLpt7/9rfr166cRI0Zoz549WrBggY4fP67Jkyfrlltu0Y4dO5wRTX/72980fPhwDRw4UM8995zCwsL09NNPq0+fPnrnnXfUq1cvjR07VkePHtWTTz6plStXOp9lrrzySkkl+1yULycnRzfeeKNuv/123X///crNzdXp06fVu3dvJSQk6KmnnlJsbKyysrK0bt06nTx5slTfE8AvBj5ZunSpkWS2bt1a7DZ9+vQxjRs3NsePH/daP3HiRBMREWGOHj1qjDFmypQpxuVymc8++6zQ/pLMunXrnHUjRowwTZs2db6eO3eukWSOHTtWbDv27t1rJJmlS5cWu01ubq7JyckxV1xxhbnnnnuc9Vu3bi1y37y8PBMXF2fatm1r8vLynPUnT5409evXN126dHHWTZ8+3UgyDz30kNcxDh8+bCSZ+fPnF9uukujevbu56qqrivy//O/T+PHjvdbPnj3bSDKZmZnGGGMyMjJMtWrVzJ133um13cmTJ02DBg3M4MGDnXUTJkwwJfmVycvLM2fPnjXPP/+8qVq1qvP9Lk5+W7ds2WLOnj1rTp48ad58801Tr149U7NmTZOVlVXsOWbOnGnq1KljPB6P839NmzY1VatWNV988UWp29m9e3cjyWzbts1Zd+TIEVO1alUTGRlp9u/f76zfsWOHkWSeeOIJZ11JfweK+zkzxpjWrVubn/3sZ+bs2bNe6/v3728aNmzo/Pzlv3/Dhw8vdIyoqCgzadKki74PAFAZ5P8tu3Bxu90mLS2t0PaSzPTp052v161bV+izQ34O53v11VeNJLNjxw6/2irJTJgwocj/GzFihJFkXn75Za/1ffv2Na1atXK+Xr58uZFkXnvtNa/t8nPh/Nd81VVXme7du1+yXbm5uebs2bNmzJgx5mc/+9kltx8xYoSpUaOGOXv2rDl79qz5/vvvzeOPP25cLpe5+uqrL3qOXr16mZtuuslZn/+Zq0WLFiYnJ6fU7ZRkGjRoYE6dOuWsW716tZFkOnTo4JX38+fPN5LMp59+aowx5vTp06Z27dpmwIABXsfMy8sz7du3N9dcc42zbs6cOUaS2bt3r9e2vnwuyv9eL1myxGvbbdu2GUlm9erVF30fgPLCkOYAO3PmjN5//33ddNNNql69unJzc52lb9++OnPmjLZs2SJJ+vDDD9WmTRuvK2WS9Mtf/vKS58kfCjp48GC9/PLLJZ7NNzc3V48++qiuvPJKhYeHq1q1agoPD9dXX32l3bt3X3L/L774QgcOHNCwYcNUpUrBj09UVJRuueUWbdmypdCwqFtuucXr69q1a6tFixaaM2eO5s2bp/T0dHk8nhK131c33nij19ft2rWTVDBM+J133lFubq6GDx/u9b2KiIhQ9+7dvYb3XEx6erpuvPFG1alTR1WrVlVYWJiGDx+uvLw8ffnllyU6xrXXXquwsDDVrFlT/fv3V4MGDfSPf/xDsbGxks4NQ/vFL36hmJgY5xwPPfSQjhw5okOHDhV6nS1btvSrnQ0bNlRSUpLzde3atVW/fn116NDB6cmVpMTEREkF76kvvwPF+frrr/X555879y5feIzMzEx98cUXXvtc+HMmSddcc42WLVumRx55RFu2bPFriDkAlIfnn39eW7du1datW/WPf/xDI0aM0IQJE7RgwQK/j92hQweFh4fr17/+tZ577jnt2bMnAC0uzOVyed1vLJ3LpfyckM71YtaqVUsDBgzw+hvfoUMHNWjQoMT5+8orr6hr166KiopStWrVFBYWpsWLF5foM40kZ0RQWFiY6tWrp0mTJik1NVWrVq1ytlm0aJE6duyoiIgI5xzvv/9+kee48cYbCw0/97WdPXv29JqsMj9nU1NTveamuDB/N23apKNHj2rEiBFe76nH49ENN9ygrVu3OiPtilOaz0UX5u/ll1+uyy67TL/97W+1aNEi7dq166LnBMoaBW+AHTlyRLm5uXryySedP6D5S9++fSVJhw8fdrbNL2bOV9S6C/385z/X6tWrnT9KjRs3Vps2bbR8+fKL7jd58mT97ne/06BBg/TGG2/o//7v/7R161a1b99eP/30U4len1T0TMhxcXHyeDz64YcfvNZfuK3L5dL777+vPn36aPbs2erYsaPq1aunu+66K+BDXerUqeP1df4wqPzXevDgQUnnLiBc+P1asWKF8726mIyMDHXr1k379+/X448/ro0bN2rr1q3O/aoleV+lgg856enpOnDggD799FN17dpVkvSvf/1LKSkpkqS//OUv+uc//6mtW7dq2rRpRZ6jqO+Pr+2sXbt2oWOEh4cXWh8eHi5JziMcfPkdKE7+9+W+++4rdIzx48cXeYyiXvOKFSs0YsQIPfvss0pOTlbt2rU1fPhwZWVlXfT8AFBREhMT1alTJ3Xq1Ek33HCDnn76aaWkpOg3v/mN37f9tGjRQu+9957q16+vCRMmqEWLFmrRooUef/zxwDT+v6pXr66IiAivdW632+tRPwcPHtSxY8ec+5PPX7KyskqUvytXrtTgwYPVqFEj/e1vf9PmzZu1detWjR49usSPFYqMjHQuMHz66ac6duyY3nrrLWeyqnnz5umOO+5Q586d9dprr2nLli3aunWrbrjhhiLzvags8rWdxeXspfI3PztvvfXWQu/pH//4RxljnCHaxfH1c1H16tUVHR3ttS4mJkYffvihOnTooAceeEBXXXWV4uLiNH36dC48o0JwD2+AXXbZZapataqGDRumCRMmFLlNQkKCpHPFWP4flvOV9MP4wIEDNXDgQGVnZ2vLli2aNWuWhg4dqmbNmik5ObnIffLv7Xj00Ue91h8+fLhE09LnF5CZmZmF/u/AgQOqUqWKLrvsMq/1Rc2U27RpUy1evFiS9OWXX+rll1/WjBkzlJOTo0WLFl2yHYFSt25dSdKrr76qpk2bluoYq1ev1unTp7Vy5UqvY/g6AVf+h5yivPTSSwoLC9Obb77p9SFi9erVRW5f1HseqHZeii+/A8XJ/75MnTpVN998c5HbtGrVyuvrol5z3bp1NX/+fM2fP18ZGRl6/fXXdf/99+vQoUNFTrQFAJVRu3bt9M477+jLL7/UNddc49exunXrpm7duikvL0/btm3Tk08+qUmTJik2Nla33XZbgFp8afmTSRb3t7hmzZqXPMbf/vY3JSQkaMWKFV4ZcOHkWBdTpUqVYrM3/xw9evTQwoULvdYXd4G+qCwKRDtLIj87n3zyyWJn0L5Up4qvn4uKexpC27Zt9dJLL8kYo08//VTLli3TzJkzFRkZqfvvv/+SxwUCiYI3wKpXr66ePXsqPT1d7dq1c66+FaV79+6aO3eudu3a5TWs+aWXXvLpnG63W927d1etWrX0zjvvKD09vdiCN//B6ud76623tH//fl1++eVex5QK9/q1atVKjRo10osvvqj77rvP+UN3+vRpvfbaa87Mzb5o2bKlHnzwQb322mv6+OOPfdrXX3369FG1atX0n//8p8ghsec7/z05/xE/+e/B+e+rMUZ/+ctfAtZOl8ulatWqqWrVqs66n376SX/96199OkZZt1Py7XfgYj9nV1xxhT755JNCF2dKq0mTJpo4caLef/99/fOf/wzIMQGgPORfmCzq8UClVbVqVXXu3FmtW7fWCy+8oI8//rhcC97+/fvrpZdeUl5enjp37nzRbd1ud5G9qS6XS+Hh4V5FV1ZWlt+zNF94jgs/N3366afavHmz4uPjS3yMsm6nJHXt2lW1atXSrl27LjkBanH568vnopJwuVxq3769/vznP2vZsmXl/jkPkCh4S+2DDz5wHklzvr59++rxxx/Xddddp27duumOO+5Qs2bNdPLkSX399dd64403nBmCJ02apCVLlig1NVUzZ85UbGysXnzxRX3++eeS5HWP7IUeeughfffdd+rVq5caN26sY8eO6fHHH1dYWJi6d+9e7H79+/fXsmXL1Lp1a7Vr107bt2/XnDlzCj28vkWLFoqMjNQLL7ygxMRERUVFKS4uTnFxcZo9e7Z+9atfqX///rr99tuVnZ2tOXPm6NixY3rssccu+d59+umnmjhxov7nf/5HV1xxhcLDw/XBBx/o008/Lferfs2aNdPMmTM1bdo07dmzx3ne4cGDB/Wvf/1LNWrUcB7p07ZtW0nSH//4R6Wmpqpq1apq166devfurfDwcP3yl7/Ub37zG505c0YLFy4sNLTbH/369dO8efM0dOhQ/frXv9aRI0c0d+5cn57tVx7tzFfS34GL/Zw9/fTTSk1NVZ8+fTRy5Eg1atRIR48e1e7du/Xxxx/rlVdeuWgbjh8/rp49e2ro0KFq3bq1atasqa1bt+rtt98uttcYACrav//9b+Xm5ko6d4vIypUrtXbtWt10002XHB1zKYsWLdIHH3ygfv36qUmTJjpz5owzQ/8vfvELv9vui9tuu00vvPCC+vbtq7vvvlvXXHONwsLC9N1332ndunUaOHCgbrrpJkkFvYUrVqxQ8+bNFRERobZt2zqP4Bs/frxuvfVW7du3T7///e/VsGFDffXVVwFpZ//+/fX73/9e06dPV/fu3fXFF19o5syZSkhIcL5PJTlGWbdTOjefypNPPqkRI0bo6NGjuvXWW1W/fn19//33+uSTT/T99987PdX5n2kef/xxjRgxQmFhYWrVqpVPn4uK8+abbyotLU2DBg1S8+bNZYzRypUrdezYMfXu3TtgrxcosQqdMisIFTeLYv6SP9vd3r17zejRo02jRo1MWFiYqVevnunSpYt55JFHvI7373//2/ziF78wERERpnbt2mbMmDHmueeeM5LMJ5984mx34SzNb775pklNTTWNGjUy4eHhpn79+qZv375m48aNzjZFzdL8ww8/mDFjxpj69eub6tWrm+uuu85s3LjRdO/evdAMiMuXLzetW7c2YWFhhWaDXL16tencubOJiIgwNWrUML169TL//Oc/vfbPnx3y+++/91p/8OBBM3LkSNO6dWtTo0YNExUVZdq1a2f+/Oc/m9zc3BJ/L0oyS/OFs2kXNYtl/uvp2bOniY6ONm632zRt2tTceuut5r333nO2yc7ONmPHjjX16tUzLpfL6/v9xhtvmPbt25uIiAjTqFEjM2XKFPOPf/yjyHOVtK0XWrJkiWnVqpVxu92mefPmZtasWWbx4sWFZlls2rSp6devX5HHKGk7i3tvizu2ipixs6S/Axf7Ofvkk0/M4MGDTf369U1YWJhp0KCBuf76682iRYucbYp7/86cOWPGjRtn2rVrZ6Kjo01kZKRp1aqVmT59ujl9+nSR7w8AVJSiPl/ExMSYDh06mHnz5pkzZ854bX/h38uSzNK8efNmc9NNN5mmTZsat9tt6tSpY7p3725ef/11n9pa1N/8fPkzH1/owrYYY8zZs2fN3LlznVyKiooyrVu3Nrfffrv56quvnO2++eYbk5KSYmrWrGkkeX0eeuyxx0yzZs2M2+02iYmJ5i9/+UuR5/KlrefLzs429913n2nUqJGJiIgwHTt2NKtXry70uSz/M9ecOXOKPE5J21lcnhZ17Pzv+SuvvOK1/sMPPzT9+vUztWvXNmFhYaZRo0amX79+hbabOnWqiYuLM1WqVCn0s1OSz0XFvX+ff/65+eUvf2latGhhIiMjTUxMjLnmmmvMsmXLinxvgLLmMsaYsiyo4btf//rXWr58uY4cOXLR4aAAAAAAgOIxpLmCzZw5U3FxcWrevLlOnTqlN998U88++6wefPBBil0AAAAA8AMFbwULCwvTnDlz9N133yk3N1dXXHGF5s2bp7vvvruimwYAAAAAQY0hzQAAAACAkFT8NMAAAJSDDRs2aMCAAYqLi5PL5Sr2+dLn+/DDD5WUlKSIiAg1b968XJ/fDQAAfFdReU/BCwCoUKdPn1b79u21YMGCEm2/d+9e9e3bV926dVN6eroeeOAB3XXXXXrttdfKuKUAAKC0KirvGdIMAKg0XC6XVq1apUGDBhW7zW9/+1u9/vrr2r17t7Nu3Lhx+uSTT7R58+ZyaCUAAPBHeeZ9uU9a5fF4dODAAdWsWVMul6u8Tw8AQc8Yo5MnTyouLk5VqgRuoM6ZM2eUk5MTkGMZYwr9jXe73XK73X4fe/PmzUpJSfFa16dPHy1evFhnz55VWFiY3+eAf8h6APCP7VkvBS7vy73gPXDggOLj48v7tAAQcvbt26fGjRsH5FhnzpxRQtMoZR3KC8jxoqKidOrUKa9106dP14wZM/w+dlZWlmJjY73WxcbGKjc3V4cPH1bDhg39Pgf8Q9YDQGDYmvVS4PK+3AvemjVrSpIaz3hQVSIiyvv0QMkw0B+VmOfMGX338CPO39NAyMnJUdahPO3d3lTRNf27knzipEcJSd9q3759io6OdtYH6oqvpEJXlPPvzqE3sXLI/9n8z/Z41YxiuhBUToMTkyq6CUCxcs1ZfWTesDrrpcDkfbkXvPmNqxIRQcGLyouCF0GgLIq76JpV/A5B51jR0V4hGCgNGjRQVlaW17pDhw6pWrVqqlOnTsDPB9/l/2zWjArczxMQaNVc3P6ASs7Ym/VS4PK+3AteAEDllWc8yvPzgk+e8QSmMcVITk7WG2+84bXu3XffVadOnbh/FwCASwiGrJcCl/dcdgUAODwyAVl8cerUKe3YsUM7duyQdO4xBDt27FBGRoYkaerUqRo+fLiz/bhx4/Ttt99q8uTJ2r17t5YsWaLFixfrvvvuC9j7AABAqKqIrJcqLu/p4QUAVKht27apZ8+ezteTJ0+WJI0YMULLli1TZmamE4aSlJCQoDVr1uiee+7RU089pbi4OD3xxBO65ZZbyr3tAACgZCoq7yl4AQAOjzzyd5CSr0fo0aOHLvZI+GXLlhVa1717d3388ce+Ng0AAOtVRNZLFZf3FLwAAEeeMcq7SBiV9BgAAKBysi3ruYcXAAAAABCS6OEFADhKOxHFhccAAACVk21ZT8ELAHB4ZJRnUQgCAGAb27KeIc0AAAAAgJBEDy8AwGHbMCcAAGxjW9ZT8AIAHLbN3AgAgG1sy3qGNAMAAAAAQhI9vAAAh+e/i7/HAAAAlZNtWU/BCwBw5AVg5kZ/9wcAAGXHtqxnSDMAAAAAICTRwwsAcOSZc4u/xwAAAJWTbVlPwQsAcNh2Xw8AALaxLesZ0gwAAAAACEn08AIAHB65lCeX38cAAACVk21ZT8ELAHB4zLnF32MAAIDKybasZ0gzAAAAACAk0cMLAHDkBWCYk7/7AwCAsmNb1lPwAgActoUgAAC2sS3rGdIMAAAAAAhJ9PACABwe45LH+Dlzo5/7AwCAsmNb1lPwAgActg1zAgDANrZlPUOaAQAAAAAhiR5eAIAjT1WU5+e10LwAtQUAAASebVlPwQsAcJgA3Ndjgui+HgAAbGNb1jOkGQAAAAAQkujhBQA4bJvIAgAA29iW9RS8AABHnqmiPOPnfT0mQI0BAAABZ1vWM6QZAAAAABCS6OEFADg8csnj57VQj4Losi8AAJaxLespeAEADtvu6wEAwDa2ZT1DmgEAAAAAIYkeXgCAIzATWQTPMCcAAGxjW9ZT8AIAHOfu6/FvmJK/+wMAgLJjW9YzpBkAAAAAEJLo4QUAODyqojyLZm4EAMA2tmU9BS8AwGHbfT0AANjGtqwv1StNS0tTQkKCIiIilJSUpI0bNwa6XQAAoAKR9QCAUOBzwbtixQpNmjRJ06ZNU3p6urp166bU1FRlZGSURfsAAOXIoyoBWRDcyHoACF22Zb3PLZ03b57GjBmjsWPHKjExUfPnz1d8fLwWLlxYFu0DAJSjPOMKyILgRtYDQOiyLet9KnhzcnK0fft2paSkeK1PSUnRpk2bitwnOztbJ06c8FoAAEDlRNYDAEKJTwXv4cOHlZeXp9jYWK/1sbGxysrKKnKfWbNmKSYmxlni4+NL31oAQJnK++/Mjf4uCF5kPQCENtuyvlQtdbm8u7CNMYXW5Zs6daqOHz/uLPv27SvNKQEA5cBjqgRkQfAj6wEgNNmW9T49lqhu3bqqWrVqoSu8hw4dKnQlOJ/b7Zbb7S59CwEAQLkh6wEAocSn0jw8PFxJSUlau3at1/q1a9eqS5cuAW0YAKD82TbMCYWR9QAQ2mzLep96eCVp8uTJGjZsmDp16qTk5GQ988wzysjI0Lhx48qifQCAcuSR/J550ROYpqACkfUAELpsy3qfC94hQ4boyJEjmjlzpjIzM9WmTRutWbNGTZs2LYv2AQCAckbWAwBChc8FrySNHz9e48ePD3RbAAAVLBAPkw+mh9GjeGQ9AIQm27K+VAUvACA05ZkqyvNz5kV/9wcAAGXHtqwPnpYCAAAAAOADengBAA6PXPLI34ks/NsfAACUHduynoIXAOCwbZgTAAC2sS3rg6elAAAAAAD4gB5eAIAjEA+TD6aH0QMAYBvbsp6CFwDg8BiXPP4+jN7P/QEAQNmxLeuDpzQHAAAAAMAH9PACAByeAAxzCqaH0QMAYBvbsp6CFwDg8Jgq8vg586K/+wMAgLJjW9YHT0sBAAAAAPABPbwAAEeeXMrz82Hy/u4PAADKjm1ZT8ELAHDYNswJAADb2Jb1wdNSAAAAAAB8QA8vAMCRJ/+HKeUFpikAAKAM2Jb1FLwAAIdtw5wAALCNbVkfPC0FAAAAAMAH9PACABx5pory/Lxq6+/+AACg7NiW9cHTUgBAmTNyyePnYkp5X1BaWpoSEhIUERGhpKQkbdy48aLbv/DCC2rfvr2qV6+uhg0batSoUTpy5Eipzg0AgC1sy3oKXgBAhVuxYoUmTZqkadOmKT09Xd26dVNqaqoyMjKK3P6jjz7S8OHDNWbMGH322Wd65ZVXtHXrVo0dO7acWw4AAEqiorKeghcA4Mgf5uTv4qt58+ZpzJgxGjt2rBITEzV//nzFx8dr4cKFRW6/ZcsWNWvWTHfddZcSEhJ03XXX6fbbb9e2bdv8fQsAAAhptmU9BS8AwOExroAsknTixAmvJTs7u8hz5uTkaPv27UpJSfFan5KSok2bNhW5T5cuXfTdd99pzZo1Msbo4MGDevXVV9WvX7/AviEAAIQY27KeghcAUCbi4+MVExPjLLNmzSpyu8OHDysvL0+xsbFe62NjY5WVlVXkPl26dNELL7ygIUOGKDw8XA0aNFCtWrX05JNPBvx1AACAogVD1jNLMwDAkacqyvPzWmj+/vv27VN0dLSz3u12X3Q/l8t7AgxjTKF1+Xbt2qW77rpLDz30kPr06aPMzExNmTJF48aN0+LFi/1qPwAAocy2rKfgBQA4zh+m5M8xJCk6OtorBItTt25dVa1atdAV3kOHDhW6Epxv1qxZ6tq1q6ZMmSJJateunWrUqKFu3brpkUceUcOGDf16DQAAhCrbsp4hzQCAChUeHq6kpCStXbvWa/3atWvVpUuXIvf58ccfVaWKd4RVrVpV0rmrxQAAoPKoyKynhxcA4PCoijx+Xgstzf6TJ0/WsGHD1KlTJyUnJ+uZZ55RRkaGxo0bJ0maOnWq9u/fr+eff16SNGDAAP2///f/tHDhQmeY06RJk3TNNdcoLi7Or/YDABDKbMt6Cl4AgCPPuJTn5zCn0uw/ZMgQHTlyRDNnzlRmZqbatGmjNWvWqGnTppKkzMxMr+f0jRw5UidPntSCBQt07733qlatWrr++uv1xz/+0a+2AwAQ6mzLepcp57FfJ06cUExMjJo89oiqRESU56mBkmNEJCoxz5kzypj6oI4fP16i+2ZKIv9v8x0bb5Y7KsyvY2WfOquF3VYGtH0ILvk/T4e+aKromtw9hcqpf/w1Fd0EoFi55qzWewKbpbZmPT28AABHICeyAAAAlY9tWU/BCwBwGFNFHuNfj5zxc38AAFB2bMv64GkpAAAAAAA+oIcXAODIk0t58nMiCz/3BwAAZce2rKfgBQA4PMb/+3I8TPoGAEClZVvWM6QZAAAAABCS6OEFADg8AZjIwt/9AQBA2bEt6yl4AQAOj1zy+Hlfjr/7AwCAsmNb1gdPaQ4AAAAAgA/o4QUAOPKMS3l+TmTh7/4AAKDs2Jb1FLwAAIdt9/UAAGAb27I+eFoKAAAAAIAPKq6H1/x3ASqj4BmlARuV4c+nRy7/n83HLxD+a3CrDqrmCqvoZgBFeufA9opuAlCsEyc9uqxl2RzbtqxnSDMAwGECMHOjCaIQBADANrZlPUOaAQAAAAAhiR5eAIDDYwIwzCmIZm4EAMA2tmU9BS8AwGHbzI0AANjGtqwPnpYCAAAAAOADengBAA7bhjkBAGAb27KeghcA4PAEYObGYHpUAQAAtrEt6xnSDAAAAAAISfTwAgActg1zAgDANrZlPQUvAMBhWwgCAGAb27KeIc0AAAAAgJBEDy8AwGHbVV8AAGxjW9bTwwsAAAAACEn08AIAHLZd9QUAwDa2ZT0FLwDAYeT/s/VMYJoCAADKgG1Zz5BmAAAAAEBIoocXAOCwbZgTAAC2sS3rKXgBAA7bQhAAANvYlvUMaQYAAAAAhCR6eAEADtuu+gIAYBvbsp6CFwDgsC0EAQCwjW1Zz5BmAAAAAEBIoocXAOAwxiXj51Vbf/cHAABlx7asp+AFADg8cvn9MHp/9wcAAGXHtqxnSDMAAAAAICTRwwsAcNg2kQUAALaxLespeAEADtvu6wEAwDa2ZT1DmgEAAAAAIYkeXgCAw7ZhTgAA2Ma2rKfgBQA4bBvmBACAbWzLeoY0AwAAAABCEj28AACHCcAwp2C66gsAgG1sy3oKXgCAw0gyxv9jAACAysm2rGdIMwAAAAAgJNHDCwBweOSSS37O3Ojn/gAAoOzYlvUUvAAAh20zNwIAYBvbsp4hzQAAAACAkEQPLwDA4TEuuSx6GD0AALaxLespeAEADmMCMHNjME3dCACAZWzLeoY0AwAAAABCEj28AACHbRNZAABgG9uynoIXAOCwLQQBALCNbVnPkGYAAAAAQEjyueDdsGGDBgwYoLi4OLlcLq1evboMmgUAqAge4wrIguBG1gNA6LIt630ueE+fPq327dtrwYIFZdEeAEAFyp+50d8FwY2sB4DQZVvW+3wPb2pqqlJTU8uiLQAAoBIg6wEAoaLMJ63Kzs5Wdna28/WJEyfK+pQAgFI6d9XW34ksAtQYBA2yHgCCh21ZX+aTVs2aNUsxMTHOEh8fX9anBACUUv7Mjf4usAtZDwDBw7asL/OCd+rUqTp+/Liz7Nu3r6xPCQAAyhFZDwCorMp8SLPb7Zbb7S7r0wAAAsD8d/H3GLALWQ8AwcO2rC/zghcAEDxsexg9AAC2sS3rfS54T506pa+//tr5eu/evdqxY4dq166tJk2aBLRxAACg/JH1AIBQ4XPBu23bNvXs2dP5evLkyZKkESNGaNmyZQFrGACgAtg2zglFIusBIIRZlvU+T1rVo0cPGWMKLQQgAISAQMzaWMphTmlpaUpISFBERISSkpK0cePGi26fnZ2tadOmqWnTpnK73WrRooWWLFlSqnPDG1kPACHMsqznHl4AQIVbsWKFJk2apLS0NHXt2lVPP/20UlNTtWvXrmKH0A4ePFgHDx7U4sWLdfnll+vQoUPKzc0t55YDAICSqKisp+AFADjOPYze/2P4at68eRozZozGjh0rSZo/f77eeecdLVy4ULNmzSq0/dtvv60PP/xQe/bsUe3atSVJzZo186fZAABYwbasL/Pn8AIAgkcgH0Z/4sQJryU7O7vIc+bk5Gj79u1KSUnxWp+SkqJNmzYVuc/rr7+uTp06afbs2WrUqJFatmyp++67Tz/99FNg3xAAAEKMbVlPDy8AoEzEx8d7fT19+nTNmDGj0HaHDx9WXl6eYmNjvdbHxsYqKyuryGPv2bNHH330kSIiIrRq1SodPnxY48eP19GjR7mPFwCAchIMWU/BCwAo4MdEFF7HkLRv3z5FR0c7q91u90V3c7m8z2uMKbQun8fjkcvl0gsvvKCYmBhJ54ZK3XrrrXrqqacUGRnpzysAACB0WZb1FLwAAEcg7+uJjo72CsHi1K1bV1WrVi10hffQoUOFrgTna9iwoRo1auQEoCQlJibKGKPvvvtOV1xxRelfAAAAIcy2rOceXgBAhQoPD1dSUpLWrl3rtX7t2rXq0qVLkft07dpVBw4c0KlTp5x1X375papUqaLGjRuXaXsBAIBvKjLrKXgBAAVMgBYfTZ48Wc8++6yWLFmi3bt365577lFGRobGjRsnSZo6daqGDx/ubD906FDVqVNHo0aN0q5du7RhwwZNmTJFo0ePZjgzAAAXY1nWM6QZAOA4f+ZFf47hqyFDhujIkSOaOXOmMjMz1aZNG61Zs0ZNmzaVJGVmZiojI8PZPioqSmvXrtWdd96pTp06qU6dOho8eLAeeeQRv9oOAECosy3rKXgBAJXC+PHjNX78+CL/b9myZYXWtW7dutDQKAAAUHlVRNZT8AIAvPk5kQUAAKjkLMp6Cl4AgKOihjkBAIDyYVvWM2kVAAAAACAk0cMLAChQypkXCx0DAABUTpZlPQUvAOA8rv8u/h4DAABUTnZlPUOaAQAAAAAhiR5eAEABy4Y5AQBgHcuynoIXAFDAshAEAMA6lmU9Q5oBAAAAACGJHl4AQAHjOrf4ewwAAFA5WZb1FLwAAIcx5xZ/jwEAACon27KeIc0AAAAAgJBEDy8AoIBlE1kAAGAdy7KeghcAUMCy+3oAALCOZVnPkGYAAAAAQEiihxcA4HCZc4u/xwAAAJWTbVlPwQsAKGDZfT0AAFjHsqxnSDMAAAAAICTRwwsAKGDZRBYAAFjHsqyn4AUAFLBsmBMAANaxLOsZ0gwAAAAACEn08AIAClh21RcAAOtYlvUUvACAApaFIAAA1rEs6xnSDAAAAAAISfTwAgAKWDZzIwAA1rEs6yl4AQAOlzm3+HsMAABQOdmW9QxpBgAAAACEJHp4AQAFLJvIAgAA61iW9fTwAgAAAABCEgUvAAAAACAkMaQZAOBwKQATWQSkJQAAoCzYlvUVVvB+cssSRdekgxmVU5+4DhXdBKBYueasMsrq4JY9qgBla9WXO8l6VFpkPSqzXHNW0p6yObhlWU8KAQAAAABCEkOaAQAFLJu5EQAA61iW9RS8AIACloUgAADWsSzrGdIMAAAAAAhJ9PACABwuE4CZG4Poqi8AALaxLespeAEABSwb5gQAgHUsy3qGNAMAAAAAQhI9vACAApZd9QUAwDqWZT0FLwDAYdt9PQAA2Ma2rGdIMwAAAAAgJNHDCwAoYFznFn+PAQAAKifLsp6CFwBQwLL7egAAsI5lWc+QZgAAAABASKKHFwDgsG0iCwAAbGNb1lPwAgAKWDbMCQAA61iW9QxpBgAAAACEJHp4AQAFAjDMKZiu+gIAYB3Lsp6CFwBQwLJhTgAAWMeyrGdIMwAAAAAgJNHDCwAoYNlVXwAArGNZ1lPwAgActj2qAAAA29iW9QxpBgAAAACEJApeAAAAAEBIYkgzAKCAZff1AABgHcuynh5eAAAAAEBIoocXAOCwbSILAABsY1vWU/ACALwFUYgBAIBSsCjrGdIMAAAAAAhJ9PACAApYNpEFAADWsSzrKXgBAA7b7usBAMA2tmU9Q5oBAAAAACGJHl4AQAHLhjkBAGAdy7KeghcA4LBtmBMAALaxLesZ0gwAAAAACEkUvACAAiZASymkpaUpISFBERERSkpK0saNG0u03z//+U9Vq1ZNHTp0KN2JAQCwiWVZT8ELAChQQSG4YsUKTZo0SdOmTVN6erq6deum1NRUZWRkXHS/48ePa/jw4erVq5fvJwUAwEaWZT0FLwCgws2bN09jxozR2LFjlZiYqPnz5ys+Pl4LFy686H633367hg4dquTk5HJqKQAAKI2KynoKXgCAI38iC38XSTpx4oTXkp2dXeQ5c3JytH37dqWkpHitT0lJ0aZNm4pt69KlS/Wf//xH06dPD9jrBwAg1NmW9RS8AIACARzmFB8fr5iYGGeZNWtWkac8fPiw8vLyFBsb67U+NjZWWVlZRe7z1Vdf6f7779cLL7ygatV44AAAACVmWdbzKQEAUCb27dun6Oho52u3233R7V0ul9fXxphC6yQpLy9PQ4cO1cMPP6yWLVsGprEAAMBnwZD1FLwAgAJ+zLzodQxJ0dHRXiFYnLp166pq1aqFrvAeOnSo0JVgSTp58qS2bdum9PR0TZw4UZLk8XhkjFG1atX07rvv6vrrr/fzRQAAEKIsy3oKXgCAoyIeRh8eHq6kpCStXbtWN910k7N+7dq1GjhwYKHto6OjtXPnTq91aWlp+uCDD/Tqq68qISGhVO0GAMAGtmU9BS8AoMJNnjxZw4YNU6dOnZScnKxnnnlGGRkZGjdunCRp6tSp2r9/v55//nlVqVJFbdq08dq/fv36ioiIKLQeAABUDhWV9T5NWjVr1ixdffXVqlmzpurXr69Bgwbpiy++8OmEAIBKrIKezTdkyBDNnz9fM2fOVIcOHbRhwwatWbNGTZs2lSRlZmZe8jl9CAyyHgBCnGVZ7zLGlLi5N9xwg2677TZdffXVys3N1bRp07Rz507t2rVLNWrUKNExTpw4oZiYGP3wZXNF12SSaFROfeI6VHQTgGLlmrNar7/r+PHjJbpvpiTy/zYnTnxUVd0Rfh0rL/uMdi94IKDtQ/kh62ELsh6VGVkfOD4NaX777be9vl66dKnq16+v7du36+c//3lAGwYAAMofWQ8ACCV+3cN7/PhxSVLt2rWL3SY7O9vrAcQnTpzw55QAgLIUwJkbERrIegAIMZZlfanHGRljNHnyZF133XUXvXF41qxZXg8jjo+PL+0pAQBlrYLu60HlRNYDQAiyLOtLXfBOnDhRn376qZYvX37R7aZOnarjx487y759+0p7SgAAUI7IegBAsCvVkOY777xTr7/+ujZs2KDGjRtfdFu32y23212qxgEAypfrv4u/x0DwI+sBIDTZlvU+FbzGGN15551atWqV1q9f79MDfwEAQcCy+3pQGFkPACHOsqz3qeCdMGGCXnzxRf39739XzZo1lZWVJUmKiYlRZGRkmTQQAACUH7IeABBKfLqHd+HChTp+/Lh69Oihhg0bOsuKFSvKqn0AgHLkMoFZELzIegAIbbZlvc9DmgEAIcyyYU4ojKwHgBBnWdaXepZmAAAAAAAqs1LN0gwACGFBdNUWAACUgkVZT8ELAHAE4r6cYLqvBwAA29iW9QxpBgAAAACEJHp4AQAFLJvIAgAA61iW9RS8AACHbcOcAACwjW1Zz5BmAAAAAEBIoocXAFDAsmFOAABYx7Ksp+AFADhsG+YEAIBtbMt6hjQDAAAAAEISPbwAgAKWDXMCAMA6lmU9BS8AoIBlIQgAgHUsy3qGNAMAAAAAQhI9vAAAh20TWQAAYBvbsp6CFwBQwLJhTgAAWMeyrGdIMwAAAAAgJNHDCwBwuIyRy/h32dbf/QEAQNmxLespeAEABSwb5gQAgHUsy3qGNAMAAAAAQhI9vAAAh20zNwIAYBvbsp6CFwBQwLJhTgAAWMeyrGdIMwAAAAAgJNHDCwBw2DbMCQAA29iW9RS8AIAClg1zAgDAOpZlPUOaAQAAAAAhiR5eAIDDtmFOAADYxrasp+AFABSwbJgTAADWsSzrGdIMAAAAAAhJ9PACALwE0zAlAADgO5uynoIXAFDAmHOLv8cAAACVk2VZz5BmAAAAAEBIoocXAOCwbeZGAABsY1vWU/ACAApYNnMjAADWsSzrGdIMAAAAAAhJ9PACABwuz7nF32MAAIDKybasp+AFABSwbJgTAADWsSzrGdIMAAAAAAhJ9PACABy2zdwIAIBtbMt6Cl4AQAHLHkYPAIB1LMt6hjQDAAAAAEISPbwAAIdtw5wAALCNbVlPwQsAKGDZzI0AAFjHsqyvsIL3ppZtVc0VVlGnBy7qnQM7KroJQLFOnPTospYV3Qrg0sh6VGZkPSozsj5w6OEFADhsG+YEAIBtbMt6Cl4AQAHLZm4EAMA6lmU9szQDAAAAAEISPbwAAIdtw5wAALCNbVlPwQsAKGDZzI0AAFjHsqxnSDMAAAAAICTRwwsAcNg2zAkAANvYlvUUvACAAh5zbvH3GAAAoHKyLOsZ0gwAAAAACEn08AIAClg2kQUAANaxLOvp4QUAAAAAhCR6eAEADpcCMJFFQFoCAADKgm1ZT8ELAChgzLnF32MAAIDKybKsZ0gzAAAAACAkUfACABz5z+bzdymNtLQ0JSQkKCIiQklJSdq4cWOx265cuVK9e/dWvXr1FB0dreTkZL3zzjulfNUAANjDtqyn4AUAFDABWny0YsUKTZo0SdOmTVN6erq6deum1NRUZWRkFLn9hg0b1Lt3b61Zs0bbt29Xz549NWDAAKWnp/t+cgAAbGJZ1ruMKd8B2CdOnFBMTIx6aKCqucLK89RAib1zYEdFNwEo1omTHl3Wco+OHz+u6OjowBzzv3+br+s5Q9WqRfh1rNzcM/po3Qyf2te5c2d17NhRCxcudNYlJiZq0KBBmjVrVomOcdVVV2nIkCF66KGHStVuBA5Zj2BA1qMyI+uLVpqsp4cXAOBwGROQRToXrOcv2dnZRZ4zJydH27dvV0pKitf6lJQUbdq0qUTt9ng8OnnypGrXru3fGwAAQIizLespeAEABTwBWiTFx8crJibGWYq7env48GHl5eUpNjbWa31sbKyysrJK1Ow//elPOn36tAYPHuzLqwUAwD6WZT2PJQIAlIl9+/Z5DXNyu90X3d7l8n6qnzGm0LqiLF++XDNmzNDf//531a9fv3SNBQAAPguGrKfgBQA4zh+m5M8xJCk6OrpE9/XUrVtXVatWLXSF99ChQ4WuBF9oxYoVGjNmjF555RX94he/KH2jAQCwhG1Zz5BmAECBCpi5MTw8XElJSVq7dq3X+rVr16pLly7F7rd8+XKNHDlSL774ovr16+fbSQEAsJVlWU8PLwCgwk2ePFnDhg1Tp06dlJycrGeeeUYZGRkaN26cJGnq1Knav3+/nn/+eUnnAnD48OF6/PHHde211zpXjCMjIxUTE1NhrwMAABStorKeghcAUMCYc4u/x/DRkCFDdOTIEc2cOVOZmZlq06aN1qxZo6ZNm0qSMjMzvZ7T9/TTTys3N1cTJkzQhAkTnPUjRozQsmXL/Gs/AAChzLKsp+AFADhc5tzi7zFKY/z48Ro/fnyR/3dhsK1fv750JwEAwHK2ZT338AIAAAAAQhI9vACAAhU0zAkAAJQTy7KeghcA4HB5zi3+HgMAAFROtmU9Q5oBAAAAACGJHl4AQAHLhjkBAGAdy7KeghcAUKAUD5Mv8hgAAKBysizrGdIMAAAAAAhJ9PACABwuY+Tyc5iSv/sDAICyY1vWU/ACAApYdl8PAADWsSzrGdIMAAAAAAhJ9PACAAoYSf4+Wy94LvoCAGAfy7KeghcA4LDtvh4AAGxjW9YzpBkAAAAAEJLo4QUAFDAKwEQWAWkJAAAoC5ZlPQUvAKCAZTM3AgBgHcuyniHNAAAAAICQRA8vAKCAR5IrAMcAAACVk2VZT8ELAHDYNnMjAAC2sS3rfRrSvHDhQrVr107R0dGKjo5WcnKy/vGPf5RV2wAAQDkj6wEAocSngrdx48Z67LHHtG3bNm3btk3XX3+9Bg4cqM8++6ys2gcAKE/5E1n4uyBokfUAEOIsy3qfhjQPGDDA6+s//OEPWrhwobZs2aKrrroqoA0DAFQAy2ZuRGFkPQCEOMuyvtT38Obl5emVV17R6dOnlZycXOx22dnZys7Odr4+ceJEaU8JAADKEVkPAAh2Phe8O3fuVHJyss6cOaOoqCitWrVKV155ZbHbz5o1Sw8//LBfjQQAlBPLrvqiaGQ9AIQwy7Le5+fwtmrVSjt27NCWLVt0xx13aMSIEdq1a1ex20+dOlXHjx93ln379vnVYABAGfIEaEFQI+sBIIRZlvU+9/CGh4fr8ssvlyR16tRJW7du1eOPP66nn366yO3dbrfcbrd/rQQAAOWGrAcAhAq/n8NrjPG6bwcAELxsezYfSoasB4DQYVvW+1TwPvDAA0pNTVV8fLxOnjypl156SevXr9fbb79dVu0DAJQny+7rQWFkPQCEOMuy3qeC9+DBgxo2bJgyMzMVExOjdu3a6e2331bv3r3Lqn0AAKAckfUAgFDiU8G7ePHismoHAKAy8BjJ5edVW0/wXPVFYWQ9AIQ4y7Le73t4AQAhxLJhTgAAWMeyrPf5sUQAAAAAAAQDengBAOcJwFVfBc9VXwAA7GNX1lPwAgAKWDbMCQAA61iW9QxpBgAAAACEJHp4AQAFPEZ+D1MKopkbAQCwjmVZT8ELAChgPOcWf48BAAAqJ8uyniHNAAAAAICQRA8vAKCAZRNZAABgHcuynoIXAFDAsvt6AACwjmVZz5BmAAAAAEBIoocXAFDAsmFOAABYx7Ksp+AFABQwCkAIBqQlAACgLFiW9QxpBgAAAACEJHp4AQAFLBvmBACAdSzLegpeAEABj0eSnw+T9wTPw+gBALCOZVnPkGYAAAAAQEiihxcAUMCyYU4AAFjHsqyn4AUAFLAsBAEAsI5lWc+QZgAAAABASKKHFwBQwGPk98P1PMFz1RcAAOtYlvUUvAAAhzEeGePfzIv+7g8AAMqObVnPkGYAAAAAQEiihxcAUMAY/4cpBdFEFgAAWMeyrKfgBQAUMAG4ryeIQhAAAOtYlvUMaQYAAAAAhCR6eAEABTweyeXnRBRBNJEFAADWsSzrKXgBAAUsG+YEAIB1LMt6hjQDAAAAAEISPbwAAIfxeGT8HOYUTM/mAwDANrZlPQUvAKCAZcOcAACwjmVZz5BmAAAAAEBIoocXAFDAYySXPVd9AQCwjmVZT8ELAChgjCR/H1UQPCEIAIB1LMt6hjQDAAAAAEISPbwAAIfxGBk/hzmZILrqCwCAbWzLegpeAEAB45H/w5yC51EFAABYx7KsZ0gzAKBSSEtLU0JCgiIiIpSUlKSNGzdedPsPP/xQSUlJioiIUPPmzbVo0aJyaikAACiNish6Cl4AgMN4TEAWX61YsUKTJk3StGnTlJ6erm7duik1NVUZGRlFbr9371717dtX3bp1U3p6uh544AHdddddeu211/x9CwAACGm2ZT0FLwCggPEEZvHRvHnzNGbMGI0dO1aJiYmaP3++4uPjtXDhwiK3X7RokZo0aaL58+crMTFRY8eO1ejRozV37lx/3wEAAEKbZVlf7vfw5t/gnKuzUvDc6wzLnDgZPPclwD4nTp37+SyLCSMC8bc5V2clSSdOnPBa73a75Xa7C22fk5Oj7du36/777/dan5KSok2bNhV5js2bNyslJcVrXZ8+fbR48WKdPXtWYWFh/rwE+ImsRzAg61GZkfWBy/pyL3hPnjwpSfpIa8r71ECJXdayolsAXNrJkycVExMTkGOFh4erQYMG+igrMH+bo6KiFB8f77Vu+vTpmjFjRqFtDx8+rLy8PMXGxnqtj42NVVZWVpHHz8rKKnL73NxcHT58WA0bNvTvBcAvZD2CAVmPYEDW+5/15V7wxsXFad++fapZs6ZcLld5nz7knDhxQvHx8dq3b5+io6MrujlAIfyMBp4xRidPnlRcXFzAjhkREaG9e/cqJycnIMczxhT6G1/UFd/zXbh9Uce41PZFrUf5I+sDi7+jCAb8nAYWWV/89kWtv5hyL3irVKmixo0bl/dpQ150dDR/XFCp8TMaWIG62nu+iIgIRUREBPy4l1K3bl1VrVq10BXeQ4cOFbqym69BgwZFbl+tWjXVqVOnzNqKkiHrywZ/RxEM+DkNHLI+MFnPpFUAgAoVHh6upKQkrV271mv92rVr1aVLlyL3SU5OLrT9u+++q06dOnH/LgAAlUxFZj0FLwCgwk2ePFnPPvuslixZot27d+uee+5RRkaGxo0bJ0maOnWqhg8f7mw/btw4ffvtt5o8ebJ2796tJUuWaPHixbrvvvsq6iUAAICLqKisL/chzQgst9ut6dOnX3K8PFBR+BlFSQwZMkRHjhzRzJkzlZmZqTZt2mjNmjVq2rSpJCkzM9PrOX0JCQlas2aN7rnnHj311FOKi4vTE088oVtuuaWiXgJQZvg7imDAzykupaKy3mXKYq5rAAAAAAAqGEOaAQAAAAAhiYIXAAAAABCSKHgBAAAAACGJghcAAAAAEJIoeINcWlqaEhISFBERoaSkJG3cuLGimwRIkjZs2KABAwYoLi5OLpdLq1evrugmAUBQIutRmZH3qOwoeIPYihUrNGnSJE2bNk3p6enq1q2bUlNTvabzBirK6dOn1b59ey1YsKCimwIAQYusR2VH3qOy47FEQaxz587q2LGjFi5c6KxLTEzUoEGDNGvWrApsGeDN5XJp1apVGjRoUEU3BQCCClmPYELeozKihzdI5eTkaPv27UpJSfFan5KSok2bNlVQqwAAQKCQ9QDgPwreIHX48GHl5eUpNjbWa31sbKyysrIqqFUAACBQyHoA8B8Fb5BzuVxeXxtjCq0DAADBi6wHgNKj4A1SdevWVdWqVQtd4T106FChK8EAACD4kPUA4D8K3iAVHh6upKQkrV271mv92rVr1aVLlwpqFQAACBSyHgD8V62iG4DSmzx5soYNG6ZOnTopOTlZzzzzjDIyMjRu3LiKbhqgU6dO6euvv3a+3rt3r3bs2KHatWurSZMmFdgyAAgeZD0qO/IelR2PJQpyaWlpmj17tjIzM9WmTRv9+c9/1s9//vOKbhag9evXq2fPnoXWjxgxQsuWLSv/BgFAkCLrUZmR96jsKHgBAAAAACGJe3gBAAAAACGJghcAAAAAEJIoeAEAAAAAIYmCFwAAAAAQkih4AQAAAAAhiYIXAAAAABCSKHgBAAAAACGJghcAAAAAEJIoeAEAAAAAIYmCFyEjKytLd999ty6//HJFREQoNjZW1113nRYtWqQff/yxopsHAAACgLwH4ItqFd0AIBD27Nmjrl27qlatWnr00UfVtm1b5ebm6ssvv9SSJUsUFxenG2+8sdB+Z8+eVVhYWAW0GAAA+Iq8B+ArengREsaPH69q1app27ZtGjx4sBITE9W2bVvdcssteuuttzRgwABJksvl0qJFizRw4EDVqFFDjzzyiCRp4cKFatGihcLDw9WqVSv99a9/dY79zTffyOVyaceOHc66Y8eOyeVyaf369ZKk9evXy+Vy6a233lL79u0VERGhzp07a+fOneX2HgAAEOrIewC+ouBF0Dty5IjeffddTZgwQTVq1ChyG5fL5fx7+vTpGjhwoHbu3KnRo0dr1apVuvvuu3Xvvffq3//+t26//XaNGjVK69at87ktU6ZM0dy5c7V161bVr19fN954o86ePVvq1wYAAM4h7wGUBgUvgt7XX38tY4xatWrltb5u3bqKiopSVFSUfvvb3zrrhw4dqtGjR6t58+Zq2rSp5s6dq5EjR2r8+PFq2bKlJk+erJtvvllz5871uS3Tp09X79691bZtWz333HM6ePCgVq1a5fdrBADAduQ9gNKg4EXIOP+qriT961//0o4dO3TVVVcpOzvbWd+pUyev7Xbv3q2uXbt6revatat2797tcxuSk5Odf9euXVutWrUq1XEAAEDRyHsAvmDSKgS9yy+/XC6XS59//rnX+ubNm0uSIiMjvdYXNQzqwvA0xjjrqlSp4qzL58uwpQuPDQAAfEfeAygNengR9OrUqaPevXtrwYIFOn36tM/7JyYm6qOPPvJat2nTJiUmJkqS6tWrJ0nKzMx0/v/8CS3Ot2XLFuffP/zwg7788ku1bt3a5zYBAABv5D2A0qCHFyEhLS1NXbt2VadOnTRjxgy1a9dOVapU0datW/X5558rKSmp2H2nTJmiwYMHq2PHjurVq5feeOMNrVy5Uu+9956kc1eMr732Wj322GNq1qyZDh8+rAcffLDIY82cOVN16tRRbGyspk2bprp162rQoEFl8ZIBALAOeQ/AZwYIEQcOHDATJ040CQkJJiwszERFRZlrrrnGzJkzx5w+fdoYY4wks2rVqkL7pqWlmebNm5uwsDDTsmVL8/zzz3v9/65du8y1115rIiMjTYcOHcy7775rJJl169YZY4xZt26dkWTeeOMNc9VVV5nw8HBz9dVXmx07dpT1ywYAwCrkPQBfuIw570YFAKWyfv169ezZUz/88INq1apV0c0BAABlgLwHgg/38AIAAAAAQhIFLwAAAAAgJDGkGQAAAAAQkujhBQAAAACEJApeAAAAAEBIouAFAAAAAIQkCl4AAAAAQEii4AUAAAAAhCQKXgAAAABASKLgBQAAAACEJApeAAAAAEBI+v9IhgoZfI0l/gAAAABJRU5ErkJggg==",
      "text/plain": [
       "<Figure size 1200x500 with 4 Axes>"
      ]
     },
     "metadata": {},
     "output_type": "display_data"
    }
   ],
   "source": [
    "# Plotting the membership matrices of the politician and the votes\n",
    "import matplotlib.pyplot as plt\n",
    "\n",
    "fig, (ax1, ax2) = plt.subplots(1, 2, figsize=(12, 5))\n",
    "# Plot theta parameters for both nodes as heatmaps\n",
    "im1 = ax1.imshow(loaded_votes.nodes_a.theta, cmap='viridis', aspect='auto')\n",
    "im2 = ax2.imshow(loaded_votes.nodes_b.theta, cmap='viridis', aspect='auto')\n",
    "\n",
    "# Add colorbars\n",
    "plt.colorbar(im1, ax=ax1)\n",
    "plt.colorbar(im2, ax=ax2)\n",
    "\n",
    "# Set titles\n",
    "ax1.set_title('Legislators Theta Parameters')\n",
    "ax2.set_title('Bills Theta Parameters')\n",
    "\n",
    "# Label axes\n",
    "ax1.set_xlabel('Group')\n",
    "ax2.set_xlabel('Group')\n",
    "\n",
    "# Set y-tick labels to node IDs\n",
    "ax1.set_yticks(range(len(politicians.df[\"legislator_id\"])))\n",
    "ax1.set_yticklabels(range(len(politicians.df[\"legislator_id\"])))\n",
    "ax2.set_yticks(range(len(bills.df[\"bill_id\"])))\n",
    "ax2.set_yticklabels(range(len(bills.df[\"bill_id\"])))\n",
    "\n",
    "\n",
    "\n",
    "ax1.set_xticks(range(politicians.K))\n",
    "ax2.set_xticks(range(bills.K))\n",
    "\n"
   ]
  }
 ],
 "metadata": {
  "kernelspec": {
   "display_name": "base",
   "language": "python",
   "name": "python3"
  },
  "language_info": {
   "codemirror_mode": {
    "name": "ipython",
    "version": 3
   },
   "file_extension": ".py",
   "mimetype": "text/x-python",
   "name": "python",
   "nbconvert_exporter": "python",
   "pygments_lexer": "ipython3",
   "version": "3.9.13"
  },
  "toc-autonumbering": true,
  "toc-showcode": true,
  "toc-showmarkdowntxt": true
 },
 "nbformat": 4,
 "nbformat_minor": 5
}

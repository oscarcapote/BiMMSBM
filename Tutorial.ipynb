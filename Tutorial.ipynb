{
 "cells": [
  {
   "cell_type": "markdown",
   "id": "f8602eab-6f2c-4ab7-b431-51461a603513",
   "metadata": {
    "tags": []
   },
   "source": [
    "# MMSBM library"
   ]
  },
  {
   "cell_type": "markdown",
   "id": "58be8a29-2af4-4f51-9b59-8292e1ff0eb9",
   "metadata": {},
   "source": [
    "## Introduction"
   ]
  },
  {
   "cell_type": "markdown",
   "id": "b1fdd729-498f-436f-944c-705071474bcd",
   "metadata": {},
   "source": [
    "## ``nodes_layer`` class"
   ]
  },
  {
   "cell_type": "markdown",
   "id": "0fbeaa28-1408-4fb3-80bc-8b18583c4c6c",
   "metadata": {},
   "source": [
    "The `nodes_layer` class represents one type of nodes that forms the bipartite network. It can represent people, researchers, papers, metabolites, movies... That depends on your dataset.\n",
    "\n",
    "The best way to initialize a nodes_layer is from a pandas DataFrame."
   ]
  },
  {
   "cell_type": "code",
   "execution_count": 1,
   "id": "2aa026b5-a293-4dde-bffd-e5cdc9453ab1",
   "metadata": {
    "ExecuteTime": {
     "end_time": "2024-02-22T13:52:49.987838500Z",
     "start_time": "2024-02-22T13:52:43.678555500Z"
    }
   },
   "outputs": [],
   "source": [
    "import pandas as pd\n",
    "import numpy as np\n",
    "from numba import jit\n",
    "import sys, os\n",
    "\n",
    "\n",
    "sys.path.append(r'C:\\Users\\oscar\\OneDrive\\Documentos')\n",
    "import MMSBM_library as sbm\n",
    "\n",
    "\n",
    "#Dataframe to use\n",
    "df_politicians =pd.DataFrame( {\"legislator\":[\"Pedro\", \"Santiago\", \"Alberto\", \"Yolanda\"],\n",
    "                               \"Party\":[\"PSOE\", \"VOX\", \"PP\", \"Sumar\"],\n",
    "                               \"Movies_preferences\":[\"Action|Drama\",\"Belic\",\"Belic|Comedy\",\"Comedy|Drama\"]})\n",
    "#Number of groups\n",
    "K = 9\n",
    "#You have to tell in which the name of the nodes will be as the second parameter \n",
    "politicians = sbm.nodes_layer(K,\"legislator\",df_politicians)"
   ]
  },
  {
   "cell_type": "markdown",
   "id": "3af6880b-9949-4190-887f-bd1a253c06fe",
   "metadata": {},
   "source": [
    "Once the object is initialized, you can acces to the dataframe from the `df` attribute,but now it will notain a new column with an integer id thet the library will use in the future. The name of the column is the same as the column of the names, but finished in `_id`."
   ]
  },
  {
   "cell_type": "code",
   "execution_count": 2,
   "id": "2f247f51-8100-4c29-8954-1890aa61dbff",
   "metadata": {
    "ExecuteTime": {
     "end_time": "2024-02-22T13:52:50.223218Z",
     "start_time": "2024-02-22T13:52:49.479487400Z"
    }
   },
   "outputs": [
    {
     "data": {
      "text/plain": "  legislator  Party Movies_preferences  legislator_id\n0      Pedro   PSOE       Action|Drama              1\n1   Santiago    VOX              Belic              2\n2    Alberto     PP       Belic|Comedy              0\n3    Yolanda  Sumar       Comedy|Drama              3",
      "text/html": "<div>\n<style scoped>\n    .dataframe tbody tr th:only-of-type {\n        vertical-align: middle;\n    }\n\n    .dataframe tbody tr th {\n        vertical-align: top;\n    }\n\n    .dataframe thead th {\n        text-align: right;\n    }\n</style>\n<table border=\"1\" class=\"dataframe\">\n  <thead>\n    <tr style=\"text-align: right;\">\n      <th></th>\n      <th>legislator</th>\n      <th>Party</th>\n      <th>Movies_preferences</th>\n      <th>legislator_id</th>\n    </tr>\n  </thead>\n  <tbody>\n    <tr>\n      <th>0</th>\n      <td>Pedro</td>\n      <td>PSOE</td>\n      <td>Action|Drama</td>\n      <td>1</td>\n    </tr>\n    <tr>\n      <th>1</th>\n      <td>Santiago</td>\n      <td>VOX</td>\n      <td>Belic</td>\n      <td>2</td>\n    </tr>\n    <tr>\n      <th>2</th>\n      <td>Alberto</td>\n      <td>PP</td>\n      <td>Belic|Comedy</td>\n      <td>0</td>\n    </tr>\n    <tr>\n      <th>3</th>\n      <td>Yolanda</td>\n      <td>Sumar</td>\n      <td>Comedy|Drama</td>\n      <td>3</td>\n    </tr>\n  </tbody>\n</table>\n</div>"
     },
     "execution_count": 2,
     "metadata": {},
     "output_type": "execute_result"
    }
   ],
   "source": [
    "politicians.df"
   ]
  },
  {
   "cell_type": "markdown",
   "id": "62389ee2-481d-468b-8a90-b732d1406506",
   "metadata": {},
   "source": [
    "The asignment of the ids with the names of the nodes is in the `dict_codes` attribute."
   ]
  },
  {
   "cell_type": "code",
   "execution_count": 3,
   "id": "28c102da-367b-448a-9891-2551f5b110ef",
   "metadata": {
    "ExecuteTime": {
     "end_time": "2024-02-22T13:52:50.525745800Z",
     "start_time": "2024-02-22T13:52:49.618064800Z"
    }
   },
   "outputs": [
    {
     "data": {
      "text/plain": "{'Pedro': 1, 'Santiago': 2, 'Alberto': 0, 'Yolanda': 3}"
     },
     "execution_count": 3,
     "metadata": {},
     "output_type": "execute_result"
    }
   ],
   "source": [
    "politicians.dict_codes"
   ]
  },
  {
   "cell_type": "markdown",
   "id": "e7890dd8-5264-4874-89b1-8226b892d6af",
   "metadata": {},
   "source": [
    "This id represents the array position that corresponds to each node for the `theta` and `omega` matricies"
   ]
  },
  {
   "cell_type": "markdown",
   "id": "a453bdf1-dccc-44c8-a23c-bf3316a95bbf",
   "metadata": {},
   "source": [
    "You can modify whenever you want the number of groups from the ``K`` attribute."
   ]
  },
  {
   "cell_type": "code",
   "execution_count": 4,
   "id": "b4cdbaa1-8ef2-4a2b-a5b9-f4abb88865fd",
   "metadata": {
    "ExecuteTime": {
     "end_time": "2024-02-22T13:52:50.617592600Z",
     "start_time": "2024-02-22T13:52:50.306979800Z"
    }
   },
   "outputs": [
    {
     "name": "stdout",
     "output_type": "stream",
     "text": [
      "Number of groups of politicians: 9\n",
      "Number of groups of politicians: 2\n"
     ]
    }
   ],
   "source": [
    "print(f\"Number of groups of politicians: {politicians.K}\")\n",
    "politicians.K = 2\n",
    "print(f\"Number of groups of politicians: {politicians.K}\")"
   ]
  },
  {
   "cell_type": "markdown",
   "id": "a154c571-e93a-487f-96ff-c57744c4a50e",
   "metadata": {},
   "source": [
    "*WARNING!!!* If yoy change the value of `K` you have to initialize again all the matrices!!"
   ]
  },
  {
   "cell_type": "markdown",
   "id": "e70132b1-4a91-4d37-a238-7956b8940a07",
   "metadata": {},
   "source": [
    "### Adding metadata"
   ]
  },
  {
   "cell_type": "markdown",
   "id": "0d5d9c6c-44bd-498f-86f8-a9d7077e3726",
   "metadata": {},
   "source": [
    "When in your dataframe you have extra information about the nodes, you have to tell which columns are metadata and which type of metadata. There are two types of metadata:\n",
    " * Exclusive metadata: These are metadata where each node can only have assigned one attribute. For exameple the age of a person. A person only have one age, not more of one.\n",
    " * Inclusive metadata: These are metadata where each node can have assigned more of one attributes. For example the genre of a movie, one movie can belong to different genre at the same time.\n",
    " "
   ]
  },
  {
   "cell_type": "markdown",
   "id": "c20efe1f-8a1c-45cc-88c4-7adf55d35800",
   "metadata": {},
   "source": [
    "### Exclusive metadata"
   ]
  },
  {
   "cell_type": "markdown",
   "id": "63897cb8-616e-44a6-91bf-980d1c3f614a",
   "metadata": {},
   "source": [
    "Once the `nodes_layer` is initialized, you can add the metadata using the `add_exclusive_metadata` method that will return a `exclusive_metadata` class. "
   ]
  },
  {
   "cell_type": "code",
   "execution_count": 5,
   "id": "e84c5fb2-4acc-4940-bfb6-e6c10549597a",
   "metadata": {
    "ExecuteTime": {
     "end_time": "2024-02-22T13:52:50.925291900Z",
     "start_time": "2024-02-22T13:52:50.421134900Z"
    }
   },
   "outputs": [],
   "source": [
    "# Importance of the metadata\n",
    "lambda_party = 100\n",
    "parties = politicians.add_exclusive_metadata(lambda_party,\"Party\")"
   ]
  },
  {
   "cell_type": "markdown",
   "id": "5fec0252-4a65-4c22-8f3a-fce5d29b6ef7",
   "metadata": {},
   "source": [
    "Also, this object will be stored inside the `nodes_layer` object in the `meta_exclusives` attribute that is a dictionary whose keys are the column names of the metadaa and the value the object."
   ]
  },
  {
   "cell_type": "code",
   "execution_count": 6,
   "id": "09773552-59af-4f3c-92f7-3faf91ecde72",
   "metadata": {
    "ExecuteTime": {
     "end_time": "2024-02-22T13:52:50.966552900Z",
     "start_time": "2024-02-22T13:52:50.463874500Z"
    }
   },
   "outputs": [
    {
     "data": {
      "text/plain": "True"
     },
     "execution_count": 6,
     "metadata": {},
     "output_type": "execute_result"
    }
   ],
   "source": [
    "parties == politicians.meta_exclusives[\"Party\"]"
   ]
  },
  {
   "cell_type": "markdown",
   "id": "35b141c5-2b22-4ea5-86dc-61b88125df8f",
   "metadata": {},
   "source": [
    "The value of `lambda_party` is how important will be the metadata while the inference procedure is running and it can be accesed from the `lambda_val` attribute."
   ]
  },
  {
   "cell_type": "code",
   "execution_count": 7,
   "id": "b7036b04-dd9c-4955-84ed-ff8a90c1c767",
   "metadata": {
    "ExecuteTime": {
     "end_time": "2024-02-22T13:52:51.021826600Z",
     "start_time": "2024-02-22T13:52:50.496452300Z"
    }
   },
   "outputs": [
    {
     "name": "stdout",
     "output_type": "stream",
     "text": [
      "Importance of political parties: 100\n",
      "Importance of political parties: 2.3\n"
     ]
    }
   ],
   "source": [
    "print(f\"Importance of political parties: {parties.lambda_val}\")\n",
    "parties.lambda_val = 2.3\n",
    "print(f\"Importance of political parties: {parties.lambda_val}\")"
   ]
  },
  {
   "cell_type": "markdown",
   "id": "e59c358a-caf9-4424-864e-64c00eaee838",
   "metadata": {},
   "source": [
    "When the metadata has been added to the `nodes_layer` object, its dataframe will add a new column with the ids of the metadata with the same column name but finished in `_id`."
   ]
  },
  {
   "cell_type": "code",
   "execution_count": 8,
   "id": "5c734535-ccb6-42cb-83ff-304daa1bac50",
   "metadata": {
    "ExecuteTime": {
     "end_time": "2024-02-22T13:52:51.040608500Z",
     "start_time": "2024-02-22T13:52:50.548599700Z"
    }
   },
   "outputs": [
    {
     "data": {
      "text/plain": "  legislator  Party Movies_preferences  legislator_id  Party_id\n0      Pedro   PSOE       Action|Drama              1         1\n1   Santiago    VOX              Belic              2         3\n2    Alberto     PP       Belic|Comedy              0         0\n3    Yolanda  Sumar       Comedy|Drama              3         2",
      "text/html": "<div>\n<style scoped>\n    .dataframe tbody tr th:only-of-type {\n        vertical-align: middle;\n    }\n\n    .dataframe tbody tr th {\n        vertical-align: top;\n    }\n\n    .dataframe thead th {\n        text-align: right;\n    }\n</style>\n<table border=\"1\" class=\"dataframe\">\n  <thead>\n    <tr style=\"text-align: right;\">\n      <th></th>\n      <th>legislator</th>\n      <th>Party</th>\n      <th>Movies_preferences</th>\n      <th>legislator_id</th>\n      <th>Party_id</th>\n    </tr>\n  </thead>\n  <tbody>\n    <tr>\n      <th>0</th>\n      <td>Pedro</td>\n      <td>PSOE</td>\n      <td>Action|Drama</td>\n      <td>1</td>\n      <td>1</td>\n    </tr>\n    <tr>\n      <th>1</th>\n      <td>Santiago</td>\n      <td>VOX</td>\n      <td>Belic</td>\n      <td>2</td>\n      <td>3</td>\n    </tr>\n    <tr>\n      <th>2</th>\n      <td>Alberto</td>\n      <td>PP</td>\n      <td>Belic|Comedy</td>\n      <td>0</td>\n      <td>0</td>\n    </tr>\n    <tr>\n      <th>3</th>\n      <td>Yolanda</td>\n      <td>Sumar</td>\n      <td>Comedy|Drama</td>\n      <td>3</td>\n      <td>2</td>\n    </tr>\n  </tbody>\n</table>\n</div>"
     },
     "execution_count": 8,
     "metadata": {},
     "output_type": "execute_result"
    }
   ],
   "source": [
    "politicians.df"
   ]
  },
  {
   "cell_type": "markdown",
   "id": "73d20ae2-04db-4660-826d-d5b5aed45105",
   "metadata": {},
   "source": [
    "Similarly to the `nodes_layer`, you can acces to the metadata ids through the `dict_codes` attribute."
   ]
  },
  {
   "cell_type": "code",
   "execution_count": 9,
   "id": "2e511b25-9e2e-41d4-b601-96f7ce2e75ac",
   "metadata": {
    "tags": [],
    "ExecuteTime": {
     "end_time": "2024-02-22T13:52:51.123202500Z",
     "start_time": "2024-02-22T13:52:50.590500500Z"
    }
   },
   "outputs": [
    {
     "data": {
      "text/plain": "{'PSOE': 1, 'VOX': 3, 'PP': 0, 'Sumar': 2}"
     },
     "execution_count": 9,
     "metadata": {},
     "output_type": "execute_result"
    }
   ],
   "source": [
    "parties.dict_codes"
   ]
  },
  {
   "cell_type": "markdown",
   "id": "73e18955-fb33-49df-a1b5-d5518ae416ee",
   "metadata": {},
   "source": [
    "### Inclusive metadata"
   ]
  },
  {
   "cell_type": "markdown",
   "id": "b954a1ea-8661-486d-8f9a-4d24a33090e6",
   "metadata": {},
   "source": [
    "Once the `nodes_layer` is initialized, you can add the metadata using the `add_inclusive_metadata` method that will return a `inclusive_metadata` class. "
   ]
  },
  {
   "cell_type": "code",
   "execution_count": 10,
   "id": "5c5268d7-6a7c-451c-9f20-e8cc482e94a1",
   "metadata": {
    "ExecuteTime": {
     "end_time": "2024-02-22T13:52:51.172765900Z",
     "start_time": "2024-02-22T13:52:50.620077800Z"
    }
   },
   "outputs": [],
   "source": [
    "# Importance of the metadata\n",
    "lambda_movies = 0.3\n",
    "# Number of groups of genres\n",
    "Tau_movies = 6\n",
    "movies = politicians.add_inclusive_metadata(lambda_movies,\"Movies_preferences\",Tau_movies)"
   ]
  },
  {
   "cell_type": "markdown",
   "id": "1cf43c73-f413-402f-87d8-21017ae47439",
   "metadata": {},
   "source": [
    "Also, this object will be stored inside the `nodes_layer` object in the `meta_inclusives` attribute that is a dictionary whose keys are the column names of the metadaa and the value the object."
   ]
  },
  {
   "cell_type": "code",
   "execution_count": 11,
   "id": "0fdd0345-6184-4c15-8d29-1d6e00664f28",
   "metadata": {
    "ExecuteTime": {
     "end_time": "2024-02-22T13:52:51.214062500Z",
     "start_time": "2024-02-22T13:52:50.698558700Z"
    }
   },
   "outputs": [
    {
     "data": {
      "text/plain": "True"
     },
     "execution_count": 11,
     "metadata": {},
     "output_type": "execute_result"
    }
   ],
   "source": [
    "politicians.meta_inclusives[str(movies)] == movies"
   ]
  },
  {
   "cell_type": "markdown",
   "id": "d5420b1e-8225-4a93-abe3-8a54d1fa9107",
   "metadata": {},
   "source": [
    "The value of `lambda_movies` is how important will be the metadata while the inference procedure is running and it can be accesed from the `lambda_val` attribute."
   ]
  },
  {
   "cell_type": "code",
   "execution_count": 12,
   "id": "25a2eefe-37d3-4863-9cbf-9ceffbadc14f",
   "metadata": {
    "ExecuteTime": {
     "end_time": "2024-02-22T13:52:51.750085400Z",
     "start_time": "2024-02-22T13:52:50.714286300Z"
    }
   },
   "outputs": [
    {
     "name": "stdout",
     "output_type": "stream",
     "text": [
      "Importance of politicians movies preferences: 0.3\n",
      "Importance of politicians movies preferences: 20\n"
     ]
    }
   ],
   "source": [
    "print(f\"Importance of politicians movies preferences: {movies.lambda_val}\")\n",
    "movies.lambda_val = 20\n",
    "print(f\"Importance of politicians movies preferences: {movies.lambda_val}\")"
   ]
  },
  {
   "cell_type": "markdown",
   "id": "afe254ff-a0e1-49c1-8079-234acf3d74f4",
   "metadata": {},
   "source": [
    "The value of `Tau_movies` is the number of groups which the metadata will be grouped in the inference and it can be accesed from the `lambda_val` attribute."
   ]
  },
  {
   "cell_type": "code",
   "execution_count": 13,
   "id": "9d41d117-5415-4bcf-be7c-a2162be3ba2c",
   "metadata": {
    "ExecuteTime": {
     "end_time": "2024-02-22T13:52:51.803248200Z",
     "start_time": "2024-02-22T13:52:50.730609600Z"
    }
   },
   "outputs": [
    {
     "name": "stdout",
     "output_type": "stream",
     "text": [
      "Number of groups of politicians: 6\n",
      "Number of groups of politicians: 3\n"
     ]
    }
   ],
   "source": [
    "print(f\"Number of groups of politicians: {movies.Tau}\")\n",
    "movies.Tau = 3\n",
    "print(f\"Number of groups of politicians: {movies.Tau}\")"
   ]
  },
  {
   "cell_type": "markdown",
   "id": "b28c689e-b156-41ca-82a4-ff596d55bf8d",
   "metadata": {},
   "source": [
    "When the metadata has been added to the `nodes_layer` object, its dataframe will add a new column with the ids of the metadata with the same column name but finished in `_id`."
   ]
  },
  {
   "cell_type": "code",
   "execution_count": 14,
   "id": "138907c5-dfdc-483a-a3eb-4b7f83341a49",
   "metadata": {
    "ExecuteTime": {
     "end_time": "2024-02-22T13:52:51.825761900Z",
     "start_time": "2024-02-22T13:52:50.763454900Z"
    }
   },
   "outputs": [
    {
     "data": {
      "text/plain": "  legislator  Party Movies_preferences  legislator_id  Party_id\n0      Pedro   PSOE       Action|Drama              1         1\n1   Santiago    VOX              Belic              2         3\n2    Alberto     PP       Belic|Comedy              0         0\n3    Yolanda  Sumar       Comedy|Drama              3         2",
      "text/html": "<div>\n<style scoped>\n    .dataframe tbody tr th:only-of-type {\n        vertical-align: middle;\n    }\n\n    .dataframe tbody tr th {\n        vertical-align: top;\n    }\n\n    .dataframe thead th {\n        text-align: right;\n    }\n</style>\n<table border=\"1\" class=\"dataframe\">\n  <thead>\n    <tr style=\"text-align: right;\">\n      <th></th>\n      <th>legislator</th>\n      <th>Party</th>\n      <th>Movies_preferences</th>\n      <th>legislator_id</th>\n      <th>Party_id</th>\n    </tr>\n  </thead>\n  <tbody>\n    <tr>\n      <th>0</th>\n      <td>Pedro</td>\n      <td>PSOE</td>\n      <td>Action|Drama</td>\n      <td>1</td>\n      <td>1</td>\n    </tr>\n    <tr>\n      <th>1</th>\n      <td>Santiago</td>\n      <td>VOX</td>\n      <td>Belic</td>\n      <td>2</td>\n      <td>3</td>\n    </tr>\n    <tr>\n      <th>2</th>\n      <td>Alberto</td>\n      <td>PP</td>\n      <td>Belic|Comedy</td>\n      <td>0</td>\n      <td>0</td>\n    </tr>\n    <tr>\n      <th>3</th>\n      <td>Yolanda</td>\n      <td>Sumar</td>\n      <td>Comedy|Drama</td>\n      <td>3</td>\n      <td>2</td>\n    </tr>\n  </tbody>\n</table>\n</div>"
     },
     "execution_count": 14,
     "metadata": {},
     "output_type": "execute_result"
    }
   ],
   "source": [
    "politicians.df"
   ]
  },
  {
   "cell_type": "markdown",
   "id": "832956f3-3686-4dbb-b118-561f6ec709a7",
   "metadata": {},
   "source": [
    "Similarly to the `nodes_layer`, you can acces to the metadata ids through the `dict_codes` attribute."
   ]
  },
  {
   "cell_type": "code",
   "execution_count": 15,
   "id": "c3b78fca-f0e3-423d-b4c1-9a3202867cd6",
   "metadata": {
    "tags": [],
    "ExecuteTime": {
     "end_time": "2024-02-22T13:52:51.841564800Z",
     "start_time": "2024-02-22T13:52:50.807442400Z"
    }
   },
   "outputs": [
    {
     "data": {
      "text/plain": "{'Belic': 0, 'Comedy': 1, 'Action': 2, 'Drama': 3}"
     },
     "execution_count": 15,
     "metadata": {},
     "output_type": "execute_result"
    }
   ],
   "source": [
    "movies.dict_codes"
   ]
  },
  {
   "cell_type": "markdown",
   "id": "41523b53-fa49-43e4-90ed-162e1b40b33e",
   "metadata": {},
   "source": [
    "### Accesing to the metadata object from its name"
   ]
  },
  {
   "cell_type": "markdown",
   "id": "dd3f1de2-0703-4413-bf4e-d8d866862500",
   "metadata": {},
   "source": [
    "You can access to the metadata_layer objects without using the `meta_inclusive` and `meta_exclusives` dictionaries."
   ]
  },
  {
   "cell_type": "code",
   "execution_count": 16,
   "id": "d241d730-3723-455c-a14d-e2093080a54a",
   "metadata": {
    "ExecuteTime": {
     "end_time": "2024-02-22T13:52:51.857027Z",
     "start_time": "2024-02-22T13:52:50.838736700Z"
    }
   },
   "outputs": [
    {
     "data": {
      "text/plain": "True"
     },
     "execution_count": 16,
     "metadata": {},
     "output_type": "execute_result"
    }
   ],
   "source": [
    "politicians[str(movies)] == movies"
   ]
  },
  {
   "cell_type": "code",
   "execution_count": 17,
   "id": "7161c12b-5a7a-473f-b780-2668d70cf283",
   "metadata": {
    "ExecuteTime": {
     "end_time": "2024-02-22T13:52:51.949639400Z",
     "start_time": "2024-02-22T13:52:50.855068700Z"
    }
   },
   "outputs": [
    {
     "data": {
      "text/plain": "True"
     },
     "execution_count": 17,
     "metadata": {},
     "output_type": "execute_result"
    }
   ],
   "source": [
    "politicians[str(parties)] == parties"
   ]
  },
  {
   "cell_type": "markdown",
   "id": "644023b1-a301-42ea-96e3-a0d74fee043e",
   "metadata": {},
   "source": [
    "# `BiNet` class"
   ]
  },
  {
   "cell_type": "markdown",
   "id": "cc6661d0-b078-484f-8f97-9e6c248ce531",
   "metadata": {},
   "source": [
    "The BinNet class contains the information about a Bipartite network. It contains information about:\n",
    " - Each of the layers that forms the bipartite network\n",
    " - The observed links."
   ]
  },
  {
   "cell_type": "markdown",
   "id": "351a614d-5cac-48a9-baf4-88d9859692fc",
   "metadata": {},
   "source": [
    "## `BiNet` class without nodes metadata"
   ]
  },
  {
   "cell_type": "markdown",
   "id": "4fed6b51-e4fb-4d2e-a7cf-32e169ea8b93",
   "metadata": {},
   "source": [
    "To declare a `BiNet` object, you need always, at less, a dataframe with (minimum) three columns:\n",
    " - One with the source node\n",
    " - One with the target node\n",
    " - The label of the link"
   ]
  },
  {
   "cell_type": "code",
   "execution_count": 18,
   "id": "1d9b29a5-65fd-4352-8d25-6d8505d2f312",
   "metadata": {
    "ExecuteTime": {
     "end_time": "2024-02-22T13:52:51.974930900Z",
     "start_time": "2024-02-22T13:52:50.871233800Z"
    }
   },
   "outputs": [],
   "source": [
    "links_df = pd.DataFrame({\"source\":[0,0,0,1,1,1,2,2,2],\n",
    "             \"target\":[\"A\",\"B\",\"C\",\"A\",\"B\",\"C\",\"A\",\"B\",\"C\"],\n",
    "             \"labels\":[\"positive\",\"negative\",\"positive\",\"positive\",\"negative\",\"positive\",\"negative\",\"negative\",\"positive\"]})"
   ]
  },
  {
   "cell_type": "code",
   "execution_count": 19,
   "id": "136972a0-d335-46a3-8911-58fd7bf3f1bb",
   "metadata": {
    "ExecuteTime": {
     "end_time": "2024-02-22T13:52:51.997142200Z",
     "start_time": "2024-02-22T13:52:50.885233100Z"
    }
   },
   "outputs": [],
   "source": [
    "BiNet = sbm.BiNet(links_df,\"labels\",nodes_a_name=\"source\",Ka=1,nodes_b_name=\"target\",Kb=2)"
   ]
  },
  {
   "cell_type": "markdown",
   "id": "432cf533-ff45-40d1-a0a8-7447e194b087",
   "metadata": {},
   "source": [
    "Notice that you need to specify wich columns represent nodes and which is the column of the labels.\n",
    "Also, because the class only distiguish undirect networks, the columns assignments of `nodes_a` and `nodes_b` are irrelevant. Only will affect in the indexing of the matrices of the MMSBM parameters."
   ]
  },
  {
   "cell_type": "markdown",
   "id": "bb941565-d760-40c3-bd0e-48cdd2a085c4",
   "metadata": {},
   "source": [
    "Once the object is initialized, you can acces to the dataframe from the `df` attribute, but now it will notain three new columns, one for each node type and another for the labels, with an integer id that the library will use in the future. The name of the column is the same as the column of the names, but finished in `_id`."
   ]
  },
  {
   "cell_type": "code",
   "execution_count": 20,
   "id": "9a465ecc-7f5f-4cc6-992f-1a296a566dad",
   "metadata": {
    "ExecuteTime": {
     "end_time": "2024-02-22T13:52:52.036972400Z",
     "start_time": "2024-02-22T13:52:50.918953100Z"
    }
   },
   "outputs": [
    {
     "data": {
      "text/plain": "   source target    labels  labels_id  source_id  target_id\n0       0      A  positive          1          0          0\n1       0      B  negative          0          0          1\n2       0      C  positive          1          0          2\n3       1      A  positive          1          1          0\n4       1      B  negative          0          1          1\n5       1      C  positive          1          1          2\n6       2      A  negative          0          2          0\n7       2      B  negative          0          2          1\n8       2      C  positive          1          2          2",
      "text/html": "<div>\n<style scoped>\n    .dataframe tbody tr th:only-of-type {\n        vertical-align: middle;\n    }\n\n    .dataframe tbody tr th {\n        vertical-align: top;\n    }\n\n    .dataframe thead th {\n        text-align: right;\n    }\n</style>\n<table border=\"1\" class=\"dataframe\">\n  <thead>\n    <tr style=\"text-align: right;\">\n      <th></th>\n      <th>source</th>\n      <th>target</th>\n      <th>labels</th>\n      <th>labels_id</th>\n      <th>source_id</th>\n      <th>target_id</th>\n    </tr>\n  </thead>\n  <tbody>\n    <tr>\n      <th>0</th>\n      <td>0</td>\n      <td>A</td>\n      <td>positive</td>\n      <td>1</td>\n      <td>0</td>\n      <td>0</td>\n    </tr>\n    <tr>\n      <th>1</th>\n      <td>0</td>\n      <td>B</td>\n      <td>negative</td>\n      <td>0</td>\n      <td>0</td>\n      <td>1</td>\n    </tr>\n    <tr>\n      <th>2</th>\n      <td>0</td>\n      <td>C</td>\n      <td>positive</td>\n      <td>1</td>\n      <td>0</td>\n      <td>2</td>\n    </tr>\n    <tr>\n      <th>3</th>\n      <td>1</td>\n      <td>A</td>\n      <td>positive</td>\n      <td>1</td>\n      <td>1</td>\n      <td>0</td>\n    </tr>\n    <tr>\n      <th>4</th>\n      <td>1</td>\n      <td>B</td>\n      <td>negative</td>\n      <td>0</td>\n      <td>1</td>\n      <td>1</td>\n    </tr>\n    <tr>\n      <th>5</th>\n      <td>1</td>\n      <td>C</td>\n      <td>positive</td>\n      <td>1</td>\n      <td>1</td>\n      <td>2</td>\n    </tr>\n    <tr>\n      <th>6</th>\n      <td>2</td>\n      <td>A</td>\n      <td>negative</td>\n      <td>0</td>\n      <td>2</td>\n      <td>0</td>\n    </tr>\n    <tr>\n      <th>7</th>\n      <td>2</td>\n      <td>B</td>\n      <td>negative</td>\n      <td>0</td>\n      <td>2</td>\n      <td>1</td>\n    </tr>\n    <tr>\n      <th>8</th>\n      <td>2</td>\n      <td>C</td>\n      <td>positive</td>\n      <td>1</td>\n      <td>2</td>\n      <td>2</td>\n    </tr>\n  </tbody>\n</table>\n</div>"
     },
     "execution_count": 20,
     "metadata": {},
     "output_type": "execute_result"
    }
   ],
   "source": [
    "BiNet.df"
   ]
  },
  {
   "cell_type": "markdown",
   "id": "598ee3e3-a1ad-4285-b581-4a4087b29bca",
   "metadata": {},
   "source": [
    "## Accesing to the `node_layer` objects"
   ]
  },
  {
   "cell_type": "markdown",
   "id": "dfccf5dc-8bc2-4455-81ec-887c86c83885",
   "metadata": {},
   "source": [
    "Two attributes that contains the information of the nodes are the `nodes_a` and `nodes_b` attributes that are `nodes_layer` objects."
   ]
  },
  {
   "cell_type": "code",
   "execution_count": 21,
   "id": "a806bc6b-725e-4b81-bb37-ba7d427d8f98",
   "metadata": {
    "ExecuteTime": {
     "end_time": "2024-02-22T13:52:52.069165600Z",
     "start_time": "2024-02-22T13:52:50.950168800Z"
    }
   },
   "outputs": [
    {
     "name": "stdout",
     "output_type": "stream",
     "text": [
      "source <class 'MMSBM_library.nodes_layer'>\n",
      "target <class 'MMSBM_library.nodes_layer'>\n"
     ]
    }
   ],
   "source": [
    "print(BiNet.nodes_a,type(BiNet.nodes_a))\n",
    "print(BiNet.nodes_b,type(BiNet.nodes_b))"
   ]
  },
  {
   "cell_type": "markdown",
   "id": "e7b5e40a-8fd6-42ea-b0d4-4ce5afe93ba0",
   "metadata": {},
   "source": [
    "An easier way to access to these objects is by using the name of the layer:"
   ]
  },
  {
   "cell_type": "code",
   "execution_count": 22,
   "id": "f1a0d471-bde0-4091-b8b4-3b03b4f71d7d",
   "metadata": {
    "ExecuteTime": {
     "end_time": "2024-02-22T13:52:52.081779200Z",
     "start_time": "2024-02-22T13:52:50.971551900Z"
    }
   },
   "outputs": [
    {
     "data": {
      "text/plain": "True"
     },
     "execution_count": 22,
     "metadata": {},
     "output_type": "execute_result"
    }
   ],
   "source": [
    "BiNet[\"source\"] == BiNet.nodes_a"
   ]
  },
  {
   "cell_type": "code",
   "execution_count": 23,
   "id": "1c7d557d-87d2-43a9-b8be-8ac5940f554e",
   "metadata": {
    "ExecuteTime": {
     "end_time": "2024-02-22T13:52:52.096949200Z",
     "start_time": "2024-02-22T13:52:50.996822900Z"
    }
   },
   "outputs": [
    {
     "data": {
      "text/plain": "True"
     },
     "execution_count": 23,
     "metadata": {},
     "output_type": "execute_result"
    }
   ],
   "source": [
    "BiNet[\"target\"] == BiNet.nodes_b"
   ]
  },
  {
   "cell_type": "markdown",
   "id": "1fa6e1e9-a6bb-432e-929b-47b4f4d23561",
   "metadata": {},
   "source": [
    "As before, you can access to a dataframe with the `df` method. Also, it will contain an extra column with the ids."
   ]
  },
  {
   "cell_type": "code",
   "execution_count": 24,
   "id": "f251bf51-81bd-467c-9771-839e429053c1",
   "metadata": {
    "ExecuteTime": {
     "end_time": "2024-02-22T13:52:52.123058100Z",
     "start_time": "2024-02-22T13:52:51.011874600Z"
    }
   },
   "outputs": [
    {
     "data": {
      "text/plain": "   source  source_id\n0       0          0\n1       1          1\n2       2          2",
      "text/html": "<div>\n<style scoped>\n    .dataframe tbody tr th:only-of-type {\n        vertical-align: middle;\n    }\n\n    .dataframe tbody tr th {\n        vertical-align: top;\n    }\n\n    .dataframe thead th {\n        text-align: right;\n    }\n</style>\n<table border=\"1\" class=\"dataframe\">\n  <thead>\n    <tr style=\"text-align: right;\">\n      <th></th>\n      <th>source</th>\n      <th>source_id</th>\n    </tr>\n  </thead>\n  <tbody>\n    <tr>\n      <th>0</th>\n      <td>0</td>\n      <td>0</td>\n    </tr>\n    <tr>\n      <th>1</th>\n      <td>1</td>\n      <td>1</td>\n    </tr>\n    <tr>\n      <th>2</th>\n      <td>2</td>\n      <td>2</td>\n    </tr>\n  </tbody>\n</table>\n</div>"
     },
     "execution_count": 24,
     "metadata": {},
     "output_type": "execute_result"
    }
   ],
   "source": [
    "BiNet[\"source\"].df"
   ]
  },
  {
   "cell_type": "code",
   "execution_count": 25,
   "id": "64f27672-3888-44d7-8b93-68551fabbdbb",
   "metadata": {
    "ExecuteTime": {
     "end_time": "2024-02-22T13:52:52.157307Z",
     "start_time": "2024-02-22T13:52:51.026228400Z"
    }
   },
   "outputs": [
    {
     "data": {
      "text/plain": "  target  target_id\n0      A          0\n1      B          1\n2      C          2",
      "text/html": "<div>\n<style scoped>\n    .dataframe tbody tr th:only-of-type {\n        vertical-align: middle;\n    }\n\n    .dataframe tbody tr th {\n        vertical-align: top;\n    }\n\n    .dataframe thead th {\n        text-align: right;\n    }\n</style>\n<table border=\"1\" class=\"dataframe\">\n  <thead>\n    <tr style=\"text-align: right;\">\n      <th></th>\n      <th>target</th>\n      <th>target_id</th>\n    </tr>\n  </thead>\n  <tbody>\n    <tr>\n      <th>0</th>\n      <td>A</td>\n      <td>0</td>\n    </tr>\n    <tr>\n      <th>1</th>\n      <td>B</td>\n      <td>1</td>\n    </tr>\n    <tr>\n      <th>2</th>\n      <td>C</td>\n      <td>2</td>\n    </tr>\n  </tbody>\n</table>\n</div>"
     },
     "execution_count": 25,
     "metadata": {},
     "output_type": "execute_result"
    }
   ],
   "source": [
    "BiNet[\"target\"].df"
   ]
  },
  {
   "cell_type": "markdown",
   "id": "6b26e09d-c375-44d6-bc0b-2d91c8fc8b8c",
   "metadata": {},
   "source": [
    "## Using `nodes_layer` objects to initialize a `BiNet` object"
   ]
  },
  {
   "cell_type": "markdown",
   "id": "7029c78a-34b7-41b9-9bb1-befa2900313b",
   "metadata": {},
   "source": [
    "The example of before only has a link list with labels. Sometimes you want to infer using nodes' metadata. The best way to do that is by using `nodes_layer` objects."
   ]
  },
  {
   "cell_type": "markdown",
   "id": "fbcb64ff-297d-4228-93c8-3608cd256f94",
   "metadata": {},
   "source": [
    "First let's create the `nodes_layer` objects"
   ]
  },
  {
   "cell_type": "code",
   "execution_count": 26,
   "id": "c57ba59e-dffa-46bf-b24d-1932baf98e90",
   "metadata": {
    "ExecuteTime": {
     "end_time": "2024-02-22T13:52:52.213612500Z",
     "start_time": "2024-02-22T13:52:51.105212400Z"
    }
   },
   "outputs": [
    {
     "data": {
      "text/plain": "<MMSBM_library.inclusive_metadata at 0x2093fabfa00>"
     },
     "execution_count": 26,
     "metadata": {},
     "output_type": "execute_result"
    }
   ],
   "source": [
    "#Dataframe to use\n",
    "df_politicians =pd.DataFrame( {\"legislator\":[\"Pedro\", \"Santiago\", \"Alberto\", \"Yolanda\"],\n",
    "                               \"Party\":[\"PSOE\", \"VOX\", \"PP\", \"Sumar\"],\n",
    "                               \"Movies_preferences\":[\"Action|Drama\",\"Belic\",\"Belic|Comedy\",\"Comedy|Drama\"]})\n",
    "#Number of groups\n",
    "K = 2\n",
    "#You have to tell in which the name of the nodes will be as the second parameter \n",
    "politicians = sbm.nodes_layer(K,\"legislator\",df_politicians)\n",
    "\n",
    "politicians.add_exclusive_metadata(1,\"Party\")\n",
    "politicians.add_inclusive_metadata(1,\"Movies_preferences\",1)"
   ]
  },
  {
   "cell_type": "code",
   "execution_count": 27,
   "id": "aeae6e26-caf5-486b-98e3-c3f9fabb60b2",
   "metadata": {
    "ExecuteTime": {
     "end_time": "2024-02-22T13:52:53.222457400Z",
     "start_time": "2024-02-22T13:52:52.200732800Z"
    }
   },
   "outputs": [],
   "source": [
    "#Dataframe to use\n",
    "df_bills =pd.DataFrame( {\"bill\":[\"A\", \"B\", \"C\",\"D\"],\n",
    "                            \"Year\":[2020, 2020, 2021, 2022]})\n",
    "#Number of groups\n",
    "K = 2\n",
    "#You have to tell in which the name of the nodes will be as the second parameter \n",
    "bills = sbm.nodes_layer(K,\"bill\",df_bills)"
   ]
  },
  {
   "cell_type": "markdown",
   "id": "96f9fcfb-d315-4e46-bc71-41514829ef25",
   "metadata": {},
   "source": [
    "Now we can create the `BiNet` object, but with the difference that instead of specifying the name of the nodes layer, you have to use as a parameter the `nodes_layer` object using the `nodes_a` and `nodes_b` parameters."
   ]
  },
  {
   "cell_type": "code",
   "execution_count": 28,
   "id": "3a54d080-795d-4c93-9ba4-7bc6ce24cca6",
   "metadata": {
    "ExecuteTime": {
     "end_time": "2024-02-22T13:52:53.784882400Z",
     "start_time": "2024-02-22T13:52:53.214455400Z"
    }
   },
   "outputs": [],
   "source": [
    "#Dataframe to use\n",
    "df_votes =pd.DataFrame( {\"legislator\":[\"Pedro\",\"Pedro\",\"Pedro\",\"Santiago\",\"Santiago\",\"Santiago\", \n",
    "                                       \"Alberto\", \"Alberto\", \"Alberto\", \"Yolanda\", \"Yolanda\", \"Yolanda\"],\n",
    "                         \"bill\":[\"A\", \"B\", \"D\",  \"A\",\"C\", \"D\",\n",
    "                                 \"A\", \"B\", \"C\",  \"B\",\"C\", \"D\",],\n",
    "                         \"votes\":[\"Yes\",\"No\",\"No\",  \"No\",\"Yes\",\"Yes\",\n",
    "                                  \"No\",\"No\",\"Yes\",  \"Yes\",\"No\",\"No\"]})\n",
    "#Creating the BiNet object\n",
    "votes = sbm.BiNet(df_votes,\"votes\",nodes_a=bills,nodes_b=politicians)"
   ]
  },
  {
   "cell_type": "markdown",
   "id": "02354b29-7619-41bc-9f5c-82aba05581c8",
   "metadata": {},
   "source": [
    "Notice that you do not need to specify the number of the groups of each `nodes_layer` because it is contained in the correspondence `nodes_layer`.\n",
    "\n",
    "IMPORTANT: The name of the columns of the layer in both Dataframes (from the `nodes_layer` object and for the `BiNet` object) must to coincide. Else, a `KeyError` will arrise."
   ]
  },
  {
   "cell_type": "markdown",
   "id": "3c621580-c2a2-4b78-a1cc-348f759adcad",
   "metadata": {},
   "source": [
    "Is not mandatory to use two `nodes_layer` to create the `BiNet` object when you need metadata from only one of the layers. Remember to specify the number of groups."
   ]
  },
  {
   "cell_type": "code",
   "execution_count": 29,
   "id": "07db6448-a139-40b3-87c9-ebdf9b58b421",
   "metadata": {
    "ExecuteTime": {
     "end_time": "2024-02-22T13:52:54.082627Z",
     "start_time": "2024-02-22T13:52:53.648206700Z"
    }
   },
   "outputs": [],
   "source": [
    "#Example using only one nodes_layer object\n",
    "votes = sbm.BiNet(df_votes,\"votes\",nodes_a_name=\"bill\",Ka=2,nodes_b=politicians)"
   ]
  },
  {
   "cell_type": "markdown",
   "id": "975275ea-0c42-48d9-adcb-7e99dc3f1c31",
   "metadata": {},
   "source": [
    "If you display the dataframe of the `BinNet` and the `nodes_layer` objects, the nodes ids from both layers will coincide."
   ]
  },
  {
   "cell_type": "code",
   "execution_count": 30,
   "id": "fad81ed1-66a6-432b-affe-ac7b7441386f",
   "metadata": {
    "ExecuteTime": {
     "end_time": "2024-02-22T13:52:54.870710800Z",
     "start_time": "2024-02-22T13:52:54.080630100Z"
    }
   },
   "outputs": [
    {
     "data": {
      "text/plain": "   legislator  legislator_id bill  bill_id\n0       Pedro              1    A        0\n1       Pedro              1    B        1\n2       Pedro              1    D        3\n3    Santiago              2    A        0\n4    Santiago              2    C        2\n5    Santiago              2    D        3\n6     Alberto              0    A        0\n7     Alberto              0    B        1\n8     Alberto              0    C        2\n9     Yolanda              3    B        1\n10    Yolanda              3    C        2\n11    Yolanda              3    D        3",
      "text/html": "<div>\n<style scoped>\n    .dataframe tbody tr th:only-of-type {\n        vertical-align: middle;\n    }\n\n    .dataframe tbody tr th {\n        vertical-align: top;\n    }\n\n    .dataframe thead th {\n        text-align: right;\n    }\n</style>\n<table border=\"1\" class=\"dataframe\">\n  <thead>\n    <tr style=\"text-align: right;\">\n      <th></th>\n      <th>legislator</th>\n      <th>legislator_id</th>\n      <th>bill</th>\n      <th>bill_id</th>\n    </tr>\n  </thead>\n  <tbody>\n    <tr>\n      <th>0</th>\n      <td>Pedro</td>\n      <td>1</td>\n      <td>A</td>\n      <td>0</td>\n    </tr>\n    <tr>\n      <th>1</th>\n      <td>Pedro</td>\n      <td>1</td>\n      <td>B</td>\n      <td>1</td>\n    </tr>\n    <tr>\n      <th>2</th>\n      <td>Pedro</td>\n      <td>1</td>\n      <td>D</td>\n      <td>3</td>\n    </tr>\n    <tr>\n      <th>3</th>\n      <td>Santiago</td>\n      <td>2</td>\n      <td>A</td>\n      <td>0</td>\n    </tr>\n    <tr>\n      <th>4</th>\n      <td>Santiago</td>\n      <td>2</td>\n      <td>C</td>\n      <td>2</td>\n    </tr>\n    <tr>\n      <th>5</th>\n      <td>Santiago</td>\n      <td>2</td>\n      <td>D</td>\n      <td>3</td>\n    </tr>\n    <tr>\n      <th>6</th>\n      <td>Alberto</td>\n      <td>0</td>\n      <td>A</td>\n      <td>0</td>\n    </tr>\n    <tr>\n      <th>7</th>\n      <td>Alberto</td>\n      <td>0</td>\n      <td>B</td>\n      <td>1</td>\n    </tr>\n    <tr>\n      <th>8</th>\n      <td>Alberto</td>\n      <td>0</td>\n      <td>C</td>\n      <td>2</td>\n    </tr>\n    <tr>\n      <th>9</th>\n      <td>Yolanda</td>\n      <td>3</td>\n      <td>B</td>\n      <td>1</td>\n    </tr>\n    <tr>\n      <th>10</th>\n      <td>Yolanda</td>\n      <td>3</td>\n      <td>C</td>\n      <td>2</td>\n    </tr>\n    <tr>\n      <th>11</th>\n      <td>Yolanda</td>\n      <td>3</td>\n      <td>D</td>\n      <td>3</td>\n    </tr>\n  </tbody>\n</table>\n</div>"
     },
     "metadata": {},
     "output_type": "display_data"
    },
    {
     "data": {
      "text/plain": "  legislator  legislator_id\n0      Pedro              1\n1   Santiago              2\n2    Alberto              0\n3    Yolanda              3",
      "text/html": "<div>\n<style scoped>\n    .dataframe tbody tr th:only-of-type {\n        vertical-align: middle;\n    }\n\n    .dataframe tbody tr th {\n        vertical-align: top;\n    }\n\n    .dataframe thead th {\n        text-align: right;\n    }\n</style>\n<table border=\"1\" class=\"dataframe\">\n  <thead>\n    <tr style=\"text-align: right;\">\n      <th></th>\n      <th>legislator</th>\n      <th>legislator_id</th>\n    </tr>\n  </thead>\n  <tbody>\n    <tr>\n      <th>0</th>\n      <td>Pedro</td>\n      <td>1</td>\n    </tr>\n    <tr>\n      <th>1</th>\n      <td>Santiago</td>\n      <td>2</td>\n    </tr>\n    <tr>\n      <th>2</th>\n      <td>Alberto</td>\n      <td>0</td>\n    </tr>\n    <tr>\n      <th>3</th>\n      <td>Yolanda</td>\n      <td>3</td>\n    </tr>\n  </tbody>\n</table>\n</div>"
     },
     "metadata": {},
     "output_type": "display_data"
    },
    {
     "data": {
      "text/plain": "  bill  bill_id\n0    A        0\n1    B        1\n2    D        3\n3    C        2",
      "text/html": "<div>\n<style scoped>\n    .dataframe tbody tr th:only-of-type {\n        vertical-align: middle;\n    }\n\n    .dataframe tbody tr th {\n        vertical-align: top;\n    }\n\n    .dataframe thead th {\n        text-align: right;\n    }\n</style>\n<table border=\"1\" class=\"dataframe\">\n  <thead>\n    <tr style=\"text-align: right;\">\n      <th></th>\n      <th>bill</th>\n      <th>bill_id</th>\n    </tr>\n  </thead>\n  <tbody>\n    <tr>\n      <th>0</th>\n      <td>A</td>\n      <td>0</td>\n    </tr>\n    <tr>\n      <th>1</th>\n      <td>B</td>\n      <td>1</td>\n    </tr>\n    <tr>\n      <th>2</th>\n      <td>D</td>\n      <td>3</td>\n    </tr>\n    <tr>\n      <th>3</th>\n      <td>C</td>\n      <td>2</td>\n    </tr>\n  </tbody>\n</table>\n</div>"
     },
     "metadata": {},
     "output_type": "display_data"
    }
   ],
   "source": [
    "display(votes.df[[\"legislator\",\"legislator_id\",\"bill\",\"bill_id\"]])\n",
    "display(votes[\"legislator\"].df[[\"legislator\",\"legislator_id\"]])\n",
    "display(votes[\"bill\"].df[[\"bill\",\"bill_id\"]])"
   ]
  },
  {
   "cell_type": "code",
   "execution_count": 31,
   "id": "10458104-ad9f-429d-b59e-d8ecf748ce6d",
   "metadata": {
    "ExecuteTime": {
     "end_time": "2024-02-22T13:52:54.916707800Z",
     "start_time": "2024-02-22T13:52:54.765810100Z"
    }
   },
   "outputs": [
    {
     "name": "stdout",
     "output_type": "stream",
     "text": [
      "(2, 2, 2)\n",
      "(4, 2)\n",
      "(4, 2)\n",
      "(2, 4)\n",
      "(2, 1, 2)\n",
      "(4, 1)\n"
     ]
    }
   ],
   "source": [
    "votes.init_MAP()"
   ]
  },
  {
   "cell_type": "markdown",
   "id": "43057b97-4cef-4331-8313-0e7aa45ad04d",
   "metadata": {},
   "source": [
    "# The Maximum a posteriori (MAP) algorithm"
   ]
  },
  {
   "cell_type": "markdown",
   "id": "c196d597-2301-488e-8257-136ad277cc4d",
   "metadata": {},
   "source": [
    "To start to infer the parameters of the MMSBM, you have to initialize the parameters. It can be easily done with the `init_MAP` method."
   ]
  },
  {
   "cell_type": "code",
   "execution_count": 32,
   "id": "f65daa6b-c4b7-47aa-92ef-a019693680be",
   "metadata": {
    "ExecuteTime": {
     "end_time": "2024-02-22T13:52:55.294594800Z",
     "start_time": "2024-02-22T13:52:54.789808900Z"
    }
   },
   "outputs": [
    {
     "name": "stdout",
     "output_type": "stream",
     "text": [
      "(2, 2, 2)\n",
      "(4, 2)\n",
      "(4, 2)\n",
      "(2, 4)\n",
      "(2, 1, 2)\n",
      "(4, 1)\n"
     ]
    }
   ],
   "source": [
    "votes.init_MAP()"
   ]
  },
  {
   "cell_type": "markdown",
   "id": "bd1b42f7-93f6-42a9-abda-209db9f3914e",
   "metadata": {},
   "source": [
    "Once the MAP have been initialized, the parameters will be stored in attributes. For the membership parameters, each `nodes_layer` will have a `theta` attribute that is a matrix."
   ]
  },
  {
   "cell_type": "code",
   "execution_count": 33,
   "id": "8a43cb4c-dca8-487f-a4b2-78a668021a0c",
   "metadata": {
    "ExecuteTime": {
     "end_time": "2024-02-22T13:52:58.038784400Z",
     "start_time": "2024-02-22T13:52:54.856711200Z"
    }
   },
   "outputs": [
    {
     "data": {
      "text/plain": "array([[0.45969939, 0.54030061],\n       [0.59367272, 0.40632728],\n       [0.47014019, 0.52985981],\n       [0.33358295, 0.66641705]])"
     },
     "execution_count": 33,
     "metadata": {},
     "output_type": "execute_result"
    }
   ],
   "source": [
    "votes[\"legislator\"].theta"
   ]
  },
  {
   "cell_type": "code",
   "execution_count": 34,
   "id": "28761b9e-2394-4609-a99a-7896b1c02258",
   "metadata": {
    "ExecuteTime": {
     "end_time": "2024-02-22T13:52:58.842489400Z",
     "start_time": "2024-02-22T13:52:55.209362900Z"
    }
   },
   "outputs": [
    {
     "data": {
      "text/plain": "array([[0.28217941, 0.71782059],\n       [0.00426761, 0.99573239],\n       [0.35554722, 0.64445278],\n       [0.30155641, 0.69844359]])"
     },
     "execution_count": 34,
     "metadata": {},
     "output_type": "execute_result"
    }
   ],
   "source": [
    "votes[\"bill\"].theta"
   ]
  },
  {
   "cell_type": "markdown",
   "id": "6b6899c9-a289-4992-9a61-1dc6765c14ca",
   "metadata": {},
   "source": [
    "The first index corresponds to the id of the node, the second correspond to the group number."
   ]
  },
  {
   "cell_type": "markdown",
   "id": "f4c1449b-781f-478b-b8ba-f385ecca1dc0",
   "metadata": {},
   "source": [
    "For the `BiNet` object, the probabilities matrix and the expectation parameters will be stored in the `pkl` and `omega` attributes respectivly"
   ]
  },
  {
   "cell_type": "code",
   "execution_count": 35,
   "id": "068f410e-6a85-4da9-9fe7-e7faaee39065",
   "metadata": {
    "ExecuteTime": {
     "end_time": "2024-02-22T13:52:59.843359700Z",
     "start_time": "2024-02-22T13:52:58.953856800Z"
    }
   },
   "outputs": [
    {
     "data": {
      "text/plain": "array([[[0.92427832, 0.07572168],\n        [0.53937551, 0.46062449]],\n\n       [[0.88146144, 0.11853856],\n        [0.4714104 , 0.5285896 ]]])"
     },
     "execution_count": 35,
     "metadata": {},
     "output_type": "execute_result"
    }
   ],
   "source": [
    "votes.pkl"
   ]
  },
  {
   "cell_type": "markdown",
   "id": "20c4ceef-2dab-4b61-8fe4-9dc9286f12e1",
   "metadata": {},
   "source": [
    "The first and second index corresponds to the groups from `nodes_a` and `nodes_b` respectively. The third correspond to the label id."
   ]
  },
  {
   "cell_type": "code",
   "execution_count": 36,
   "id": "81782cae-1e1a-469c-9dac-2fc5178ffdf3",
   "metadata": {
    "ExecuteTime": {
     "end_time": "2024-02-22T13:53:01.122004100Z",
     "start_time": "2024-02-22T13:53:00.172496900Z"
    }
   },
   "outputs": [
    {
     "data": {
      "text/plain": "array([[[[1.77405305e-01, 1.21679267e-01],\n         [4.30385624e-01, 2.70529803e-01]],\n\n        [[4.69490245e-02, 1.95470954e-01],\n         [1.86963388e-01, 5.70616634e-01]],\n\n        [[1.80312092e-01, 1.18589686e-01],\n         [4.37437493e-01, 2.63660729e-01]],\n\n        [[0.00000000e+00, 0.00000000e+00],\n         [0.00000000e+00, 0.00000000e+00]]],\n\n\n       [[[2.74674018e-03, 1.88394215e-03],\n         [6.11190207e-01, 3.84179111e-01]],\n\n        [[3.27479375e-03, 1.30798060e-03],\n         [7.28689915e-01, 2.66727310e-01]],\n\n        [[0.00000000e+00, 0.00000000e+00],\n         [0.00000000e+00, 0.00000000e+00]],\n\n        [[2.75310013e-04, 3.34573109e-03],\n         [1.00558701e-01, 8.95820258e-01]]],\n\n\n       [[[3.86717740e-02, 2.76491884e-01],\n         [1.09730485e-01, 5.75105857e-01]],\n\n        [[0.00000000e+00, 0.00000000e+00],\n         [0.00000000e+00, 0.00000000e+00]],\n\n        [[4.00745012e-02, 2.74744182e-01],\n         [1.13710699e-01, 5.71470618e-01]],\n\n        [[1.74177466e-01, 2.03059204e-01],\n         [3.01083065e-01, 3.21680266e-01]]],\n\n\n       [[[0.00000000e+00, 0.00000000e+00],\n         [0.00000000e+00, 0.00000000e+00]],\n\n        [[2.26410375e-01, 9.04302378e-02],\n         [5.00103216e-01, 1.83056171e-01]],\n\n        [[3.36659906e-02, 2.30808488e-01],\n         [1.22065677e-01, 6.13459845e-01]],\n\n        [[1.48487016e-01, 1.73108818e-01],\n         [3.27983353e-01, 3.50420813e-01]]]])"
     },
     "execution_count": 36,
     "metadata": {},
     "output_type": "execute_result"
    }
   ],
   "source": [
    "votes.omega"
   ]
  },
  {
   "cell_type": "markdown",
   "id": "b9913e5f-5f81-43bd-9e21-652a22d8100b",
   "metadata": {},
   "source": [
    "The first and second index corresponds to the nodes id from `nodes_a` and `nodes_b` respectively. The second and third index corresponds to the groups from `nodes_a` and `nodes_b` respectively."
   ]
  },
  {
   "cell_type": "markdown",
   "source": [
    "## Runing the MAP algorithm and checking the convergence"
   ],
   "metadata": {
    "collapsed": false
   },
   "id": "7b305e4167a5b8bb"
  },
  {
   "cell_type": "markdown",
   "source": [
    "To run the MAP algorithm, you have to use the `MAP_step` method. It will make an iteration of the algorithm by default. You can specify the number of iterations with the `N_steps` parameter. To check the convergence, you can use the `converges` method."
   ],
   "metadata": {
    "collapsed": false
   },
   "id": "c8998eb14cff2dd9"
  },
  {
   "cell_type": "code",
   "execution_count": 37,
   "id": "f05e49b5-3943-4456-bb5a-6655cf2ea48f",
   "metadata": {
    "ExecuteTime": {
     "end_time": "2024-02-22T13:53:04.744354500Z",
     "start_time": "2024-02-22T13:53:04.616548400Z"
    }
   },
   "outputs": [
    {
     "name": "stdout",
     "output_type": "stream",
     "text": [
      "Iteration 0: False\n",
      "Iteration 5: False\n",
      "Iteration 10: False\n",
      "Iteration 15: False\n",
      "Iteration 20: False\n",
      "Iteration 25: False\n",
      "Iteration 30: False\n",
      "Iteration 35: False\n",
      "Iteration 40: False\n",
      "Iteration 45: False\n",
      "Iteration 50: False\n",
      "Iteration 55: False\n",
      "Iteration 60: False\n",
      "Iteration 65: False\n",
      "Iteration 70: False\n",
      "Iteration 75: False\n",
      "Iteration 80: True\n"
     ]
    }
   ],
   "source": [
    "N_itt = 100\n",
    "N_check = 5 #Number of iterations to measure the convergence\n",
    "\n",
    "for itt in range(N_itt//N_check):\n",
    "    votes.MAP_step(N_check)\n",
    "    converges = votes.converges()\n",
    "    print(f\"Iteration {itt*N_check}: {converges}\")\n",
    "    if converges:\n",
    "        break"
   ]
  },
  {
   "cell_type": "markdown",
   "source": [
    "# Using training sets and test sets"
   ],
   "metadata": {
    "collapsed": false
   },
   "id": "ec30e3c3bd7d9385"
  },
  {
   "cell_type": "markdown",
   "id": "4874eda2-10cf-4759-8949-fadb1cb62470",
   "metadata": {},
   "source": [
    "You can select a training set instead of using all the links to infer the parameters. You can do that using the `training` parameter when you initialize the MAP algorithm. \n",
    "\n",
    "This parameter can be a list of the links ids that you want to use as a training set, another dataframe with more links.If not specified, all the links will be used."
   ]
  },
  {
   "cell_type": "code",
   "outputs": [
    {
     "name": "stdout",
     "output_type": "stream",
     "text": [
      "(2, 2, 2)\n",
      "(4, 2)\n",
      "(4, 2)\n",
      "(2, 4)\n",
      "(2, 1, 2)\n",
      "(4, 1)\n",
      "Iteration 0: False\n",
      "Iteration 5: False\n",
      "Iteration 10: False\n",
      "Iteration 15: False\n",
      "Iteration 20: False\n",
      "Iteration 25: False\n",
      "Iteration 30: False\n",
      "Iteration 35: True\n"
     ]
    }
   ],
   "source": [
    "from sklearn.model_selection import train_test_split\n",
    "\n",
    "#Defining the training and test sets\n",
    "df_train, df_test = train_test_split(votes.df, test_size=0.2)\n",
    "\n",
    "\n",
    "#Initializing the MAP algorithm with the training set\n",
    "votes.init_MAP(training=df_train)\n",
    "\n",
    "#Running the MAP algorithm\n",
    "N_itt = 100\n",
    "N_check = 5 #Number of iterations to measure the convergence\n",
    "for itt in range(N_itt//N_check):\n",
    "    votes.MAP_step(N_check)\n",
    "    converges = votes.converges()\n",
    "    print(f\"Iteration {itt*N_check}: {converges}\")\n",
    "    if converges:\n",
    "        break"
   ],
   "metadata": {
    "collapsed": false,
    "ExecuteTime": {
     "end_time": "2024-02-22T13:53:10.544274200Z",
     "start_time": "2024-02-22T13:53:07.710431500Z"
    }
   },
   "id": "3d9c77fe32d66dad",
   "execution_count": 38
  },
  {
   "cell_type": "markdown",
   "source": [
    "## Checking the accuracy and getting predictions"
   ],
   "metadata": {
    "collapsed": false
   },
   "id": "935c364f3c0d18ad"
  },
  {
   "cell_type": "markdown",
   "source": [
    "Once the MAP algorithm have converged, you can get the predictions using the `get_predicted_labels` method. You can spicify which links you want to infer its labels with the `links` parameters. If no links are specified, it will use the links used for training the model."
   ],
   "metadata": {
    "collapsed": false
   },
   "id": "1e0e8e141676b18c"
  },
  {
   "cell_type": "code",
   "outputs": [
    {
     "data": {
      "text/plain": "  bill legislator Predicted votes\n0    D      Pedro              No\n1    A   Santiago              No\n2    B    Yolanda             Yes\n3    C    Alberto             Yes\n4    C    Yolanda              No\n5    A    Alberto              No\n6    B      Pedro             Yes\n7    B    Alberto              No\n8    D   Santiago             Yes",
      "text/html": "<div>\n<style scoped>\n    .dataframe tbody tr th:only-of-type {\n        vertical-align: middle;\n    }\n\n    .dataframe tbody tr th {\n        vertical-align: top;\n    }\n\n    .dataframe thead th {\n        text-align: right;\n    }\n</style>\n<table border=\"1\" class=\"dataframe\">\n  <thead>\n    <tr style=\"text-align: right;\">\n      <th></th>\n      <th>bill</th>\n      <th>legislator</th>\n      <th>Predicted votes</th>\n    </tr>\n  </thead>\n  <tbody>\n    <tr>\n      <th>0</th>\n      <td>D</td>\n      <td>Pedro</td>\n      <td>No</td>\n    </tr>\n    <tr>\n      <th>1</th>\n      <td>A</td>\n      <td>Santiago</td>\n      <td>No</td>\n    </tr>\n    <tr>\n      <th>2</th>\n      <td>B</td>\n      <td>Yolanda</td>\n      <td>Yes</td>\n    </tr>\n    <tr>\n      <th>3</th>\n      <td>C</td>\n      <td>Alberto</td>\n      <td>Yes</td>\n    </tr>\n    <tr>\n      <th>4</th>\n      <td>C</td>\n      <td>Yolanda</td>\n      <td>No</td>\n    </tr>\n    <tr>\n      <th>5</th>\n      <td>A</td>\n      <td>Alberto</td>\n      <td>No</td>\n    </tr>\n    <tr>\n      <th>6</th>\n      <td>B</td>\n      <td>Pedro</td>\n      <td>Yes</td>\n    </tr>\n    <tr>\n      <th>7</th>\n      <td>B</td>\n      <td>Alberto</td>\n      <td>No</td>\n    </tr>\n    <tr>\n      <th>8</th>\n      <td>D</td>\n      <td>Santiago</td>\n      <td>Yes</td>\n    </tr>\n  </tbody>\n</table>\n</div>"
     },
     "execution_count": 39,
     "metadata": {},
     "output_type": "execute_result"
    }
   ],
   "source": [
    "votes.get_predicted_labels()"
   ],
   "metadata": {
    "collapsed": false,
    "ExecuteTime": {
     "end_time": "2024-02-22T13:53:10.682265400Z",
     "start_time": "2024-02-22T13:53:10.538179800Z"
    }
   },
   "id": "85dd08a5a5c1e0e5",
   "execution_count": 39
  },
  {
   "cell_type": "code",
   "outputs": [
    {
     "data": {
      "text/plain": "   legislator bill votes  votes_id  bill_id  legislator_id\n0       Pedro    A   Yes         1        0              1\n11    Yolanda    D    No         0        3              3\n4    Santiago    C   Yes         1        2              2",
      "text/html": "<div>\n<style scoped>\n    .dataframe tbody tr th:only-of-type {\n        vertical-align: middle;\n    }\n\n    .dataframe tbody tr th {\n        vertical-align: top;\n    }\n\n    .dataframe thead th {\n        text-align: right;\n    }\n</style>\n<table border=\"1\" class=\"dataframe\">\n  <thead>\n    <tr style=\"text-align: right;\">\n      <th></th>\n      <th>legislator</th>\n      <th>bill</th>\n      <th>votes</th>\n      <th>votes_id</th>\n      <th>bill_id</th>\n      <th>legislator_id</th>\n    </tr>\n  </thead>\n  <tbody>\n    <tr>\n      <th>0</th>\n      <td>Pedro</td>\n      <td>A</td>\n      <td>Yes</td>\n      <td>1</td>\n      <td>0</td>\n      <td>1</td>\n    </tr>\n    <tr>\n      <th>11</th>\n      <td>Yolanda</td>\n      <td>D</td>\n      <td>No</td>\n      <td>0</td>\n      <td>3</td>\n      <td>3</td>\n    </tr>\n    <tr>\n      <th>4</th>\n      <td>Santiago</td>\n      <td>C</td>\n      <td>Yes</td>\n      <td>1</td>\n      <td>2</td>\n      <td>2</td>\n    </tr>\n  </tbody>\n</table>\n</div>"
     },
     "execution_count": 40,
     "metadata": {},
     "output_type": "execute_result"
    }
   ],
   "source": [
    "df_test"
   ],
   "metadata": {
    "collapsed": false,
    "ExecuteTime": {
     "end_time": "2024-02-22T13:53:10.768684300Z",
     "start_time": "2024-02-22T13:53:10.569428400Z"
    }
   },
   "id": "c63ee32922969e3f",
   "execution_count": 40
  },
  {
   "cell_type": "code",
   "outputs": [
    {
     "data": {
      "text/plain": "   legislator bill votes  votes_id  bill_id  legislator_id Predicted votes\n0       Pedro    A   Yes         1        0              1             Yes\n11    Yolanda    D    No         0        3              3              No\n4    Santiago    C   Yes         1        2              2             Yes",
      "text/html": "<div>\n<style scoped>\n    .dataframe tbody tr th:only-of-type {\n        vertical-align: middle;\n    }\n\n    .dataframe tbody tr th {\n        vertical-align: top;\n    }\n\n    .dataframe thead th {\n        text-align: right;\n    }\n</style>\n<table border=\"1\" class=\"dataframe\">\n  <thead>\n    <tr style=\"text-align: right;\">\n      <th></th>\n      <th>legislator</th>\n      <th>bill</th>\n      <th>votes</th>\n      <th>votes_id</th>\n      <th>bill_id</th>\n      <th>legislator_id</th>\n      <th>Predicted votes</th>\n    </tr>\n  </thead>\n  <tbody>\n    <tr>\n      <th>0</th>\n      <td>Pedro</td>\n      <td>A</td>\n      <td>Yes</td>\n      <td>1</td>\n      <td>0</td>\n      <td>1</td>\n      <td>Yes</td>\n    </tr>\n    <tr>\n      <th>11</th>\n      <td>Yolanda</td>\n      <td>D</td>\n      <td>No</td>\n      <td>0</td>\n      <td>3</td>\n      <td>3</td>\n      <td>No</td>\n    </tr>\n    <tr>\n      <th>4</th>\n      <td>Santiago</td>\n      <td>C</td>\n      <td>Yes</td>\n      <td>1</td>\n      <td>2</td>\n      <td>2</td>\n      <td>Yes</td>\n    </tr>\n  </tbody>\n</table>\n</div>"
     },
     "execution_count": 41,
     "metadata": {},
     "output_type": "execute_result"
    }
   ],
   "source": [
    "votes.get_predicted_labels(links=df_test)"
   ],
   "metadata": {
    "collapsed": false,
    "ExecuteTime": {
     "end_time": "2024-02-22T13:53:10.834027500Z",
     "start_time": "2024-02-22T13:53:10.601111500Z"
    }
   },
   "id": "d82fa976206daaa8",
   "execution_count": 41
  },
  {
   "cell_type": "code",
   "outputs": [
    {
     "name": "stdout",
     "output_type": "stream",
     "text": [
      "Help on method get_accuracy in module MMSBM_library:\n",
      "\n",
      "get_accuracy(predicted_labels=None, test_labels=None, Pij=None, links=None, estimator='max_probability') method of MMSBM_library.BiNet instance\n",
      "    Computes the predicted labels of the model given the MMSBM parameters. They can be measured by different estimators:\n",
      "        -max_probability: The predicted label will be the most plausible label\n",
      "        -mean: The predicted label will be the mean\n",
      "    \n",
      "    Parameters\n",
      "    ----------\n",
      "    predicted_labels: array-like, default:None.\n",
      "        Array-like with the predicted labels ids given by the MMSBM. If None, predictions will be generated using\n",
      "    the specified links and estimator.\n",
      "    \n",
      "    test_labels: array-like, default:None.\n",
      "        List or array with the observed labels. If None, labels from self.labels_array are taken given pos_test_labels\n",
      "    \n",
      "    links: ndarray of 1 or 2 dimensions, pandas DataFrame, default: None\n",
      "        Array with links for which label probabilities are computed.\n",
      "        -If a 2d-array, the first column must contain the ids from nodes_a layer and the second\n",
      "         column must contain the ids from nodes_b layers.\n",
      "        -If a 1d-array, it must contain the positions of the links list from self.df attribute\n",
      "        -If a pandas DataFrame, it must contain at least two columns with the name of the nodes' layers\n",
      "         and a column with the same name as the labels column from BiNet.df.\n",
      "        -If None, self.links_training will be used.\n",
      "    \n",
      "    \n",
      "    estimator: {\"max_probability\",\"mean\"}, default: max_probability\n",
      "        Estimator used to get the predicted labels:\n",
      "        -max_probability: Selects the most plausible label\n",
      "        -mean: Selects the mean label (sum [Pij(l)*l])\n",
      "    \n",
      "    Returns\n",
      "    -------\n",
      "    accuracy: float\n",
      "        Ratio of correctly predicted labels to the total number of predicted labels.\n"
     ]
    }
   ],
   "source": [
    "help(votes.get_accuracy)"
   ],
   "metadata": {
    "collapsed": false,
    "ExecuteTime": {
     "end_time": "2024-02-22T13:53:10.869033800Z",
     "start_time": "2024-02-22T13:53:10.649073100Z"
    }
   },
   "id": "f0ab9792bbcd1d9f",
   "execution_count": 42
  },
  {
   "cell_type": "markdown",
   "source": [
    "### Checking the accuracy"
   ],
   "metadata": {
    "collapsed": false
   },
   "id": "69c5a3dc18d529ba"
  },
  {
   "cell_type": "markdown",
   "source": [
    "You can check the accuracy of the predictions using the `get_accuracy` method. By default, it will compute the accuracy of the training set. You can specify the test set with the `links` parameter, by using a list of the links ids or another dataframe with other links."
   ],
   "metadata": {
    "collapsed": false
   },
   "id": "e802980598a7778f"
  },
  {
   "cell_type": "code",
   "outputs": [
    {
     "name": "stdout",
     "output_type": "stream",
     "text": [
      "Accuracy of the training set: 0.8888888888888888\n",
      "Accuracy of the test set: 1.0\n"
     ]
    }
   ],
   "source": [
    "#Accuracy of the training set\n",
    "print(f\"Accuracy of the training set: {votes.get_accuracy()}\")\n",
    "print(f\"Accuracy of the test set: {votes.get_accuracy(links=df_test)}\")"
   ],
   "metadata": {
    "collapsed": false,
    "ExecuteTime": {
     "end_time": "2024-02-22T13:53:12.111505700Z",
     "start_time": "2024-02-22T13:53:11.802458400Z"
    }
   },
   "id": "fcb75d527201be36",
   "execution_count": 43
  },
  {
   "cell_type": "markdown",
   "source": [
    "# Saving and loading the parameters"
   ],
   "metadata": {
    "collapsed": false
   },
   "id": "4827a39ed7948a68"
  },
  {
   "cell_type": "markdown",
   "source": [
    "For long runs or for using the parameters in another moment, you can save the parameters. It is very important to notice that also is important to save the ids of the nodes and labels, and some information of the BiNet class before initializing the EM algorithm."
   ],
   "metadata": {
    "collapsed": false
   },
   "id": "11c14faa902e20ae"
  },
  {
   "cell_type": "code",
   "outputs": [
    {
     "name": "stdout",
     "output_type": "stream",
     "text": [
      "Help on method get_accuracy in module MMSBM_library:\n",
      "\n",
      "get_accuracy(predicted_labels=None, test_labels=None, Pij=None, links=None, estimator='max_probability') method of MMSBM_library.BiNet instance\n",
      "    Computes the predicted labels of the model given the MMSBM parameters. They can be measured by different estimators:\n",
      "        -max_probability: The predicted label will be the most plausible label\n",
      "        -mean: The predicted label will be the mean\n",
      "    \n",
      "    Parameters\n",
      "    ----------\n",
      "    predicted_labels: array-like, default:None.\n",
      "        Array-like with the predicted labels ids given by the MMSBM. If None, predictions will be generated using\n",
      "    the specified links and estimator.\n",
      "    \n",
      "    test_labels: array-like, default:None.\n",
      "        List or array with the observed labels. If None, labels from self.labels_array are taken given pos_test_labels\n",
      "    \n",
      "    links: ndarray of 1 or 2 dimensions, pandas DataFrame, default: None\n",
      "        Array with links for which label probabilities are computed.\n",
      "        -If a 2d-array, the first column must contain the ids from nodes_a layer and the second\n",
      "         column must contain the ids from nodes_b layers.\n",
      "        -If a 1d-array, it must contain the positions of the links list from self.df attribute\n",
      "        -If a pandas DataFrame, it must contain at least two columns with the name of the nodes' layers\n",
      "         and a column with the same name as the labels column from BiNet.df.\n",
      "        -If None, self.links_training will be used.\n",
      "    \n",
      "    \n",
      "    estimator: {\"max_probability\",\"mean\"}, default: max_probability\n",
      "        Estimator used to get the predicted labels:\n",
      "        -max_probability: Selects the most plausible label\n",
      "        -mean: Selects the mean label (sum [Pij(l)*l])\n",
      "    \n",
      "    Returns\n",
      "    -------\n",
      "    accuracy: float\n",
      "        Ratio of correctly predicted labels to the total number of predicted labels.\n"
     ]
    }
   ],
   "source": [
    "help(votes.get_accuracy)"
   ],
   "metadata": {
    "collapsed": false,
    "ExecuteTime": {
     "end_time": "2024-02-22T13:53:13.308942100Z",
     "start_time": "2024-02-22T13:53:13.182031600Z"
    }
   },
   "id": "ca1ecdeb56db5e61",
   "execution_count": 44
  },
  {
   "cell_type": "code",
   "outputs": [
    {
     "name": "stdout",
     "output_type": "stream",
     "text": [
      "Help on method get_accuracy in module MMSBM_library:\n",
      "\n",
      "get_accuracy(predicted_labels=None, test_labels=None, Pij=None, links=None, estimator='max_probability') method of MMSBM_library.BiNet instance\n",
      "    Computes the predicted labels of the model given the MMSBM parameters. They can be measured by different estimators:\n",
      "        -max_probability: The predicted label will be the most plausible label\n",
      "        -mean: The predicted label will be the mean\n",
      "    \n",
      "    Parameters\n",
      "    ----------\n",
      "    predicted_labels: array-like, default:None.\n",
      "        Array-like with the predicted labels ids given by the MMSBM. If None, predictions will be generated using\n",
      "    the specified links and estimator.\n",
      "    \n",
      "    test_labels: array-like, default:None.\n",
      "        List or array with the observed labels. If None, labels from self.labels_array are taken given pos_test_labels\n",
      "    \n",
      "    links: ndarray of 1 or 2 dimensions, pandas DataFrame, default: None\n",
      "        Array with links for which label probabilities are computed.\n",
      "        -If a 2d-array, the first column must contain the ids from nodes_a layer and the second\n",
      "         column must contain the ids from nodes_b layers.\n",
      "        -If a 1d-array, it must contain the positions of the links list from self.df attribute\n",
      "        -If a pandas DataFrame, it must contain at least two columns with the name of the nodes' layers\n",
      "         and a column with the same name as the labels column from BiNet.df.\n",
      "        -If None, self.links_training will be used.\n",
      "    \n",
      "    \n",
      "    estimator: {\"max_probability\",\"mean\"}, default: max_probability\n",
      "        Estimator used to get the predicted labels:\n",
      "        -max_probability: Selects the most plausible label\n",
      "        -mean: Selects the mean label (sum [Pij(l)*l])\n",
      "    \n",
      "    Returns\n",
      "    -------\n",
      "    accuracy: float\n",
      "        Ratio of correctly predicted labels to the total number of predicted labels.\n"
     ]
    }
   ],
   "source": [
    "help(votes.get_accuracy)"
   ],
   "metadata": {
    "collapsed": false,
    "ExecuteTime": {
     "end_time": "2024-02-22T13:53:13.809412900Z",
     "start_time": "2024-02-22T13:53:13.656072800Z"
    }
   },
   "id": "383e13bb8e362d1f",
   "execution_count": 45
  },
  {
   "cell_type": "code",
   "outputs": [
    {
     "data": {
      "text/plain": "0.8888888888888888"
     },
     "execution_count": 46,
     "metadata": {},
     "output_type": "execute_result"
    }
   ],
   "source": [
    "votes.get_accuracy()"
   ],
   "metadata": {
    "collapsed": false,
    "ExecuteTime": {
     "end_time": "2024-02-22T13:53:14.432913300Z",
     "start_time": "2024-02-22T13:53:14.259727200Z"
    }
   },
   "id": "ae080348bf16aeb2",
   "execution_count": 46
  },
  {
   "cell_type": "code",
   "outputs": [
    {
     "data": {
      "text/plain": "2     3\n3     0\n9     1\n8     2\n10    2\n6     0\n1     1\n7     1\n5     3\nName: bill_id, dtype: int8"
     },
     "execution_count": 47,
     "metadata": {},
     "output_type": "execute_result"
    }
   ],
   "source": [
    "df_train[\"bill_id\"]"
   ],
   "metadata": {
    "collapsed": false,
    "ExecuteTime": {
     "end_time": "2024-02-22T13:53:15.352276300Z",
     "start_time": "2024-02-22T13:53:15.133452900Z"
    }
   },
   "id": "5851fc75327b10b9",
   "execution_count": 47
  },
  {
   "cell_type": "code",
   "outputs": [
    {
     "data": {
      "text/plain": "3"
     },
     "execution_count": 48,
     "metadata": {},
     "output_type": "execute_result"
    }
   ],
   "source": [
    "len(df_test)"
   ],
   "metadata": {
    "collapsed": false,
    "ExecuteTime": {
     "end_time": "2024-02-22T13:53:18.255204800Z",
     "start_time": "2024-02-22T13:53:16.884079200Z"
    }
   },
   "id": "8e3c7b9fc7198f7f",
   "execution_count": 48
  },
  {
   "cell_type": "code",
   "outputs": [
    {
     "data": {
      "text/plain": "12"
     },
     "execution_count": 49,
     "metadata": {},
     "output_type": "execute_result"
    }
   ],
   "source": [
    "len(votes.df)"
   ],
   "metadata": {
    "collapsed": false,
    "ExecuteTime": {
     "end_time": "2024-02-22T13:53:18.531453900Z",
     "start_time": "2024-02-22T13:53:18.235210800Z"
    }
   },
   "id": "74b298cf32fe9ad2",
   "execution_count": 49
  },
  {
   "cell_type": "code",
   "outputs": [],
   "source": [
    "def theta_comp_array(N_nodes,K,omega,denominators,links,masks_list):\n",
    "    \"\"\"\n",
    "    It computes the membership matrix of a nodes layer with no metadata\n",
    "    \"\"\"\n",
    "    theta = np.empty((N_nodes,K))\n",
    "    theta_unfold = omega[links[:,0],links[:,1],:,:].sum(1)\n",
    "    for att,mask in enumerate(masks_list):\n",
    "        theta[att,:] = theta_unfold[mask].sum(0)\n",
    "    print(theta.shape,denominators.shape)\n",
    "    theta /= denominators[:,np.newaxis]\n",
    "    return theta\n"
   ],
   "metadata": {
    "collapsed": false,
    "ExecuteTime": {
     "end_time": "2024-02-22T13:53:18.673846Z",
     "start_time": "2024-02-22T13:53:18.530453100Z"
    }
   },
   "id": "b216bab92e3503e5",
   "execution_count": 50
  },
  {
   "cell_type": "code",
   "outputs": [
    {
     "ename": "NameError",
     "evalue": "name 'meta' is not defined",
     "output_type": "error",
     "traceback": [
      "\u001B[1;31m---------------------------------------------------------------------------\u001B[0m",
      "\u001B[1;31mNameError\u001B[0m                                 Traceback (most recent call last)",
      "\u001B[1;32m~\\AppData\\Local\\Temp\\ipykernel_3368\\2735922085.py\u001B[0m in \u001B[0;36m<module>\u001B[1;34m\u001B[0m\n\u001B[1;32m----> 1\u001B[1;33m \u001B[0mmeta\u001B[0m\u001B[1;33m.\u001B[0m\u001B[0mdenominators\u001B[0m\u001B[1;33m.\u001B[0m\u001B[0mshape\u001B[0m\u001B[1;33m\u001B[0m\u001B[1;33m\u001B[0m\u001B[0m\n\u001B[0m",
      "\u001B[1;31mNameError\u001B[0m: name 'meta' is not defined"
     ]
    }
   ],
   "source": [
    "meta.denominators.shape"
   ],
   "metadata": {
    "collapsed": false,
    "ExecuteTime": {
     "end_time": "2024-02-22T13:53:19.106109900Z",
     "start_time": "2024-02-22T13:53:18.641651100Z"
    }
   },
   "id": "27ac95304503ed53",
   "execution_count": 51
  },
  {
   "cell_type": "code",
   "outputs": [],
   "source": [
    "theta_comp_array(meta.N_att,meta.Tau,meta.omega,meta.denominators,meta.links,meta.masks_att_list)"
   ],
   "metadata": {
    "collapsed": false,
    "ExecuteTime": {
     "start_time": "2024-02-22T13:53:19.100683900Z"
    }
   },
   "id": "4579abff28574cad",
   "execution_count": null
  },
  {
   "cell_type": "code",
   "outputs": [],
   "source": [
    "meta.zeta.shape"
   ],
   "metadata": {
    "collapsed": false,
    "ExecuteTime": {
     "start_time": "2024-02-22T13:53:19.104107200Z"
    }
   },
   "id": "283b192b52c6c005",
   "execution_count": null
  },
  {
   "cell_type": "code",
   "outputs": [
    {
     "ename": "NameError",
     "evalue": "name 'meta' is not defined",
     "output_type": "error",
     "traceback": [
      "\u001B[1;31m---------------------------------------------------------------------------\u001B[0m",
      "\u001B[1;31mNameError\u001B[0m                                 Traceback (most recent call last)",
      "\u001B[1;32m~\\AppData\\Local\\Temp\\ipykernel_5300\\1200147972.py\u001B[0m in \u001B[0;36m<module>\u001B[1;34m\u001B[0m\n\u001B[1;32m----> 1\u001B[1;33m \u001B[0mmeta\u001B[0m\u001B[1;33m.\u001B[0m\u001B[0mzeta\u001B[0m\u001B[1;33m/\u001B[0m\u001B[0mmeta\u001B[0m\u001B[1;33m.\u001B[0m\u001B[0mdenominators\u001B[0m\u001B[1;33m\u001B[0m\u001B[1;33m\u001B[0m\u001B[0m\n\u001B[0m",
      "\u001B[1;31mNameError\u001B[0m: name 'meta' is not defined"
     ]
    }
   ],
   "source": [
    "meta.zeta/meta.denominators"
   ],
   "metadata": {
    "collapsed": false,
    "ExecuteTime": {
     "end_time": "2024-02-22T01:29:13.861609Z",
     "start_time": "2024-02-22T01:29:13.768168500Z"
    }
   },
   "id": "7c80d7a367e81fe1",
   "execution_count": 51
  },
  {
   "cell_type": "code",
   "outputs": [
    {
     "ename": "NameError",
     "evalue": "name 'meta' is not defined",
     "output_type": "error",
     "traceback": [
      "\u001B[1;31m---------------------------------------------------------------------------\u001B[0m",
      "\u001B[1;31mNameError\u001B[0m                                 Traceback (most recent call last)",
      "\u001B[1;32m~\\AppData\\Local\\Temp\\ipykernel_5300\\1748705070.py\u001B[0m in \u001B[0;36m<module>\u001B[1;34m\u001B[0m\n\u001B[1;32m----> 1\u001B[1;33m \u001B[0mmeta\u001B[0m\u001B[1;33m.\u001B[0m\u001B[0momega\u001B[0m\u001B[1;33m[\u001B[0m\u001B[0mmeta\u001B[0m\u001B[1;33m.\u001B[0m\u001B[0mlinks\u001B[0m\u001B[1;33m[\u001B[0m\u001B[1;33m:\u001B[0m\u001B[1;33m,\u001B[0m\u001B[1;36m0\u001B[0m\u001B[1;33m]\u001B[0m\u001B[1;33m,\u001B[0m\u001B[0mmeta\u001B[0m\u001B[1;33m.\u001B[0m\u001B[0mlinks\u001B[0m\u001B[1;33m[\u001B[0m\u001B[1;33m:\u001B[0m\u001B[1;33m,\u001B[0m\u001B[1;36m1\u001B[0m\u001B[1;33m]\u001B[0m\u001B[1;33m,\u001B[0m\u001B[1;33m:\u001B[0m\u001B[1;33m,\u001B[0m\u001B[1;33m:\u001B[0m\u001B[1;33m]\u001B[0m\u001B[1;33m.\u001B[0m\u001B[0msum\u001B[0m\u001B[1;33m(\u001B[0m\u001B[1;36m1\u001B[0m\u001B[1;33m)\u001B[0m\u001B[1;33m\u001B[0m\u001B[1;33m\u001B[0m\u001B[0m\n\u001B[0m",
      "\u001B[1;31mNameError\u001B[0m: name 'meta' is not defined"
     ]
    }
   ],
   "source": [
    "meta.omega[meta.links[:,0],meta.links[:,1],:,:].sum(1)"
   ],
   "metadata": {
    "collapsed": false,
    "ExecuteTime": {
     "end_time": "2024-02-22T01:29:14.304173900Z",
     "start_time": "2024-02-22T01:29:14.122108200Z"
    }
   },
   "id": "f0b5ccae3f5dbbfa",
   "execution_count": 52
  },
  {
   "cell_type": "code",
   "outputs": [],
   "source": [
    "layer = votes[\"legislator\"]\n",
    "meta = layer[\"Movies_preferences\"]"
   ],
   "metadata": {
    "collapsed": false,
    "ExecuteTime": {
     "end_time": "2024-02-21T13:26:01.988332900Z",
     "start_time": "2024-02-21T13:26:01.923771800Z"
    }
   },
   "id": "d07d06d4470341c2",
   "execution_count": 52
  },
  {
   "cell_type": "code",
   "outputs": [
    {
     "data": {
      "text/plain": "  legislator  Party Movies_preferences  legislator_id  Party_id\n0      Pedro   PSOE       Action|Drama              1         1\n1   Santiago    VOX              Belic              2         3\n2    Alberto     PP       Belic|Comedy              0         0\n3    Yolanda  Sumar       Comedy|Drama              3         2",
      "text/html": "<div>\n<style scoped>\n    .dataframe tbody tr th:only-of-type {\n        vertical-align: middle;\n    }\n\n    .dataframe tbody tr th {\n        vertical-align: top;\n    }\n\n    .dataframe thead th {\n        text-align: right;\n    }\n</style>\n<table border=\"1\" class=\"dataframe\">\n  <thead>\n    <tr style=\"text-align: right;\">\n      <th></th>\n      <th>legislator</th>\n      <th>Party</th>\n      <th>Movies_preferences</th>\n      <th>legislator_id</th>\n      <th>Party_id</th>\n    </tr>\n  </thead>\n  <tbody>\n    <tr>\n      <th>0</th>\n      <td>Pedro</td>\n      <td>PSOE</td>\n      <td>Action|Drama</td>\n      <td>1</td>\n      <td>1</td>\n    </tr>\n    <tr>\n      <th>1</th>\n      <td>Santiago</td>\n      <td>VOX</td>\n      <td>Belic</td>\n      <td>2</td>\n      <td>3</td>\n    </tr>\n    <tr>\n      <th>2</th>\n      <td>Alberto</td>\n      <td>PP</td>\n      <td>Belic|Comedy</td>\n      <td>0</td>\n      <td>0</td>\n    </tr>\n    <tr>\n      <th>3</th>\n      <td>Yolanda</td>\n      <td>Sumar</td>\n      <td>Comedy|Drama</td>\n      <td>3</td>\n      <td>2</td>\n    </tr>\n  </tbody>\n</table>\n</div>"
     },
     "execution_count": 53,
     "metadata": {},
     "output_type": "execute_result"
    }
   ],
   "source": [
    "layer.df"
   ],
   "metadata": {
    "collapsed": false,
    "ExecuteTime": {
     "end_time": "2024-02-21T13:26:04.411813400Z",
     "start_time": "2024-02-21T13:26:04.331047300Z"
    }
   },
   "id": "1c8cdd6223c0d8c0",
   "execution_count": 53
  },
  {
   "cell_type": "code",
   "outputs": [
    {
     "ename": "NameError",
     "evalue": "name 'theta_comp_array' is not defined",
     "output_type": "error",
     "traceback": [
      "\u001B[1;31m---------------------------------------------------------------------------\u001B[0m",
      "\u001B[1;31mNameError\u001B[0m                                 Traceback (most recent call last)",
      "\u001B[1;32m~\\AppData\\Local\\Temp\\ipykernel_19288\\2528771915.py\u001B[0m in \u001B[0;36m<module>\u001B[1;34m\u001B[0m\n\u001B[1;32m----> 1\u001B[1;33m \u001B[0mmeta\u001B[0m\u001B[1;33m.\u001B[0m\u001B[0mzeta\u001B[0m \u001B[1;33m=\u001B[0m \u001B[0mtheta_comp_array\u001B[0m\u001B[1;33m(\u001B[0m\u001B[0mmeta\u001B[0m\u001B[1;33m.\u001B[0m\u001B[0mN_att\u001B[0m\u001B[1;33m,\u001B[0m\u001B[0mmeta\u001B[0m\u001B[1;33m.\u001B[0m\u001B[0mTau\u001B[0m\u001B[1;33m,\u001B[0m\u001B[0mmeta\u001B[0m\u001B[1;33m.\u001B[0m\u001B[0momega\u001B[0m\u001B[1;33m,\u001B[0m\u001B[0mmeta\u001B[0m\u001B[1;33m.\u001B[0m\u001B[0mdenominators\u001B[0m\u001B[1;33m,\u001B[0m\u001B[0mmeta\u001B[0m\u001B[1;33m.\u001B[0m\u001B[0mlinks\u001B[0m\u001B[1;33m,\u001B[0m\u001B[0mmeta\u001B[0m\u001B[1;33m.\u001B[0m\u001B[0mmasks_att_list\u001B[0m\u001B[1;33m)\u001B[0m\u001B[1;33m\u001B[0m\u001B[1;33m\u001B[0m\u001B[0m\n\u001B[0m",
      "\u001B[1;31mNameError\u001B[0m: name 'theta_comp_array' is not defined"
     ]
    }
   ],
   "source": [
    "meta.zeta = theta_comp_array(meta.N_att,meta.Tau,meta.omega,meta.denominators,meta.links,meta.masks_att_list)"
   ],
   "metadata": {
    "collapsed": false,
    "ExecuteTime": {
     "start_time": "2024-02-21T13:24:20.906212700Z"
    }
   },
   "id": "735f82d358e5d926",
   "execution_count": 45
  },
  {
   "cell_type": "code",
   "outputs": [],
   "source": [
    "from numba import jit\n",
    "\n",
    "@jit(nopython=True)\n",
    "def log_like_comp_numba(theta, eta, pkl, links, labels):\n",
    "    T = theta[links[:,0]][:,:,None]\n",
    "    E = eta[links[:,1]][:,None,:]\n",
    "    P = np.moveaxis(pkl[:,:,labels], -1, 0)\n",
    "\n",
    "    temp = (T @ E) * P\n",
    "    temp_sum = temp.sum(axis=-1)\n",
    "    temp_sum = temp_sum.sum(axis=-1)\n",
    "\n",
    "    return np.log(temp_sum).sum()"
   ],
   "metadata": {
    "collapsed": false,
    "ExecuteTime": {
     "end_time": "2024-02-21T13:24:21.175379500Z",
     "start_time": "2024-02-21T13:24:20.961443600Z"
    }
   },
   "id": "c130c127c1c581a7",
   "execution_count": 46
  },
  {
   "cell_type": "code",
   "outputs": [
    {
     "ename": "TypingError",
     "evalue": "Failed in nopython mode pipeline (step: nopython frontend)\n\u001B[1m\u001B[1m\u001B[1mNo implementation of function Function(<built-in function getitem>) found for signature:\n \n >>> getitem(array(float64, 2d, C), Tuple(slice<a:b>, slice<a:b>, none))\n \nThere are 22 candidate implementations:\n\u001B[1m   - Of which 20 did not match due to:\n   Overload of function 'getitem': File: <numerous>: Line N/A.\n     With argument(s): '(array(float64, 2d, C), Tuple(slice<a:b>, slice<a:b>, none))':\u001B[0m\n\u001B[1m    No match.\u001B[0m\n\u001B[1m   - Of which 2 did not match due to:\n   Overload in function 'GetItemBuffer.generic': File: numba\\core\\typing\\arraydecl.py: Line 166.\n     With argument(s): '(array(float64, 2d, C), Tuple(slice<a:b>, slice<a:b>, none))':\u001B[0m\n\u001B[1m    Rejected as the implementation raised a specific error:\n      NumbaTypeError: \u001B[1munsupported array index type none in Tuple(slice<a:b>, slice<a:b>, none)\u001B[0m\u001B[0m\n  raised from C:\\Users\\oscar\\anaconda3\\lib\\site-packages\\numba\\core\\typing\\arraydecl.py:72\n\u001B[0m\n\u001B[0m\u001B[1mDuring: typing of intrinsic-call at C:\\Users\\oscar\\AppData\\Local\\Temp\\ipykernel_19288\\1186126865.py (5)\u001B[0m\n\u001B[0m\u001B[1mDuring: typing of static-get-item at C:\\Users\\oscar\\AppData\\Local\\Temp\\ipykernel_19288\\1186126865.py (5)\u001B[0m\n\u001B[1m\nFile \"..\\..\\..\\AppData\\Local\\Temp\\ipykernel_19288\\1186126865.py\", line 5:\u001B[0m\n\u001B[1m<source missing, REPL/exec in use?>\u001B[0m\n",
     "output_type": "error",
     "traceback": [
      "\u001B[1;31m---------------------------------------------------------------------------\u001B[0m",
      "\u001B[1;31mTypingError\u001B[0m                               Traceback (most recent call last)",
      "\u001B[1;32m~\\AppData\\Local\\Temp\\ipykernel_19288\\1756350859.py\u001B[0m in \u001B[0;36m<module>\u001B[1;34m\u001B[0m\n\u001B[1;32m----> 1\u001B[1;33m log_like_comp_numba(votes[\"legislator\"].theta, votes[\"bill\"].theta, votes.pkl, votes.links, votes.labels_array\n\u001B[0m\u001B[0;32m      2\u001B[0m )\n",
      "\u001B[1;32m~\\anaconda3\\lib\\site-packages\\numba\\core\\dispatcher.py\u001B[0m in \u001B[0;36m_compile_for_args\u001B[1;34m(self, *args, **kws)\u001B[0m\n\u001B[0;32m    466\u001B[0m                 \u001B[0me\u001B[0m\u001B[1;33m.\u001B[0m\u001B[0mpatch_message\u001B[0m\u001B[1;33m(\u001B[0m\u001B[0mmsg\u001B[0m\u001B[1;33m)\u001B[0m\u001B[1;33m\u001B[0m\u001B[1;33m\u001B[0m\u001B[0m\n\u001B[0;32m    467\u001B[0m \u001B[1;33m\u001B[0m\u001B[0m\n\u001B[1;32m--> 468\u001B[1;33m             \u001B[0merror_rewrite\u001B[0m\u001B[1;33m(\u001B[0m\u001B[0me\u001B[0m\u001B[1;33m,\u001B[0m \u001B[1;34m'typing'\u001B[0m\u001B[1;33m)\u001B[0m\u001B[1;33m\u001B[0m\u001B[1;33m\u001B[0m\u001B[0m\n\u001B[0m\u001B[0;32m    469\u001B[0m         \u001B[1;32mexcept\u001B[0m \u001B[0merrors\u001B[0m\u001B[1;33m.\u001B[0m\u001B[0mUnsupportedError\u001B[0m \u001B[1;32mas\u001B[0m \u001B[0me\u001B[0m\u001B[1;33m:\u001B[0m\u001B[1;33m\u001B[0m\u001B[1;33m\u001B[0m\u001B[0m\n\u001B[0;32m    470\u001B[0m             \u001B[1;31m# Something unsupported is present in the user code, add help info\u001B[0m\u001B[1;33m\u001B[0m\u001B[1;33m\u001B[0m\u001B[0m\n",
      "\u001B[1;32m~\\anaconda3\\lib\\site-packages\\numba\\core\\dispatcher.py\u001B[0m in \u001B[0;36merror_rewrite\u001B[1;34m(e, issue_type)\u001B[0m\n\u001B[0;32m    407\u001B[0m                 \u001B[1;32mraise\u001B[0m \u001B[0me\u001B[0m\u001B[1;33m\u001B[0m\u001B[1;33m\u001B[0m\u001B[0m\n\u001B[0;32m    408\u001B[0m             \u001B[1;32melse\u001B[0m\u001B[1;33m:\u001B[0m\u001B[1;33m\u001B[0m\u001B[1;33m\u001B[0m\u001B[0m\n\u001B[1;32m--> 409\u001B[1;33m                 \u001B[1;32mraise\u001B[0m \u001B[0me\u001B[0m\u001B[1;33m.\u001B[0m\u001B[0mwith_traceback\u001B[0m\u001B[1;33m(\u001B[0m\u001B[1;32mNone\u001B[0m\u001B[1;33m)\u001B[0m\u001B[1;33m\u001B[0m\u001B[1;33m\u001B[0m\u001B[0m\n\u001B[0m\u001B[0;32m    410\u001B[0m \u001B[1;33m\u001B[0m\u001B[0m\n\u001B[0;32m    411\u001B[0m         \u001B[0margtypes\u001B[0m \u001B[1;33m=\u001B[0m \u001B[1;33m[\u001B[0m\u001B[1;33m]\u001B[0m\u001B[1;33m\u001B[0m\u001B[1;33m\u001B[0m\u001B[0m\n",
      "\u001B[1;31mTypingError\u001B[0m: Failed in nopython mode pipeline (step: nopython frontend)\n\u001B[1m\u001B[1m\u001B[1mNo implementation of function Function(<built-in function getitem>) found for signature:\n \n >>> getitem(array(float64, 2d, C), Tuple(slice<a:b>, slice<a:b>, none))\n \nThere are 22 candidate implementations:\n\u001B[1m   - Of which 20 did not match due to:\n   Overload of function 'getitem': File: <numerous>: Line N/A.\n     With argument(s): '(array(float64, 2d, C), Tuple(slice<a:b>, slice<a:b>, none))':\u001B[0m\n\u001B[1m    No match.\u001B[0m\n\u001B[1m   - Of which 2 did not match due to:\n   Overload in function 'GetItemBuffer.generic': File: numba\\core\\typing\\arraydecl.py: Line 166.\n     With argument(s): '(array(float64, 2d, C), Tuple(slice<a:b>, slice<a:b>, none))':\u001B[0m\n\u001B[1m    Rejected as the implementation raised a specific error:\n      NumbaTypeError: \u001B[1munsupported array index type none in Tuple(slice<a:b>, slice<a:b>, none)\u001B[0m\u001B[0m\n  raised from C:\\Users\\oscar\\anaconda3\\lib\\site-packages\\numba\\core\\typing\\arraydecl.py:72\n\u001B[0m\n\u001B[0m\u001B[1mDuring: typing of intrinsic-call at C:\\Users\\oscar\\AppData\\Local\\Temp\\ipykernel_19288\\1186126865.py (5)\u001B[0m\n\u001B[0m\u001B[1mDuring: typing of static-get-item at C:\\Users\\oscar\\AppData\\Local\\Temp\\ipykernel_19288\\1186126865.py (5)\u001B[0m\n\u001B[1m\nFile \"..\\..\\..\\AppData\\Local\\Temp\\ipykernel_19288\\1186126865.py\", line 5:\u001B[0m\n\u001B[1m<source missing, REPL/exec in use?>\u001B[0m\n"
     ]
    }
   ],
   "source": [
    "log_like_comp_numba(votes[\"legislator\"].theta, votes[\"bill\"].theta, votes.pkl, votes.links, votes.labels_array\n",
    ")"
   ],
   "metadata": {
    "collapsed": false,
    "ExecuteTime": {
     "end_time": "2024-02-21T13:24:21.768017100Z",
     "start_time": "2024-02-21T13:24:21.125854300Z"
    }
   },
   "id": "e19e7b2e17bad36",
   "execution_count": 47
  },
  {
   "cell_type": "code",
   "outputs": [],
   "source": [
    "votes.labels_array"
   ],
   "metadata": {
    "collapsed": false,
    "ExecuteTime": {
     "start_time": "2024-02-21T13:24:21.715207900Z"
    }
   },
   "id": "df828d0c24105610",
   "execution_count": null
  },
  {
   "cell_type": "code",
   "outputs": [],
   "source": [],
   "metadata": {
    "collapsed": false,
    "ExecuteTime": {
     "start_time": "2024-02-21T13:24:21.717267900Z"
    }
   },
   "id": "d628af79b135acbf",
   "execution_count": null
  },
  {
   "cell_type": "code",
   "outputs": [],
   "source": [],
   "metadata": {
    "collapsed": false,
    "ExecuteTime": {
     "start_time": "2024-02-21T13:24:21.721897200Z"
    }
   },
   "id": "edf2bfc8ce29c9",
   "execution_count": null
  },
  {
   "cell_type": "code",
   "outputs": [],
   "source": [],
   "metadata": {
    "collapsed": false,
    "ExecuteTime": {
     "start_time": "2024-02-21T13:24:21.724998Z"
    }
   },
   "id": "e6d0f5d67df9e0a1",
   "execution_count": null
  },
  {
   "cell_type": "code",
   "outputs": [],
   "source": [],
   "metadata": {
    "collapsed": false,
    "ExecuteTime": {
     "start_time": "2024-02-21T13:24:21.730912Z"
    }
   },
   "id": "3322b3fcf2938251",
   "execution_count": null
  },
  {
   "cell_type": "code",
   "outputs": [],
   "source": [],
   "metadata": {
    "collapsed": false,
    "ExecuteTime": {
     "start_time": "2024-02-21T13:24:21.733052900Z"
    }
   },
   "id": "47327c177c59ab95",
   "execution_count": null
  },
  {
   "cell_type": "code",
   "outputs": [],
   "source": [],
   "metadata": {
    "collapsed": false,
    "ExecuteTime": {
     "start_time": "2024-02-21T13:24:21.736219300Z"
    }
   },
   "id": "92c91fc81cc36aa9",
   "execution_count": null
  },
  {
   "cell_type": "code",
   "outputs": [],
   "source": [],
   "metadata": {
    "collapsed": false,
    "ExecuteTime": {
     "start_time": "2024-02-21T13:24:21.738424300Z"
    }
   },
   "id": "fe9f5b44bec91c30",
   "execution_count": null
  },
  {
   "cell_type": "code",
   "outputs": [],
   "source": [],
   "metadata": {
    "collapsed": false,
    "ExecuteTime": {
     "start_time": "2024-02-21T13:24:21.741818600Z"
    }
   },
   "id": "b914c56395c5ad59",
   "execution_count": null
  },
  {
   "cell_type": "code",
   "outputs": [],
   "source": [],
   "metadata": {
    "collapsed": false,
    "ExecuteTime": {
     "start_time": "2024-02-21T13:24:21.744064800Z"
    }
   },
   "id": "10b68eace39f780d",
   "execution_count": null
  },
  {
   "cell_type": "code",
   "outputs": [],
   "source": [],
   "metadata": {
    "collapsed": false,
    "ExecuteTime": {
     "start_time": "2024-02-21T13:24:21.749592500Z"
    }
   },
   "id": "5078077cc3617951",
   "execution_count": null
  },
  {
   "cell_type": "code",
   "outputs": [],
   "source": [],
   "metadata": {
    "collapsed": false,
    "ExecuteTime": {
     "start_time": "2024-02-21T13:24:21.751367100Z"
    }
   },
   "id": "d376ecd273d57249",
   "execution_count": null
  },
  {
   "cell_type": "code",
   "outputs": [],
   "source": [],
   "metadata": {
    "collapsed": false,
    "ExecuteTime": {
     "start_time": "2024-02-21T13:24:21.754182Z"
    }
   },
   "id": "451e988971912c25",
   "execution_count": null
  },
  {
   "cell_type": "code",
   "outputs": [],
   "source": [],
   "metadata": {
    "collapsed": false,
    "ExecuteTime": {
     "start_time": "2024-02-21T13:24:21.757250700Z"
    }
   },
   "id": "e54999860f23fa7e",
   "execution_count": null
  },
  {
   "cell_type": "code",
   "outputs": [],
   "source": [],
   "metadata": {
    "collapsed": false,
    "ExecuteTime": {
     "start_time": "2024-02-21T13:24:21.759402200Z"
    }
   },
   "id": "ab2eab4135f83a2c",
   "execution_count": null
  },
  {
   "cell_type": "code",
   "outputs": [],
   "source": [],
   "metadata": {
    "collapsed": false,
    "ExecuteTime": {
     "end_time": "2024-02-21T13:24:22.072785900Z",
     "start_time": "2024-02-21T13:24:21.773808700Z"
    }
   },
   "id": "c79c8b15ccb73b00",
   "execution_count": 47
  },
  {
   "cell_type": "code",
   "outputs": [],
   "source": [],
   "metadata": {
    "collapsed": false,
    "ExecuteTime": {
     "end_time": "2024-02-21T13:24:22.099424100Z",
     "start_time": "2024-02-21T13:24:21.975164700Z"
    }
   },
   "id": "ad7bfc9faf06e975",
   "execution_count": 47
  },
  {
   "cell_type": "code",
   "outputs": [],
   "source": [],
   "metadata": {
    "collapsed": false,
    "ExecuteTime": {
     "end_time": "2024-02-21T13:15:29.097099Z",
     "start_time": "2024-02-21T13:15:29.042395100Z"
    }
   },
   "id": "39b075ae2d334821",
   "execution_count": 118
  },
  {
   "cell_type": "code",
   "outputs": [],
   "source": [],
   "metadata": {
    "collapsed": false,
    "ExecuteTime": {
     "end_time": "2024-02-21T13:15:29.122912900Z",
     "start_time": "2024-02-21T13:15:29.088652800Z"
    }
   },
   "id": "8b15833157d6e2c2",
   "execution_count": 118
  },
  {
   "cell_type": "code",
   "outputs": [],
   "source": [],
   "metadata": {
    "collapsed": false,
    "ExecuteTime": {
     "end_time": "2024-02-21T13:15:29.178836300Z",
     "start_time": "2024-02-21T13:15:29.110845500Z"
    }
   },
   "id": "e6a19096fa2d7db1",
   "execution_count": 118
  },
  {
   "cell_type": "code",
   "outputs": [],
   "source": [],
   "metadata": {
    "collapsed": false,
    "ExecuteTime": {
     "end_time": "2024-02-21T13:15:29.202716400Z",
     "start_time": "2024-02-21T13:15:29.144468900Z"
    }
   },
   "id": "224d9d53019dca30",
   "execution_count": 118
  },
  {
   "cell_type": "code",
   "outputs": [],
   "source": [],
   "metadata": {
    "collapsed": false,
    "ExecuteTime": {
     "end_time": "2024-02-21T13:15:29.256913500Z",
     "start_time": "2024-02-21T13:15:29.201691700Z"
    }
   },
   "id": "9ed0880ec6fd3306",
   "execution_count": 118
  },
  {
   "cell_type": "code",
   "outputs": [],
   "source": [],
   "metadata": {
    "collapsed": false,
    "ExecuteTime": {
     "end_time": "2024-02-21T13:15:29.278727800Z",
     "start_time": "2024-02-21T13:15:29.231744400Z"
    }
   },
   "id": "eee8f31b70ff19f0",
   "execution_count": 118
  },
  {
   "cell_type": "code",
   "outputs": [],
   "source": [],
   "metadata": {
    "collapsed": false,
    "ExecuteTime": {
     "end_time": "2024-02-21T13:15:29.330390600Z",
     "start_time": "2024-02-21T13:15:29.275613900Z"
    }
   },
   "id": "4e99ae97e40c5f51",
   "execution_count": 118
  },
  {
   "cell_type": "code",
   "outputs": [],
   "source": [],
   "metadata": {
    "collapsed": false,
    "ExecuteTime": {
     "end_time": "2024-02-21T13:15:29.356659800Z",
     "start_time": "2024-02-21T13:15:29.321100Z"
    }
   },
   "id": "2df6b8946789193f",
   "execution_count": 118
  },
  {
   "cell_type": "code",
   "outputs": [],
   "source": [],
   "metadata": {
    "collapsed": false,
    "ExecuteTime": {
     "end_time": "2024-02-21T13:15:29.394964200Z",
     "start_time": "2024-02-21T13:15:29.346157Z"
    }
   },
   "id": "49084a95dc5183e5",
   "execution_count": 118
  },
  {
   "cell_type": "code",
   "outputs": [],
   "source": [],
   "metadata": {
    "collapsed": false,
    "ExecuteTime": {
     "end_time": "2024-02-21T13:15:29.418866700Z",
     "start_time": "2024-02-21T13:15:29.373024700Z"
    }
   },
   "id": "5f45d78430d24d5b",
   "execution_count": 118
  },
  {
   "cell_type": "code",
   "outputs": [],
   "source": [],
   "metadata": {
    "collapsed": false,
    "ExecuteTime": {
     "end_time": "2024-02-21T13:15:29.475077300Z",
     "start_time": "2024-02-21T13:15:29.417865100Z"
    }
   },
   "id": "8e431bb72fdcaae3",
   "execution_count": 118
  },
  {
   "cell_type": "code",
   "outputs": [],
   "source": [],
   "metadata": {
    "collapsed": false,
    "ExecuteTime": {
     "end_time": "2024-02-21T13:15:29.493301900Z",
     "start_time": "2024-02-21T13:15:29.448934900Z"
    }
   },
   "id": "711a863a75544d37",
   "execution_count": 118
  },
  {
   "cell_type": "code",
   "outputs": [],
   "source": [],
   "metadata": {
    "collapsed": false,
    "ExecuteTime": {
     "end_time": "2024-02-21T13:15:29.556600600Z",
     "start_time": "2024-02-21T13:15:29.492266200Z"
    }
   },
   "id": "ae622713797eb248",
   "execution_count": 118
  },
  {
   "cell_type": "code",
   "outputs": [],
   "source": [],
   "metadata": {
    "collapsed": false,
    "ExecuteTime": {
     "end_time": "2024-02-21T13:15:29.576764600Z",
     "start_time": "2024-02-21T13:15:29.544763800Z"
    }
   },
   "id": "37b7b7db8be42666",
   "execution_count": 118
  },
  {
   "cell_type": "code",
   "outputs": [],
   "source": [],
   "metadata": {
    "collapsed": false,
    "ExecuteTime": {
     "end_time": "2024-02-21T13:15:29.635402800Z",
     "start_time": "2024-02-21T13:15:29.570254100Z"
    }
   },
   "id": "8be8e3b1eb09e1da",
   "execution_count": 118
  },
  {
   "cell_type": "code",
   "outputs": [],
   "source": [],
   "metadata": {
    "collapsed": false,
    "ExecuteTime": {
     "end_time": "2024-02-21T13:15:29.654169800Z",
     "start_time": "2024-02-21T13:15:29.620821500Z"
    }
   },
   "id": "4f6979f56801ceed",
   "execution_count": 118
  },
  {
   "cell_type": "code",
   "outputs": [],
   "source": [],
   "metadata": {
    "collapsed": false,
    "ExecuteTime": {
     "end_time": "2024-02-21T13:15:29.719759900Z",
     "start_time": "2024-02-21T13:15:29.654169800Z"
    }
   },
   "id": "89175e57ae0c2273",
   "execution_count": 118
  },
  {
   "cell_type": "code",
   "outputs": [],
   "source": [],
   "metadata": {
    "collapsed": false,
    "ExecuteTime": {
     "end_time": "2024-02-21T13:15:29.743645500Z",
     "start_time": "2024-02-21T13:15:29.706286Z"
    }
   },
   "id": "f519819f4de3b2f9",
   "execution_count": 118
  },
  {
   "cell_type": "code",
   "outputs": [],
   "source": [],
   "metadata": {
    "collapsed": false,
    "ExecuteTime": {
     "end_time": "2024-02-21T13:15:29.802649300Z",
     "start_time": "2024-02-21T13:15:29.743645500Z"
    }
   },
   "id": "b9babea9d091903",
   "execution_count": 118
  },
  {
   "cell_type": "code",
   "outputs": [],
   "source": [],
   "metadata": {
    "collapsed": false,
    "ExecuteTime": {
     "end_time": "2024-02-21T13:15:29.830515200Z",
     "start_time": "2024-02-21T13:15:29.792267400Z"
    }
   },
   "id": "9acd0d2f62e30210",
   "execution_count": 118
  },
  {
   "cell_type": "code",
   "outputs": [],
   "source": [],
   "metadata": {
    "collapsed": false,
    "ExecuteTime": {
     "end_time": "2024-02-21T13:15:29.873421100Z",
     "start_time": "2024-02-21T13:15:29.821940Z"
    }
   },
   "id": "41b8954ac40ef78",
   "execution_count": 118
  },
  {
   "cell_type": "code",
   "outputs": [],
   "source": [],
   "metadata": {
    "collapsed": false,
    "ExecuteTime": {
     "end_time": "2024-02-21T13:15:29.895947200Z",
     "start_time": "2024-02-21T13:15:29.869061900Z"
    }
   },
   "id": "a5f20ce331ec1cd7",
   "execution_count": 118
  },
  {
   "cell_type": "code",
   "outputs": [],
   "source": [],
   "metadata": {
    "collapsed": false,
    "ExecuteTime": {
     "end_time": "2024-02-21T13:15:29.939524300Z",
     "start_time": "2024-02-21T13:15:29.892596700Z"
    }
   },
   "id": "5a5fdc97a9549ecf",
   "execution_count": 118
  },
  {
   "cell_type": "code",
   "outputs": [],
   "source": [],
   "metadata": {
    "collapsed": false,
    "ExecuteTime": {
     "end_time": "2024-02-21T13:15:29.960095300Z",
     "start_time": "2024-02-21T13:15:29.913147Z"
    }
   },
   "id": "83133f76441ec4e5",
   "execution_count": 118
  },
  {
   "cell_type": "code",
   "outputs": [],
   "source": [],
   "metadata": {
    "collapsed": false,
    "ExecuteTime": {
     "end_time": "2024-02-21T13:15:30.008590900Z",
     "start_time": "2024-02-21T13:15:29.960095300Z"
    }
   },
   "id": "c63c91afea1a96e2",
   "execution_count": 118
  },
  {
   "cell_type": "code",
   "outputs": [],
   "source": [],
   "metadata": {
    "collapsed": false,
    "ExecuteTime": {
     "end_time": "2024-02-21T13:15:30.025379200Z",
     "start_time": "2024-02-21T13:15:30.004394500Z"
    }
   },
   "id": "5bf07b6d9353e7d1",
   "execution_count": 118
  },
  {
   "cell_type": "code",
   "outputs": [],
   "source": [],
   "metadata": {
    "collapsed": false,
    "ExecuteTime": {
     "end_time": "2024-02-21T13:15:30.083361300Z",
     "start_time": "2024-02-21T13:15:30.024363Z"
    }
   },
   "id": "5c4fc6b1c8583f48",
   "execution_count": 118
  },
  {
   "cell_type": "code",
   "outputs": [],
   "source": [],
   "metadata": {
    "collapsed": false,
    "ExecuteTime": {
     "end_time": "2024-02-21T13:15:30.118104500Z",
     "start_time": "2024-02-21T13:15:30.073727900Z"
    }
   },
   "id": "38f1ac4c2a9ebcda",
   "execution_count": 118
  },
  {
   "cell_type": "code",
   "outputs": [],
   "source": [],
   "metadata": {
    "collapsed": false,
    "ExecuteTime": {
     "end_time": "2024-02-21T13:15:30.175529100Z",
     "start_time": "2024-02-21T13:15:30.097897700Z"
    }
   },
   "id": "6a7436a92716ff2f",
   "execution_count": 118
  },
  {
   "cell_type": "code",
   "outputs": [],
   "source": [],
   "metadata": {
    "collapsed": false,
    "ExecuteTime": {
     "end_time": "2024-02-21T13:15:30.214436900Z",
     "start_time": "2024-02-21T13:15:30.173952100Z"
    }
   },
   "id": "a21617b0e591e158",
   "execution_count": 118
  },
  {
   "cell_type": "code",
   "outputs": [],
   "source": [],
   "metadata": {
    "collapsed": false,
    "ExecuteTime": {
     "end_time": "2024-02-21T13:15:30.261324500Z",
     "start_time": "2024-02-21T13:15:30.210324900Z"
    }
   },
   "id": "7ad042571a561a72",
   "execution_count": 118
  },
  {
   "cell_type": "code",
   "outputs": [],
   "source": [],
   "metadata": {
    "collapsed": false,
    "ExecuteTime": {
     "end_time": "2024-02-21T13:15:30.280021300Z",
     "start_time": "2024-02-21T13:15:30.256150900Z"
    }
   },
   "id": "9c31e6140949be79",
   "execution_count": 118
  },
  {
   "cell_type": "code",
   "outputs": [],
   "source": [],
   "metadata": {
    "collapsed": false,
    "ExecuteTime": {
     "end_time": "2024-02-21T13:15:30.339029600Z",
     "start_time": "2024-02-21T13:15:30.278925700Z"
    }
   },
   "id": "768a6a1d0c9c7fd2",
   "execution_count": 118
  },
  {
   "cell_type": "code",
   "outputs": [],
   "source": [],
   "metadata": {
    "collapsed": false,
    "ExecuteTime": {
     "end_time": "2024-02-21T13:15:30.363140900Z",
     "start_time": "2024-02-21T13:15:30.308156500Z"
    }
   },
   "id": "d918945a61e32242",
   "execution_count": 118
  },
  {
   "cell_type": "code",
   "outputs": [],
   "source": [],
   "metadata": {
    "collapsed": false,
    "ExecuteTime": {
     "end_time": "2024-02-21T13:15:30.417489400Z",
     "start_time": "2024-02-21T13:15:30.361075100Z"
    }
   },
   "id": "4f033ffeb58cdcd7",
   "execution_count": 118
  },
  {
   "cell_type": "code",
   "outputs": [],
   "source": [],
   "metadata": {
    "collapsed": false,
    "ExecuteTime": {
     "end_time": "2024-02-21T13:15:30.446831600Z",
     "start_time": "2024-02-21T13:15:30.386981500Z"
    }
   },
   "id": "94e7a91898b93d63",
   "execution_count": 118
  },
  {
   "cell_type": "code",
   "outputs": [],
   "source": [],
   "metadata": {
    "collapsed": false,
    "ExecuteTime": {
     "end_time": "2024-02-21T13:15:30.488537200Z",
     "start_time": "2024-02-21T13:15:30.439568900Z"
    }
   },
   "id": "3b421ab897642f44",
   "execution_count": 118
  },
  {
   "cell_type": "code",
   "outputs": [],
   "source": [],
   "metadata": {
    "collapsed": false,
    "ExecuteTime": {
     "end_time": "2024-02-21T13:15:30.521097900Z",
     "start_time": "2024-02-21T13:15:30.463637700Z"
    }
   },
   "id": "1e236ee34dc7d2d6",
   "execution_count": 118
  }
 ],
 "metadata": {
  "kernelspec": {
   "display_name": "Python 3 (ipykernel)",
   "language": "python",
   "name": "python3"
  },
  "language_info": {
   "codemirror_mode": {
    "name": "ipython",
    "version": 3
   },
   "file_extension": ".py",
   "mimetype": "text/x-python",
   "name": "python",
   "nbconvert_exporter": "python",
   "pygments_lexer": "ipython3",
   "version": "3.9.13"
  },
  "toc-autonumbering": true,
  "toc-showcode": true,
  "toc-showmarkdowntxt": true
 },
 "nbformat": 4,
 "nbformat_minor": 5
}

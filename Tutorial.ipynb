{
 "cells": [
  {
   "cell_type": "markdown",
   "id": "f8602eab-6f2c-4ab7-b431-51461a603513",
   "metadata": {
    "tags": []
   },
   "source": [
    "# MMSBM library"
   ]
  },
  {
   "cell_type": "markdown",
   "id": "58be8a29-2af4-4f51-9b59-8292e1ff0eb9",
   "metadata": {},
   "source": [
    "## Introduction"
   ]
  },
  {
   "cell_type": "markdown",
   "id": "b1fdd729-498f-436f-944c-705071474bcd",
   "metadata": {},
   "source": [
    "## ``nodes_layer`` class"
   ]
  },
  {
   "cell_type": "markdown",
   "id": "0fbeaa28-1408-4fb3-80bc-8b18583c4c6c",
   "metadata": {},
   "source": [
    "The `nodes_layer` class represents one type of nodes that forms the bipartite network. It can represent people, researchers, papers, metabolites, movies... That depends on your dataset.\n",
    "\n",
    "The best way to initialize a nodes_layer is from a pandas DataFrame."
   ]
  },
  {
   "cell_type": "code",
   "execution_count": 1,
   "id": "2aa026b5-a293-4dde-bffd-e5cdc9453ab1",
   "metadata": {
    "ExecuteTime": {
     "end_time": "2024-06-10T07:47:41.179749Z",
     "start_time": "2024-06-10T07:47:39.150703Z"
    }
   },
   "outputs": [
    {
     "name": "stdout",
     "output_type": "stream",
     "text": [
      "Numba imported\n"
     ]
    }
   ],
   "source": [
    "import pandas as pd\n",
    "import numpy as np\n",
    "from numba import jit\n",
    "import sys, os\n",
    "\n",
    "\n",
    "sys.path.append(r'C:\\Users\\oscar\\OneDrive\\Documentos')\n",
    "import MMSBM_library as sbm\n",
    "\n",
    "\n",
    "#Dataframe to use\n",
    "df_politicians =pd.DataFrame( {\"legislator\":[\"Pedro\", \"Santiago\", \"Alberto\", \"Yolanda\"],\n",
    "                               \"Party\":[\"PSOE\", \"VOX\", \"PP\", \"Sumar\"],\n",
    "                               \"Movies_preferences\":[\"Action|Drama\",\"Belic\",\"Belic|Comedy\",\"Comedy|Drama\"]})\n",
    "#Number of groups\n",
    "K = 9\n",
    "#You have to tell in which the name of the nodes will be as the second parameter \n",
    "politicians = sbm.nodes_layer(K,\"legislator\",df_politicians)"
   ]
  },
  {
   "cell_type": "markdown",
   "id": "3af6880b-9949-4190-887f-bd1a253c06fe",
   "metadata": {},
   "source": [
    "Once the object is initialized, you can acces to the dataframe from the `df` attribute,but now it will notain a new column with an integer id thet the library will use in the future. The name of the column is the same as the column of the names, but finished in `_id`."
   ]
  },
  {
   "cell_type": "code",
   "execution_count": 2,
   "id": "2f247f51-8100-4c29-8954-1890aa61dbff",
   "metadata": {
    "ExecuteTime": {
     "end_time": "2024-06-10T07:47:41.297366Z",
     "start_time": "2024-06-10T07:47:41.183873Z"
    }
   },
   "outputs": [
    {
     "data": {
      "text/html": [
       "<div>\n",
       "<style scoped>\n",
       "    .dataframe tbody tr th:only-of-type {\n",
       "        vertical-align: middle;\n",
       "    }\n",
       "\n",
       "    .dataframe tbody tr th {\n",
       "        vertical-align: top;\n",
       "    }\n",
       "\n",
       "    .dataframe thead th {\n",
       "        text-align: right;\n",
       "    }\n",
       "</style>\n",
       "<table border=\"1\" class=\"dataframe\">\n",
       "  <thead>\n",
       "    <tr style=\"text-align: right;\">\n",
       "      <th></th>\n",
       "      <th>legislator</th>\n",
       "      <th>Party</th>\n",
       "      <th>Movies_preferences</th>\n",
       "      <th>legislator_id</th>\n",
       "    </tr>\n",
       "  </thead>\n",
       "  <tbody>\n",
       "    <tr>\n",
       "      <th>0</th>\n",
       "      <td>Pedro</td>\n",
       "      <td>PSOE</td>\n",
       "      <td>Action|Drama</td>\n",
       "      <td>1</td>\n",
       "    </tr>\n",
       "    <tr>\n",
       "      <th>1</th>\n",
       "      <td>Santiago</td>\n",
       "      <td>VOX</td>\n",
       "      <td>Belic</td>\n",
       "      <td>2</td>\n",
       "    </tr>\n",
       "    <tr>\n",
       "      <th>2</th>\n",
       "      <td>Alberto</td>\n",
       "      <td>PP</td>\n",
       "      <td>Belic|Comedy</td>\n",
       "      <td>0</td>\n",
       "    </tr>\n",
       "    <tr>\n",
       "      <th>3</th>\n",
       "      <td>Yolanda</td>\n",
       "      <td>Sumar</td>\n",
       "      <td>Comedy|Drama</td>\n",
       "      <td>3</td>\n",
       "    </tr>\n",
       "  </tbody>\n",
       "</table>\n",
       "</div>"
      ],
      "text/plain": [
       "  legislator  Party Movies_preferences  legislator_id\n",
       "0      Pedro   PSOE       Action|Drama              1\n",
       "1   Santiago    VOX              Belic              2\n",
       "2    Alberto     PP       Belic|Comedy              0\n",
       "3    Yolanda  Sumar       Comedy|Drama              3"
      ]
     },
     "execution_count": 2,
     "metadata": {},
     "output_type": "execute_result"
    }
   ],
   "source": [
    "politicians.df"
   ]
  },
  {
   "cell_type": "markdown",
   "id": "62389ee2-481d-468b-8a90-b732d1406506",
   "metadata": {},
   "source": [
    "The asignment of the ids with the names of the nodes is in the `dict_codes` attribute."
   ]
  },
  {
   "cell_type": "code",
   "execution_count": 3,
   "id": "28c102da-367b-448a-9891-2551f5b110ef",
   "metadata": {
    "ExecuteTime": {
     "end_time": "2024-06-10T07:47:41.312656Z",
     "start_time": "2024-06-10T07:47:41.300477Z"
    }
   },
   "outputs": [
    {
     "data": {
      "text/plain": [
       "{'Pedro': 1, 'Santiago': 2, 'Alberto': 0, 'Yolanda': 3}"
      ]
     },
     "execution_count": 3,
     "metadata": {},
     "output_type": "execute_result"
    }
   ],
   "source": [
    "politicians.dict_codes"
   ]
  },
  {
   "cell_type": "markdown",
   "id": "e7890dd8-5264-4874-89b1-8226b892d6af",
   "metadata": {},
   "source": [
    "This id represents the array position that corresponds to each node for the `theta` and `omega` matricies"
   ]
  },
  {
   "cell_type": "markdown",
   "id": "a453bdf1-dccc-44c8-a23c-bf3316a95bbf",
   "metadata": {},
   "source": [
    "You can modify whenever you want the number of groups from the ``K`` attribute."
   ]
  },
  {
   "cell_type": "code",
   "execution_count": 4,
   "id": "b4cdbaa1-8ef2-4a2b-a5b9-f4abb88865fd",
   "metadata": {
    "ExecuteTime": {
     "end_time": "2024-06-10T07:47:41.329052Z",
     "start_time": "2024-06-10T07:47:41.315110Z"
    }
   },
   "outputs": [
    {
     "name": "stdout",
     "output_type": "stream",
     "text": [
      "Number of groups of politicians: 9\n",
      "Number of groups of politicians: 2\n"
     ]
    }
   ],
   "source": [
    "print(f\"Number of groups of politicians: {politicians.K}\")\n",
    "politicians.K = 2\n",
    "print(f\"Number of groups of politicians: {politicians.K}\")"
   ]
  },
  {
   "cell_type": "markdown",
   "id": "a154c571-e93a-487f-96ff-c57744c4a50e",
   "metadata": {},
   "source": [
    "*WARNING!!!* If yoy change the value of `K` you have to initialize again all the matrices!!"
   ]
  },
  {
   "cell_type": "markdown",
   "id": "e70132b1-4a91-4d37-a238-7956b8940a07",
   "metadata": {},
   "source": [
    "### Adding metadata"
   ]
  },
  {
   "cell_type": "markdown",
   "id": "0d5d9c6c-44bd-498f-86f8-a9d7077e3726",
   "metadata": {},
   "source": [
    "When in your dataframe you have extra information about the nodes, you have to tell which columns are metadata and which type of metadata. There are two types of metadata:\n",
    " * Exclusive metadata: These are metadata where each node can only have assigned one attribute. For exameple the age of a person. A person only have one age, not more of one.\n",
    " * Inclusive metadata: These are metadata where each node can have assigned more of one attributes. For example the genre of a movie, one movie can belong to different genre at the same time.\n",
    " "
   ]
  },
  {
   "cell_type": "markdown",
   "id": "c20efe1f-8a1c-45cc-88c4-7adf55d35800",
   "metadata": {},
   "source": [
    "### Exclusive metadata"
   ]
  },
  {
   "cell_type": "markdown",
   "id": "63897cb8-616e-44a6-91bf-980d1c3f614a",
   "metadata": {},
   "source": [
    "Once the `nodes_layer` is initialized, you can add the metadata using the `add_exclusive_metadata` method that will return a `exclusive_metadata` class. "
   ]
  },
  {
   "cell_type": "code",
   "execution_count": 5,
   "id": "e84c5fb2-4acc-4940-bfb6-e6c10549597a",
   "metadata": {
    "ExecuteTime": {
     "end_time": "2024-06-10T07:47:43.171075Z",
     "start_time": "2024-06-10T07:47:43.158860Z"
    }
   },
   "outputs": [],
   "source": [
    "# Importance of the metadata\n",
    "lambda_party = 100\n",
    "parties = politicians.add_exclusive_metadata(lambda_party,\"Party\")"
   ]
  },
  {
   "cell_type": "markdown",
   "id": "5fec0252-4a65-4c22-8f3a-fce5d29b6ef7",
   "metadata": {},
   "source": [
    "Also, this object will be stored inside the `nodes_layer` object in the `meta_exclusives` attribute that is a dictionary whose keys are the column names of the metadaa and the value the object."
   ]
  },
  {
   "cell_type": "code",
   "execution_count": 6,
   "id": "09773552-59af-4f3c-92f7-3faf91ecde72",
   "metadata": {
    "ExecuteTime": {
     "end_time": "2024-06-10T07:47:44.116258Z",
     "start_time": "2024-06-10T07:47:44.104818Z"
    }
   },
   "outputs": [
    {
     "data": {
      "text/plain": [
       "True"
      ]
     },
     "execution_count": 6,
     "metadata": {},
     "output_type": "execute_result"
    }
   ],
   "source": [
    "parties == politicians.meta_exclusives[\"Party\"]"
   ]
  },
  {
   "cell_type": "markdown",
   "id": "35b141c5-2b22-4ea5-86dc-61b88125df8f",
   "metadata": {},
   "source": [
    "The value of `lambda_party` is how important will be the metadata while the inference procedure is running and it can be accesed from the `lambda_val` attribute."
   ]
  },
  {
   "cell_type": "code",
   "execution_count": 7,
   "id": "b7036b04-dd9c-4955-84ed-ff8a90c1c767",
   "metadata": {
    "ExecuteTime": {
     "end_time": "2024-06-10T07:47:44.655511Z",
     "start_time": "2024-06-10T07:47:44.640770Z"
    }
   },
   "outputs": [
    {
     "name": "stdout",
     "output_type": "stream",
     "text": [
      "Importance of political parties: 100\n",
      "Importance of political parties: 2.3\n"
     ]
    }
   ],
   "source": [
    "print(f\"Importance of political parties: {parties.lambda_val}\")\n",
    "parties.lambda_val = 2.3\n",
    "print(f\"Importance of political parties: {parties.lambda_val}\")"
   ]
  },
  {
   "cell_type": "markdown",
   "id": "e59c358a-caf9-4424-864e-64c00eaee838",
   "metadata": {},
   "source": [
    "When the metadata has been added to the `nodes_layer` object, its dataframe will add a new column with the ids of the metadata with the same column name but finished in `_id`."
   ]
  },
  {
   "cell_type": "code",
   "execution_count": 8,
   "id": "5c734535-ccb6-42cb-83ff-304daa1bac50",
   "metadata": {
    "ExecuteTime": {
     "end_time": "2024-06-10T07:47:45.423092Z",
     "start_time": "2024-06-10T07:47:45.409501Z"
    }
   },
   "outputs": [
    {
     "data": {
      "text/html": [
       "<div>\n",
       "<style scoped>\n",
       "    .dataframe tbody tr th:only-of-type {\n",
       "        vertical-align: middle;\n",
       "    }\n",
       "\n",
       "    .dataframe tbody tr th {\n",
       "        vertical-align: top;\n",
       "    }\n",
       "\n",
       "    .dataframe thead th {\n",
       "        text-align: right;\n",
       "    }\n",
       "</style>\n",
       "<table border=\"1\" class=\"dataframe\">\n",
       "  <thead>\n",
       "    <tr style=\"text-align: right;\">\n",
       "      <th></th>\n",
       "      <th>legislator</th>\n",
       "      <th>Party</th>\n",
       "      <th>Movies_preferences</th>\n",
       "      <th>legislator_id</th>\n",
       "      <th>Party_id</th>\n",
       "    </tr>\n",
       "  </thead>\n",
       "  <tbody>\n",
       "    <tr>\n",
       "      <th>0</th>\n",
       "      <td>Pedro</td>\n",
       "      <td>PSOE</td>\n",
       "      <td>Action|Drama</td>\n",
       "      <td>1</td>\n",
       "      <td>1</td>\n",
       "    </tr>\n",
       "    <tr>\n",
       "      <th>1</th>\n",
       "      <td>Santiago</td>\n",
       "      <td>VOX</td>\n",
       "      <td>Belic</td>\n",
       "      <td>2</td>\n",
       "      <td>3</td>\n",
       "    </tr>\n",
       "    <tr>\n",
       "      <th>2</th>\n",
       "      <td>Alberto</td>\n",
       "      <td>PP</td>\n",
       "      <td>Belic|Comedy</td>\n",
       "      <td>0</td>\n",
       "      <td>0</td>\n",
       "    </tr>\n",
       "    <tr>\n",
       "      <th>3</th>\n",
       "      <td>Yolanda</td>\n",
       "      <td>Sumar</td>\n",
       "      <td>Comedy|Drama</td>\n",
       "      <td>3</td>\n",
       "      <td>2</td>\n",
       "    </tr>\n",
       "  </tbody>\n",
       "</table>\n",
       "</div>"
      ],
      "text/plain": [
       "  legislator  Party Movies_preferences  legislator_id  Party_id\n",
       "0      Pedro   PSOE       Action|Drama              1         1\n",
       "1   Santiago    VOX              Belic              2         3\n",
       "2    Alberto     PP       Belic|Comedy              0         0\n",
       "3    Yolanda  Sumar       Comedy|Drama              3         2"
      ]
     },
     "execution_count": 8,
     "metadata": {},
     "output_type": "execute_result"
    }
   ],
   "source": [
    "politicians.df"
   ]
  },
  {
   "cell_type": "markdown",
   "id": "73d20ae2-04db-4660-826d-d5b5aed45105",
   "metadata": {},
   "source": [
    "Similarly to the `nodes_layer`, you can acces to the metadata ids through the `dict_codes` attribute."
   ]
  },
  {
   "cell_type": "code",
   "execution_count": 9,
   "id": "2e511b25-9e2e-41d4-b601-96f7ce2e75ac",
   "metadata": {
    "ExecuteTime": {
     "end_time": "2024-06-10T07:47:46.195913Z",
     "start_time": "2024-06-10T07:47:46.173768Z"
    },
    "tags": []
   },
   "outputs": [
    {
     "data": {
      "text/plain": [
       "{'PSOE': 1, 'VOX': 3, 'PP': 0, 'Sumar': 2}"
      ]
     },
     "execution_count": 9,
     "metadata": {},
     "output_type": "execute_result"
    }
   ],
   "source": [
    "parties.dict_codes"
   ]
  },
  {
   "cell_type": "markdown",
   "id": "73e18955-fb33-49df-a1b5-d5518ae416ee",
   "metadata": {},
   "source": [
    "### Inclusive metadata"
   ]
  },
  {
   "cell_type": "markdown",
   "id": "b954a1ea-8661-486d-8f9a-4d24a33090e6",
   "metadata": {},
   "source": [
    "Once the `nodes_layer` is initialized, you can add the metadata using the `add_inclusive_metadata` method that will return a `inclusive_metadata` class. "
   ]
  },
  {
   "cell_type": "code",
   "execution_count": 10,
   "id": "5c5268d7-6a7c-451c-9f20-e8cc482e94a1",
   "metadata": {
    "ExecuteTime": {
     "end_time": "2024-06-10T07:47:47.156128Z",
     "start_time": "2024-06-10T07:47:47.149249Z"
    }
   },
   "outputs": [],
   "source": [
    "# Importance of the metadata\n",
    "lambda_movies = 0.3\n",
    "# Number of groups of genres\n",
    "Tau_movies = 6\n",
    "movies = politicians.add_inclusive_metadata(lambda_movies,\"Movies_preferences\",Tau_movies)"
   ]
  },
  {
   "cell_type": "markdown",
   "id": "1cf43c73-f413-402f-87d8-21017ae47439",
   "metadata": {},
   "source": [
    "Also, this object will be stored inside the `nodes_layer` object in the `meta_inclusives` attribute that is a dictionary whose keys are the column names of the metadaa and the value the object."
   ]
  },
  {
   "cell_type": "code",
   "execution_count": 11,
   "id": "0fdd0345-6184-4c15-8d29-1d6e00664f28",
   "metadata": {
    "ExecuteTime": {
     "end_time": "2024-06-10T07:47:47.939922Z",
     "start_time": "2024-06-10T07:47:47.927479Z"
    }
   },
   "outputs": [
    {
     "data": {
      "text/plain": [
       "True"
      ]
     },
     "execution_count": 11,
     "metadata": {},
     "output_type": "execute_result"
    }
   ],
   "source": [
    "politicians.meta_inclusives[str(movies)] == movies"
   ]
  },
  {
   "cell_type": "markdown",
   "id": "d5420b1e-8225-4a93-abe3-8a54d1fa9107",
   "metadata": {},
   "source": [
    "The value of `lambda_movies` is how important will be the metadata while the inference procedure is running and it can be accesed from the `lambda_val` attribute."
   ]
  },
  {
   "cell_type": "code",
   "execution_count": 12,
   "id": "25a2eefe-37d3-4863-9cbf-9ceffbadc14f",
   "metadata": {
    "ExecuteTime": {
     "end_time": "2024-06-10T07:47:48.759624Z",
     "start_time": "2024-06-10T07:47:48.741983Z"
    }
   },
   "outputs": [
    {
     "name": "stdout",
     "output_type": "stream",
     "text": [
      "Importance of politicians movies preferences: 0.3\n",
      "Importance of politicians movies preferences: 20\n"
     ]
    }
   ],
   "source": [
    "print(f\"Importance of politicians movies preferences: {movies.lambda_val}\")\n",
    "movies.lambda_val = 20\n",
    "print(f\"Importance of politicians movies preferences: {movies.lambda_val}\")"
   ]
  },
  {
   "cell_type": "markdown",
   "id": "afe254ff-a0e1-49c1-8079-234acf3d74f4",
   "metadata": {},
   "source": [
    "The value of `Tau_movies` is the number of groups which the metadata will be grouped in the inference and it can be accesed from the `lambda_val` attribute."
   ]
  },
  {
   "cell_type": "code",
   "execution_count": 13,
   "id": "9d41d117-5415-4bcf-be7c-a2162be3ba2c",
   "metadata": {
    "ExecuteTime": {
     "end_time": "2024-06-10T07:47:49.489763Z",
     "start_time": "2024-06-10T07:47:49.483888Z"
    }
   },
   "outputs": [
    {
     "name": "stdout",
     "output_type": "stream",
     "text": [
      "Number of groups of politicians: 6\n",
      "Number of groups of politicians: 3\n"
     ]
    }
   ],
   "source": [
    "print(f\"Number of groups of politicians: {movies.Tau}\")\n",
    "movies.Tau = 3\n",
    "print(f\"Number of groups of politicians: {movies.Tau}\")"
   ]
  },
  {
   "cell_type": "markdown",
   "id": "b28c689e-b156-41ca-82a4-ff596d55bf8d",
   "metadata": {},
   "source": [
    "When the metadata has been added to the `nodes_layer` object, its dataframe will add a new column with the ids of the metadata with the same column name but finished in `_id`."
   ]
  },
  {
   "cell_type": "code",
   "execution_count": 14,
   "id": "138907c5-dfdc-483a-a3eb-4b7f83341a49",
   "metadata": {
    "ExecuteTime": {
     "end_time": "2024-06-10T07:47:50.329223Z",
     "start_time": "2024-06-10T07:47:50.315394Z"
    }
   },
   "outputs": [
    {
     "data": {
      "text/html": [
       "<div>\n",
       "<style scoped>\n",
       "    .dataframe tbody tr th:only-of-type {\n",
       "        vertical-align: middle;\n",
       "    }\n",
       "\n",
       "    .dataframe tbody tr th {\n",
       "        vertical-align: top;\n",
       "    }\n",
       "\n",
       "    .dataframe thead th {\n",
       "        text-align: right;\n",
       "    }\n",
       "</style>\n",
       "<table border=\"1\" class=\"dataframe\">\n",
       "  <thead>\n",
       "    <tr style=\"text-align: right;\">\n",
       "      <th></th>\n",
       "      <th>legislator</th>\n",
       "      <th>Party</th>\n",
       "      <th>Movies_preferences</th>\n",
       "      <th>legislator_id</th>\n",
       "      <th>Party_id</th>\n",
       "    </tr>\n",
       "  </thead>\n",
       "  <tbody>\n",
       "    <tr>\n",
       "      <th>0</th>\n",
       "      <td>Pedro</td>\n",
       "      <td>PSOE</td>\n",
       "      <td>Action|Drama</td>\n",
       "      <td>1</td>\n",
       "      <td>1</td>\n",
       "    </tr>\n",
       "    <tr>\n",
       "      <th>1</th>\n",
       "      <td>Santiago</td>\n",
       "      <td>VOX</td>\n",
       "      <td>Belic</td>\n",
       "      <td>2</td>\n",
       "      <td>3</td>\n",
       "    </tr>\n",
       "    <tr>\n",
       "      <th>2</th>\n",
       "      <td>Alberto</td>\n",
       "      <td>PP</td>\n",
       "      <td>Belic|Comedy</td>\n",
       "      <td>0</td>\n",
       "      <td>0</td>\n",
       "    </tr>\n",
       "    <tr>\n",
       "      <th>3</th>\n",
       "      <td>Yolanda</td>\n",
       "      <td>Sumar</td>\n",
       "      <td>Comedy|Drama</td>\n",
       "      <td>3</td>\n",
       "      <td>2</td>\n",
       "    </tr>\n",
       "  </tbody>\n",
       "</table>\n",
       "</div>"
      ],
      "text/plain": [
       "  legislator  Party Movies_preferences  legislator_id  Party_id\n",
       "0      Pedro   PSOE       Action|Drama              1         1\n",
       "1   Santiago    VOX              Belic              2         3\n",
       "2    Alberto     PP       Belic|Comedy              0         0\n",
       "3    Yolanda  Sumar       Comedy|Drama              3         2"
      ]
     },
     "execution_count": 14,
     "metadata": {},
     "output_type": "execute_result"
    }
   ],
   "source": [
    "politicians.df"
   ]
  },
  {
   "cell_type": "markdown",
   "id": "832956f3-3686-4dbb-b118-561f6ec709a7",
   "metadata": {},
   "source": [
    "Similarly to the `nodes_layer`, you can acces to the metadata ids through the `dict_codes` attribute."
   ]
  },
  {
   "cell_type": "code",
   "execution_count": 15,
   "id": "c3b78fca-f0e3-423d-b4c1-9a3202867cd6",
   "metadata": {
    "ExecuteTime": {
     "end_time": "2024-06-10T07:47:51.353491Z",
     "start_time": "2024-06-10T07:47:51.340940Z"
    },
    "tags": []
   },
   "outputs": [
    {
     "data": {
      "text/plain": [
       "{'Belic': 0, 'Comedy': 1, 'Action': 2, 'Drama': 3}"
      ]
     },
     "execution_count": 15,
     "metadata": {},
     "output_type": "execute_result"
    }
   ],
   "source": [
    "movies.dict_codes"
   ]
  },
  {
   "cell_type": "markdown",
   "id": "41523b53-fa49-43e4-90ed-162e1b40b33e",
   "metadata": {},
   "source": [
    "### Accesing to the metadata object from its name"
   ]
  },
  {
   "cell_type": "markdown",
   "id": "dd3f1de2-0703-4413-bf4e-d8d866862500",
   "metadata": {},
   "source": [
    "You can access to the metadata_layer objects without using the `meta_inclusive` and `meta_exclusives` dictionaries."
   ]
  },
  {
   "cell_type": "code",
   "execution_count": 16,
   "id": "d241d730-3723-455c-a14d-e2093080a54a",
   "metadata": {
    "ExecuteTime": {
     "end_time": "2024-06-10T07:47:52.686580Z",
     "start_time": "2024-06-10T07:47:52.675113Z"
    }
   },
   "outputs": [
    {
     "data": {
      "text/plain": [
       "True"
      ]
     },
     "execution_count": 16,
     "metadata": {},
     "output_type": "execute_result"
    }
   ],
   "source": [
    "politicians[str(movies)] == movies"
   ]
  },
  {
   "cell_type": "code",
   "execution_count": 17,
   "id": "7161c12b-5a7a-473f-b780-2668d70cf283",
   "metadata": {
    "ExecuteTime": {
     "end_time": "2024-06-10T07:47:53.198488Z",
     "start_time": "2024-06-10T07:47:53.186375Z"
    }
   },
   "outputs": [
    {
     "data": {
      "text/plain": [
       "True"
      ]
     },
     "execution_count": 17,
     "metadata": {},
     "output_type": "execute_result"
    }
   ],
   "source": [
    "politicians[str(parties)] == parties"
   ]
  },
  {
   "cell_type": "markdown",
   "id": "644023b1-a301-42ea-96e3-a0d74fee043e",
   "metadata": {},
   "source": [
    "# `BiNet` class"
   ]
  },
  {
   "cell_type": "markdown",
   "id": "cc6661d0-b078-484f-8f97-9e6c248ce531",
   "metadata": {},
   "source": [
    "The BinNet class contains the information about a Bipartite network. It contains information about:\n",
    " - Each of the layers that forms the bipartite network\n",
    " - The observed links."
   ]
  },
  {
   "cell_type": "markdown",
   "id": "351a614d-5cac-48a9-baf4-88d9859692fc",
   "metadata": {},
   "source": [
    "## `BiNet` class without nodes metadata"
   ]
  },
  {
   "cell_type": "markdown",
   "id": "4fed6b51-e4fb-4d2e-a7cf-32e169ea8b93",
   "metadata": {},
   "source": [
    "To declare a `BiNet` object you need always, at less, a dataframe with (minimum) three columns:\n",
    " - One with the source node\n",
    " - One with the target node\n",
    " - The label of the link"
   ]
  },
  {
   "cell_type": "code",
   "execution_count": 18,
   "id": "1d9b29a5-65fd-4352-8d25-6d8505d2f312",
   "metadata": {
    "ExecuteTime": {
     "end_time": "2024-06-10T07:47:59.224415Z",
     "start_time": "2024-06-10T07:47:59.209306Z"
    }
   },
   "outputs": [],
   "source": [
    "links_df = pd.DataFrame({\"source\":[0,0,0,1,1,1,2,2,2],\n",
    "             \"target\":[\"A\",\"B\",\"C\",\"A\",\"B\",\"C\",\"A\",\"B\",\"C\"],\n",
    "             \"labels\":[\"positive\",\"negative\",\"positive\",\"positive\",\"negative\",\"positive\",\"negative\",\"negative\",\"positive\"]})"
   ]
  },
  {
   "cell_type": "code",
   "execution_count": 19,
   "id": "136972a0-d335-46a3-8911-58fd7bf3f1bb",
   "metadata": {
    "ExecuteTime": {
     "end_time": "2024-06-10T07:47:59.721235Z",
     "start_time": "2024-06-10T07:47:59.697382Z"
    }
   },
   "outputs": [],
   "source": [
    "BiNet = sbm.BiNet(links_df,\"labels\",nodes_a_name=\"source\",Ka=1,nodes_b_name=\"target\",Kb=2)"
   ]
  },
  {
   "cell_type": "markdown",
   "id": "432cf533-ff45-40d1-a0a8-7447e194b087",
   "metadata": {},
   "source": [
    "Notice that you need to specify wich columns represent nodes and which is the column of the labels.\n",
    "Also, because the class only distiguish undirect networks, the columns assignments of `nodes_a` and `nodes_b` are irrelevant. Only will affect in the indexing of the matrices of the MMSBM parameters."
   ]
  },
  {
   "cell_type": "markdown",
   "id": "bb941565-d760-40c3-bd0e-48cdd2a085c4",
   "metadata": {},
   "source": [
    "Once the object is initialized, you can acces to the dataframe from the `df` attribute, but now it will notain three new columns, one for each node type and another for the labels, with an integer id that the library will use in the future. The name of the column is the same as the column of the names, but finished in `_id`."
   ]
  },
  {
   "cell_type": "code",
   "execution_count": 20,
   "id": "9a465ecc-7f5f-4cc6-992f-1a296a566dad",
   "metadata": {
    "ExecuteTime": {
     "end_time": "2024-06-10T07:48:01.670816Z",
     "start_time": "2024-06-10T07:48:01.661836Z"
    }
   },
   "outputs": [
    {
     "data": {
      "text/html": [
       "<div>\n",
       "<style scoped>\n",
       "    .dataframe tbody tr th:only-of-type {\n",
       "        vertical-align: middle;\n",
       "    }\n",
       "\n",
       "    .dataframe tbody tr th {\n",
       "        vertical-align: top;\n",
       "    }\n",
       "\n",
       "    .dataframe thead th {\n",
       "        text-align: right;\n",
       "    }\n",
       "</style>\n",
       "<table border=\"1\" class=\"dataframe\">\n",
       "  <thead>\n",
       "    <tr style=\"text-align: right;\">\n",
       "      <th></th>\n",
       "      <th>source</th>\n",
       "      <th>target</th>\n",
       "      <th>labels</th>\n",
       "      <th>labels_id</th>\n",
       "      <th>source_id</th>\n",
       "      <th>target_id</th>\n",
       "    </tr>\n",
       "  </thead>\n",
       "  <tbody>\n",
       "    <tr>\n",
       "      <th>0</th>\n",
       "      <td>0</td>\n",
       "      <td>A</td>\n",
       "      <td>positive</td>\n",
       "      <td>1</td>\n",
       "      <td>0</td>\n",
       "      <td>0</td>\n",
       "    </tr>\n",
       "    <tr>\n",
       "      <th>1</th>\n",
       "      <td>0</td>\n",
       "      <td>B</td>\n",
       "      <td>negative</td>\n",
       "      <td>0</td>\n",
       "      <td>0</td>\n",
       "      <td>1</td>\n",
       "    </tr>\n",
       "    <tr>\n",
       "      <th>2</th>\n",
       "      <td>0</td>\n",
       "      <td>C</td>\n",
       "      <td>positive</td>\n",
       "      <td>1</td>\n",
       "      <td>0</td>\n",
       "      <td>2</td>\n",
       "    </tr>\n",
       "    <tr>\n",
       "      <th>3</th>\n",
       "      <td>1</td>\n",
       "      <td>A</td>\n",
       "      <td>positive</td>\n",
       "      <td>1</td>\n",
       "      <td>1</td>\n",
       "      <td>0</td>\n",
       "    </tr>\n",
       "    <tr>\n",
       "      <th>4</th>\n",
       "      <td>1</td>\n",
       "      <td>B</td>\n",
       "      <td>negative</td>\n",
       "      <td>0</td>\n",
       "      <td>1</td>\n",
       "      <td>1</td>\n",
       "    </tr>\n",
       "    <tr>\n",
       "      <th>5</th>\n",
       "      <td>1</td>\n",
       "      <td>C</td>\n",
       "      <td>positive</td>\n",
       "      <td>1</td>\n",
       "      <td>1</td>\n",
       "      <td>2</td>\n",
       "    </tr>\n",
       "    <tr>\n",
       "      <th>6</th>\n",
       "      <td>2</td>\n",
       "      <td>A</td>\n",
       "      <td>negative</td>\n",
       "      <td>0</td>\n",
       "      <td>2</td>\n",
       "      <td>0</td>\n",
       "    </tr>\n",
       "    <tr>\n",
       "      <th>7</th>\n",
       "      <td>2</td>\n",
       "      <td>B</td>\n",
       "      <td>negative</td>\n",
       "      <td>0</td>\n",
       "      <td>2</td>\n",
       "      <td>1</td>\n",
       "    </tr>\n",
       "    <tr>\n",
       "      <th>8</th>\n",
       "      <td>2</td>\n",
       "      <td>C</td>\n",
       "      <td>positive</td>\n",
       "      <td>1</td>\n",
       "      <td>2</td>\n",
       "      <td>2</td>\n",
       "    </tr>\n",
       "  </tbody>\n",
       "</table>\n",
       "</div>"
      ],
      "text/plain": [
       "   source target    labels  labels_id  source_id  target_id\n",
       "0       0      A  positive          1          0          0\n",
       "1       0      B  negative          0          0          1\n",
       "2       0      C  positive          1          0          2\n",
       "3       1      A  positive          1          1          0\n",
       "4       1      B  negative          0          1          1\n",
       "5       1      C  positive          1          1          2\n",
       "6       2      A  negative          0          2          0\n",
       "7       2      B  negative          0          2          1\n",
       "8       2      C  positive          1          2          2"
      ]
     },
     "execution_count": 20,
     "metadata": {},
     "output_type": "execute_result"
    }
   ],
   "source": [
    "BiNet.df"
   ]
  },
  {
   "cell_type": "markdown",
   "id": "598ee3e3-a1ad-4285-b581-4a4087b29bca",
   "metadata": {},
   "source": [
    "## Accesing to the `node_layer` objects"
   ]
  },
  {
   "cell_type": "markdown",
   "id": "dfccf5dc-8bc2-4455-81ec-887c86c83885",
   "metadata": {},
   "source": [
    "Two attributes that contains the information of the nodes are the `nodes_a` and `nodes_b` attributes that are `nodes_layer` objects."
   ]
  },
  {
   "cell_type": "code",
   "execution_count": 21,
   "id": "a806bc6b-725e-4b81-bb37-ba7d427d8f98",
   "metadata": {
    "ExecuteTime": {
     "end_time": "2024-06-10T07:48:03.556171Z",
     "start_time": "2024-06-10T07:48:03.535305Z"
    }
   },
   "outputs": [
    {
     "name": "stdout",
     "output_type": "stream",
     "text": [
      "source <class 'MMSBM_library.nodes_layer'>\n",
      "target <class 'MMSBM_library.nodes_layer'>\n"
     ]
    }
   ],
   "source": [
    "print(BiNet.nodes_a,type(BiNet.nodes_a))\n",
    "print(BiNet.nodes_b,type(BiNet.nodes_b))"
   ]
  },
  {
   "cell_type": "markdown",
   "id": "e7b5e40a-8fd6-42ea-b0d4-4ce5afe93ba0",
   "metadata": {},
   "source": [
    "An easier way to access to these objects is by using the name of the layer:"
   ]
  },
  {
   "cell_type": "code",
   "execution_count": 22,
   "id": "f1a0d471-bde0-4091-b8b4-3b03b4f71d7d",
   "metadata": {
    "ExecuteTime": {
     "end_time": "2024-06-10T07:48:12.188236Z",
     "start_time": "2024-06-10T07:48:12.177645Z"
    }
   },
   "outputs": [
    {
     "data": {
      "text/plain": [
       "True"
      ]
     },
     "execution_count": 22,
     "metadata": {},
     "output_type": "execute_result"
    }
   ],
   "source": [
    "BiNet[\"source\"] == BiNet.nodes_a"
   ]
  },
  {
   "cell_type": "code",
   "execution_count": 23,
   "id": "1c7d557d-87d2-43a9-b8be-8ac5940f554e",
   "metadata": {
    "ExecuteTime": {
     "end_time": "2024-06-10T07:48:12.584573Z",
     "start_time": "2024-06-10T07:48:12.568184Z"
    }
   },
   "outputs": [
    {
     "data": {
      "text/plain": [
       "True"
      ]
     },
     "execution_count": 23,
     "metadata": {},
     "output_type": "execute_result"
    }
   ],
   "source": [
    "BiNet[\"target\"] == BiNet.nodes_b"
   ]
  },
  {
   "cell_type": "markdown",
   "id": "1fa6e1e9-a6bb-432e-929b-47b4f4d23561",
   "metadata": {},
   "source": [
    "As before, you can access to a dataframe with the `df` method. Also, it will contain an extra column with the ids."
   ]
  },
  {
   "cell_type": "code",
   "execution_count": 24,
   "id": "f251bf51-81bd-467c-9771-839e429053c1",
   "metadata": {
    "ExecuteTime": {
     "end_time": "2024-06-10T07:48:13.099051Z",
     "start_time": "2024-06-10T07:48:13.085935Z"
    }
   },
   "outputs": [
    {
     "data": {
      "text/html": [
       "<div>\n",
       "<style scoped>\n",
       "    .dataframe tbody tr th:only-of-type {\n",
       "        vertical-align: middle;\n",
       "    }\n",
       "\n",
       "    .dataframe tbody tr th {\n",
       "        vertical-align: top;\n",
       "    }\n",
       "\n",
       "    .dataframe thead th {\n",
       "        text-align: right;\n",
       "    }\n",
       "</style>\n",
       "<table border=\"1\" class=\"dataframe\">\n",
       "  <thead>\n",
       "    <tr style=\"text-align: right;\">\n",
       "      <th></th>\n",
       "      <th>source</th>\n",
       "      <th>source_id</th>\n",
       "    </tr>\n",
       "  </thead>\n",
       "  <tbody>\n",
       "    <tr>\n",
       "      <th>0</th>\n",
       "      <td>0</td>\n",
       "      <td>0</td>\n",
       "    </tr>\n",
       "    <tr>\n",
       "      <th>1</th>\n",
       "      <td>1</td>\n",
       "      <td>1</td>\n",
       "    </tr>\n",
       "    <tr>\n",
       "      <th>2</th>\n",
       "      <td>2</td>\n",
       "      <td>2</td>\n",
       "    </tr>\n",
       "  </tbody>\n",
       "</table>\n",
       "</div>"
      ],
      "text/plain": [
       "   source  source_id\n",
       "0       0          0\n",
       "1       1          1\n",
       "2       2          2"
      ]
     },
     "execution_count": 24,
     "metadata": {},
     "output_type": "execute_result"
    }
   ],
   "source": [
    "BiNet[\"source\"].df"
   ]
  },
  {
   "cell_type": "code",
   "execution_count": 25,
   "id": "64f27672-3888-44d7-8b93-68551fabbdbb",
   "metadata": {
    "ExecuteTime": {
     "end_time": "2024-06-10T07:48:13.441193Z",
     "start_time": "2024-06-10T07:48:13.431303Z"
    }
   },
   "outputs": [
    {
     "data": {
      "text/html": [
       "<div>\n",
       "<style scoped>\n",
       "    .dataframe tbody tr th:only-of-type {\n",
       "        vertical-align: middle;\n",
       "    }\n",
       "\n",
       "    .dataframe tbody tr th {\n",
       "        vertical-align: top;\n",
       "    }\n",
       "\n",
       "    .dataframe thead th {\n",
       "        text-align: right;\n",
       "    }\n",
       "</style>\n",
       "<table border=\"1\" class=\"dataframe\">\n",
       "  <thead>\n",
       "    <tr style=\"text-align: right;\">\n",
       "      <th></th>\n",
       "      <th>target</th>\n",
       "      <th>target_id</th>\n",
       "    </tr>\n",
       "  </thead>\n",
       "  <tbody>\n",
       "    <tr>\n",
       "      <th>0</th>\n",
       "      <td>A</td>\n",
       "      <td>0</td>\n",
       "    </tr>\n",
       "    <tr>\n",
       "      <th>1</th>\n",
       "      <td>B</td>\n",
       "      <td>1</td>\n",
       "    </tr>\n",
       "    <tr>\n",
       "      <th>2</th>\n",
       "      <td>C</td>\n",
       "      <td>2</td>\n",
       "    </tr>\n",
       "  </tbody>\n",
       "</table>\n",
       "</div>"
      ],
      "text/plain": [
       "  target  target_id\n",
       "0      A          0\n",
       "1      B          1\n",
       "2      C          2"
      ]
     },
     "execution_count": 25,
     "metadata": {},
     "output_type": "execute_result"
    }
   ],
   "source": [
    "BiNet[\"target\"].df"
   ]
  },
  {
   "cell_type": "markdown",
   "id": "6b26e09d-c375-44d6-bc0b-2d91c8fc8b8c",
   "metadata": {},
   "source": [
    "## Using `nodes_layer` objects to initialize a `BiNet` object"
   ]
  },
  {
   "cell_type": "markdown",
   "id": "7029c78a-34b7-41b9-9bb1-befa2900313b",
   "metadata": {},
   "source": [
    "The example of before only has a link list with labels. Sometimes you want to infer using nodes' metadata. The best way to do that is by using `nodes_layer` objects."
   ]
  },
  {
   "cell_type": "markdown",
   "id": "fbcb64ff-297d-4228-93c8-3608cd256f94",
   "metadata": {},
   "source": [
    "First let's create the `nodes_layer` objects"
   ]
  },
  {
   "cell_type": "code",
   "execution_count": 26,
   "id": "c57ba59e-dffa-46bf-b24d-1932baf98e90",
   "metadata": {
    "ExecuteTime": {
     "end_time": "2024-06-10T07:48:14.399482Z",
     "start_time": "2024-06-10T07:48:14.377692Z"
    }
   },
   "outputs": [
    {
     "data": {
      "text/plain": [
       "<MMSBM_library.inclusive_metadata at 0x1fd9a628df0>"
      ]
     },
     "execution_count": 26,
     "metadata": {},
     "output_type": "execute_result"
    }
   ],
   "source": [
    "#Dataframe to use\n",
    "df_politicians =pd.DataFrame( {\"legislator\":[\"Pedro\", \"Santiago\", \"Alberto\", \"Yolanda\"],\n",
    "                               \"Party\":[\"PSOE\", \"VOX\", \"PP\", \"Sumar\"],\n",
    "                               \"Movies_preferences\":[\"Action|Drama\",\"Belic\",\"Belic|Comedy\",\"Comedy|Drama\"]})\n",
    "#Number of groups\n",
    "K = 2\n",
    "#You have to tell in which the name of the nodes will be as the second parameter \n",
    "politicians = sbm.nodes_layer(K,\"legislator\",df_politicians)\n",
    "\n",
    "politicians.add_exclusive_metadata(1,\"Party\")\n",
    "politicians.add_inclusive_metadata(1,\"Movies_preferences\",1)"
   ]
  },
  {
   "cell_type": "code",
   "execution_count": 27,
   "id": "aeae6e26-caf5-486b-98e3-c3f9fabb60b2",
   "metadata": {
    "ExecuteTime": {
     "end_time": "2024-06-10T07:48:15.271341Z",
     "start_time": "2024-06-10T07:48:15.247979Z"
    }
   },
   "outputs": [],
   "source": [
    "#Dataframe to use\n",
    "df_bills =pd.DataFrame( {\"bill\":[\"A\", \"B\", \"C\",\"D\"],\n",
    "                            \"Year\":[2020, 2020, 2021, 2022]})\n",
    "#Number of groups\n",
    "K = 2\n",
    "#You have to tell in which the name of the nodes will be as the second parameter \n",
    "bills = sbm.nodes_layer(K,\"bill\",df_bills)"
   ]
  },
  {
   "cell_type": "markdown",
   "id": "96f9fcfb-d315-4e46-bc71-41514829ef25",
   "metadata": {},
   "source": [
    "Now we can create the `BiNet` object, but with the difference that instead of specifying the name of the nodes layer, you have to use as a parameter the `nodes_layer` object using the `nodes_a` and `nodes_b` parameters."
   ]
  },
  {
   "cell_type": "code",
   "execution_count": 28,
   "id": "3a54d080-795d-4c93-9ba4-7bc6ce24cca6",
   "metadata": {
    "ExecuteTime": {
     "end_time": "2024-06-10T07:48:19.104438Z",
     "start_time": "2024-06-10T07:48:19.061981Z"
    }
   },
   "outputs": [],
   "source": [
    "#Dataframe to use\n",
    "df_votes =pd.DataFrame( {\"legislator\":[\"Pedro\",\"Pedro\",\"Pedro\",\"Santiago\",\"Santiago\",\"Santiago\", \n",
    "                                       \"Alberto\", \"Alberto\", \"Alberto\", \"Yolanda\", \"Yolanda\", \"Yolanda\"],\n",
    "                         \"bill\":[\"A\", \"B\", \"D\",  \"A\",\"C\", \"D\",\n",
    "                                 \"A\", \"B\", \"C\",  \"B\",\"C\", \"D\",],\n",
    "                         \"votes\":[\"Yes\",\"No\",\"No\",  \"No\",\"Yes\",\"Yes\",\n",
    "                                  \"No\",\"No\",\"Yes\",  \"Yes\",\"No\",\"No\"]})\n",
    "#Creating the BiNet object\n",
    "votes = sbm.BiNet(df_votes,\"votes\",nodes_a=bills,nodes_b=politicians)"
   ]
  },
  {
   "cell_type": "markdown",
   "id": "02354b29-7619-41bc-9f5c-82aba05581c8",
   "metadata": {},
   "source": [
    "Notice that you do not need to specify the number of the groups of each `nodes_layer` because it is contained in the correspondence `nodes_layer`.\n",
    "\n",
    "IMPORTANT: The name of the columns of the layer in both Dataframes (from the `nodes_layer` object and for the `BiNet` object) must to coincide. Else, a `KeyError` will arrise."
   ]
  },
  {
   "cell_type": "markdown",
   "id": "3c621580-c2a2-4b78-a1cc-348f759adcad",
   "metadata": {},
   "source": [
    "Is not mandatory to use two `nodes_layer` to create the `BiNet` object when you need metadata from only one of the layers. Remember to specify the number of groups."
   ]
  },
  {
   "cell_type": "code",
   "execution_count": 29,
   "id": "07db6448-a139-40b3-87c9-ebdf9b58b421",
   "metadata": {
    "ExecuteTime": {
     "end_time": "2024-06-10T07:48:20.555110Z",
     "start_time": "2024-06-10T07:48:20.534947Z"
    }
   },
   "outputs": [],
   "source": [
    "#Example using only one nodes_layer object\n",
    "votes = sbm.BiNet(df_votes,\"votes\",nodes_a_name=\"bill\",Ka=2,nodes_b=politicians)"
   ]
  },
  {
   "cell_type": "markdown",
   "id": "975275ea-0c42-48d9-adcb-7e99dc3f1c31",
   "metadata": {},
   "source": [
    "If you display the dataframe of the `BinNet` and the `nodes_layer` objects, the nodes ids from both layers will coincide."
   ]
  },
  {
   "cell_type": "code",
   "execution_count": 30,
   "id": "fad81ed1-66a6-432b-affe-ac7b7441386f",
   "metadata": {
    "ExecuteTime": {
     "end_time": "2024-06-10T07:48:21.898304Z",
     "start_time": "2024-06-10T07:48:21.866883Z"
    }
   },
   "outputs": [
    {
     "data": {
      "text/html": [
       "<div>\n",
       "<style scoped>\n",
       "    .dataframe tbody tr th:only-of-type {\n",
       "        vertical-align: middle;\n",
       "    }\n",
       "\n",
       "    .dataframe tbody tr th {\n",
       "        vertical-align: top;\n",
       "    }\n",
       "\n",
       "    .dataframe thead th {\n",
       "        text-align: right;\n",
       "    }\n",
       "</style>\n",
       "<table border=\"1\" class=\"dataframe\">\n",
       "  <thead>\n",
       "    <tr style=\"text-align: right;\">\n",
       "      <th></th>\n",
       "      <th>legislator</th>\n",
       "      <th>legislator_id</th>\n",
       "      <th>bill</th>\n",
       "      <th>bill_id</th>\n",
       "    </tr>\n",
       "  </thead>\n",
       "  <tbody>\n",
       "    <tr>\n",
       "      <th>0</th>\n",
       "      <td>Pedro</td>\n",
       "      <td>1</td>\n",
       "      <td>A</td>\n",
       "      <td>0</td>\n",
       "    </tr>\n",
       "    <tr>\n",
       "      <th>1</th>\n",
       "      <td>Pedro</td>\n",
       "      <td>1</td>\n",
       "      <td>B</td>\n",
       "      <td>1</td>\n",
       "    </tr>\n",
       "    <tr>\n",
       "      <th>2</th>\n",
       "      <td>Pedro</td>\n",
       "      <td>1</td>\n",
       "      <td>D</td>\n",
       "      <td>3</td>\n",
       "    </tr>\n",
       "    <tr>\n",
       "      <th>3</th>\n",
       "      <td>Santiago</td>\n",
       "      <td>2</td>\n",
       "      <td>A</td>\n",
       "      <td>0</td>\n",
       "    </tr>\n",
       "    <tr>\n",
       "      <th>4</th>\n",
       "      <td>Santiago</td>\n",
       "      <td>2</td>\n",
       "      <td>C</td>\n",
       "      <td>2</td>\n",
       "    </tr>\n",
       "    <tr>\n",
       "      <th>5</th>\n",
       "      <td>Santiago</td>\n",
       "      <td>2</td>\n",
       "      <td>D</td>\n",
       "      <td>3</td>\n",
       "    </tr>\n",
       "    <tr>\n",
       "      <th>6</th>\n",
       "      <td>Alberto</td>\n",
       "      <td>0</td>\n",
       "      <td>A</td>\n",
       "      <td>0</td>\n",
       "    </tr>\n",
       "    <tr>\n",
       "      <th>7</th>\n",
       "      <td>Alberto</td>\n",
       "      <td>0</td>\n",
       "      <td>B</td>\n",
       "      <td>1</td>\n",
       "    </tr>\n",
       "    <tr>\n",
       "      <th>8</th>\n",
       "      <td>Alberto</td>\n",
       "      <td>0</td>\n",
       "      <td>C</td>\n",
       "      <td>2</td>\n",
       "    </tr>\n",
       "    <tr>\n",
       "      <th>9</th>\n",
       "      <td>Yolanda</td>\n",
       "      <td>3</td>\n",
       "      <td>B</td>\n",
       "      <td>1</td>\n",
       "    </tr>\n",
       "    <tr>\n",
       "      <th>10</th>\n",
       "      <td>Yolanda</td>\n",
       "      <td>3</td>\n",
       "      <td>C</td>\n",
       "      <td>2</td>\n",
       "    </tr>\n",
       "    <tr>\n",
       "      <th>11</th>\n",
       "      <td>Yolanda</td>\n",
       "      <td>3</td>\n",
       "      <td>D</td>\n",
       "      <td>3</td>\n",
       "    </tr>\n",
       "  </tbody>\n",
       "</table>\n",
       "</div>"
      ],
      "text/plain": [
       "   legislator  legislator_id bill  bill_id\n",
       "0       Pedro              1    A        0\n",
       "1       Pedro              1    B        1\n",
       "2       Pedro              1    D        3\n",
       "3    Santiago              2    A        0\n",
       "4    Santiago              2    C        2\n",
       "5    Santiago              2    D        3\n",
       "6     Alberto              0    A        0\n",
       "7     Alberto              0    B        1\n",
       "8     Alberto              0    C        2\n",
       "9     Yolanda              3    B        1\n",
       "10    Yolanda              3    C        2\n",
       "11    Yolanda              3    D        3"
      ]
     },
     "metadata": {},
     "output_type": "display_data"
    },
    {
     "data": {
      "text/html": [
       "<div>\n",
       "<style scoped>\n",
       "    .dataframe tbody tr th:only-of-type {\n",
       "        vertical-align: middle;\n",
       "    }\n",
       "\n",
       "    .dataframe tbody tr th {\n",
       "        vertical-align: top;\n",
       "    }\n",
       "\n",
       "    .dataframe thead th {\n",
       "        text-align: right;\n",
       "    }\n",
       "</style>\n",
       "<table border=\"1\" class=\"dataframe\">\n",
       "  <thead>\n",
       "    <tr style=\"text-align: right;\">\n",
       "      <th></th>\n",
       "      <th>legislator</th>\n",
       "      <th>legislator_id</th>\n",
       "    </tr>\n",
       "  </thead>\n",
       "  <tbody>\n",
       "    <tr>\n",
       "      <th>0</th>\n",
       "      <td>Pedro</td>\n",
       "      <td>1</td>\n",
       "    </tr>\n",
       "    <tr>\n",
       "      <th>1</th>\n",
       "      <td>Santiago</td>\n",
       "      <td>2</td>\n",
       "    </tr>\n",
       "    <tr>\n",
       "      <th>2</th>\n",
       "      <td>Alberto</td>\n",
       "      <td>0</td>\n",
       "    </tr>\n",
       "    <tr>\n",
       "      <th>3</th>\n",
       "      <td>Yolanda</td>\n",
       "      <td>3</td>\n",
       "    </tr>\n",
       "  </tbody>\n",
       "</table>\n",
       "</div>"
      ],
      "text/plain": [
       "  legislator  legislator_id\n",
       "0      Pedro              1\n",
       "1   Santiago              2\n",
       "2    Alberto              0\n",
       "3    Yolanda              3"
      ]
     },
     "metadata": {},
     "output_type": "display_data"
    },
    {
     "data": {
      "text/html": [
       "<div>\n",
       "<style scoped>\n",
       "    .dataframe tbody tr th:only-of-type {\n",
       "        vertical-align: middle;\n",
       "    }\n",
       "\n",
       "    .dataframe tbody tr th {\n",
       "        vertical-align: top;\n",
       "    }\n",
       "\n",
       "    .dataframe thead th {\n",
       "        text-align: right;\n",
       "    }\n",
       "</style>\n",
       "<table border=\"1\" class=\"dataframe\">\n",
       "  <thead>\n",
       "    <tr style=\"text-align: right;\">\n",
       "      <th></th>\n",
       "      <th>bill</th>\n",
       "      <th>bill_id</th>\n",
       "    </tr>\n",
       "  </thead>\n",
       "  <tbody>\n",
       "    <tr>\n",
       "      <th>0</th>\n",
       "      <td>A</td>\n",
       "      <td>0</td>\n",
       "    </tr>\n",
       "    <tr>\n",
       "      <th>1</th>\n",
       "      <td>B</td>\n",
       "      <td>1</td>\n",
       "    </tr>\n",
       "    <tr>\n",
       "      <th>2</th>\n",
       "      <td>D</td>\n",
       "      <td>3</td>\n",
       "    </tr>\n",
       "    <tr>\n",
       "      <th>3</th>\n",
       "      <td>C</td>\n",
       "      <td>2</td>\n",
       "    </tr>\n",
       "  </tbody>\n",
       "</table>\n",
       "</div>"
      ],
      "text/plain": [
       "  bill  bill_id\n",
       "0    A        0\n",
       "1    B        1\n",
       "2    D        3\n",
       "3    C        2"
      ]
     },
     "metadata": {},
     "output_type": "display_data"
    }
   ],
   "source": [
    "display(votes.df[[\"legislator\",\"legislator_id\",\"bill\",\"bill_id\"]])\n",
    "display(votes[\"legislator\"].df[[\"legislator\",\"legislator_id\"]])\n",
    "display(votes[\"bill\"].df[[\"bill\",\"bill_id\"]])"
   ]
  },
  {
   "cell_type": "markdown",
   "id": "43057b97-4cef-4331-8313-0e7aa45ad04d",
   "metadata": {},
   "source": [
    "# The Expectation Maximization (EM) algorithm"
   ]
  },
  {
   "cell_type": "markdown",
   "id": "c196d597-2301-488e-8257-136ad277cc4d",
   "metadata": {},
   "source": [
    "To start to infer the parameters of the MMSBM, you have to initialize the parameters. It can be easily done with the `init_EM` method."
   ]
  },
  {
   "cell_type": "code",
   "execution_count": 31,
   "id": "f65daa6b-c4b7-47aa-92ef-a019693680be",
   "metadata": {
    "ExecuteTime": {
     "end_time": "2024-06-10T07:48:23.934816Z",
     "start_time": "2024-06-10T07:48:23.914620Z"
    }
   },
   "outputs": [],
   "source": [
    "votes.init_EM()"
   ]
  },
  {
   "cell_type": "markdown",
   "id": "bd1b42f7-93f6-42a9-abda-209db9f3914e",
   "metadata": {},
   "source": [
    "Once the EM have been initialized, the parameters will be stored in attributes. For the membership parameters, each `nodes_layer` will have a `theta` attribute that is a matrix."
   ]
  },
  {
   "cell_type": "code",
   "execution_count": 32,
   "id": "8a43cb4c-dca8-487f-a4b2-78a668021a0c",
   "metadata": {
    "ExecuteTime": {
     "end_time": "2024-06-10T07:48:26.000320Z",
     "start_time": "2024-06-10T07:48:25.946925Z"
    }
   },
   "outputs": [
    {
     "data": {
      "text/plain": [
       "array([[0.97854001, 0.02145999],\n",
       "       [0.5381667 , 0.4618333 ],\n",
       "       [0.54037313, 0.45962687],\n",
       "       [0.16977574, 0.83022426]])"
      ]
     },
     "execution_count": 32,
     "metadata": {},
     "output_type": "execute_result"
    }
   ],
   "source": [
    "votes[\"legislator\"].theta"
   ]
  },
  {
   "cell_type": "code",
   "execution_count": 33,
   "id": "28761b9e-2394-4609-a99a-7896b1c02258",
   "metadata": {
    "ExecuteTime": {
     "end_time": "2024-06-10T07:48:27.005757Z",
     "start_time": "2024-06-10T07:48:26.993465Z"
    }
   },
   "outputs": [
    {
     "data": {
      "text/plain": [
       "array([[0.42520841, 0.57479159],\n",
       "       [0.62985892, 0.37014108],\n",
       "       [0.14547109, 0.85452891],\n",
       "       [0.51793374, 0.48206626]])"
      ]
     },
     "execution_count": 33,
     "metadata": {},
     "output_type": "execute_result"
    }
   ],
   "source": [
    "votes[\"bill\"].theta"
   ]
  },
  {
   "cell_type": "markdown",
   "id": "6b6899c9-a289-4992-9a61-1dc6765c14ca",
   "metadata": {},
   "source": [
    "The first index corresponds to the id of the node, the second correspond to the group number."
   ]
  },
  {
   "cell_type": "markdown",
   "id": "f4c1449b-781f-478b-b8ba-f385ecca1dc0",
   "metadata": {},
   "source": [
    "For the `BiNet` object, the probabilities matrix and the expectation parameters will be stored in the `pkl` and `omega` attributes respectivly"
   ]
  },
  {
   "cell_type": "code",
   "execution_count": 34,
   "id": "068f410e-6a85-4da9-9fe7-e7faaee39065",
   "metadata": {
    "ExecuteTime": {
     "end_time": "2024-06-10T07:48:28.716948Z",
     "start_time": "2024-06-10T07:48:28.712167Z"
    }
   },
   "outputs": [
    {
     "data": {
      "text/plain": [
       "array([[[0.21681093, 0.78318907],\n",
       "        [0.60822987, 0.39177013]],\n",
       "\n",
       "       [[0.08532114, 0.91467886],\n",
       "        [0.99827444, 0.00172556]]])"
      ]
     },
     "execution_count": 34,
     "metadata": {},
     "output_type": "execute_result"
    }
   ],
   "source": [
    "votes.pkl"
   ]
  },
  {
   "cell_type": "markdown",
   "id": "20c4ceef-2dab-4b61-8fe4-9dc9286f12e1",
   "metadata": {},
   "source": [
    "The first and second index corresponds to the groups from `nodes_a` and `nodes_b` respectively. The third correspond to the label id."
   ]
  },
  {
   "cell_type": "code",
   "execution_count": 35,
   "id": "81782cae-1e1a-469c-9dac-2fc5178ffdf3",
   "metadata": {
    "ExecuteTime": {
     "end_time": "2024-06-10T07:48:29.747746Z",
     "start_time": "2024-06-10T07:48:29.732290Z"
    }
   },
   "outputs": [
    {
     "data": {
      "text/plain": [
       "array([[[[5.78038769e-01, 3.55626735e-02],\n",
       "         [3.07497073e-01, 7.89014852e-02]],\n",
       "\n",
       "        [[3.32163193e-01, 1.42588546e-01],\n",
       "         [5.24399294e-01, 8.48967808e-04]],\n",
       "\n",
       "        [[1.08551931e-01, 2.59021482e-01],\n",
       "         [5.77459554e-02, 5.74680631e-01]],\n",
       "\n",
       "        [[0.00000000e+00, 0.00000000e+00],\n",
       "         [0.00000000e+00, 0.00000000e+00]]],\n",
       "\n",
       "\n",
       "       [[[7.39578293e-01, 4.55010681e-02],\n",
       "         [1.71034456e-01, 4.38861824e-02]],\n",
       "\n",
       "        [[1.67765775e-01, 4.03885587e-01],\n",
       "         [3.87974179e-02, 3.89551220e-01]],\n",
       "\n",
       "        [[0.00000000e+00, 0.00000000e+00],\n",
       "         [0.00000000e+00, 0.00000000e+00]],\n",
       "\n",
       "        [[2.41615437e-01, 5.91029508e-01],\n",
       "         [1.65825268e-01, 1.52978777e-03]]],\n",
       "\n",
       "\n",
       "       [[[1.27037423e-01, 1.39362926e-03],\n",
       "         [8.71532890e-01, 3.60574785e-05]],\n",
       "\n",
       "        [[0.00000000e+00, 0.00000000e+00],\n",
       "         [0.00000000e+00, 0.00000000e+00]],\n",
       "\n",
       "        [[1.20526540e-01, 5.12813046e-02],\n",
       "         [8.26865350e-01, 1.32680519e-03]],\n",
       "\n",
       "        [[6.69822700e-03, 9.18895664e-02],\n",
       "         [1.54840795e-02, 8.85928127e-01]]],\n",
       "\n",
       "\n",
       "       [[[0.00000000e+00, 0.00000000e+00],\n",
       "         [0.00000000e+00, 0.00000000e+00]],\n",
       "\n",
       "        [[1.34203739e-01, 3.23087089e-01],\n",
       "         [4.91555539e-02, 4.93553618e-01]],\n",
       "\n",
       "        [[3.97735443e-01, 1.69227396e-01],\n",
       "         [4.32343414e-01, 6.93747155e-04]],\n",
       "\n",
       "        [[2.77458864e-02, 3.80631691e-01],\n",
       "         [1.01626410e-02, 5.81459782e-01]]]])"
      ]
     },
     "execution_count": 35,
     "metadata": {},
     "output_type": "execute_result"
    }
   ],
   "source": [
    "votes.omega"
   ]
  },
  {
   "cell_type": "markdown",
   "id": "b9913e5f-5f81-43bd-9e21-652a22d8100b",
   "metadata": {},
   "source": [
    "The first and second index corresponds to the nodes id from `nodes_a` and `nodes_b` respectively. The second and third index corresponds to the groups from `nodes_a` and `nodes_b` respectively."
   ]
  },
  {
   "cell_type": "markdown",
   "id": "7b305e4167a5b8bb",
   "metadata": {},
   "source": [
    "## Runing the EM algorithm and checking the convergence"
   ]
  },
  {
   "cell_type": "markdown",
   "id": "c8998eb14cff2dd9",
   "metadata": {},
   "source": [
    "To run the EM algorithm, you have to use the `EM_step` method. It will make an iteration of the algorithm by default. You can specify the number of iterations with the `N_steps` parameter. To check the convergence, you can use the `converges` method."
   ]
  },
  {
   "cell_type": "code",
   "execution_count": 36,
   "id": "f05e49b5-3943-4456-bb5a-6655cf2ea48f",
   "metadata": {
    "ExecuteTime": {
     "end_time": "2024-06-10T07:48:31.802178Z",
     "start_time": "2024-06-10T07:48:31.752787Z"
    }
   },
   "outputs": [
    {
     "name": "stdout",
     "output_type": "stream",
     "text": [
      "Iteration 0: False\n",
      "Iteration 5: False\n",
      "Iteration 10: False\n",
      "Iteration 15: False\n",
      "Iteration 20: False\n",
      "Iteration 25: False\n",
      "Iteration 30: False\n",
      "Iteration 35: False\n",
      "Iteration 40: False\n",
      "Iteration 45: True\n"
     ]
    }
   ],
   "source": [
    "N_itt = 100\n",
    "N_check = 5 #Number of iterations to measure the convergence\n",
    "\n",
    "for itt in range(N_itt//N_check):\n",
    "    votes.EM_step(N_check)\n",
    "    converges = votes.converges()\n",
    "    print(f\"Iteration {itt*N_check}: {converges}\")\n",
    "    if converges:\n",
    "        break"
   ]
  },
  {
   "cell_type": "markdown",
   "id": "ec30e3c3bd7d9385",
   "metadata": {},
   "source": [
    "# Using training sets and test sets"
   ]
  },
  {
   "cell_type": "markdown",
   "id": "4874eda2-10cf-4759-8949-fadb1cb62470",
   "metadata": {},
   "source": [
    "You can select a training set instead of using all the links to infer the parameters. You can do that using the `training` parameter when you initialize the EM algorithm. \n",
    "\n",
    "This parameter can be a list of the links ids that you want to use as a training set, another dataframe with more links.If not specified, all the links will be used."
   ]
  },
  {
   "cell_type": "code",
   "execution_count": 37,
   "id": "3d9c77fe32d66dad",
   "metadata": {
    "ExecuteTime": {
     "end_time": "2024-06-10T07:48:37.750172Z",
     "start_time": "2024-06-10T07:48:33.305968Z"
    }
   },
   "outputs": [
    {
     "name": "stdout",
     "output_type": "stream",
     "text": [
      "Iteration 0: converges? False\n",
      "Iteration 5: converges? False\n",
      "Iteration 10: converges? False\n",
      "Iteration 15: converges? False\n",
      "Iteration 20: converges? False\n",
      "Iteration 25: converges? False\n",
      "Iteration 30: converges? False\n",
      "Iteration 35: converges? False\n",
      "Iteration 40: converges? False\n",
      "Iteration 45: converges? True\n"
     ]
    }
   ],
   "source": [
    "from sklearn.model_selection import train_test_split\n",
    "\n",
    "#Defining the training and test sets\n",
    "df_train, df_test = train_test_split(votes.df, test_size=0.2)\n",
    "\n",
    "\n",
    "#Initializing the EM algorithm with the training set\n",
    "votes.init_EM(training=df_train)\n",
    "\n",
    "#Running the EM algorithm\n",
    "N_itt = 100\n",
    "N_check = 5 #Number of iterations to measure the convergence\n",
    "for itt in range(N_itt//N_check):\n",
    "    votes.EM_step(N_check)\n",
    "    converges = votes.converges()\n",
    "    print(f\"Iteration {itt*N_check}: converges? {converges}\")\n",
    "    if converges:\n",
    "        break"
   ]
  },
  {
   "cell_type": "code",
   "execution_count": 38,
   "id": "8a11ef08",
   "metadata": {},
   "outputs": [
    {
     "data": {
      "text/plain": [
       "1.0"
      ]
     },
     "execution_count": 38,
     "metadata": {},
     "output_type": "execute_result"
    }
   ],
   "source": [
    "votes.get_accuracy()"
   ]
  },
  {
   "cell_type": "markdown",
   "id": "935c364f3c0d18ad",
   "metadata": {},
   "source": [
    "## Checking the accuracy and getting predictions"
   ]
  },
  {
   "cell_type": "markdown",
   "id": "1e0e8e141676b18c",
   "metadata": {},
   "source": [
    "Once the EM algorithm has converged, you can get the predictions using the `get_predicted_labels` method. You can spicify which links you want to infer its labels with the `links` parameters. If no links are specified, it will use the links used for training the model."
   ]
  },
  {
   "cell_type": "code",
   "execution_count": 39,
   "id": "85dd08a5a5c1e0e5",
   "metadata": {
    "ExecuteTime": {
     "end_time": "2024-06-10T07:48:37.765392Z",
     "start_time": "2024-06-10T07:48:37.754486Z"
    }
   },
   "outputs": [
    {
     "data": {
      "text/html": [
       "<div>\n",
       "<style scoped>\n",
       "    .dataframe tbody tr th:only-of-type {\n",
       "        vertical-align: middle;\n",
       "    }\n",
       "\n",
       "    .dataframe tbody tr th {\n",
       "        vertical-align: top;\n",
       "    }\n",
       "\n",
       "    .dataframe thead th {\n",
       "        text-align: right;\n",
       "    }\n",
       "</style>\n",
       "<table border=\"1\" class=\"dataframe\">\n",
       "  <thead>\n",
       "    <tr style=\"text-align: right;\">\n",
       "      <th></th>\n",
       "      <th>bill</th>\n",
       "      <th>legislator</th>\n",
       "      <th>Predicted votes</th>\n",
       "    </tr>\n",
       "  </thead>\n",
       "  <tbody>\n",
       "    <tr>\n",
       "      <th>0</th>\n",
       "      <td>A</td>\n",
       "      <td>Alberto</td>\n",
       "      <td>No</td>\n",
       "    </tr>\n",
       "    <tr>\n",
       "      <th>1</th>\n",
       "      <td>B</td>\n",
       "      <td>Yolanda</td>\n",
       "      <td>Yes</td>\n",
       "    </tr>\n",
       "    <tr>\n",
       "      <th>2</th>\n",
       "      <td>C</td>\n",
       "      <td>Yolanda</td>\n",
       "      <td>No</td>\n",
       "    </tr>\n",
       "    <tr>\n",
       "      <th>3</th>\n",
       "      <td>D</td>\n",
       "      <td>Yolanda</td>\n",
       "      <td>No</td>\n",
       "    </tr>\n",
       "    <tr>\n",
       "      <th>4</th>\n",
       "      <td>D</td>\n",
       "      <td>Santiago</td>\n",
       "      <td>Yes</td>\n",
       "    </tr>\n",
       "    <tr>\n",
       "      <th>5</th>\n",
       "      <td>D</td>\n",
       "      <td>Pedro</td>\n",
       "      <td>No</td>\n",
       "    </tr>\n",
       "    <tr>\n",
       "      <th>6</th>\n",
       "      <td>C</td>\n",
       "      <td>Santiago</td>\n",
       "      <td>Yes</td>\n",
       "    </tr>\n",
       "    <tr>\n",
       "      <th>7</th>\n",
       "      <td>C</td>\n",
       "      <td>Alberto</td>\n",
       "      <td>Yes</td>\n",
       "    </tr>\n",
       "    <tr>\n",
       "      <th>8</th>\n",
       "      <td>B</td>\n",
       "      <td>Alberto</td>\n",
       "      <td>No</td>\n",
       "    </tr>\n",
       "  </tbody>\n",
       "</table>\n",
       "</div>"
      ],
      "text/plain": [
       "  bill legislator Predicted votes\n",
       "0    A    Alberto              No\n",
       "1    B    Yolanda             Yes\n",
       "2    C    Yolanda              No\n",
       "3    D    Yolanda              No\n",
       "4    D   Santiago             Yes\n",
       "5    D      Pedro              No\n",
       "6    C   Santiago             Yes\n",
       "7    C    Alberto             Yes\n",
       "8    B    Alberto              No"
      ]
     },
     "execution_count": 39,
     "metadata": {},
     "output_type": "execute_result"
    }
   ],
   "source": [
    "votes.get_predicted_labels()"
   ]
  },
  {
   "cell_type": "code",
   "execution_count": 40,
   "id": "c63ee32922969e3f",
   "metadata": {
    "ExecuteTime": {
     "end_time": "2024-06-10T07:48:37.780830Z",
     "start_time": "2024-06-10T07:48:37.767458Z"
    }
   },
   "outputs": [
    {
     "data": {
      "text/html": [
       "<div>\n",
       "<style scoped>\n",
       "    .dataframe tbody tr th:only-of-type {\n",
       "        vertical-align: middle;\n",
       "    }\n",
       "\n",
       "    .dataframe tbody tr th {\n",
       "        vertical-align: top;\n",
       "    }\n",
       "\n",
       "    .dataframe thead th {\n",
       "        text-align: right;\n",
       "    }\n",
       "</style>\n",
       "<table border=\"1\" class=\"dataframe\">\n",
       "  <thead>\n",
       "    <tr style=\"text-align: right;\">\n",
       "      <th></th>\n",
       "      <th>legislator</th>\n",
       "      <th>bill</th>\n",
       "      <th>votes</th>\n",
       "      <th>votes_id</th>\n",
       "      <th>bill_id</th>\n",
       "      <th>legislator_id</th>\n",
       "    </tr>\n",
       "  </thead>\n",
       "  <tbody>\n",
       "    <tr>\n",
       "      <th>1</th>\n",
       "      <td>Pedro</td>\n",
       "      <td>B</td>\n",
       "      <td>No</td>\n",
       "      <td>0</td>\n",
       "      <td>1</td>\n",
       "      <td>1</td>\n",
       "    </tr>\n",
       "    <tr>\n",
       "      <th>3</th>\n",
       "      <td>Santiago</td>\n",
       "      <td>A</td>\n",
       "      <td>No</td>\n",
       "      <td>0</td>\n",
       "      <td>0</td>\n",
       "      <td>2</td>\n",
       "    </tr>\n",
       "    <tr>\n",
       "      <th>0</th>\n",
       "      <td>Pedro</td>\n",
       "      <td>A</td>\n",
       "      <td>Yes</td>\n",
       "      <td>1</td>\n",
       "      <td>0</td>\n",
       "      <td>1</td>\n",
       "    </tr>\n",
       "  </tbody>\n",
       "</table>\n",
       "</div>"
      ],
      "text/plain": [
       "  legislator bill votes  votes_id  bill_id  legislator_id\n",
       "1      Pedro    B    No         0        1              1\n",
       "3   Santiago    A    No         0        0              2\n",
       "0      Pedro    A   Yes         1        0              1"
      ]
     },
     "execution_count": 40,
     "metadata": {},
     "output_type": "execute_result"
    }
   ],
   "source": [
    "df_test"
   ]
  },
  {
   "cell_type": "code",
   "execution_count": 41,
   "id": "d82fa976206daaa8",
   "metadata": {
    "ExecuteTime": {
     "end_time": "2024-06-10T07:48:37.812007Z",
     "start_time": "2024-06-10T07:48:37.784010Z"
    }
   },
   "outputs": [
    {
     "data": {
      "text/html": [
       "<div>\n",
       "<style scoped>\n",
       "    .dataframe tbody tr th:only-of-type {\n",
       "        vertical-align: middle;\n",
       "    }\n",
       "\n",
       "    .dataframe tbody tr th {\n",
       "        vertical-align: top;\n",
       "    }\n",
       "\n",
       "    .dataframe thead th {\n",
       "        text-align: right;\n",
       "    }\n",
       "</style>\n",
       "<table border=\"1\" class=\"dataframe\">\n",
       "  <thead>\n",
       "    <tr style=\"text-align: right;\">\n",
       "      <th></th>\n",
       "      <th>legislator</th>\n",
       "      <th>bill</th>\n",
       "      <th>votes</th>\n",
       "      <th>votes_id</th>\n",
       "      <th>bill_id</th>\n",
       "      <th>legislator_id</th>\n",
       "      <th>Predicted votes</th>\n",
       "    </tr>\n",
       "  </thead>\n",
       "  <tbody>\n",
       "    <tr>\n",
       "      <th>1</th>\n",
       "      <td>Pedro</td>\n",
       "      <td>B</td>\n",
       "      <td>No</td>\n",
       "      <td>0</td>\n",
       "      <td>1</td>\n",
       "      <td>1</td>\n",
       "      <td>Yes</td>\n",
       "    </tr>\n",
       "    <tr>\n",
       "      <th>3</th>\n",
       "      <td>Santiago</td>\n",
       "      <td>A</td>\n",
       "      <td>No</td>\n",
       "      <td>0</td>\n",
       "      <td>0</td>\n",
       "      <td>2</td>\n",
       "      <td>No</td>\n",
       "    </tr>\n",
       "    <tr>\n",
       "      <th>0</th>\n",
       "      <td>Pedro</td>\n",
       "      <td>A</td>\n",
       "      <td>Yes</td>\n",
       "      <td>1</td>\n",
       "      <td>0</td>\n",
       "      <td>1</td>\n",
       "      <td>Yes</td>\n",
       "    </tr>\n",
       "  </tbody>\n",
       "</table>\n",
       "</div>"
      ],
      "text/plain": [
       "  legislator bill votes  votes_id  bill_id  legislator_id Predicted votes\n",
       "1      Pedro    B    No         0        1              1             Yes\n",
       "3   Santiago    A    No         0        0              2              No\n",
       "0      Pedro    A   Yes         1        0              1             Yes"
      ]
     },
     "execution_count": 41,
     "metadata": {},
     "output_type": "execute_result"
    }
   ],
   "source": [
    "votes.get_predicted_labels(links=df_test)"
   ]
  },
  {
   "cell_type": "code",
   "execution_count": 42,
   "id": "f0ab9792bbcd1d9f",
   "metadata": {
    "ExecuteTime": {
     "end_time": "2024-06-10T07:48:37.827421Z",
     "start_time": "2024-06-10T07:48:37.814067Z"
    }
   },
   "outputs": [
    {
     "name": "stdout",
     "output_type": "stream",
     "text": [
      "Help on method get_accuracy in module MMSBM_library:\n",
      "\n",
      "get_accuracy(predicted_labels=None, test_labels=None, Pij=None, links=None, estimator='max_probability') method of MMSBM_library.BiNet instance\n",
      "    Computes the ratio of correctly predicted labels of the model given the MMSBM parameters. They can be measured by different estimators:\n",
      "        -max_probability: The predicted label will be the most plausible label\n",
      "        -mean: The predicted label will be the mean\n",
      "    \n",
      "    Parameters\n",
      "    ----------\n",
      "    predicted_labels: array-like, default:None.\n",
      "        Array-like with the predicted labels ids given by the MMSBM. If None, predictions will be generated using\n",
      "    the specified links and estimator.\n",
      "    \n",
      "    test_labels: array-like, default:None.\n",
      "        List or array with the observed labels. If None, labels from self.labels_array are taken given pos_test_labels\n",
      "    \n",
      "    links: ndarray of 1 or 2 dimensions, pandas DataFrame, default: None\n",
      "        Array with links for which label probabilities are computed.\n",
      "        -If a 2d-array, the first column must contain the ids from nodes_a layer and the second\n",
      "         column must contain the ids from nodes_b layers.\n",
      "        -If a 1d-array, it must contain the positions of the links list from self.df attribute\n",
      "        -If a pandas DataFrame, it must contain at least two columns with the name of the nodes' layers\n",
      "         and a column with the same name as the labels column from BiNet.df.\n",
      "        -If None, self.links_training will be used.\n",
      "    \n",
      "    \n",
      "    estimator: {\"max_probability\",\"mean\"}, default: max_probability\n",
      "        Estimator used to get the predicted labels:\n",
      "        -max_probability: Selects the most plausible label\n",
      "        -mean: Selects the mean label (sum [Pij(l)*l])\n",
      "    \n",
      "    Returns\n",
      "    -------\n",
      "    accuracy: float\n",
      "        Ratio of correctly predicted labels to the total number of predicted labels.\n",
      "\n"
     ]
    }
   ],
   "source": [
    "help(votes.get_accuracy)"
   ]
  },
  {
   "cell_type": "markdown",
   "id": "69c5a3dc18d529ba",
   "metadata": {},
   "source": [
    "### Checking the accuracy"
   ]
  },
  {
   "cell_type": "markdown",
   "id": "e802980598a7778f",
   "metadata": {},
   "source": [
    "You can check the accuracy of the predictions using the `get_accuracy` method. By default, it will compute the accuracy of the training set. You can specify the test set with the `links` parameter, by using a list of the links ids or another dataframe with other links."
   ]
  },
  {
   "cell_type": "code",
   "execution_count": 43,
   "id": "fcb75d527201be36",
   "metadata": {
    "ExecuteTime": {
     "end_time": "2024-06-10T07:48:43.657858Z",
     "start_time": "2024-06-10T07:48:43.646183Z"
    }
   },
   "outputs": [
    {
     "name": "stdout",
     "output_type": "stream",
     "text": [
      "Accuracy of the training set: 1.0\n",
      "Accuracy of the test set: 0.6666666666666666\n"
     ]
    }
   ],
   "source": [
    "#Accuracy of the training set\n",
    "print(f\"Accuracy of the training set: {votes.get_accuracy()}\")\n",
    "print(f\"Accuracy of the test set: {votes.get_accuracy(links=df_test)}\")"
   ]
  },
  {
   "cell_type": "markdown",
   "id": "4827a39ed7948a68",
   "metadata": {},
   "source": [
    "# Saving and loading the parameters"
   ]
  },
  {
   "cell_type": "markdown",
   "id": "11c14faa902e20ae",
   "metadata": {},
   "source": [
    "For long runs or for using the parameters later, you can save the parameters. It is very important to notice that also is important to save the ids of the nodes and labels, and some information of the nodes_layer and BiNet objects before initializing the EM algorithm. To save the parameters you can use the `save_nodes_layer` and `save_BiNet` methods."
   ]
  },
  {
   "cell_type": "markdown",
   "id": "6eaf1371f63ccd5b",
   "metadata": {
    "collapsed": false
   },
   "source": [
    "## The ``save_nodes_layer`` method"
   ]
  },
  {
   "cell_type": "code",
   "execution_count": 44,
   "id": "1fc7cf15fa62bfbc",
   "metadata": {
    "ExecuteTime": {
     "end_time": "2024-06-10T08:49:16.347828Z",
     "start_time": "2024-06-10T08:49:16.326734Z"
    },
    "collapsed": false
   },
   "outputs": [
    {
     "name": "stdout",
     "output_type": "stream",
     "text": [
      "Help on function save_nodes_layer in module MMSBM_library:\n",
      "\n",
      "save_nodes_layer(self, dir='.')\n",
      "    It saves the nodes_layer object\n",
      "    \n",
      "    Parameters\n",
      "    -----------\n",
      "    dir: str\n",
      "        Directory where the json with the nodes_layer information will be saved\n",
      "\n"
     ]
    }
   ],
   "source": [
    "help(sbm.nodes_layer.save_nodes_layer)"
   ]
  },
  {
   "cell_type": "markdown",
   "id": "33890a993959d437",
   "metadata": {
    "collapsed": false
   },
   "source": [
    "This method is useful  when you only want to save the information of a `nodes_layer` object. One example can be when you want to do a 5-fold cross-validation, instead of saving the nodes information  for each fold, you can save it once and load it later once for all the folds.\n",
    "\n",
    "The name of the JSON will be `layer_{nodes_layer.name}_data.json`"
   ]
  },
  {
   "cell_type": "code",
   "execution_count": 45,
   "id": "273d1e01",
   "metadata": {},
   "outputs": [],
   "source": [
    "try:\n",
    "    os.mkdir(\"tutorial_saves\")\n",
    "    os.mkdir(\"tutorial_saves/example_BiNet\")\n",
    "except:\n",
    "    pass\n",
    "\n",
    "#saving data about the nodes layers\n",
    "politicians.save_nodes_layer(\"tutorial_saves/example_BiNet\")\n",
    "bills.save_nodes_layer(\"tutorial_saves/example_BiNet\")"
   ]
  },
  {
   "cell_type": "markdown",
   "id": "86d8d978eb66ded6",
   "metadata": {
    "collapsed": false
   },
   "source": [
    "## The ``save_BiNet`` method"
   ]
  },
  {
   "cell_type": "code",
   "execution_count": 46,
   "id": "ca1ecdeb56db5e61",
   "metadata": {
    "ExecuteTime": {
     "end_time": "2024-06-10T07:51:14.874899Z",
     "start_time": "2024-06-10T07:51:14.829076Z"
    }
   },
   "outputs": [
    {
     "name": "stdout",
     "output_type": "stream",
     "text": [
      "Help on method save_BiNet in module MMSBM_library:\n",
      "\n",
      "save_BiNet(dir='.', layers=True) method of MMSBM_library.BiNet instance\n",
      "    It saves the BiNet data into a JSON file in dir. If layers==True,\n",
      "    it saves the nodes_layer objects in JSONs files in the same directory.\n",
      "    \n",
      "    Parameters\n",
      "    -----------\n",
      "    dir: str\n",
      "        Directory where the JSON with the BiNet information will be saved\n",
      "    layers: bool, default: True\n",
      "        If True, it saves the nodes_layer objects in JSONs files in the same directory.\n",
      "\n"
     ]
    }
   ],
   "source": [
    "help(votes.save_BiNet)"
   ]
  },
  {
   "cell_type": "markdown",
   "id": "49539af16810626",
   "metadata": {
    "collapsed": false
   },
   "source": [
    "The method will save with the ids of the nodes, metadata and labels in a JSON file. Also, in this file, it will be stored. The name of the file will be BiNet_data.json."
   ]
  },
  {
   "cell_type": "markdown",
   "id": "d29042362577ab28",
   "metadata": {
    "collapsed": false
   },
   "source": [
    "This method can also save in the same directory the nodes_layer objects that are in the BiNet object when ``layers=True``. In the JSON file, elemental information of the nodes_layer objects will be stored, just in case you don´t use metadata for a specific layer.  "
   ]
  },
  {
   "cell_type": "markdown",
   "id": "91a02295b833de5f",
   "metadata": {
    "collapsed": false
   },
   "source": [
    "Here an example using both methods for saving using the EM algorith from before"
   ]
  },
  {
   "cell_type": "markdown",
   "id": "28d9065a",
   "metadata": {},
   "source": [
    "This method can also save in the same directory the nodes_layer objects that are in the BiNet object when ``layers=True``. In the JSON file, elemental information of the nodes_layer objects will be stored, just in case you don´t use metadata for a specific layer.  \n"
   ]
  },
  {
   "cell_type": "code",
   "execution_count": 47,
   "id": "b8a01bc2961269f3",
   "metadata": {
    "ExecuteTime": {
     "end_time": "2024-06-10T09:23:56.100502Z",
     "start_time": "2024-06-10T09:23:56.074524Z"
    },
    "collapsed": false
   },
   "outputs": [],
   "source": [
    "\n",
    "N_check = 5 #Number of iterations to measure the convergence\n",
    "try:\n",
    "    os.mkdir(\"tutorial_saves\")\n",
    "    os.mkdir(\"tutorial_saves/example_BiNet\")\n",
    "except:\n",
    "    pass\n",
    "\n",
    "votes.save_BiNet(\"tutorial_saves/example_BiNet/\")\n"
   ]
  },
  {
   "cell_type": "markdown",
   "id": "0b17a17a",
   "metadata": {},
   "source": [
    "## Saving the parameters with ``save_MMSBM_parameters`` function"
   ]
  },
  {
   "cell_type": "markdown",
   "id": "75310d25",
   "metadata": {},
   "source": [
    "To save the parameters of the EM procedure, you can use the ``save_MMSBM_parameters`` function:"
   ]
  },
  {
   "cell_type": "code",
   "execution_count": 48,
   "id": "ebf3f95e",
   "metadata": {},
   "outputs": [],
   "source": [
    "from MMSBM_library.functions.utils import save_MMSBM_parameters"
   ]
  },
  {
   "cell_type": "code",
   "execution_count": 49,
   "id": "c5314edf",
   "metadata": {},
   "outputs": [
    {
     "name": "stdout",
     "output_type": "stream",
     "text": [
      "Help on function save_MMSBM_parameters in module MMSBM_library.functions.utils:\n",
      "\n",
      "save_MMSBM_parameters(BiNet, dir='.', matrix_format='npy', BiNet_json=False)\n",
      "    It saves the parameters into matrices in the dir directory\n",
      "    \n",
      "    Parameters:\n",
      "    -----------\n",
      "    BiNet: BiNet object\n",
      "        Bipartite network with the MMSBM initialized\n",
      "    \n",
      "    dir: str, default: \".\"\n",
      "        Directory where the files with the MMSBM parameters will be saved\n",
      "    \n",
      "    matrix_format: str, default: npy\n",
      "        Format that the matrices parameters will be saved. It can be, npy or npz.\n",
      "    \n",
      "    BiNet_json: boolean, default: False\n",
      "        If it is True, the information of the BiNet class will be saved into a json.\n",
      "\n"
     ]
    }
   ],
   "source": [
    "help(save_MMSBM_parameters)"
   ]
  },
  {
   "cell_type": "code",
   "execution_count": 50,
   "id": "27775707",
   "metadata": {},
   "outputs": [
    {
     "name": "stdout",
     "output_type": "stream",
     "text": [
      "Iteration 0: converges? False\n",
      "Iteration 5: converges? False\n",
      "Iteration 10: converges? False\n",
      "Iteration 15: converges? False\n",
      "Iteration 20: converges? False\n",
      "Iteration 25: converges? False\n",
      "Iteration 30: converges? False\n",
      "Iteration 35: converges? False\n",
      "Iteration 40: converges? False\n",
      "Iteration 45: converges? False\n"
     ]
    },
    {
     "name": "stdout",
     "output_type": "stream",
     "text": [
      "Iteration 50: converges? False\n",
      "Iteration 55: converges? False\n",
      "Iteration 60: converges? False\n",
      "Iteration 65: converges? False\n",
      "Iteration 70: converges? False\n",
      "Iteration 75: converges? True\n"
     ]
    }
   ],
   "source": [
    "from sklearn.model_selection import train_test_split\n",
    "\n",
    "\n",
    "try:\n",
    "    os.mkdir(\"tutorial_saves\")\n",
    "    os.mkdir(\"tutorial_saves/example_BiNet\")\n",
    "    os.mkdir(\"tutorial_saves/example_parameters\")\n",
    "except:\n",
    "    pass\n",
    "\n",
    "#Defining the training and test sets\n",
    "df_train, df_test = train_test_split(votes.df, test_size=0.2)\n",
    "\n",
    "\n",
    "\n",
    "votes.save_BiNet(\"./tutorial_saves/example_BiNet/\")\n",
    "\n",
    "#Initializing the EM algorithm with the training set\n",
    "votes.init_EM(training=df_train)\n",
    "\n",
    "#Running the EM algorithm\n",
    "N_itt = 100\n",
    "N_check = 5 #Number of iterations to measure the convergence\n",
    "for itt in range(N_itt//N_check):\n",
    "    votes.EM_step(N_check)\n",
    "    converges = votes.converges()\n",
    "    print(f\"Iteration {itt*N_check}: converges? {converges}\")\n",
    "    if converges:\n",
    "        save_MMSBM_parameters(votes,\"./tutorial_saves/example_parameters\")\n",
    "        break"
   ]
  },
  {
   "cell_type": "code",
   "execution_count": null,
   "id": "a50fbafd",
   "metadata": {},
   "outputs": [],
   "source": [
    "votes.EM_step()"
   ]
  },
  {
   "cell_type": "markdown",
   "id": "a7632df2",
   "metadata": {},
   "source": [
    "Now different `.npy` files have been created inside `example_parameters` folder:\n",
    " - `theta_a.npy` and `theta_b.npy` contain the parameters of the `nodes_layer` objects that form the `BiNet` object.\n",
    " - `pkl.npy` contains the membership probabilities.\n",
    " - For each exclusive metadata it will generate:\n",
    "   - `qka_{meta_name}.npy` with the membership probability for each metadata.\n",
    " - For each inclusive metadata it will generate:\n",
    "   - `q_k_tau_{meta_name}.npy` with the membership probability for each metadata.\n",
    "   - `zeta_{meta_name}.npy` with the membership factors for each metadata."
   ]
  },
  {
   "cell_type": "markdown",
   "id": "b3811de1",
   "metadata": {},
   "source": [
    "## The ``load_BiNet_from_json`` and the ``init_EM_from_directory`` methods: "
   ]
  },
  {
   "cell_type": "markdown",
   "id": "d1733f92",
   "metadata": {},
   "source": [
    "Also, you can load your saved `BiNet` class using the `load_BiNet_from_json` class method:"
   ]
  },
  {
   "cell_type": "code",
   "execution_count": 52,
   "id": "5851fc75327b10b9",
   "metadata": {
    "ExecuteTime": {
     "end_time": "2024-02-22T13:53:15.352276300Z",
     "start_time": "2024-02-22T13:53:15.133452900Z"
    }
   },
   "outputs": [
    {
     "name": "stdout",
     "output_type": "stream",
     "text": [
      "Help on method load_BiNet_from_json in module MMSBM_library:\n",
      "\n",
      "load_BiNet_from_json(json_file, links, links_label, *, nodes_a=None, nodes_b=None, nodes_a_dir=None, nodes_b_dir=None, separator='\\t') method of builtins.type instance\n",
      "    Load a BiNet instance from a JSON file containing MMSBM parameters and link information.\n",
      "    \n",
      "    Parameters\n",
      "    ----------\n",
      "    json_file: str\n",
      "        Path to the JSON files containing MMSBM parameters.\n",
      "    \n",
      "    links: str, pandas DataFrame\n",
      "        DataFrame or directory containing the links between nodes_a and nodes_b and their labels.\n",
      "    \n",
      "    links_label: array-like\n",
      "        Array-like object representing the labels corresponding to the links.\n",
      "    \n",
      "    nodes_a: nodes_layer, str, pd.DataFrame, None, default: None\n",
      "        - If nodes_layer: Existing instance of the nodes_layer class representing the first layer.\n",
      "        - If str or pd.DataFrame: If str, a name for the first layer. If pd.DataFrame, DataFrame with nodes and attributes.\n",
      "        - If None: The first layer will be created later.\n",
      "    \n",
      "    nodes_b: nodes_layer, str, pd.DataFrame, None, default: None\n",
      "        - If nodes_layer: Existing instance of the nodes_layer class representing the second layer.\n",
      "        - If str or pd.DataFrame: If str, a name for the second layer. If pd.DataFrame, DataFrame with nodes and attributes.\n",
      "        - If None: The second layer will be created later as a simple layer (no metadata)\n",
      "    \n",
      "    separator: str, default: \"      \"\n",
      "        Separator used in the provided JSON file.\n",
      "    \n",
      "    Returns\n",
      "    -------\n",
      "    BN: BiNet\n",
      "        Instance of the BiNet class loaded from the JSON file.\n",
      "    \n",
      "    Notes\n",
      "    -----\n",
      "    This class method allows loading a BiNet instance from a JSON file, along with links and labels. It constructs both\n",
      "    nodes layers' objects with metadata initialized based on the provided information.\n",
      "\n"
     ]
    }
   ],
   "source": [
    "help(sbm.BiNet.load_BiNet_from_json)"
   ]
  },
  {
   "cell_type": "code",
   "execution_count": 53,
   "id": "41c04402",
   "metadata": {},
   "outputs": [],
   "source": [
    "loaded_votes = sbm.BiNet.load_BiNet_from_json(\"./tutorial_saves/example_BiNet/BiNet_data.json\",\n",
    "                                              links=df_votes,links_label = \"votes\",\n",
    "                                              nodes_a=bills,nodes_b=politicians)"
   ]
  },
  {
   "cell_type": "markdown",
   "id": "25f04ac0",
   "metadata": {},
   "source": [
    "If you want to load the parameters  obtained from a EM procedure to continue the procedure or to analyze the parameters you have to use the  `init_EM_from_directory` method."
   ]
  },
  {
   "cell_type": "code",
   "execution_count": 54,
   "id": "80cf0b92",
   "metadata": {},
   "outputs": [
    {
     "name": "stdout",
     "output_type": "stream",
     "text": [
      "Help on method init_EM_from_directory in module MMSBM_library:\n",
      "\n",
      "init_EM_from_directory(training=None, dir='.') method of MMSBM_library.BiNet instance\n",
      "    Initialize the Expectation Maximization (EM) algorithm to obtain the most plausible membership parameters of the\n",
      "    Mixed-Membership Stochastic Block Model (MMSBM) using parameters saved in files located in a specified directory.\n",
      "    \n",
      "        Parameters\n",
      "        ----------\n",
      "        dir: str, default: \".\"\n",
      "            Directory where the files with the MMSBM parameters will be loaded.\n",
      "    \n",
      "        training: pd.DataFrame, list, ndarray, default: None\n",
      "            - If pd.DataFrame: DataFrame containing the training links and labels.\n",
      "            - If list or ndarray: List or array containing the positions of the links list from self.df attribute.\n",
      "            - If None: Uses self.links_training and self.labels_training.\n",
      "\n"
     ]
    }
   ],
   "source": [
    "help(loaded_votes.init_EM_from_directory)"
   ]
  },
  {
   "cell_type": "code",
   "execution_count": 55,
   "id": "6db76003",
   "metadata": {},
   "outputs": [],
   "source": [
    "loaded_votes.init_EM_from_directory(dir=\"./tutorial_saves/example_parameters\",training=df_train)"
   ]
  },
  {
   "cell_type": "markdown",
   "id": "d628af79b135acbf",
   "metadata": {
    "ExecuteTime": {
     "start_time": "2024-02-21T13:24:21.717267900Z"
    }
   },
   "source": [
    "From here you can continue the EM procedure using the `EM_step` method:\n"
   ]
  },
  {
   "cell_type": "code",
   "execution_count": 56,
   "id": "5b91168a",
   "metadata": {},
   "outputs": [
    {
     "data": {
      "text/html": [
       "<div>\n",
       "<style scoped>\n",
       "    .dataframe tbody tr th:only-of-type {\n",
       "        vertical-align: middle;\n",
       "    }\n",
       "\n",
       "    .dataframe tbody tr th {\n",
       "        vertical-align: top;\n",
       "    }\n",
       "\n",
       "    .dataframe thead th {\n",
       "        text-align: right;\n",
       "    }\n",
       "</style>\n",
       "<table border=\"1\" class=\"dataframe\">\n",
       "  <thead>\n",
       "    <tr style=\"text-align: right;\">\n",
       "      <th></th>\n",
       "      <th>legislator</th>\n",
       "      <th>bill</th>\n",
       "      <th>votes</th>\n",
       "      <th>votes_id</th>\n",
       "      <th>bill_id</th>\n",
       "      <th>legislator_id</th>\n",
       "    </tr>\n",
       "  </thead>\n",
       "  <tbody>\n",
       "    <tr>\n",
       "      <th>0</th>\n",
       "      <td>Pedro</td>\n",
       "      <td>A</td>\n",
       "      <td>Yes</td>\n",
       "      <td>1</td>\n",
       "      <td>0</td>\n",
       "      <td>1</td>\n",
       "    </tr>\n",
       "    <tr>\n",
       "      <th>1</th>\n",
       "      <td>Pedro</td>\n",
       "      <td>B</td>\n",
       "      <td>No</td>\n",
       "      <td>0</td>\n",
       "      <td>1</td>\n",
       "      <td>1</td>\n",
       "    </tr>\n",
       "    <tr>\n",
       "      <th>2</th>\n",
       "      <td>Pedro</td>\n",
       "      <td>D</td>\n",
       "      <td>No</td>\n",
       "      <td>0</td>\n",
       "      <td>3</td>\n",
       "      <td>1</td>\n",
       "    </tr>\n",
       "    <tr>\n",
       "      <th>3</th>\n",
       "      <td>Santiago</td>\n",
       "      <td>A</td>\n",
       "      <td>No</td>\n",
       "      <td>0</td>\n",
       "      <td>0</td>\n",
       "      <td>2</td>\n",
       "    </tr>\n",
       "    <tr>\n",
       "      <th>4</th>\n",
       "      <td>Santiago</td>\n",
       "      <td>C</td>\n",
       "      <td>Yes</td>\n",
       "      <td>1</td>\n",
       "      <td>2</td>\n",
       "      <td>2</td>\n",
       "    </tr>\n",
       "    <tr>\n",
       "      <th>5</th>\n",
       "      <td>Santiago</td>\n",
       "      <td>D</td>\n",
       "      <td>Yes</td>\n",
       "      <td>1</td>\n",
       "      <td>3</td>\n",
       "      <td>2</td>\n",
       "    </tr>\n",
       "    <tr>\n",
       "      <th>6</th>\n",
       "      <td>Alberto</td>\n",
       "      <td>A</td>\n",
       "      <td>No</td>\n",
       "      <td>0</td>\n",
       "      <td>0</td>\n",
       "      <td>0</td>\n",
       "    </tr>\n",
       "    <tr>\n",
       "      <th>7</th>\n",
       "      <td>Alberto</td>\n",
       "      <td>B</td>\n",
       "      <td>No</td>\n",
       "      <td>0</td>\n",
       "      <td>1</td>\n",
       "      <td>0</td>\n",
       "    </tr>\n",
       "    <tr>\n",
       "      <th>8</th>\n",
       "      <td>Alberto</td>\n",
       "      <td>C</td>\n",
       "      <td>Yes</td>\n",
       "      <td>1</td>\n",
       "      <td>2</td>\n",
       "      <td>0</td>\n",
       "    </tr>\n",
       "    <tr>\n",
       "      <th>9</th>\n",
       "      <td>Yolanda</td>\n",
       "      <td>B</td>\n",
       "      <td>Yes</td>\n",
       "      <td>1</td>\n",
       "      <td>1</td>\n",
       "      <td>3</td>\n",
       "    </tr>\n",
       "    <tr>\n",
       "      <th>10</th>\n",
       "      <td>Yolanda</td>\n",
       "      <td>C</td>\n",
       "      <td>No</td>\n",
       "      <td>0</td>\n",
       "      <td>2</td>\n",
       "      <td>3</td>\n",
       "    </tr>\n",
       "    <tr>\n",
       "      <th>11</th>\n",
       "      <td>Yolanda</td>\n",
       "      <td>D</td>\n",
       "      <td>No</td>\n",
       "      <td>0</td>\n",
       "      <td>3</td>\n",
       "      <td>3</td>\n",
       "    </tr>\n",
       "  </tbody>\n",
       "</table>\n",
       "</div>"
      ],
      "text/plain": [
       "   legislator bill votes  votes_id  bill_id  legislator_id\n",
       "0       Pedro    A   Yes         1        0              1\n",
       "1       Pedro    B    No         0        1              1\n",
       "2       Pedro    D    No         0        3              1\n",
       "3    Santiago    A    No         0        0              2\n",
       "4    Santiago    C   Yes         1        2              2\n",
       "5    Santiago    D   Yes         1        3              2\n",
       "6     Alberto    A    No         0        0              0\n",
       "7     Alberto    B    No         0        1              0\n",
       "8     Alberto    C   Yes         1        2              0\n",
       "9     Yolanda    B   Yes         1        1              3\n",
       "10    Yolanda    C    No         0        2              3\n",
       "11    Yolanda    D    No         0        3              3"
      ]
     },
     "execution_count": 56,
     "metadata": {},
     "output_type": "execute_result"
    }
   ],
   "source": [
    "loaded_votes.df"
   ]
  },
  {
   "cell_type": "code",
   "execution_count": 57,
   "id": "3b412b93",
   "metadata": {},
   "outputs": [],
   "source": [
    "loaded_votes.EM_step(10)"
   ]
  },
  {
   "cell_type": "markdown",
   "id": "75d63f72",
   "metadata": {},
   "source": [
    "Or analyze the parameters and/or links and/or accuracies:"
   ]
  },
  {
   "cell_type": "code",
   "execution_count": 58,
   "id": "49d887d6",
   "metadata": {},
   "outputs": [
    {
     "data": {
      "text/html": [
       "<div>\n",
       "<style scoped>\n",
       "    .dataframe tbody tr th:only-of-type {\n",
       "        vertical-align: middle;\n",
       "    }\n",
       "\n",
       "    .dataframe tbody tr th {\n",
       "        vertical-align: top;\n",
       "    }\n",
       "\n",
       "    .dataframe thead th {\n",
       "        text-align: right;\n",
       "    }\n",
       "</style>\n",
       "<table border=\"1\" class=\"dataframe\">\n",
       "  <thead>\n",
       "    <tr style=\"text-align: right;\">\n",
       "      <th></th>\n",
       "      <th>legislator</th>\n",
       "      <th>bill</th>\n",
       "      <th>votes</th>\n",
       "      <th>votes_id</th>\n",
       "      <th>bill_id</th>\n",
       "      <th>legislator_id</th>\n",
       "    </tr>\n",
       "  </thead>\n",
       "  <tbody>\n",
       "    <tr>\n",
       "      <th>0</th>\n",
       "      <td>Pedro</td>\n",
       "      <td>A</td>\n",
       "      <td>Yes</td>\n",
       "      <td>1</td>\n",
       "      <td>0</td>\n",
       "      <td>1</td>\n",
       "    </tr>\n",
       "    <tr>\n",
       "      <th>1</th>\n",
       "      <td>Pedro</td>\n",
       "      <td>B</td>\n",
       "      <td>No</td>\n",
       "      <td>0</td>\n",
       "      <td>1</td>\n",
       "      <td>1</td>\n",
       "    </tr>\n",
       "    <tr>\n",
       "      <th>2</th>\n",
       "      <td>Pedro</td>\n",
       "      <td>D</td>\n",
       "      <td>No</td>\n",
       "      <td>0</td>\n",
       "      <td>3</td>\n",
       "      <td>1</td>\n",
       "    </tr>\n",
       "    <tr>\n",
       "      <th>3</th>\n",
       "      <td>Santiago</td>\n",
       "      <td>A</td>\n",
       "      <td>No</td>\n",
       "      <td>0</td>\n",
       "      <td>0</td>\n",
       "      <td>2</td>\n",
       "    </tr>\n",
       "    <tr>\n",
       "      <th>4</th>\n",
       "      <td>Santiago</td>\n",
       "      <td>C</td>\n",
       "      <td>Yes</td>\n",
       "      <td>1</td>\n",
       "      <td>2</td>\n",
       "      <td>2</td>\n",
       "    </tr>\n",
       "    <tr>\n",
       "      <th>5</th>\n",
       "      <td>Santiago</td>\n",
       "      <td>D</td>\n",
       "      <td>Yes</td>\n",
       "      <td>1</td>\n",
       "      <td>3</td>\n",
       "      <td>2</td>\n",
       "    </tr>\n",
       "    <tr>\n",
       "      <th>6</th>\n",
       "      <td>Alberto</td>\n",
       "      <td>A</td>\n",
       "      <td>No</td>\n",
       "      <td>0</td>\n",
       "      <td>0</td>\n",
       "      <td>0</td>\n",
       "    </tr>\n",
       "    <tr>\n",
       "      <th>7</th>\n",
       "      <td>Alberto</td>\n",
       "      <td>B</td>\n",
       "      <td>No</td>\n",
       "      <td>0</td>\n",
       "      <td>1</td>\n",
       "      <td>0</td>\n",
       "    </tr>\n",
       "    <tr>\n",
       "      <th>8</th>\n",
       "      <td>Alberto</td>\n",
       "      <td>C</td>\n",
       "      <td>Yes</td>\n",
       "      <td>1</td>\n",
       "      <td>2</td>\n",
       "      <td>0</td>\n",
       "    </tr>\n",
       "    <tr>\n",
       "      <th>9</th>\n",
       "      <td>Yolanda</td>\n",
       "      <td>B</td>\n",
       "      <td>Yes</td>\n",
       "      <td>1</td>\n",
       "      <td>1</td>\n",
       "      <td>3</td>\n",
       "    </tr>\n",
       "    <tr>\n",
       "      <th>10</th>\n",
       "      <td>Yolanda</td>\n",
       "      <td>C</td>\n",
       "      <td>No</td>\n",
       "      <td>0</td>\n",
       "      <td>2</td>\n",
       "      <td>3</td>\n",
       "    </tr>\n",
       "    <tr>\n",
       "      <th>11</th>\n",
       "      <td>Yolanda</td>\n",
       "      <td>D</td>\n",
       "      <td>No</td>\n",
       "      <td>0</td>\n",
       "      <td>3</td>\n",
       "      <td>3</td>\n",
       "    </tr>\n",
       "  </tbody>\n",
       "</table>\n",
       "</div>"
      ],
      "text/plain": [
       "   legislator bill votes  votes_id  bill_id  legislator_id\n",
       "0       Pedro    A   Yes         1        0              1\n",
       "1       Pedro    B    No         0        1              1\n",
       "2       Pedro    D    No         0        3              1\n",
       "3    Santiago    A    No         0        0              2\n",
       "4    Santiago    C   Yes         1        2              2\n",
       "5    Santiago    D   Yes         1        3              2\n",
       "6     Alberto    A    No         0        0              0\n",
       "7     Alberto    B    No         0        1              0\n",
       "8     Alberto    C   Yes         1        2              0\n",
       "9     Yolanda    B   Yes         1        1              3\n",
       "10    Yolanda    C    No         0        2              3\n",
       "11    Yolanda    D    No         0        3              3"
      ]
     },
     "execution_count": 58,
     "metadata": {},
     "output_type": "execute_result"
    }
   ],
   "source": [
    "loaded_votes.df"
   ]
  },
  {
   "cell_type": "code",
   "execution_count": 59,
   "id": "7f0e7cd1",
   "metadata": {},
   "outputs": [
    {
     "data": {
      "text/plain": [
       "[<matplotlib.axis.XTick at 0x1fd9d91ec40>,\n",
       " <matplotlib.axis.XTick at 0x1fd9d91ec10>]"
      ]
     },
     "execution_count": 59,
     "metadata": {},
     "output_type": "execute_result"
    },
    {
     "data": {
      "image/png": "[encoded data removed]",
      "text/plain": [
       "<Figure size 1200x500 with 4 Axes>"
      ]
     },
     "metadata": {},
     "output_type": "display_data"
    }
   ],
   "source": [
    "# Plotting the membership matrices of the politician and the votes\n",
    "import matplotlib.pyplot as plt\n",
    "\n",
    "fig, (ax1, ax2) = plt.subplots(1, 2, figsize=(12, 5))\n",
    "# Plot theta parameters for both nodes as heatmaps\n",
    "im1 = ax1.imshow(loaded_votes.nodes_a.theta, cmap='viridis', aspect='auto')\n",
    "im2 = ax2.imshow(loaded_votes.nodes_b.theta, cmap='viridis', aspect='auto')\n",
    "\n",
    "# Add colorbars\n",
    "plt.colorbar(im1, ax=ax1)\n",
    "plt.colorbar(im2, ax=ax2)\n",
    "\n",
    "# Set titles\n",
    "ax1.set_title('Legislators Theta Parameters')\n",
    "ax2.set_title('Bills Theta Parameters')\n",
    "\n",
    "# Label axes\n",
    "ax1.set_xlabel('Group')\n",
    "ax2.set_xlabel('Group')\n",
    "\n",
    "# Set y-tick labels to node IDs\n",
    "ax1.set_yticks(range(len(politicians.df[\"legislator_id\"])))\n",
    "ax1.set_yticklabels(range(len(politicians.df[\"legislator_id\"])))\n",
    "ax2.set_yticks(range(len(bills.df[\"bill_id\"])))\n",
    "ax2.set_yticklabels(range(len(bills.df[\"bill_id\"])))\n",
    "\n",
    "\n",
    "\n",
    "ax1.set_xticks(range(politicians.K))\n",
    "ax2.set_xticks(range(bills.K))\n",
    "\n"
   ]
  }
 ],
 "metadata": {
  "kernelspec": {
   "display_name": "base",
   "language": "python",
   "name": "python3"
  },
  "language_info": {
   "codemirror_mode": {
    "name": "ipython",
    "version": 3
   },
   "file_extension": ".py",
   "mimetype": "text/x-python",
   "name": "python",
   "nbconvert_exporter": "python",
   "pygments_lexer": "ipython3",
   "version": "3.9.13"
  },
  "toc-autonumbering": true,
  "toc-showcode": true,
  "toc-showmarkdowntxt": true
 },
 "nbformat": 4,
 "nbformat_minor": 5
}

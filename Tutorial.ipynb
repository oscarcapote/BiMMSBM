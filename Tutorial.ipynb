{
 "cells": [
  {
   "cell_type": "markdown",
   "id": "f8602eab-6f2c-4ab7-b431-51461a603513",
   "metadata": {
    "tags": []
   },
   "source": [
    "# MMSBM library"
   ]
  },
  {
   "cell_type": "markdown",
   "id": "58be8a29-2af4-4f51-9b59-8292e1ff0eb9",
   "metadata": {},
   "source": [
    "## Introduction"
   ]
  },
  {
   "cell_type": "markdown",
   "id": "b1fdd729-498f-436f-944c-705071474bcd",
   "metadata": {},
   "source": [
    "## ``nodes_layer`` class"
   ]
  },
  {
   "cell_type": "markdown",
   "id": "0fbeaa28-1408-4fb3-80bc-8b18583c4c6c",
   "metadata": {},
   "source": [
    "The `nodes_layer` class represents one type of nodes that forms the bipartite network. It can represent people, researchers, papers, metabolites, movies... That depends on your dataset.\n",
    "\n",
    "The best way to initialize a nodes_layer is from a pandas DataFrame."
   ]
  },
  {
   "cell_type": "code",
   "execution_count": 1,
   "id": "2aa026b5-a293-4dde-bffd-e5cdc9453ab1",
   "metadata": {
    "ExecuteTime": {
     "end_time": "2024-09-13T01:25:28.257627Z",
     "start_time": "2024-09-13T01:25:28.246162Z"
    }
   },
   "outputs": [],
   "source": [
    "import pandas as pd\n",
    "import numpy as np\n",
    "from numba import jit\n",
    "import sys, os\n",
    "\n",
    "\n",
    "sys.path.append(r'../')\n",
    "import MMSBM_library as sbm\n",
    "\n",
    "\n",
    "#Dataframe to use\n",
    "df_politicians =pd.DataFrame( {\"legislator\":[\"Pedro\", \"Santiago\", \"Alberto\", \"Yolanda\"],\n",
    "                               \"Party\":[\"PSOE\", \"VOX\", \"PP\", \"Sumar\"],\n",
    "                               \"Movies_preferences\":[\"Action|Drama\",\"Belic\",\"Belic|Comedy\",\"Comedy|Drama\"]})\n",
    "#Number of groups\n",
    "K = 9\n",
    "#You have to tell in which the name of the nodes will be as the second parameter \n",
    "politicians = sbm.nodes_layer(K,\"legislator\",df_politicians)"
   ]
  },
  {
   "cell_type": "markdown",
   "id": "3af6880b-9949-4190-887f-bd1a253c06fe",
   "metadata": {},
   "source": [
    "Once the object is initialized, you can acces to the dataframe from the `df` attribute,but now it will notain a new column with an integer id thet the library will use in the future. The name of the column is the same as the column of the names, but finished in `_id`."
   ]
  },
  {
   "cell_type": "code",
   "execution_count": 2,
   "id": "2f247f51-8100-4c29-8954-1890aa61dbff",
   "metadata": {
    "ExecuteTime": {
     "end_time": "2024-09-13T01:25:50.149833Z",
     "start_time": "2024-09-13T01:25:50.137459Z"
    }
   },
   "outputs": [
    {
     "data": {
      "text/html": [
       "<div>\n",
       "<style scoped>\n",
       "    .dataframe tbody tr th:only-of-type {\n",
       "        vertical-align: middle;\n",
       "    }\n",
       "\n",
       "    .dataframe tbody tr th {\n",
       "        vertical-align: top;\n",
       "    }\n",
       "\n",
       "    .dataframe thead th {\n",
       "        text-align: right;\n",
       "    }\n",
       "</style>\n",
       "<table border=\"1\" class=\"dataframe\">\n",
       "  <thead>\n",
       "    <tr style=\"text-align: right;\">\n",
       "      <th></th>\n",
       "      <th>legislator</th>\n",
       "      <th>Party</th>\n",
       "      <th>Movies_preferences</th>\n",
       "      <th>legislator_id</th>\n",
       "    </tr>\n",
       "  </thead>\n",
       "  <tbody>\n",
       "    <tr>\n",
       "      <th>0</th>\n",
       "      <td>Pedro</td>\n",
       "      <td>PSOE</td>\n",
       "      <td>Action|Drama</td>\n",
       "      <td>1</td>\n",
       "    </tr>\n",
       "    <tr>\n",
       "      <th>1</th>\n",
       "      <td>Santiago</td>\n",
       "      <td>VOX</td>\n",
       "      <td>Belic</td>\n",
       "      <td>2</td>\n",
       "    </tr>\n",
       "    <tr>\n",
       "      <th>2</th>\n",
       "      <td>Alberto</td>\n",
       "      <td>PP</td>\n",
       "      <td>Belic|Comedy</td>\n",
       "      <td>0</td>\n",
       "    </tr>\n",
       "    <tr>\n",
       "      <th>3</th>\n",
       "      <td>Yolanda</td>\n",
       "      <td>Sumar</td>\n",
       "      <td>Comedy|Drama</td>\n",
       "      <td>3</td>\n",
       "    </tr>\n",
       "  </tbody>\n",
       "</table>\n",
       "</div>"
      ],
      "text/plain": [
       "  legislator  Party Movies_preferences  legislator_id\n",
       "0      Pedro   PSOE       Action|Drama              1\n",
       "1   Santiago    VOX              Belic              2\n",
       "2    Alberto     PP       Belic|Comedy              0\n",
       "3    Yolanda  Sumar       Comedy|Drama              3"
      ]
     },
     "execution_count": 2,
     "metadata": {},
     "output_type": "execute_result"
    }
   ],
   "source": [
    "politicians.df"
   ]
  },
  {
   "cell_type": "markdown",
   "id": "62389ee2-481d-468b-8a90-b732d1406506",
   "metadata": {},
   "source": [
    "The asignment of the ids with the names of the nodes is in the `dict_codes` attribute."
   ]
  },
  {
   "cell_type": "code",
   "execution_count": 3,
   "id": "28c102da-367b-448a-9891-2551f5b110ef",
   "metadata": {
    "ExecuteTime": {
     "end_time": "2024-09-13T01:25:51.588301Z",
     "start_time": "2024-09-13T01:25:51.584150Z"
    }
   },
   "outputs": [
    {
     "data": {
      "text/plain": [
       "{'Pedro': 1, 'Santiago': 2, 'Alberto': 0, 'Yolanda': 3}"
      ]
     },
     "execution_count": 3,
     "metadata": {},
     "output_type": "execute_result"
    }
   ],
   "source": [
    "politicians.dict_codes"
   ]
  },
  {
   "cell_type": "markdown",
   "id": "e7890dd8-5264-4874-89b1-8226b892d6af",
   "metadata": {},
   "source": [
    "This id represents the array position that corresponds to each node for the `theta` and `omega` matricies"
   ]
  },
  {
   "cell_type": "markdown",
   "id": "a453bdf1-dccc-44c8-a23c-bf3316a95bbf",
   "metadata": {},
   "source": [
    "You can modify whenever you want the number of groups from the ``K`` attribute."
   ]
  },
  {
   "cell_type": "code",
   "execution_count": 4,
   "id": "b4cdbaa1-8ef2-4a2b-a5b9-f4abb88865fd",
   "metadata": {
    "ExecuteTime": {
     "end_time": "2024-09-13T01:25:52.641939Z",
     "start_time": "2024-09-13T01:25:52.638063Z"
    }
   },
   "outputs": [
    {
     "name": "stdout",
     "output_type": "stream",
     "text": [
      "Number of groups of politicians: 9\n",
      "Number of groups of politicians: 2\n"
     ]
    }
   ],
   "source": [
    "print(f\"Number of groups of politicians: {politicians.K}\")\n",
    "politicians.K = 2\n",
    "print(f\"Number of groups of politicians: {politicians.K}\")"
   ]
  },
  {
   "cell_type": "markdown",
   "id": "a154c571-e93a-487f-96ff-c57744c4a50e",
   "metadata": {},
   "source": [
    "*WARNING!!!* If yoy change the value of `K` you have to initialize again all the matrices!!"
   ]
  },
  {
   "cell_type": "markdown",
   "id": "e70132b1-4a91-4d37-a238-7956b8940a07",
   "metadata": {},
   "source": [
    "### Adding metadata"
   ]
  },
  {
   "cell_type": "markdown",
   "id": "0d5d9c6c-44bd-498f-86f8-a9d7077e3726",
   "metadata": {},
   "source": [
    "When in your dataframe you have extra information about the nodes, you have to tell which columns are metadata and which type of metadata. There are two types of metadata:\n",
    " * Exclusive metadata: These are metadata where each node can only have assigned one attribute. For exameple the age of a person. A person only have one age, not more of one.\n",
    " * Inclusive metadata: These are metadata where each node can have assigned more of one attributes. For example the genre of a movie, one movie can belong to different genre at the same time.\n",
    " "
   ]
  },
  {
   "cell_type": "markdown",
   "id": "c20efe1f-8a1c-45cc-88c4-7adf55d35800",
   "metadata": {},
   "source": [
    "### Exclusive metadata"
   ]
  },
  {
   "cell_type": "markdown",
   "id": "63897cb8-616e-44a6-91bf-980d1c3f614a",
   "metadata": {},
   "source": [
    "Once the `nodes_layer` is initialized, you can add the metadata using the `add_exclusive_metadata` method that will return a `exclusive_metadata` class. "
   ]
  },
  {
   "cell_type": "code",
   "execution_count": 5,
   "id": "e84c5fb2-4acc-4940-bfb6-e6c10549597a",
   "metadata": {
    "ExecuteTime": {
     "end_time": "2024-09-13T01:25:54.568321Z",
     "start_time": "2024-09-13T01:25:54.556723Z"
    }
   },
   "outputs": [],
   "source": [
    "# Importance of the metadata\n",
    "lambda_party = 100\n",
    "parties = politicians.add_exclusive_metadata(lambda_party,\"Party\")"
   ]
  },
  {
   "cell_type": "markdown",
   "id": "5fec0252-4a65-4c22-8f3a-fce5d29b6ef7",
   "metadata": {},
   "source": [
    "Also, this object will be stored inside the `nodes_layer` object in the `meta_exclusives` attribute that is a dictionary whose keys are the column names of the metadaa and the value the object."
   ]
  },
  {
   "cell_type": "code",
   "execution_count": 6,
   "id": "09773552-59af-4f3c-92f7-3faf91ecde72",
   "metadata": {
    "ExecuteTime": {
     "end_time": "2024-09-13T01:25:55.044133Z",
     "start_time": "2024-09-13T01:25:55.041748Z"
    }
   },
   "outputs": [
    {
     "data": {
      "text/plain": [
       "True"
      ]
     },
     "execution_count": 6,
     "metadata": {},
     "output_type": "execute_result"
    }
   ],
   "source": [
    "parties == politicians.meta_exclusives[\"Party\"]"
   ]
  },
  {
   "cell_type": "markdown",
   "id": "35b141c5-2b22-4ea5-86dc-61b88125df8f",
   "metadata": {},
   "source": [
    "The value of `lambda_party` is how important will be the metadata while the inference procedure is running and it can be accesed from the `lambda_val` attribute."
   ]
  },
  {
   "cell_type": "code",
   "execution_count": 7,
   "id": "b7036b04-dd9c-4955-84ed-ff8a90c1c767",
   "metadata": {
    "ExecuteTime": {
     "end_time": "2024-09-13T01:25:55.337354Z",
     "start_time": "2024-09-13T01:25:55.334412Z"
    }
   },
   "outputs": [
    {
     "name": "stdout",
     "output_type": "stream",
     "text": [
      "Importance of political parties: 100\n",
      "Importance of political parties: 2.3\n"
     ]
    }
   ],
   "source": [
    "print(f\"Importance of political parties: {parties.lambda_val}\")\n",
    "parties.lambda_val = 2.3\n",
    "print(f\"Importance of political parties: {parties.lambda_val}\")"
   ]
  },
  {
   "cell_type": "markdown",
   "id": "e59c358a-caf9-4424-864e-64c00eaee838",
   "metadata": {},
   "source": [
    "When the metadata has been added to the `nodes_layer` object, its dataframe will add a new column with the ids of the metadata with the same column name but finished in `_id`."
   ]
  },
  {
   "cell_type": "code",
   "execution_count": 8,
   "id": "5c734535-ccb6-42cb-83ff-304daa1bac50",
   "metadata": {
    "ExecuteTime": {
     "end_time": "2024-09-13T01:25:55.761138Z",
     "start_time": "2024-09-13T01:25:55.756871Z"
    }
   },
   "outputs": [
    {
     "data": {
      "text/html": [
       "<div>\n",
       "<style scoped>\n",
       "    .dataframe tbody tr th:only-of-type {\n",
       "        vertical-align: middle;\n",
       "    }\n",
       "\n",
       "    .dataframe tbody tr th {\n",
       "        vertical-align: top;\n",
       "    }\n",
       "\n",
       "    .dataframe thead th {\n",
       "        text-align: right;\n",
       "    }\n",
       "</style>\n",
       "<table border=\"1\" class=\"dataframe\">\n",
       "  <thead>\n",
       "    <tr style=\"text-align: right;\">\n",
       "      <th></th>\n",
       "      <th>legislator</th>\n",
       "      <th>Party</th>\n",
       "      <th>Movies_preferences</th>\n",
       "      <th>legislator_id</th>\n",
       "      <th>Party_id</th>\n",
       "    </tr>\n",
       "  </thead>\n",
       "  <tbody>\n",
       "    <tr>\n",
       "      <th>0</th>\n",
       "      <td>Pedro</td>\n",
       "      <td>PSOE</td>\n",
       "      <td>Action|Drama</td>\n",
       "      <td>1</td>\n",
       "      <td>1</td>\n",
       "    </tr>\n",
       "    <tr>\n",
       "      <th>1</th>\n",
       "      <td>Santiago</td>\n",
       "      <td>VOX</td>\n",
       "      <td>Belic</td>\n",
       "      <td>2</td>\n",
       "      <td>3</td>\n",
       "    </tr>\n",
       "    <tr>\n",
       "      <th>2</th>\n",
       "      <td>Alberto</td>\n",
       "      <td>PP</td>\n",
       "      <td>Belic|Comedy</td>\n",
       "      <td>0</td>\n",
       "      <td>0</td>\n",
       "    </tr>\n",
       "    <tr>\n",
       "      <th>3</th>\n",
       "      <td>Yolanda</td>\n",
       "      <td>Sumar</td>\n",
       "      <td>Comedy|Drama</td>\n",
       "      <td>3</td>\n",
       "      <td>2</td>\n",
       "    </tr>\n",
       "  </tbody>\n",
       "</table>\n",
       "</div>"
      ],
      "text/plain": [
       "  legislator  Party Movies_preferences  legislator_id  Party_id\n",
       "0      Pedro   PSOE       Action|Drama              1         1\n",
       "1   Santiago    VOX              Belic              2         3\n",
       "2    Alberto     PP       Belic|Comedy              0         0\n",
       "3    Yolanda  Sumar       Comedy|Drama              3         2"
      ]
     },
     "execution_count": 8,
     "metadata": {},
     "output_type": "execute_result"
    }
   ],
   "source": [
    "politicians.df"
   ]
  },
  {
   "cell_type": "markdown",
   "id": "73d20ae2-04db-4660-826d-d5b5aed45105",
   "metadata": {},
   "source": [
    "Similarly to the `nodes_layer`, you can acces to the metadata ids through the `dict_codes` attribute."
   ]
  },
  {
   "cell_type": "code",
   "execution_count": 9,
   "id": "2e511b25-9e2e-41d4-b601-96f7ce2e75ac",
   "metadata": {
    "ExecuteTime": {
     "end_time": "2024-09-13T01:25:56.078466Z",
     "start_time": "2024-09-13T01:25:56.075360Z"
    },
    "tags": []
   },
   "outputs": [
    {
     "data": {
      "text/plain": [
       "{'PSOE': 1, 'VOX': 3, 'PP': 0, 'Sumar': 2}"
      ]
     },
     "execution_count": 9,
     "metadata": {},
     "output_type": "execute_result"
    }
   ],
   "source": [
    "parties.dict_codes"
   ]
  },
  {
   "cell_type": "markdown",
   "id": "73e18955-fb33-49df-a1b5-d5518ae416ee",
   "metadata": {},
   "source": [
    "### Inclusive metadata"
   ]
  },
  {
   "cell_type": "markdown",
   "id": "b954a1ea-8661-486d-8f9a-4d24a33090e6",
   "metadata": {},
   "source": [
    "Once the `nodes_layer` is initialized, you can add the metadata using the `add_inclusive_metadata` method that will return a `inclusive_metadata` class. "
   ]
  },
  {
   "cell_type": "code",
   "execution_count": 10,
   "id": "5c5268d7-6a7c-451c-9f20-e8cc482e94a1",
   "metadata": {
    "ExecuteTime": {
     "end_time": "2024-09-13T01:25:57.805874Z",
     "start_time": "2024-09-13T01:25:57.801776Z"
    }
   },
   "outputs": [],
   "source": [
    "# Importance of the metadata\n",
    "lambda_movies = 0.3\n",
    "# Number of groups of genres\n",
    "Tau_movies = 6\n",
    "movies = politicians.add_inclusive_metadata(lambda_movies,\"Movies_preferences\",Tau_movies)"
   ]
  },
  {
   "cell_type": "markdown",
   "id": "1cf43c73-f413-402f-87d8-21017ae47439",
   "metadata": {},
   "source": [
    "Also, this object will be stored inside the `nodes_layer` object in the `meta_inclusives` attribute that is a dictionary whose keys are the column names of the metadaa and the value the object."
   ]
  },
  {
   "cell_type": "code",
   "execution_count": 11,
   "id": "0fdd0345-6184-4c15-8d29-1d6e00664f28",
   "metadata": {
    "ExecuteTime": {
     "end_time": "2024-09-13T01:25:58.407508Z",
     "start_time": "2024-09-13T01:25:58.404792Z"
    }
   },
   "outputs": [
    {
     "data": {
      "text/plain": [
       "True"
      ]
     },
     "execution_count": 11,
     "metadata": {},
     "output_type": "execute_result"
    }
   ],
   "source": [
    "politicians.meta_inclusives[str(movies)] == movies"
   ]
  },
  {
   "cell_type": "markdown",
   "id": "d5420b1e-8225-4a93-abe3-8a54d1fa9107",
   "metadata": {},
   "source": [
    "The value of `lambda_movies` is how important will be the metadata while the inference procedure is running and it can be accesed from the `lambda_val` attribute."
   ]
  },
  {
   "cell_type": "code",
   "execution_count": 12,
   "id": "25a2eefe-37d3-4863-9cbf-9ceffbadc14f",
   "metadata": {
    "ExecuteTime": {
     "end_time": "2024-09-13T01:25:59.421959Z",
     "start_time": "2024-09-13T01:25:59.419759Z"
    }
   },
   "outputs": [
    {
     "name": "stdout",
     "output_type": "stream",
     "text": [
      "Importance of politicians movies preferences: 0.3\n",
      "Importance of politicians movies preferences: 20\n"
     ]
    }
   ],
   "source": [
    "print(f\"Importance of politicians movies preferences: {movies.lambda_val}\")\n",
    "movies.lambda_val = 20\n",
    "print(f\"Importance of politicians movies preferences: {movies.lambda_val}\")"
   ]
  },
  {
   "cell_type": "markdown",
   "id": "afe254ff-a0e1-49c1-8079-234acf3d74f4",
   "metadata": {},
   "source": [
    "The value of `Tau_movies` is the number of groups which the metadata will be grouped in the inference and it can be accesed from the `lambda_val` attribute."
   ]
  },
  {
   "cell_type": "code",
   "execution_count": 13,
   "id": "9d41d117-5415-4bcf-be7c-a2162be3ba2c",
   "metadata": {
    "ExecuteTime": {
     "end_time": "2024-09-13T01:25:59.859978Z",
     "start_time": "2024-09-13T01:25:59.857727Z"
    }
   },
   "outputs": [
    {
     "name": "stdout",
     "output_type": "stream",
     "text": [
      "Number of groups of politicians: 6\n",
      "Number of groups of politicians: 3\n"
     ]
    }
   ],
   "source": [
    "print(f\"Number of groups of politicians: {movies.Tau}\")\n",
    "movies.Tau = 3\n",
    "print(f\"Number of groups of politicians: {movies.Tau}\")"
   ]
  },
  {
   "cell_type": "markdown",
   "id": "b28c689e-b156-41ca-82a4-ff596d55bf8d",
   "metadata": {},
   "source": [
    "When the metadata has been added to the `nodes_layer` object, its dataframe will add a new column with the ids of the metadata with the same column name but finished in `_id`."
   ]
  },
  {
   "cell_type": "code",
   "execution_count": 14,
   "id": "138907c5-dfdc-483a-a3eb-4b7f83341a49",
   "metadata": {
    "ExecuteTime": {
     "end_time": "2024-09-13T01:26:00.760572Z",
     "start_time": "2024-09-13T01:26:00.753104Z"
    }
   },
   "outputs": [
    {
     "data": {
      "text/html": [
       "<div>\n",
       "<style scoped>\n",
       "    .dataframe tbody tr th:only-of-type {\n",
       "        vertical-align: middle;\n",
       "    }\n",
       "\n",
       "    .dataframe tbody tr th {\n",
       "        vertical-align: top;\n",
       "    }\n",
       "\n",
       "    .dataframe thead th {\n",
       "        text-align: right;\n",
       "    }\n",
       "</style>\n",
       "<table border=\"1\" class=\"dataframe\">\n",
       "  <thead>\n",
       "    <tr style=\"text-align: right;\">\n",
       "      <th></th>\n",
       "      <th>legislator</th>\n",
       "      <th>Party</th>\n",
       "      <th>Movies_preferences</th>\n",
       "      <th>legislator_id</th>\n",
       "      <th>Party_id</th>\n",
       "    </tr>\n",
       "  </thead>\n",
       "  <tbody>\n",
       "    <tr>\n",
       "      <th>0</th>\n",
       "      <td>Pedro</td>\n",
       "      <td>PSOE</td>\n",
       "      <td>Action|Drama</td>\n",
       "      <td>1</td>\n",
       "      <td>1</td>\n",
       "    </tr>\n",
       "    <tr>\n",
       "      <th>1</th>\n",
       "      <td>Santiago</td>\n",
       "      <td>VOX</td>\n",
       "      <td>Belic</td>\n",
       "      <td>2</td>\n",
       "      <td>3</td>\n",
       "    </tr>\n",
       "    <tr>\n",
       "      <th>2</th>\n",
       "      <td>Alberto</td>\n",
       "      <td>PP</td>\n",
       "      <td>Belic|Comedy</td>\n",
       "      <td>0</td>\n",
       "      <td>0</td>\n",
       "    </tr>\n",
       "    <tr>\n",
       "      <th>3</th>\n",
       "      <td>Yolanda</td>\n",
       "      <td>Sumar</td>\n",
       "      <td>Comedy|Drama</td>\n",
       "      <td>3</td>\n",
       "      <td>2</td>\n",
       "    </tr>\n",
       "  </tbody>\n",
       "</table>\n",
       "</div>"
      ],
      "text/plain": [
       "  legislator  Party Movies_preferences  legislator_id  Party_id\n",
       "0      Pedro   PSOE       Action|Drama              1         1\n",
       "1   Santiago    VOX              Belic              2         3\n",
       "2    Alberto     PP       Belic|Comedy              0         0\n",
       "3    Yolanda  Sumar       Comedy|Drama              3         2"
      ]
     },
     "execution_count": 14,
     "metadata": {},
     "output_type": "execute_result"
    }
   ],
   "source": [
    "politicians.df"
   ]
  },
  {
   "cell_type": "markdown",
   "id": "832956f3-3686-4dbb-b118-561f6ec709a7",
   "metadata": {},
   "source": [
    "Similarly to the `nodes_layer`, you can acces to the metadata ids through the `dict_codes` attribute."
   ]
  },
  {
   "cell_type": "code",
   "execution_count": 15,
   "id": "c3b78fca-f0e3-423d-b4c1-9a3202867cd6",
   "metadata": {
    "ExecuteTime": {
     "end_time": "2024-09-13T01:26:01.246536Z",
     "start_time": "2024-09-13T01:26:01.243838Z"
    },
    "tags": []
   },
   "outputs": [
    {
     "data": {
      "text/plain": [
       "{'Belic': 0, 'Comedy': 1, 'Action': 2, 'Drama': 3}"
      ]
     },
     "execution_count": 15,
     "metadata": {},
     "output_type": "execute_result"
    }
   ],
   "source": [
    "movies.dict_codes"
   ]
  },
  {
   "cell_type": "markdown",
   "id": "41523b53-fa49-43e4-90ed-162e1b40b33e",
   "metadata": {},
   "source": [
    "### Accesing to the metadata object from its name"
   ]
  },
  {
   "cell_type": "markdown",
   "id": "dd3f1de2-0703-4413-bf4e-d8d866862500",
   "metadata": {},
   "source": [
    "You can access to the metadata_layer objects without using the `meta_inclusive` and `meta_exclusives` dictionaries."
   ]
  },
  {
   "cell_type": "code",
   "execution_count": 16,
   "id": "d241d730-3723-455c-a14d-e2093080a54a",
   "metadata": {
    "ExecuteTime": {
     "end_time": "2024-09-13T01:26:02.844327Z",
     "start_time": "2024-09-13T01:26:02.841893Z"
    }
   },
   "outputs": [
    {
     "data": {
      "text/plain": [
       "True"
      ]
     },
     "execution_count": 16,
     "metadata": {},
     "output_type": "execute_result"
    }
   ],
   "source": [
    "politicians[str(movies)] == movies"
   ]
  },
  {
   "cell_type": "code",
   "execution_count": 17,
   "id": "7161c12b-5a7a-473f-b780-2668d70cf283",
   "metadata": {
    "ExecuteTime": {
     "end_time": "2024-09-13T01:26:03.127353Z",
     "start_time": "2024-09-13T01:26:03.123614Z"
    }
   },
   "outputs": [
    {
     "data": {
      "text/plain": [
       "True"
      ]
     },
     "execution_count": 17,
     "metadata": {},
     "output_type": "execute_result"
    }
   ],
   "source": [
    "politicians[str(parties)] == parties"
   ]
  },
  {
   "cell_type": "markdown",
   "id": "644023b1-a301-42ea-96e3-a0d74fee043e",
   "metadata": {},
   "source": [
    "# `BiNet` class"
   ]
  },
  {
   "cell_type": "markdown",
   "id": "cc6661d0-b078-484f-8f97-9e6c248ce531",
   "metadata": {},
   "source": [
    "The BinNet class contains the information about a Bipartite network. It contains information about:\n",
    " - Each of the layers that forms the bipartite network\n",
    " - The observed links."
   ]
  },
  {
   "cell_type": "markdown",
   "id": "351a614d-5cac-48a9-baf4-88d9859692fc",
   "metadata": {},
   "source": [
    "## `BiNet` class without nodes metadata"
   ]
  },
  {
   "cell_type": "markdown",
   "id": "4fed6b51-e4fb-4d2e-a7cf-32e169ea8b93",
   "metadata": {},
   "source": [
    "To declare a `BiNet` object you need always, at less, a dataframe with (minimum) three columns:\n",
    " - One with the source node\n",
    " - One with the target node\n",
    " - The label of the link"
   ]
  },
  {
   "cell_type": "code",
   "execution_count": 18,
   "id": "1d9b29a5-65fd-4352-8d25-6d8505d2f312",
   "metadata": {
    "ExecuteTime": {
     "end_time": "2024-09-13T01:26:06.103107Z",
     "start_time": "2024-09-13T01:26:06.095487Z"
    }
   },
   "outputs": [],
   "source": [
    "links_df = pd.DataFrame({\"source\":[0,0,0,1,1,1,2,2,2],\n",
    "             \"target\":[\"A\",\"B\",\"C\",\"A\",\"B\",\"C\",\"A\",\"B\",\"C\"],\n",
    "             \"labels\":[\"positive\",\"negative\",\"positive\",\"positive\",\"negative\",\"positive\",\"negative\",\"negative\",\"positive\"]})"
   ]
  },
  {
   "cell_type": "code",
   "execution_count": 19,
   "id": "136972a0-d335-46a3-8911-58fd7bf3f1bb",
   "metadata": {
    "ExecuteTime": {
     "end_time": "2024-09-13T01:26:06.332899Z",
     "start_time": "2024-09-13T01:26:06.310749Z"
    }
   },
   "outputs": [],
   "source": [
    "BiNet = sbm.BiNet(links_df,\"labels\",nodes_a_name=\"source\",Ka=1,nodes_b_name=\"target\",Kb=2)"
   ]
  },
  {
   "cell_type": "markdown",
   "id": "432cf533-ff45-40d1-a0a8-7447e194b087",
   "metadata": {},
   "source": [
    "Notice that you need to specify wich columns represent nodes and which is the column of the labels.\n",
    "Also, because the class only distiguish undirect networks, the columns assignments of `nodes_a` and `nodes_b` are irrelevant. Only will affect in the indexing of the matrices of the MMSBM parameters."
   ]
  },
  {
   "cell_type": "markdown",
   "id": "bb941565-d760-40c3-bd0e-48cdd2a085c4",
   "metadata": {},
   "source": [
    "Once the object is initialized, you can acces to the dataframe from the `df` attribute, but now it will notain three new columns, one for each node type and another for the labels, with an integer id that the library will use in the future. The name of the column is the same as the column of the names, but finished in `_id`."
   ]
  },
  {
   "cell_type": "code",
   "execution_count": 20,
   "id": "9a465ecc-7f5f-4cc6-992f-1a296a566dad",
   "metadata": {
    "ExecuteTime": {
     "end_time": "2024-09-13T01:26:08.484196Z",
     "start_time": "2024-09-13T01:26:08.466778Z"
    }
   },
   "outputs": [
    {
     "data": {
      "text/html": [
       "<div>\n",
       "<style scoped>\n",
       "    .dataframe tbody tr th:only-of-type {\n",
       "        vertical-align: middle;\n",
       "    }\n",
       "\n",
       "    .dataframe tbody tr th {\n",
       "        vertical-align: top;\n",
       "    }\n",
       "\n",
       "    .dataframe thead th {\n",
       "        text-align: right;\n",
       "    }\n",
       "</style>\n",
       "<table border=\"1\" class=\"dataframe\">\n",
       "  <thead>\n",
       "    <tr style=\"text-align: right;\">\n",
       "      <th></th>\n",
       "      <th>source</th>\n",
       "      <th>target</th>\n",
       "      <th>labels</th>\n",
       "      <th>labels_id</th>\n",
       "      <th>source_id</th>\n",
       "      <th>target_id</th>\n",
       "    </tr>\n",
       "  </thead>\n",
       "  <tbody>\n",
       "    <tr>\n",
       "      <th>0</th>\n",
       "      <td>0</td>\n",
       "      <td>A</td>\n",
       "      <td>positive</td>\n",
       "      <td>1</td>\n",
       "      <td>0</td>\n",
       "      <td>0</td>\n",
       "    </tr>\n",
       "    <tr>\n",
       "      <th>1</th>\n",
       "      <td>0</td>\n",
       "      <td>B</td>\n",
       "      <td>negative</td>\n",
       "      <td>0</td>\n",
       "      <td>0</td>\n",
       "      <td>1</td>\n",
       "    </tr>\n",
       "    <tr>\n",
       "      <th>2</th>\n",
       "      <td>0</td>\n",
       "      <td>C</td>\n",
       "      <td>positive</td>\n",
       "      <td>1</td>\n",
       "      <td>0</td>\n",
       "      <td>2</td>\n",
       "    </tr>\n",
       "    <tr>\n",
       "      <th>3</th>\n",
       "      <td>1</td>\n",
       "      <td>A</td>\n",
       "      <td>positive</td>\n",
       "      <td>1</td>\n",
       "      <td>1</td>\n",
       "      <td>0</td>\n",
       "    </tr>\n",
       "    <tr>\n",
       "      <th>4</th>\n",
       "      <td>1</td>\n",
       "      <td>B</td>\n",
       "      <td>negative</td>\n",
       "      <td>0</td>\n",
       "      <td>1</td>\n",
       "      <td>1</td>\n",
       "    </tr>\n",
       "    <tr>\n",
       "      <th>5</th>\n",
       "      <td>1</td>\n",
       "      <td>C</td>\n",
       "      <td>positive</td>\n",
       "      <td>1</td>\n",
       "      <td>1</td>\n",
       "      <td>2</td>\n",
       "    </tr>\n",
       "    <tr>\n",
       "      <th>6</th>\n",
       "      <td>2</td>\n",
       "      <td>A</td>\n",
       "      <td>negative</td>\n",
       "      <td>0</td>\n",
       "      <td>2</td>\n",
       "      <td>0</td>\n",
       "    </tr>\n",
       "    <tr>\n",
       "      <th>7</th>\n",
       "      <td>2</td>\n",
       "      <td>B</td>\n",
       "      <td>negative</td>\n",
       "      <td>0</td>\n",
       "      <td>2</td>\n",
       "      <td>1</td>\n",
       "    </tr>\n",
       "    <tr>\n",
       "      <th>8</th>\n",
       "      <td>2</td>\n",
       "      <td>C</td>\n",
       "      <td>positive</td>\n",
       "      <td>1</td>\n",
       "      <td>2</td>\n",
       "      <td>2</td>\n",
       "    </tr>\n",
       "  </tbody>\n",
       "</table>\n",
       "</div>"
      ],
      "text/plain": [
       "   source target    labels  labels_id  source_id  target_id\n",
       "0       0      A  positive          1          0          0\n",
       "1       0      B  negative          0          0          1\n",
       "2       0      C  positive          1          0          2\n",
       "3       1      A  positive          1          1          0\n",
       "4       1      B  negative          0          1          1\n",
       "5       1      C  positive          1          1          2\n",
       "6       2      A  negative          0          2          0\n",
       "7       2      B  negative          0          2          1\n",
       "8       2      C  positive          1          2          2"
      ]
     },
     "execution_count": 20,
     "metadata": {},
     "output_type": "execute_result"
    }
   ],
   "source": [
    "BiNet.df"
   ]
  },
  {
   "cell_type": "markdown",
   "id": "598ee3e3-a1ad-4285-b581-4a4087b29bca",
   "metadata": {},
   "source": [
    "## Accesing to the `node_layer` objects"
   ]
  },
  {
   "cell_type": "markdown",
   "id": "dfccf5dc-8bc2-4455-81ec-887c86c83885",
   "metadata": {},
   "source": [
    "Two attributes that contains the information of the nodes are the `nodes_a` and `nodes_b` attributes that are `nodes_layer` objects."
   ]
  },
  {
   "cell_type": "code",
   "execution_count": 21,
   "id": "a806bc6b-725e-4b81-bb37-ba7d427d8f98",
   "metadata": {
    "ExecuteTime": {
     "end_time": "2024-09-13T01:26:21.715552Z",
     "start_time": "2024-09-13T01:26:21.713079Z"
    }
   },
   "outputs": [
    {
     "name": "stdout",
     "output_type": "stream",
     "text": [
      "source <class 'MMSBM_library.nodes_layer'>\n",
      "target <class 'MMSBM_library.nodes_layer'>\n"
     ]
    }
   ],
   "source": [
    "print(BiNet.nodes_a,type(BiNet.nodes_a))\n",
    "print(BiNet.nodes_b,type(BiNet.nodes_b))"
   ]
  },
  {
   "cell_type": "markdown",
   "id": "e7b5e40a-8fd6-42ea-b0d4-4ce5afe93ba0",
   "metadata": {},
   "source": [
    "An easier way to access to these objects is by using the name of the layer:"
   ]
  },
  {
   "cell_type": "code",
   "execution_count": 22,
   "id": "f1a0d471-bde0-4091-b8b4-3b03b4f71d7d",
   "metadata": {
    "ExecuteTime": {
     "end_time": "2024-09-13T01:26:23.829036Z",
     "start_time": "2024-09-13T01:26:23.824968Z"
    }
   },
   "outputs": [
    {
     "data": {
      "text/plain": [
       "True"
      ]
     },
     "execution_count": 22,
     "metadata": {},
     "output_type": "execute_result"
    }
   ],
   "source": [
    "BiNet[\"source\"] == BiNet.nodes_a"
   ]
  },
  {
   "cell_type": "code",
   "execution_count": 23,
   "id": "1c7d557d-87d2-43a9-b8be-8ac5940f554e",
   "metadata": {
    "ExecuteTime": {
     "end_time": "2024-09-13T01:26:24.747360Z",
     "start_time": "2024-09-13T01:26:24.743612Z"
    }
   },
   "outputs": [
    {
     "data": {
      "text/plain": [
       "True"
      ]
     },
     "execution_count": 23,
     "metadata": {},
     "output_type": "execute_result"
    }
   ],
   "source": [
    "BiNet[\"target\"] == BiNet.nodes_b"
   ]
  },
  {
   "cell_type": "markdown",
   "id": "1fa6e1e9-a6bb-432e-929b-47b4f4d23561",
   "metadata": {},
   "source": [
    "As before, you can access to a dataframe with the `df` method. Also, it will contain an extra column with the ids."
   ]
  },
  {
   "cell_type": "code",
   "execution_count": 24,
   "id": "f251bf51-81bd-467c-9771-839e429053c1",
   "metadata": {
    "ExecuteTime": {
     "end_time": "2024-09-13T01:26:27.121613Z",
     "start_time": "2024-09-13T01:26:27.117667Z"
    }
   },
   "outputs": [
    {
     "data": {
      "text/html": [
       "<div>\n",
       "<style scoped>\n",
       "    .dataframe tbody tr th:only-of-type {\n",
       "        vertical-align: middle;\n",
       "    }\n",
       "\n",
       "    .dataframe tbody tr th {\n",
       "        vertical-align: top;\n",
       "    }\n",
       "\n",
       "    .dataframe thead th {\n",
       "        text-align: right;\n",
       "    }\n",
       "</style>\n",
       "<table border=\"1\" class=\"dataframe\">\n",
       "  <thead>\n",
       "    <tr style=\"text-align: right;\">\n",
       "      <th></th>\n",
       "      <th>source</th>\n",
       "      <th>source_id</th>\n",
       "    </tr>\n",
       "  </thead>\n",
       "  <tbody>\n",
       "    <tr>\n",
       "      <th>0</th>\n",
       "      <td>0</td>\n",
       "      <td>0</td>\n",
       "    </tr>\n",
       "    <tr>\n",
       "      <th>1</th>\n",
       "      <td>1</td>\n",
       "      <td>1</td>\n",
       "    </tr>\n",
       "    <tr>\n",
       "      <th>2</th>\n",
       "      <td>2</td>\n",
       "      <td>2</td>\n",
       "    </tr>\n",
       "  </tbody>\n",
       "</table>\n",
       "</div>"
      ],
      "text/plain": [
       "   source  source_id\n",
       "0       0          0\n",
       "1       1          1\n",
       "2       2          2"
      ]
     },
     "execution_count": 24,
     "metadata": {},
     "output_type": "execute_result"
    }
   ],
   "source": [
    "BiNet[\"source\"].df"
   ]
  },
  {
   "cell_type": "code",
   "execution_count": 25,
   "id": "64f27672-3888-44d7-8b93-68551fabbdbb",
   "metadata": {
    "ExecuteTime": {
     "end_time": "2024-09-13T01:26:28.149900Z",
     "start_time": "2024-09-13T01:26:28.136629Z"
    }
   },
   "outputs": [
    {
     "data": {
      "text/html": [
       "<div>\n",
       "<style scoped>\n",
       "    .dataframe tbody tr th:only-of-type {\n",
       "        vertical-align: middle;\n",
       "    }\n",
       "\n",
       "    .dataframe tbody tr th {\n",
       "        vertical-align: top;\n",
       "    }\n",
       "\n",
       "    .dataframe thead th {\n",
       "        text-align: right;\n",
       "    }\n",
       "</style>\n",
       "<table border=\"1\" class=\"dataframe\">\n",
       "  <thead>\n",
       "    <tr style=\"text-align: right;\">\n",
       "      <th></th>\n",
       "      <th>target</th>\n",
       "      <th>target_id</th>\n",
       "    </tr>\n",
       "  </thead>\n",
       "  <tbody>\n",
       "    <tr>\n",
       "      <th>0</th>\n",
       "      <td>A</td>\n",
       "      <td>0</td>\n",
       "    </tr>\n",
       "    <tr>\n",
       "      <th>1</th>\n",
       "      <td>B</td>\n",
       "      <td>1</td>\n",
       "    </tr>\n",
       "    <tr>\n",
       "      <th>2</th>\n",
       "      <td>C</td>\n",
       "      <td>2</td>\n",
       "    </tr>\n",
       "  </tbody>\n",
       "</table>\n",
       "</div>"
      ],
      "text/plain": [
       "  target  target_id\n",
       "0      A          0\n",
       "1      B          1\n",
       "2      C          2"
      ]
     },
     "execution_count": 25,
     "metadata": {},
     "output_type": "execute_result"
    }
   ],
   "source": [
    "BiNet[\"target\"].df"
   ]
  },
  {
   "cell_type": "markdown",
   "id": "6b26e09d-c375-44d6-bc0b-2d91c8fc8b8c",
   "metadata": {},
   "source": [
    "## Using `nodes_layer` objects to initialize a `BiNet` object"
   ]
  },
  {
   "cell_type": "markdown",
   "id": "7029c78a-34b7-41b9-9bb1-befa2900313b",
   "metadata": {},
   "source": [
    "The example of before only has a link list with labels. Sometimes you want to infer using nodes' metadata. The best way to do that is by using `nodes_layer` objects."
   ]
  },
  {
   "cell_type": "markdown",
   "id": "fbcb64ff-297d-4228-93c8-3608cd256f94",
   "metadata": {},
   "source": [
    "First let's create the `nodes_layer` objects"
   ]
  },
  {
   "cell_type": "code",
   "execution_count": 26,
   "id": "c57ba59e-dffa-46bf-b24d-1932baf98e90",
   "metadata": {
    "ExecuteTime": {
     "end_time": "2024-09-13T01:26:35.249524Z",
     "start_time": "2024-09-13T01:26:35.240826Z"
    }
   },
   "outputs": [
    {
     "data": {
      "text/plain": [
       "<MMSBM_library.inclusive_metadata at 0x7fbfbd6bef10>"
      ]
     },
     "execution_count": 26,
     "metadata": {},
     "output_type": "execute_result"
    }
   ],
   "source": [
    "#Dataframe to use\n",
    "df_politicians =pd.DataFrame( {\"legislator\":[\"Pedro\", \"Santiago\", \"Alberto\", \"Yolanda\"],\n",
    "                               \"Party\":[\"PSOE\", \"VOX\", \"PP\", \"Sumar\"],\n",
    "                               \"Movies_preferences\":[\"Action|Drama\",\"Belic\",\"Belic|Comedy\",\"Comedy|Drama\"]})\n",
    "#Number of groups\n",
    "K = 2\n",
    "#You have to tell in which the name of the nodes will be as the second parameter \n",
    "politicians = sbm.nodes_layer(K,\"legislator\",df_politicians)\n",
    "\n",
    "politicians.add_exclusive_metadata(1,\"Party\")\n",
    "politicians.add_inclusive_metadata(1,\"Movies_preferences\",1)"
   ]
  },
  {
   "cell_type": "code",
   "execution_count": 27,
   "id": "aeae6e26-caf5-486b-98e3-c3f9fabb60b2",
   "metadata": {
    "ExecuteTime": {
     "end_time": "2024-09-13T01:26:36.103971Z",
     "start_time": "2024-09-13T01:26:36.099531Z"
    }
   },
   "outputs": [],
   "source": [
    "#Dataframe to use\n",
    "df_bills =pd.DataFrame( {\"bill\":[\"A\", \"B\", \"C\",\"D\"],\n",
    "                            \"Year\":[2020, 2020, 2021, 2022]})\n",
    "#Number of groups\n",
    "K = 2\n",
    "#You have to tell in which the name of the nodes will be as the second parameter \n",
    "bills = sbm.nodes_layer(K,\"bill\",df_bills)"
   ]
  },
  {
   "cell_type": "markdown",
   "id": "96f9fcfb-d315-4e46-bc71-41514829ef25",
   "metadata": {},
   "source": [
    "Now we can create the `BiNet` object, but with the difference that instead of specifying the name of the nodes layer, you have to use as a parameter the `nodes_layer` object using the `nodes_a` and `nodes_b` parameters."
   ]
  },
  {
   "cell_type": "code",
   "execution_count": 28,
   "id": "3a54d080-795d-4c93-9ba4-7bc6ce24cca6",
   "metadata": {
    "ExecuteTime": {
     "end_time": "2024-09-13T01:26:37.361466Z",
     "start_time": "2024-09-13T01:26:37.355397Z"
    }
   },
   "outputs": [],
   "source": [
    "#Dataframe to use\n",
    "df_votes =pd.DataFrame( {\"legislator\":[\"Pedro\",\"Pedro\",\"Pedro\",\"Santiago\",\"Santiago\",\"Santiago\", \n",
    "                                       \"Alberto\", \"Alberto\", \"Alberto\", \"Yolanda\", \"Yolanda\", \"Yolanda\"],\n",
    "                         \"bill\":[\"A\", \"B\", \"D\",  \"A\",\"C\", \"D\",\n",
    "                                 \"A\", \"B\", \"C\",  \"B\",\"C\", \"D\",],\n",
    "                         \"votes\":[\"Yes\",\"No\",\"No\",  \"No\",\"Yes\",\"Yes\",\n",
    "                                  \"No\",\"No\",\"Yes\",  \"Yes\",\"No\",\"No\"]})\n",
    "#Creating the BiNet object\n",
    "votes = sbm.BiNet(df_votes,\"votes\",nodes_a=bills,nodes_b=politicians)"
   ]
  },
  {
   "cell_type": "markdown",
   "id": "02354b29-7619-41bc-9f5c-82aba05581c8",
   "metadata": {},
   "source": [
    "Notice that you do not need to specify the number of the groups of each `nodes_layer` because it is contained in the correspondence `nodes_layer`.\n",
    "\n",
    "IMPORTANT: The name of the columns of the layer in both Dataframes (from the `nodes_layer` object and for the `BiNet` object) must to coincide. Else, a `KeyError` will arrise."
   ]
  },
  {
   "cell_type": "markdown",
   "id": "3c621580-c2a2-4b78-a1cc-348f759adcad",
   "metadata": {},
   "source": [
    "Is not mandatory to use two `nodes_layer` to create the `BiNet` object when you need metadata from only one of the layers. Remember to specify the number of groups."
   ]
  },
  {
   "cell_type": "code",
   "execution_count": 29,
   "id": "07db6448-a139-40b3-87c9-ebdf9b58b421",
   "metadata": {
    "ExecuteTime": {
     "end_time": "2024-09-13T01:26:38.213570Z",
     "start_time": "2024-09-13T01:26:38.207329Z"
    }
   },
   "outputs": [],
   "source": [
    "#Example using only one nodes_layer object\n",
    "votes = sbm.BiNet(df_votes,\"votes\",nodes_a_name=\"bill\",Ka=2,nodes_b=politicians)"
   ]
  },
  {
   "cell_type": "markdown",
   "id": "975275ea-0c42-48d9-adcb-7e99dc3f1c31",
   "metadata": {},
   "source": [
    "If you display the dataframe of the `BinNet` and the `nodes_layer` objects, the nodes ids from both layers will coincide."
   ]
  },
  {
   "cell_type": "code",
   "execution_count": 30,
   "id": "fad81ed1-66a6-432b-affe-ac7b7441386f",
   "metadata": {
    "ExecuteTime": {
     "end_time": "2024-09-13T01:26:39.046289Z",
     "start_time": "2024-09-13T01:26:39.001550Z"
    }
   },
   "outputs": [
    {
     "data": {
      "text/html": [
       "<div>\n",
       "<style scoped>\n",
       "    .dataframe tbody tr th:only-of-type {\n",
       "        vertical-align: middle;\n",
       "    }\n",
       "\n",
       "    .dataframe tbody tr th {\n",
       "        vertical-align: top;\n",
       "    }\n",
       "\n",
       "    .dataframe thead th {\n",
       "        text-align: right;\n",
       "    }\n",
       "</style>\n",
       "<table border=\"1\" class=\"dataframe\">\n",
       "  <thead>\n",
       "    <tr style=\"text-align: right;\">\n",
       "      <th></th>\n",
       "      <th>legislator</th>\n",
       "      <th>legislator_id</th>\n",
       "      <th>bill</th>\n",
       "      <th>bill_id</th>\n",
       "    </tr>\n",
       "  </thead>\n",
       "  <tbody>\n",
       "    <tr>\n",
       "      <th>0</th>\n",
       "      <td>Pedro</td>\n",
       "      <td>1</td>\n",
       "      <td>A</td>\n",
       "      <td>0</td>\n",
       "    </tr>\n",
       "    <tr>\n",
       "      <th>1</th>\n",
       "      <td>Pedro</td>\n",
       "      <td>1</td>\n",
       "      <td>B</td>\n",
       "      <td>1</td>\n",
       "    </tr>\n",
       "    <tr>\n",
       "      <th>2</th>\n",
       "      <td>Pedro</td>\n",
       "      <td>1</td>\n",
       "      <td>D</td>\n",
       "      <td>3</td>\n",
       "    </tr>\n",
       "    <tr>\n",
       "      <th>3</th>\n",
       "      <td>Santiago</td>\n",
       "      <td>2</td>\n",
       "      <td>A</td>\n",
       "      <td>0</td>\n",
       "    </tr>\n",
       "    <tr>\n",
       "      <th>4</th>\n",
       "      <td>Santiago</td>\n",
       "      <td>2</td>\n",
       "      <td>C</td>\n",
       "      <td>2</td>\n",
       "    </tr>\n",
       "    <tr>\n",
       "      <th>5</th>\n",
       "      <td>Santiago</td>\n",
       "      <td>2</td>\n",
       "      <td>D</td>\n",
       "      <td>3</td>\n",
       "    </tr>\n",
       "    <tr>\n",
       "      <th>6</th>\n",
       "      <td>Alberto</td>\n",
       "      <td>0</td>\n",
       "      <td>A</td>\n",
       "      <td>0</td>\n",
       "    </tr>\n",
       "    <tr>\n",
       "      <th>7</th>\n",
       "      <td>Alberto</td>\n",
       "      <td>0</td>\n",
       "      <td>B</td>\n",
       "      <td>1</td>\n",
       "    </tr>\n",
       "    <tr>\n",
       "      <th>8</th>\n",
       "      <td>Alberto</td>\n",
       "      <td>0</td>\n",
       "      <td>C</td>\n",
       "      <td>2</td>\n",
       "    </tr>\n",
       "    <tr>\n",
       "      <th>9</th>\n",
       "      <td>Yolanda</td>\n",
       "      <td>3</td>\n",
       "      <td>B</td>\n",
       "      <td>1</td>\n",
       "    </tr>\n",
       "    <tr>\n",
       "      <th>10</th>\n",
       "      <td>Yolanda</td>\n",
       "      <td>3</td>\n",
       "      <td>C</td>\n",
       "      <td>2</td>\n",
       "    </tr>\n",
       "    <tr>\n",
       "      <th>11</th>\n",
       "      <td>Yolanda</td>\n",
       "      <td>3</td>\n",
       "      <td>D</td>\n",
       "      <td>3</td>\n",
       "    </tr>\n",
       "  </tbody>\n",
       "</table>\n",
       "</div>"
      ],
      "text/plain": [
       "   legislator  legislator_id bill  bill_id\n",
       "0       Pedro              1    A        0\n",
       "1       Pedro              1    B        1\n",
       "2       Pedro              1    D        3\n",
       "3    Santiago              2    A        0\n",
       "4    Santiago              2    C        2\n",
       "5    Santiago              2    D        3\n",
       "6     Alberto              0    A        0\n",
       "7     Alberto              0    B        1\n",
       "8     Alberto              0    C        2\n",
       "9     Yolanda              3    B        1\n",
       "10    Yolanda              3    C        2\n",
       "11    Yolanda              3    D        3"
      ]
     },
     "metadata": {},
     "output_type": "display_data"
    },
    {
     "data": {
      "text/html": [
       "<div>\n",
       "<style scoped>\n",
       "    .dataframe tbody tr th:only-of-type {\n",
       "        vertical-align: middle;\n",
       "    }\n",
       "\n",
       "    .dataframe tbody tr th {\n",
       "        vertical-align: top;\n",
       "    }\n",
       "\n",
       "    .dataframe thead th {\n",
       "        text-align: right;\n",
       "    }\n",
       "</style>\n",
       "<table border=\"1\" class=\"dataframe\">\n",
       "  <thead>\n",
       "    <tr style=\"text-align: right;\">\n",
       "      <th></th>\n",
       "      <th>legislator</th>\n",
       "      <th>legislator_id</th>\n",
       "    </tr>\n",
       "  </thead>\n",
       "  <tbody>\n",
       "    <tr>\n",
       "      <th>0</th>\n",
       "      <td>Pedro</td>\n",
       "      <td>1</td>\n",
       "    </tr>\n",
       "    <tr>\n",
       "      <th>1</th>\n",
       "      <td>Santiago</td>\n",
       "      <td>2</td>\n",
       "    </tr>\n",
       "    <tr>\n",
       "      <th>2</th>\n",
       "      <td>Alberto</td>\n",
       "      <td>0</td>\n",
       "    </tr>\n",
       "    <tr>\n",
       "      <th>3</th>\n",
       "      <td>Yolanda</td>\n",
       "      <td>3</td>\n",
       "    </tr>\n",
       "  </tbody>\n",
       "</table>\n",
       "</div>"
      ],
      "text/plain": [
       "  legislator  legislator_id\n",
       "0      Pedro              1\n",
       "1   Santiago              2\n",
       "2    Alberto              0\n",
       "3    Yolanda              3"
      ]
     },
     "metadata": {},
     "output_type": "display_data"
    },
    {
     "data": {
      "text/html": [
       "<div>\n",
       "<style scoped>\n",
       "    .dataframe tbody tr th:only-of-type {\n",
       "        vertical-align: middle;\n",
       "    }\n",
       "\n",
       "    .dataframe tbody tr th {\n",
       "        vertical-align: top;\n",
       "    }\n",
       "\n",
       "    .dataframe thead th {\n",
       "        text-align: right;\n",
       "    }\n",
       "</style>\n",
       "<table border=\"1\" class=\"dataframe\">\n",
       "  <thead>\n",
       "    <tr style=\"text-align: right;\">\n",
       "      <th></th>\n",
       "      <th>bill</th>\n",
       "      <th>bill_id</th>\n",
       "    </tr>\n",
       "  </thead>\n",
       "  <tbody>\n",
       "    <tr>\n",
       "      <th>0</th>\n",
       "      <td>A</td>\n",
       "      <td>0</td>\n",
       "    </tr>\n",
       "    <tr>\n",
       "      <th>1</th>\n",
       "      <td>B</td>\n",
       "      <td>1</td>\n",
       "    </tr>\n",
       "    <tr>\n",
       "      <th>2</th>\n",
       "      <td>D</td>\n",
       "      <td>3</td>\n",
       "    </tr>\n",
       "    <tr>\n",
       "      <th>3</th>\n",
       "      <td>C</td>\n",
       "      <td>2</td>\n",
       "    </tr>\n",
       "  </tbody>\n",
       "</table>\n",
       "</div>"
      ],
      "text/plain": [
       "  bill  bill_id\n",
       "0    A        0\n",
       "1    B        1\n",
       "2    D        3\n",
       "3    C        2"
      ]
     },
     "metadata": {},
     "output_type": "display_data"
    }
   ],
   "source": [
    "display(votes.df[[\"legislator\",\"legislator_id\",\"bill\",\"bill_id\"]])\n",
    "display(votes[\"legislator\"].df[[\"legislator\",\"legislator_id\"]])\n",
    "display(votes[\"bill\"].df[[\"bill\",\"bill_id\"]])"
   ]
  },
  {
   "cell_type": "code",
   "execution_count": 31,
   "id": "10458104-ad9f-429d-b59e-d8ecf748ce6d",
   "metadata": {
    "ExecuteTime": {
     "end_time": "2024-09-13T01:26:39.274097Z",
     "start_time": "2024-09-13T01:26:39.271514Z"
    }
   },
   "outputs": [],
   "source": [
    "votes.init_EM()"
   ]
  },
  {
   "cell_type": "markdown",
   "id": "43057b97-4cef-4331-8313-0e7aa45ad04d",
   "metadata": {},
   "source": [
    "# The Expectation Maximization (EM) algorithm"
   ]
  },
  {
   "cell_type": "markdown",
   "id": "c196d597-2301-488e-8257-136ad277cc4d",
   "metadata": {},
   "source": [
    "To start to infer the parameters of the MMSBM, you have to initialize the parameters. It can be easily done with the `init_EM` method."
   ]
  },
  {
   "cell_type": "code",
   "execution_count": 32,
   "id": "f65daa6b-c4b7-47aa-92ef-a019693680be",
   "metadata": {
    "ExecuteTime": {
     "end_time": "2024-09-13T01:26:40.536025Z",
     "start_time": "2024-09-13T01:26:40.525048Z"
    }
   },
   "outputs": [],
   "source": [
    "votes.init_EM()"
   ]
  },
  {
   "cell_type": "markdown",
   "id": "bd1b42f7-93f6-42a9-abda-209db9f3914e",
   "metadata": {},
   "source": [
    "Once the EM have been initialized, the parameters will be stored in attributes. For the membership parameters, each `nodes_layer` will have a `theta` attribute that is a matrix."
   ]
  },
  {
   "cell_type": "code",
   "execution_count": 33,
   "id": "8a43cb4c-dca8-487f-a4b2-78a668021a0c",
   "metadata": {
    "ExecuteTime": {
     "end_time": "2024-09-13T01:26:41.046720Z",
     "start_time": "2024-09-13T01:26:41.040921Z"
    }
   },
   "outputs": [
    {
     "data": {
      "text/plain": [
       "array([[0.46589065, 0.53410935],\n",
       "       [0.28143496, 0.71856504],\n",
       "       [0.61828973, 0.38171027],\n",
       "       [0.83892364, 0.16107636]])"
      ]
     },
     "execution_count": 33,
     "metadata": {},
     "output_type": "execute_result"
    }
   ],
   "source": [
    "votes[\"legislator\"].theta"
   ]
  },
  {
   "cell_type": "code",
   "execution_count": 34,
   "id": "28761b9e-2394-4609-a99a-7896b1c02258",
   "metadata": {
    "ExecuteTime": {
     "end_time": "2024-09-13T01:33:51.470495Z",
     "start_time": "2024-09-13T01:33:51.465389Z"
    }
   },
   "outputs": [
    {
     "data": {
      "text/plain": [
       "array([[0.37897771, 0.62102229],\n",
       "       [0.30551597, 0.69448403],\n",
       "       [0.15799121, 0.84200879],\n",
       "       [0.86881567, 0.13118433]])"
      ]
     },
     "execution_count": 34,
     "metadata": {},
     "output_type": "execute_result"
    }
   ],
   "source": [
    "votes[\"bill\"].theta"
   ]
  },
  {
   "cell_type": "markdown",
   "id": "6b6899c9-a289-4992-9a61-1dc6765c14ca",
   "metadata": {},
   "source": [
    "The first index corresponds to the id of the node, the second correspond to the group number."
   ]
  },
  {
   "cell_type": "markdown",
   "id": "f4c1449b-781f-478b-b8ba-f385ecca1dc0",
   "metadata": {},
   "source": [
    "For the `BiNet` object, the probabilities matrix and the expectation parameters will be stored in the `pkl` and `omega` attributes respectivly"
   ]
  },
  {
   "cell_type": "code",
   "execution_count": 35,
   "id": "068f410e-6a85-4da9-9fe7-e7faaee39065",
   "metadata": {
    "ExecuteTime": {
     "end_time": "2024-09-13T01:33:52.566909Z",
     "start_time": "2024-09-13T01:33:52.558505Z"
    }
   },
   "outputs": [
    {
     "data": {
      "text/plain": [
       "array([[[0.73906198, 0.26093802],\n",
       "        [0.83798451, 0.16201549]],\n",
       "\n",
       "       [[0.61748432, 0.38251568],\n",
       "        [0.77402566, 0.22597434]]])"
      ]
     },
     "execution_count": 35,
     "metadata": {},
     "output_type": "execute_result"
    }
   ],
   "source": [
    "votes.pkl"
   ]
  },
  {
   "cell_type": "markdown",
   "id": "20c4ceef-2dab-4b61-8fe4-9dc9286f12e1",
   "metadata": {},
   "source": [
    "The first and second index corresponds to the groups from `nodes_a` and `nodes_b` respectively. The third correspond to the label id."
   ]
  },
  {
   "cell_type": "code",
   "execution_count": 36,
   "id": "81782cae-1e1a-469c-9dac-2fc5178ffdf3",
   "metadata": {
    "ExecuteTime": {
     "end_time": "2024-09-13T01:33:53.254247Z",
     "start_time": "2024-09-13T01:33:53.244739Z"
    }
   },
   "outputs": [
    {
     "data": {
      "text/plain": [
       "array([[[[0.17741561, 0.23061797],\n",
       "         [0.24290163, 0.34906479]],\n",
       "\n",
       "        [[0.11613383, 0.18410516],\n",
       "         [0.27897426, 0.42078676]],\n",
       "\n",
       "        [[0.24221106, 0.16954731],\n",
       "         [0.33161378, 0.25662785]],\n",
       "\n",
       "        [[0.        , 0.        ],\n",
       "         [0.        , 0.        ]]],\n",
       "\n",
       "\n",
       "       [[[0.14433405, 0.18761611],\n",
       "         [0.27412095, 0.39392889]],\n",
       "\n",
       "        [[0.08422756, 0.24383576],\n",
       "         [0.15996598, 0.5119707 ]],\n",
       "\n",
       "        [[0.        , 0.        ],\n",
       "         [0.        , 0.        ]],\n",
       "\n",
       "        [[0.20706264, 0.02468484],\n",
       "         [0.68998867, 0.07826385]]],\n",
       "\n",
       "\n",
       "       [[[0.06749651, 0.04804483],\n",
       "         [0.5273232 , 0.35713545]],\n",
       "\n",
       "        [[0.        , 0.        ],\n",
       "         [0.        , 0.        ]],\n",
       "\n",
       "        [[0.08302008, 0.03182322],\n",
       "         [0.64860264, 0.23655406]],\n",
       "\n",
       "        [[0.14832078, 0.03228988],\n",
       "         [0.66043604, 0.1589533 ]]],\n",
       "\n",
       "\n",
       "       [[[0.        , 0.        ],\n",
       "         [0.        , 0.        ]],\n",
       "\n",
       "        [[0.22599526, 0.65424815],\n",
       "         [0.0285101 , 0.09124649]],\n",
       "\n",
       "        [[0.59333463, 0.22743677],\n",
       "         [0.13133058, 0.04789802]],\n",
       "\n",
       "        [[0.72768599, 0.15841946],\n",
       "         [0.09180015, 0.0220944 ]]]])"
      ]
     },
     "execution_count": 36,
     "metadata": {},
     "output_type": "execute_result"
    }
   ],
   "source": [
    "votes.omega"
   ]
  },
  {
   "cell_type": "markdown",
   "id": "b9913e5f-5f81-43bd-9e21-652a22d8100b",
   "metadata": {},
   "source": [
    "The first and second index corresponds to the nodes id from `nodes_a` and `nodes_b` respectively. The second and third index corresponds to the groups from `nodes_a` and `nodes_b` respectively."
   ]
  },
  {
   "cell_type": "markdown",
   "id": "7b305e4167a5b8bb",
   "metadata": {},
   "source": [
    "## Runing the EM algorithm and checking the convergence"
   ]
  },
  {
   "cell_type": "markdown",
   "id": "c8998eb14cff2dd9",
   "metadata": {},
   "source": [
    "To run the EM algorithm, you have to use the `EM_step` method. It will make an iteration of the algorithm by default. You can specify the number of iterations with the `N_steps` parameter. To check the convergence, you can use the `converges` method."
   ]
  },
  {
   "cell_type": "code",
   "execution_count": 37,
   "id": "f05e49b5-3943-4456-bb5a-6655cf2ea48f",
   "metadata": {
    "ExecuteTime": {
     "end_time": "2024-09-13T01:33:54.653621Z",
     "start_time": "2024-09-13T01:33:54.646300Z"
    }
   },
   "outputs": [
    {
     "name": "stdout",
     "output_type": "stream",
     "text": [
      "Iteration 0: False\n",
      "Iteration 5: False\n",
      "Iteration 10: False\n",
      "Iteration 15: False\n",
      "Iteration 20: False\n",
      "Iteration 25: False\n",
      "Iteration 30: False\n",
      "Iteration 35: False\n",
      "Iteration 40: False\n",
      "Iteration 45: False\n",
      "Iteration 50: False\n",
      "Iteration 55: False\n",
      "Iteration 60: False\n",
      "Iteration 65: True\n"
     ]
    }
   ],
   "source": [
    "N_itt = 100\n",
    "N_check = 5 #Number of iterations to measure the convergence\n",
    "\n",
    "for itt in range(N_itt//N_check):\n",
    "    votes.EM_step(N_check)\n",
    "    converges = votes.converges()\n",
    "    print(f\"Iteration {itt*N_check}: {converges}\")\n",
    "    if converges:\n",
    "        break"
   ]
  },
  {
   "cell_type": "markdown",
   "id": "ec30e3c3bd7d9385",
   "metadata": {},
   "source": [
    "# Using training sets and test sets"
   ]
  },
  {
   "cell_type": "markdown",
   "id": "4874eda2-10cf-4759-8949-fadb1cb62470",
   "metadata": {},
   "source": [
    "You can select a training set instead of using all the links to infer the parameters. You can do that using the `training` parameter when you initialize the EM algorithm. \n",
    "\n",
    "This parameter can be a list of the links ids that you want to use as a training set, another dataframe with more links.If not specified, all the links will be used."
   ]
  },
  {
   "cell_type": "code",
   "execution_count": 62,
   "id": "3d9c77fe32d66dad",
   "metadata": {
    "ExecuteTime": {
     "end_time": "2024-09-13T01:33:56.469448Z",
     "start_time": "2024-09-13T01:33:56.424898Z"
    }
   },
   "outputs": [
    {
     "name": "stdout",
     "output_type": "stream",
     "text": [
      "Iteration 0: False\n",
      "Iteration 5: False\n",
      "Iteration 10: False\n",
      "Iteration 15: False\n",
      "Iteration 20: False\n",
      "Iteration 25: False\n",
      "Iteration 30: True\n"
     ]
    }
   ],
   "source": [
    "from sklearn.model_selection import train_test_split\n",
    "\n",
    "#Defining the training and test sets\n",
    "df_train, df_test = train_test_split(votes.df, test_size=0.2)\n",
    "\n",
    "\n",
    "#Initializing the EM algorithm with the training set\n",
    "votes.init_EM(training=df_train)\n",
    "\n",
    "#Running the EM algorithm\n",
    "N_itt = 100\n",
    "N_check = 5 #Number of iterations to measure the convergence\n",
    "for itt in range(N_itt//N_check):\n",
    "    votes.EM_step(N_check)\n",
    "    converges = votes.converges()\n",
    "    print(f\"Iteration {itt*N_check}: {converges}\")\n",
    "    if converges:\n",
    "        break"
   ]
  },
  {
   "cell_type": "markdown",
   "id": "935c364f3c0d18ad",
   "metadata": {},
   "source": [
    "## Checking the accuracy and getting predictions"
   ]
  },
  {
   "cell_type": "markdown",
   "id": "1e0e8e141676b18c",
   "metadata": {},
   "source": [
    "Once the EM algorithm have converged, you can get the predictions using the `get_predicted_labels` method. You can spicify which links you want to infer its labels with the `links` parameters. If no links are specified, it will use the links used for training the model."
   ]
  },
  {
   "cell_type": "code",
   "execution_count": 63,
   "id": "85dd08a5a5c1e0e5",
   "metadata": {
    "ExecuteTime": {
     "end_time": "2024-09-13T01:33:57.660897Z",
     "start_time": "2024-09-13T01:33:57.653929Z"
    }
   },
   "outputs": [
    {
     "data": {
      "text/html": [
       "<div>\n",
       "<style scoped>\n",
       "    .dataframe tbody tr th:only-of-type {\n",
       "        vertical-align: middle;\n",
       "    }\n",
       "\n",
       "    .dataframe tbody tr th {\n",
       "        vertical-align: top;\n",
       "    }\n",
       "\n",
       "    .dataframe thead th {\n",
       "        text-align: right;\n",
       "    }\n",
       "</style>\n",
       "<table border=\"1\" class=\"dataframe\">\n",
       "  <thead>\n",
       "    <tr style=\"text-align: right;\">\n",
       "      <th></th>\n",
       "      <th>bill</th>\n",
       "      <th>legislator</th>\n",
       "      <th>Predicted votes</th>\n",
       "    </tr>\n",
       "  </thead>\n",
       "  <tbody>\n",
       "    <tr>\n",
       "      <th>0</th>\n",
       "      <td>B</td>\n",
       "      <td>Alberto</td>\n",
       "      <td>No</td>\n",
       "    </tr>\n",
       "    <tr>\n",
       "      <th>1</th>\n",
       "      <td>D</td>\n",
       "      <td>Pedro</td>\n",
       "      <td>No</td>\n",
       "    </tr>\n",
       "    <tr>\n",
       "      <th>2</th>\n",
       "      <td>A</td>\n",
       "      <td>Pedro</td>\n",
       "      <td>Yes</td>\n",
       "    </tr>\n",
       "    <tr>\n",
       "      <th>3</th>\n",
       "      <td>C</td>\n",
       "      <td>Yolanda</td>\n",
       "      <td>No</td>\n",
       "    </tr>\n",
       "    <tr>\n",
       "      <th>4</th>\n",
       "      <td>C</td>\n",
       "      <td>Santiago</td>\n",
       "      <td>Yes</td>\n",
       "    </tr>\n",
       "    <tr>\n",
       "      <th>5</th>\n",
       "      <td>D</td>\n",
       "      <td>Yolanda</td>\n",
       "      <td>No</td>\n",
       "    </tr>\n",
       "    <tr>\n",
       "      <th>6</th>\n",
       "      <td>B</td>\n",
       "      <td>Pedro</td>\n",
       "      <td>No</td>\n",
       "    </tr>\n",
       "    <tr>\n",
       "      <th>7</th>\n",
       "      <td>D</td>\n",
       "      <td>Santiago</td>\n",
       "      <td>Yes</td>\n",
       "    </tr>\n",
       "    <tr>\n",
       "      <th>8</th>\n",
       "      <td>B</td>\n",
       "      <td>Yolanda</td>\n",
       "      <td>No</td>\n",
       "    </tr>\n",
       "  </tbody>\n",
       "</table>\n",
       "</div>"
      ],
      "text/plain": [
       "  bill legislator Predicted votes\n",
       "0    B    Alberto              No\n",
       "1    D      Pedro              No\n",
       "2    A      Pedro             Yes\n",
       "3    C    Yolanda              No\n",
       "4    C   Santiago             Yes\n",
       "5    D    Yolanda              No\n",
       "6    B      Pedro              No\n",
       "7    D   Santiago             Yes\n",
       "8    B    Yolanda              No"
      ]
     },
     "execution_count": 63,
     "metadata": {},
     "output_type": "execute_result"
    }
   ],
   "source": [
    "votes.get_predicted_labels()"
   ]
  },
  {
   "cell_type": "code",
   "execution_count": 64,
   "id": "c63ee32922969e3f",
   "metadata": {
    "ExecuteTime": {
     "end_time": "2024-09-13T01:33:58.108851Z",
     "start_time": "2024-09-13T01:33:58.097688Z"
    }
   },
   "outputs": [
    {
     "data": {
      "text/html": [
       "<div>\n",
       "<style scoped>\n",
       "    .dataframe tbody tr th:only-of-type {\n",
       "        vertical-align: middle;\n",
       "    }\n",
       "\n",
       "    .dataframe tbody tr th {\n",
       "        vertical-align: top;\n",
       "    }\n",
       "\n",
       "    .dataframe thead th {\n",
       "        text-align: right;\n",
       "    }\n",
       "</style>\n",
       "<table border=\"1\" class=\"dataframe\">\n",
       "  <thead>\n",
       "    <tr style=\"text-align: right;\">\n",
       "      <th></th>\n",
       "      <th>legislator</th>\n",
       "      <th>bill</th>\n",
       "      <th>votes</th>\n",
       "      <th>votes_id</th>\n",
       "      <th>bill_id</th>\n",
       "      <th>legislator_id</th>\n",
       "    </tr>\n",
       "  </thead>\n",
       "  <tbody>\n",
       "    <tr>\n",
       "      <th>8</th>\n",
       "      <td>Alberto</td>\n",
       "      <td>C</td>\n",
       "      <td>Yes</td>\n",
       "      <td>1</td>\n",
       "      <td>2</td>\n",
       "      <td>0</td>\n",
       "    </tr>\n",
       "    <tr>\n",
       "      <th>6</th>\n",
       "      <td>Alberto</td>\n",
       "      <td>A</td>\n",
       "      <td>No</td>\n",
       "      <td>0</td>\n",
       "      <td>0</td>\n",
       "      <td>0</td>\n",
       "    </tr>\n",
       "    <tr>\n",
       "      <th>3</th>\n",
       "      <td>Santiago</td>\n",
       "      <td>A</td>\n",
       "      <td>No</td>\n",
       "      <td>0</td>\n",
       "      <td>0</td>\n",
       "      <td>2</td>\n",
       "    </tr>\n",
       "  </tbody>\n",
       "</table>\n",
       "</div>"
      ],
      "text/plain": [
       "  legislator bill votes  votes_id  bill_id  legislator_id\n",
       "8    Alberto    C   Yes         1        2              0\n",
       "6    Alberto    A    No         0        0              0\n",
       "3   Santiago    A    No         0        0              2"
      ]
     },
     "execution_count": 64,
     "metadata": {},
     "output_type": "execute_result"
    }
   ],
   "source": [
    "df_test"
   ]
  },
  {
   "cell_type": "code",
   "execution_count": 65,
   "id": "d82fa976206daaa8",
   "metadata": {
    "ExecuteTime": {
     "end_time": "2024-09-13T01:33:58.579335Z",
     "start_time": "2024-09-13T01:33:58.559797Z"
    }
   },
   "outputs": [
    {
     "data": {
      "text/html": [
       "<div>\n",
       "<style scoped>\n",
       "    .dataframe tbody tr th:only-of-type {\n",
       "        vertical-align: middle;\n",
       "    }\n",
       "\n",
       "    .dataframe tbody tr th {\n",
       "        vertical-align: top;\n",
       "    }\n",
       "\n",
       "    .dataframe thead th {\n",
       "        text-align: right;\n",
       "    }\n",
       "</style>\n",
       "<table border=\"1\" class=\"dataframe\">\n",
       "  <thead>\n",
       "    <tr style=\"text-align: right;\">\n",
       "      <th></th>\n",
       "      <th>legislator</th>\n",
       "      <th>bill</th>\n",
       "      <th>votes</th>\n",
       "      <th>votes_id</th>\n",
       "      <th>bill_id</th>\n",
       "      <th>legislator_id</th>\n",
       "      <th>Predicted votes</th>\n",
       "    </tr>\n",
       "  </thead>\n",
       "  <tbody>\n",
       "    <tr>\n",
       "      <th>8</th>\n",
       "      <td>Alberto</td>\n",
       "      <td>C</td>\n",
       "      <td>Yes</td>\n",
       "      <td>1</td>\n",
       "      <td>2</td>\n",
       "      <td>0</td>\n",
       "      <td>No</td>\n",
       "    </tr>\n",
       "    <tr>\n",
       "      <th>6</th>\n",
       "      <td>Alberto</td>\n",
       "      <td>A</td>\n",
       "      <td>No</td>\n",
       "      <td>0</td>\n",
       "      <td>0</td>\n",
       "      <td>0</td>\n",
       "      <td>Yes</td>\n",
       "    </tr>\n",
       "    <tr>\n",
       "      <th>3</th>\n",
       "      <td>Santiago</td>\n",
       "      <td>A</td>\n",
       "      <td>No</td>\n",
       "      <td>0</td>\n",
       "      <td>0</td>\n",
       "      <td>2</td>\n",
       "      <td>Yes</td>\n",
       "    </tr>\n",
       "  </tbody>\n",
       "</table>\n",
       "</div>"
      ],
      "text/plain": [
       "  legislator bill votes  votes_id  bill_id  legislator_id Predicted votes\n",
       "8    Alberto    C   Yes         1        2              0              No\n",
       "6    Alberto    A    No         0        0              0             Yes\n",
       "3   Santiago    A    No         0        0              2             Yes"
      ]
     },
     "execution_count": 65,
     "metadata": {},
     "output_type": "execute_result"
    }
   ],
   "source": [
    "votes.get_predicted_labels(links=df_test)"
   ]
  },
  {
   "cell_type": "code",
   "execution_count": 66,
   "id": "f0ab9792bbcd1d9f",
   "metadata": {
    "ExecuteTime": {
     "end_time": "2024-09-13T01:33:58.934367Z",
     "start_time": "2024-09-13T01:33:58.930894Z"
    }
   },
   "outputs": [
    {
     "name": "stdout",
     "output_type": "stream",
     "text": [
      "Help on method get_accuracy in module MMSBM_library:\n",
      "\n",
      "get_accuracy(predicted_labels=None, test_labels=None, Pij=None, links=None, estimator='max_probability') method of MMSBM_library.BiNet instance\n",
      "    Computes the predicted labels of the model given the MMSBM parameters. They can be measured by different estimators:\n",
      "        -max_probability: The predicted label will be the most plausible label\n",
      "        -mean: The predicted label will be the mean\n",
      "    \n",
      "    Parameters\n",
      "    ----------\n",
      "    predicted_labels: array-like, default:None.\n",
      "        Array-like with the predicted labels ids given by the MMSBM. If None, predictions will be generated using\n",
      "    the specified links and estimator.\n",
      "    \n",
      "    test_labels: array-like, default:None.\n",
      "        List or array with the observed labels. If None, labels from self.labels_array are taken given pos_test_labels\n",
      "    \n",
      "    links: ndarray of 1 or 2 dimensions, pandas DataFrame, default: None\n",
      "        Array with links for which label probabilities are computed.\n",
      "        -If a 2d-array, the first column must contain the ids from nodes_a layer and the second\n",
      "         column must contain the ids from nodes_b layers.\n",
      "        -If a 1d-array, it must contain the positions of the links list from self.df attribute\n",
      "        -If a pandas DataFrame, it must contain at least two columns with the name of the nodes' layers\n",
      "         and a column with the same name as the labels column from BiNet.df.\n",
      "        -If None, self.links_training will be used.\n",
      "    \n",
      "    \n",
      "    estimator: {\"max_probability\",\"mean\"}, default: max_probability\n",
      "        Estimator used to get the predicted labels:\n",
      "        -max_probability: Selects the most plausible label\n",
      "        -mean: Selects the mean label (sum [Pij(l)*l])\n",
      "    \n",
      "    Returns\n",
      "    -------\n",
      "    accuracy: float\n",
      "        Ratio of correctly predicted labels to the total number of predicted labels.\n",
      "\n"
     ]
    }
   ],
   "source": [
    "help(votes.get_accuracy)"
   ]
  },
  {
   "cell_type": "markdown",
   "id": "69c5a3dc18d529ba",
   "metadata": {},
   "source": [
    "### Checking the accuracy"
   ]
  },
  {
   "cell_type": "markdown",
   "id": "e802980598a7778f",
   "metadata": {},
   "source": [
    "You can check the accuracy of the predictions using the `get_accuracy` method. By default, it will compute the accuracy of the training set. You can specify the test set with the `links` parameter, by using a list of the links ids or another dataframe with other links."
   ]
  },
  {
   "cell_type": "code",
   "execution_count": 67,
   "id": "fcb75d527201be36",
   "metadata": {
    "ExecuteTime": {
     "end_time": "2024-09-13T01:34:00.407472Z",
     "start_time": "2024-09-13T01:34:00.404358Z"
    }
   },
   "outputs": [
    {
     "name": "stdout",
     "output_type": "stream",
     "text": [
      "Accuracy of the training set: 0.8888888888888888\n",
      "Accuracy of the test set: 0.0\n"
     ]
    }
   ],
   "source": [
    "#Accuracy of the training set\n",
    "print(f\"Accuracy of the training set: {votes.get_accuracy()}\")\n",
    "print(f\"Accuracy of the test set: {votes.get_accuracy(links=df_test)}\")"
   ]
  },
  {
   "cell_type": "markdown",
   "id": "4827a39ed7948a68",
   "metadata": {},
   "source": [
    "# Saving and loading the parameters"
   ]
  },
  {
   "cell_type": "markdown",
   "id": "11c14faa902e20ae",
   "metadata": {},
   "source": [
    "For long runs or for using the parameters later, you can save the parameters. It is very important to notice that also is important to save the ids of the nodes and labels, and some information of the nodes_layer and BiNet objects before initializing the EM algorithm. To save the parameters you can use the `save_nodes_layer` and `save_BiNet` methods."
   ]
  },
  {
   "cell_type": "markdown",
   "id": "6eaf1371f63ccd5b",
   "metadata": {},
   "source": [
    "## The ``save_nodes_layer`` method"
   ]
  },
  {
   "cell_type": "code",
   "execution_count": 68,
   "id": "1fc7cf15fa62bfbc",
   "metadata": {
    "ExecuteTime": {
     "end_time": "2024-09-13T01:34:01.599474Z",
     "start_time": "2024-09-13T01:34:01.596859Z"
    }
   },
   "outputs": [
    {
     "name": "stdout",
     "output_type": "stream",
     "text": [
      "Help on function save_nodes_layer in module MMSBM_library:\n",
      "\n",
      "save_nodes_layer(self, dir='.')\n",
      "    It saves the nodes_layer object\n",
      "    \n",
      "    Parameters\n",
      "    -----------\n",
      "    dir: str\n",
      "        Directory where the json with the nodes_layer information will be saved\n",
      "\n"
     ]
    }
   ],
   "source": [
    "help(sbm.nodes_layer.save_nodes_layer)"
   ]
  },
  {
   "cell_type": "markdown",
   "id": "33890a993959d437",
   "metadata": {},
   "source": [
    "This method is useful  when you only want to save the information of a nodes_layer object. One example can be when you want to do a 5-fold cross-validation, instead of saving the nodes information  for each fold, you can save it once and load it later for each fold.\n",
    "\n",
    "The name of the JSON will be layer_{nodes_layer.name}_data.json"
   ]
  },
  {
   "cell_type": "code",
   "execution_count": 69,
   "id": "caf2b9a508e65d0b",
   "metadata": {
    "ExecuteTime": {
     "end_time": "2024-09-13T01:34:02.264575Z",
     "start_time": "2024-09-13T01:34:02.260092Z"
    }
   },
   "outputs": [
    {
     "data": {
      "text/plain": [
       "'legislator'"
      ]
     },
     "execution_count": 69,
     "metadata": {},
     "output_type": "execute_result"
    }
   ],
   "source": [
    "politicians.node_type"
   ]
  },
  {
   "cell_type": "markdown",
   "id": "86d8d978eb66ded6",
   "metadata": {},
   "source": [
    "## The ``save_BiNet`` method"
   ]
  },
  {
   "cell_type": "code",
   "execution_count": 70,
   "id": "ca1ecdeb56db5e61",
   "metadata": {
    "ExecuteTime": {
     "end_time": "2024-09-13T01:34:02.947117Z",
     "start_time": "2024-09-13T01:34:02.942100Z"
    }
   },
   "outputs": [
    {
     "name": "stdout",
     "output_type": "stream",
     "text": [
      "Help on method save_BiNet in module MMSBM_library:\n",
      "\n",
      "save_BiNet(dir='.', layers=True) method of MMSBM_library.BiNet instance\n",
      "    It saves the BiNet data into a JSON file in dir. If layers==True,\n",
      "    it saves the nodes_layer objects in JSONs files in the same directory.\n",
      "    \n",
      "    Parameters\n",
      "    -----------\n",
      "    dir: str\n",
      "        Directory where the JSON with the BiNet information will be saved\n",
      "    layers: bool, default: True\n",
      "        If True, it saves the nodes_layer objects in JSONs files in the same directory.\n",
      "\n"
     ]
    }
   ],
   "source": [
    "help(votes.save_BiNet)"
   ]
  },
  {
   "cell_type": "markdown",
   "id": "49539af16810626",
   "metadata": {},
   "source": [
    "The method will save with the ids of the nodes, metadata and labels in a JSON file. Also, in this file, it will be stored. The name of the file will be BiNet_data.json."
   ]
  },
  {
   "cell_type": "markdown",
   "id": "4227d9bb2d9fd5eb",
   "metadata": {},
   "source": []
  },
  {
   "cell_type": "markdown",
   "id": "d29042362577ab28",
   "metadata": {},
   "source": [
    "This method is can also save in the same directory the nodes_layer objects that are in the BiNet object when ``layers=True``. In the JSON file, elemental information of the nodes_layer objects will be stored, just in case you don´t use metadata for a specific layer.  "
   ]
  },
  {
   "cell_type": "markdown",
   "id": "91a02295b833de5f",
   "metadata": {},
   "source": [
    "Here an example using both methods for saving using the EM algorith from before"
   ]
  },
  {
   "cell_type": "code",
   "execution_count": 71,
   "id": "b8a01bc2961269f3",
   "metadata": {
    "ExecuteTime": {
     "end_time": "2024-09-13T01:34:12.025769Z",
     "start_time": "2024-09-13T01:34:12.016335Z"
    }
   },
   "outputs": [
    {
     "name": "stdout",
     "output_type": "stream",
     "text": [
      "Iteration 0: True\n"
     ]
    }
   ],
   "source": [
    "N_itt = 100\n",
    "N_check = 5 #Number of iterations to measure the convergence\n",
    "try:\n",
    "    os.mkdir(\"example_parameters\")\n",
    "except:\n",
    "    pass\n",
    "\n",
    "politicians.save_nodes_layer(\"./example_parameters/\")\n",
    "\n",
    "for itt in range(N_itt//N_check):\n",
    "    votes.EM_step(N_check)\n",
    "    converges = votes.converges()\n",
    "    print(f\"Iteration {itt*N_check}: {converges}\")\n",
    "    if converges:\n",
    "        votes.save_BiNet(\"./example_parameters/\")\n",
    "        break"
   ]
  },
  {
   "cell_type": "code",
   "execution_count": 72,
   "id": "5851fc75327b10b9",
   "metadata": {
    "ExecuteTime": {
     "end_time": "2024-09-13T01:34:12.728243Z",
     "start_time": "2024-09-13T01:34:12.725060Z"
    }
   },
   "outputs": [
    {
     "data": {
      "text/plain": [
       "7     1\n",
       "2     3\n",
       "0     0\n",
       "10    2\n",
       "4     2\n",
       "11    3\n",
       "1     1\n",
       "5     3\n",
       "9     1\n",
       "Name: bill_id, dtype: int8"
      ]
     },
     "execution_count": 72,
     "metadata": {},
     "output_type": "execute_result"
    }
   ],
   "source": [
    "df_train[\"bill_id\"]"
   ]
  },
  {
   "cell_type": "code",
   "execution_count": 73,
   "id": "8e3c7b9fc7198f7f",
   "metadata": {
    "ExecuteTime": {
     "end_time": "2024-09-13T01:34:13.460712Z",
     "start_time": "2024-09-13T01:34:13.458005Z"
    }
   },
   "outputs": [
    {
     "data": {
      "text/plain": [
       "3"
      ]
     },
     "execution_count": 73,
     "metadata": {},
     "output_type": "execute_result"
    }
   ],
   "source": [
    "len(df_test)"
   ]
  },
  {
   "cell_type": "code",
   "execution_count": 74,
   "id": "74b298cf32fe9ad2",
   "metadata": {
    "ExecuteTime": {
     "end_time": "2024-09-13T01:34:13.841876Z",
     "start_time": "2024-09-13T01:34:13.838593Z"
    }
   },
   "outputs": [
    {
     "data": {
      "text/plain": [
       "12"
      ]
     },
     "execution_count": 74,
     "metadata": {},
     "output_type": "execute_result"
    }
   ],
   "source": [
    "len(votes.df)"
   ]
  },
  {
   "cell_type": "code",
   "execution_count": 75,
   "id": "b216bab92e3503e5",
   "metadata": {
    "ExecuteTime": {
     "end_time": "2024-09-13T01:34:14.049917Z",
     "start_time": "2024-09-13T01:34:14.047090Z"
    }
   },
   "outputs": [],
   "source": [
    "def theta_comp_array(N_nodes,K,omega,denominators,links,masks_list):\n",
    "    \"\"\"\n",
    "    It computes the membership matrix of a nodes layer with no metadata\n",
    "    \"\"\"\n",
    "    theta = np.empty((N_nodes,K))\n",
    "    theta_unfold = omega[links[:,0],links[:,1],:,:].sum(1)\n",
    "    for att,mask in enumerate(masks_list):\n",
    "        theta[att,:] = theta_unfold[mask].sum(0)\n",
    "    print(theta.shape,denominators.shape)\n",
    "    theta /= denominators[:,np.newaxis]\n",
    "    return theta\n"
   ]
  },
  {
   "cell_type": "code",
   "execution_count": 76,
   "id": "27ac95304503ed53",
   "metadata": {
    "ExecuteTime": {
     "end_time": "2024-09-13T01:34:14.231056Z",
     "start_time": "2024-09-13T01:34:14.222388Z"
    }
   },
   "outputs": [
    {
     "ename": "NameError",
     "evalue": "name 'meta' is not defined",
     "output_type": "error",
     "traceback": [
      "\u001b[0;31m---------------------------------------------------------------------------\u001b[0m",
      "\u001b[0;31mNameError\u001b[0m                                 Traceback (most recent call last)",
      "Cell \u001b[0;32mIn[76], line 1\u001b[0m\n\u001b[0;32m----> 1\u001b[0m \u001b[43mmeta\u001b[49m\u001b[38;5;241m.\u001b[39mdenominators\u001b[38;5;241m.\u001b[39mshape\n",
      "\u001b[0;31mNameError\u001b[0m: name 'meta' is not defined"
     ]
    }
   ],
   "source": [
    "meta.denominators.shape"
   ]
  },
  {
   "cell_type": "code",
   "execution_count": null,
   "id": "4579abff28574cad",
   "metadata": {
    "ExecuteTime": {
     "end_time": "2024-09-13T01:33:39.310644731Z",
     "start_time": "2024-02-22T13:53:19.100683900Z"
    }
   },
   "outputs": [],
   "source": [
    "theta_comp_array(meta.N_att,meta.Tau,meta.omega,meta.denominators,meta.links,meta.masks_att_list)"
   ]
  },
  {
   "cell_type": "code",
   "execution_count": 57,
   "id": "283b192b52c6c005",
   "metadata": {
    "ExecuteTime": {
     "end_time": "2024-09-13T01:33:39.383129Z",
     "start_time": "2024-09-13T01:33:39.374990Z"
    }
   },
   "outputs": [
    {
     "ename": "NameError",
     "evalue": "name 'meta' is not defined",
     "output_type": "error",
     "traceback": [
      "\u001b[0;31m---------------------------------------------------------------------------\u001b[0m",
      "\u001b[0;31mNameError\u001b[0m                                 Traceback (most recent call last)",
      "Cell \u001b[0;32mIn[57], line 1\u001b[0m\n\u001b[0;32m----> 1\u001b[0m \u001b[43mmeta\u001b[49m\u001b[38;5;241m.\u001b[39mzeta\u001b[38;5;241m.\u001b[39mshape\n",
      "\u001b[0;31mNameError\u001b[0m: name 'meta' is not defined"
     ]
    }
   ],
   "source": [
    "meta.zeta.shape"
   ]
  },
  {
   "cell_type": "code",
   "execution_count": 51,
   "id": "7c80d7a367e81fe1",
   "metadata": {
    "ExecuteTime": {
     "end_time": "2024-02-22T01:29:13.861609Z",
     "start_time": "2024-02-22T01:29:13.768168500Z"
    }
   },
   "outputs": [
    {
     "ename": "NameError",
     "evalue": "name 'meta' is not defined",
     "output_type": "error",
     "traceback": [
      "\u001b[1;31m---------------------------------------------------------------------------\u001b[0m",
      "\u001b[1;31mNameError\u001b[0m                                 Traceback (most recent call last)",
      "\u001b[1;32m~\\AppData\\Local\\Temp\\ipykernel_5300\\1200147972.py\u001b[0m in \u001b[0;36m<module>\u001b[1;34m\u001b[0m\n\u001b[1;32m----> 1\u001b[1;33m \u001b[0mmeta\u001b[0m\u001b[1;33m.\u001b[0m\u001b[0mzeta\u001b[0m\u001b[1;33m/\u001b[0m\u001b[0mmeta\u001b[0m\u001b[1;33m.\u001b[0m\u001b[0mdenominators\u001b[0m\u001b[1;33m\u001b[0m\u001b[1;33m\u001b[0m\u001b[0m\n\u001b[0m",
      "\u001b[1;31mNameError\u001b[0m: name 'meta' is not defined"
     ]
    }
   ],
   "source": [
    "meta.zeta/meta.denominators"
   ]
  },
  {
   "cell_type": "code",
   "execution_count": 52,
   "id": "f0b5ccae3f5dbbfa",
   "metadata": {
    "ExecuteTime": {
     "end_time": "2024-02-22T01:29:14.304173900Z",
     "start_time": "2024-02-22T01:29:14.122108200Z"
    }
   },
   "outputs": [
    {
     "ename": "NameError",
     "evalue": "name 'meta' is not defined",
     "output_type": "error",
     "traceback": [
      "\u001b[1;31m---------------------------------------------------------------------------\u001b[0m",
      "\u001b[1;31mNameError\u001b[0m                                 Traceback (most recent call last)",
      "\u001b[1;32m~\\AppData\\Local\\Temp\\ipykernel_5300\\1748705070.py\u001b[0m in \u001b[0;36m<module>\u001b[1;34m\u001b[0m\n\u001b[1;32m----> 1\u001b[1;33m \u001b[0mmeta\u001b[0m\u001b[1;33m.\u001b[0m\u001b[0momega\u001b[0m\u001b[1;33m[\u001b[0m\u001b[0mmeta\u001b[0m\u001b[1;33m.\u001b[0m\u001b[0mlinks\u001b[0m\u001b[1;33m[\u001b[0m\u001b[1;33m:\u001b[0m\u001b[1;33m,\u001b[0m\u001b[1;36m0\u001b[0m\u001b[1;33m]\u001b[0m\u001b[1;33m,\u001b[0m\u001b[0mmeta\u001b[0m\u001b[1;33m.\u001b[0m\u001b[0mlinks\u001b[0m\u001b[1;33m[\u001b[0m\u001b[1;33m:\u001b[0m\u001b[1;33m,\u001b[0m\u001b[1;36m1\u001b[0m\u001b[1;33m]\u001b[0m\u001b[1;33m,\u001b[0m\u001b[1;33m:\u001b[0m\u001b[1;33m,\u001b[0m\u001b[1;33m:\u001b[0m\u001b[1;33m]\u001b[0m\u001b[1;33m.\u001b[0m\u001b[0msum\u001b[0m\u001b[1;33m(\u001b[0m\u001b[1;36m1\u001b[0m\u001b[1;33m)\u001b[0m\u001b[1;33m\u001b[0m\u001b[1;33m\u001b[0m\u001b[0m\n\u001b[0m",
      "\u001b[1;31mNameError\u001b[0m: name 'meta' is not defined"
     ]
    }
   ],
   "source": [
    "meta.omega[meta.links[:,0],meta.links[:,1],:,:].sum(1)"
   ]
  },
  {
   "cell_type": "code",
   "execution_count": 52,
   "id": "d07d06d4470341c2",
   "metadata": {
    "ExecuteTime": {
     "end_time": "2024-02-21T13:26:01.988332900Z",
     "start_time": "2024-02-21T13:26:01.923771800Z"
    }
   },
   "outputs": [],
   "source": [
    "layer = votes[\"legislator\"]\n",
    "meta = layer[\"Movies_preferences\"]"
   ]
  },
  {
   "cell_type": "code",
   "execution_count": 53,
   "id": "1c8cdd6223c0d8c0",
   "metadata": {
    "ExecuteTime": {
     "end_time": "2024-02-21T13:26:04.411813400Z",
     "start_time": "2024-02-21T13:26:04.331047300Z"
    }
   },
   "outputs": [
    {
     "data": {
      "text/html": [
       "<div>\n",
       "<style scoped>\n",
       "    .dataframe tbody tr th:only-of-type {\n",
       "        vertical-align: middle;\n",
       "    }\n",
       "\n",
       "    .dataframe tbody tr th {\n",
       "        vertical-align: top;\n",
       "    }\n",
       "\n",
       "    .dataframe thead th {\n",
       "        text-align: right;\n",
       "    }\n",
       "</style>\n",
       "<table border=\"1\" class=\"dataframe\">\n",
       "  <thead>\n",
       "    <tr style=\"text-align: right;\">\n",
       "      <th></th>\n",
       "      <th>legislator</th>\n",
       "      <th>Party</th>\n",
       "      <th>Movies_preferences</th>\n",
       "      <th>legislator_id</th>\n",
       "      <th>Party_id</th>\n",
       "    </tr>\n",
       "  </thead>\n",
       "  <tbody>\n",
       "    <tr>\n",
       "      <th>0</th>\n",
       "      <td>Pedro</td>\n",
       "      <td>PSOE</td>\n",
       "      <td>Action|Drama</td>\n",
       "      <td>1</td>\n",
       "      <td>1</td>\n",
       "    </tr>\n",
       "    <tr>\n",
       "      <th>1</th>\n",
       "      <td>Santiago</td>\n",
       "      <td>VOX</td>\n",
       "      <td>Belic</td>\n",
       "      <td>2</td>\n",
       "      <td>3</td>\n",
       "    </tr>\n",
       "    <tr>\n",
       "      <th>2</th>\n",
       "      <td>Alberto</td>\n",
       "      <td>PP</td>\n",
       "      <td>Belic|Comedy</td>\n",
       "      <td>0</td>\n",
       "      <td>0</td>\n",
       "    </tr>\n",
       "    <tr>\n",
       "      <th>3</th>\n",
       "      <td>Yolanda</td>\n",
       "      <td>Sumar</td>\n",
       "      <td>Comedy|Drama</td>\n",
       "      <td>3</td>\n",
       "      <td>2</td>\n",
       "    </tr>\n",
       "  </tbody>\n",
       "</table>\n",
       "</div>"
      ],
      "text/plain": [
       "  legislator  Party Movies_preferences  legislator_id  Party_id\n",
       "0      Pedro   PSOE       Action|Drama              1         1\n",
       "1   Santiago    VOX              Belic              2         3\n",
       "2    Alberto     PP       Belic|Comedy              0         0\n",
       "3    Yolanda  Sumar       Comedy|Drama              3         2"
      ]
     },
     "execution_count": 53,
     "metadata": {},
     "output_type": "execute_result"
    }
   ],
   "source": [
    "layer.df"
   ]
  },
  {
   "cell_type": "code",
   "execution_count": 45,
   "id": "735f82d358e5d926",
   "metadata": {
    "ExecuteTime": {
     "start_time": "2024-02-21T13:24:20.906212700Z"
    }
   },
   "outputs": [
    {
     "ename": "NameError",
     "evalue": "name 'theta_comp_array' is not defined",
     "output_type": "error",
     "traceback": [
      "\u001b[1;31m---------------------------------------------------------------------------\u001b[0m",
      "\u001b[1;31mNameError\u001b[0m                                 Traceback (most recent call last)",
      "\u001b[1;32m~\\AppData\\Local\\Temp\\ipykernel_19288\\2528771915.py\u001b[0m in \u001b[0;36m<module>\u001b[1;34m\u001b[0m\n\u001b[1;32m----> 1\u001b[1;33m \u001b[0mmeta\u001b[0m\u001b[1;33m.\u001b[0m\u001b[0mzeta\u001b[0m \u001b[1;33m=\u001b[0m \u001b[0mtheta_comp_array\u001b[0m\u001b[1;33m(\u001b[0m\u001b[0mmeta\u001b[0m\u001b[1;33m.\u001b[0m\u001b[0mN_att\u001b[0m\u001b[1;33m,\u001b[0m\u001b[0mmeta\u001b[0m\u001b[1;33m.\u001b[0m\u001b[0mTau\u001b[0m\u001b[1;33m,\u001b[0m\u001b[0mmeta\u001b[0m\u001b[1;33m.\u001b[0m\u001b[0momega\u001b[0m\u001b[1;33m,\u001b[0m\u001b[0mmeta\u001b[0m\u001b[1;33m.\u001b[0m\u001b[0mdenominators\u001b[0m\u001b[1;33m,\u001b[0m\u001b[0mmeta\u001b[0m\u001b[1;33m.\u001b[0m\u001b[0mlinks\u001b[0m\u001b[1;33m,\u001b[0m\u001b[0mmeta\u001b[0m\u001b[1;33m.\u001b[0m\u001b[0mmasks_att_list\u001b[0m\u001b[1;33m)\u001b[0m\u001b[1;33m\u001b[0m\u001b[1;33m\u001b[0m\u001b[0m\n\u001b[0m",
      "\u001b[1;31mNameError\u001b[0m: name 'theta_comp_array' is not defined"
     ]
    }
   ],
   "source": [
    "meta.zeta = theta_comp_array(meta.N_att,meta.Tau,meta.omega,meta.denominators,meta.links,meta.masks_att_list)"
   ]
  },
  {
   "cell_type": "code",
   "execution_count": 46,
   "id": "c130c127c1c581a7",
   "metadata": {
    "ExecuteTime": {
     "end_time": "2024-02-21T13:24:21.175379500Z",
     "start_time": "2024-02-21T13:24:20.961443600Z"
    }
   },
   "outputs": [],
   "source": [
    "from numba import jit\n",
    "\n",
    "@jit(nopython=True)\n",
    "def log_like_comp_numba(theta, eta, pkl, links, labels):\n",
    "    T = theta[links[:,0]][:,:,None]\n",
    "    E = eta[links[:,1]][:,None,:]\n",
    "    P = np.moveaxis(pkl[:,:,labels], -1, 0)\n",
    "\n",
    "    temp = (T @ E) * P\n",
    "    temp_sum = temp.sum(axis=-1)\n",
    "    temp_sum = temp_sum.sum(axis=-1)\n",
    "\n",
    "    return np.log(temp_sum).sum()"
   ]
  },
  {
   "cell_type": "code",
   "execution_count": 47,
   "id": "e19e7b2e17bad36",
   "metadata": {
    "ExecuteTime": {
     "end_time": "2024-02-21T13:24:21.768017100Z",
     "start_time": "2024-02-21T13:24:21.125854300Z"
    }
   },
   "outputs": [
    {
     "ename": "TypingError",
     "evalue": "Failed in nopython mode pipeline (step: nopython frontend)\n\u001b[1m\u001b[1m\u001b[1mNo implementation of function Function(<built-in function getitem>) found for signature:\n \n >>> getitem(array(float64, 2d, C), Tuple(slice<a:b>, slice<a:b>, none))\n \nThere are 22 candidate implementations:\n\u001b[1m   - Of which 20 did not match due to:\n   Overload of function 'getitem': File: <numerous>: Line N/A.\n     With argument(s): '(array(float64, 2d, C), Tuple(slice<a:b>, slice<a:b>, none))':\u001b[0m\n\u001b[1m    No match.\u001b[0m\n\u001b[1m   - Of which 2 did not match due to:\n   Overload in function 'GetItemBuffer.generic': File: numba\\core\\typing\\arraydecl.py: Line 166.\n     With argument(s): '(array(float64, 2d, C), Tuple(slice<a:b>, slice<a:b>, none))':\u001b[0m\n\u001b[1m    Rejected as the implementation raised a specific error:\n      NumbaTypeError: \u001b[1munsupported array index type none in Tuple(slice<a:b>, slice<a:b>, none)\u001b[0m\u001b[0m\n  raised from C:\\Users\\oscar\\anaconda3\\lib\\site-packages\\numba\\core\\typing\\arraydecl.py:72\n\u001b[0m\n\u001b[0m\u001b[1mDuring: typing of intrinsic-call at C:\\Users\\oscar\\AppData\\Local\\Temp\\ipykernel_19288\\1186126865.py (5)\u001b[0m\n\u001b[0m\u001b[1mDuring: typing of static-get-item at C:\\Users\\oscar\\AppData\\Local\\Temp\\ipykernel_19288\\1186126865.py (5)\u001b[0m\n\u001b[1m\nFile \"..\\..\\..\\AppData\\Local\\Temp\\ipykernel_19288\\1186126865.py\", line 5:\u001b[0m\n\u001b[1m<source missing, REPL/exec in use?>\u001b[0m\n",
     "output_type": "error",
     "traceback": [
      "\u001b[1;31m---------------------------------------------------------------------------\u001b[0m",
      "\u001b[1;31mTypingError\u001b[0m                               Traceback (most recent call last)",
      "\u001b[1;32m~\\AppData\\Local\\Temp\\ipykernel_19288\\1756350859.py\u001b[0m in \u001b[0;36m<module>\u001b[1;34m\u001b[0m\n\u001b[1;32m----> 1\u001b[1;33m log_like_comp_numba(votes[\"legislator\"].theta, votes[\"bill\"].theta, votes.pkl, votes.links, votes.labels_array\n\u001b[0m\u001b[0;32m      2\u001b[0m )\n",
      "\u001b[1;32m~\\anaconda3\\lib\\site-packages\\numba\\core\\dispatcher.py\u001b[0m in \u001b[0;36m_compile_for_args\u001b[1;34m(self, *args, **kws)\u001b[0m\n\u001b[0;32m    466\u001b[0m                 \u001b[0me\u001b[0m\u001b[1;33m.\u001b[0m\u001b[0mpatch_message\u001b[0m\u001b[1;33m(\u001b[0m\u001b[0mmsg\u001b[0m\u001b[1;33m)\u001b[0m\u001b[1;33m\u001b[0m\u001b[1;33m\u001b[0m\u001b[0m\n\u001b[0;32m    467\u001b[0m \u001b[1;33m\u001b[0m\u001b[0m\n\u001b[1;32m--> 468\u001b[1;33m             \u001b[0merror_rewrite\u001b[0m\u001b[1;33m(\u001b[0m\u001b[0me\u001b[0m\u001b[1;33m,\u001b[0m \u001b[1;34m'typing'\u001b[0m\u001b[1;33m)\u001b[0m\u001b[1;33m\u001b[0m\u001b[1;33m\u001b[0m\u001b[0m\n\u001b[0m\u001b[0;32m    469\u001b[0m         \u001b[1;32mexcept\u001b[0m \u001b[0merrors\u001b[0m\u001b[1;33m.\u001b[0m\u001b[0mUnsupportedError\u001b[0m \u001b[1;32mas\u001b[0m \u001b[0me\u001b[0m\u001b[1;33m:\u001b[0m\u001b[1;33m\u001b[0m\u001b[1;33m\u001b[0m\u001b[0m\n\u001b[0;32m    470\u001b[0m             \u001b[1;31m# Something unsupported is present in the user code, add help info\u001b[0m\u001b[1;33m\u001b[0m\u001b[1;33m\u001b[0m\u001b[0m\n",
      "\u001b[1;32m~\\anaconda3\\lib\\site-packages\\numba\\core\\dispatcher.py\u001b[0m in \u001b[0;36merror_rewrite\u001b[1;34m(e, issue_type)\u001b[0m\n\u001b[0;32m    407\u001b[0m                 \u001b[1;32mraise\u001b[0m \u001b[0me\u001b[0m\u001b[1;33m\u001b[0m\u001b[1;33m\u001b[0m\u001b[0m\n\u001b[0;32m    408\u001b[0m             \u001b[1;32melse\u001b[0m\u001b[1;33m:\u001b[0m\u001b[1;33m\u001b[0m\u001b[1;33m\u001b[0m\u001b[0m\n\u001b[1;32m--> 409\u001b[1;33m                 \u001b[1;32mraise\u001b[0m \u001b[0me\u001b[0m\u001b[1;33m.\u001b[0m\u001b[0mwith_traceback\u001b[0m\u001b[1;33m(\u001b[0m\u001b[1;32mNone\u001b[0m\u001b[1;33m)\u001b[0m\u001b[1;33m\u001b[0m\u001b[1;33m\u001b[0m\u001b[0m\n\u001b[0m\u001b[0;32m    410\u001b[0m \u001b[1;33m\u001b[0m\u001b[0m\n\u001b[0;32m    411\u001b[0m         \u001b[0margtypes\u001b[0m \u001b[1;33m=\u001b[0m \u001b[1;33m[\u001b[0m\u001b[1;33m]\u001b[0m\u001b[1;33m\u001b[0m\u001b[1;33m\u001b[0m\u001b[0m\n",
      "\u001b[1;31mTypingError\u001b[0m: Failed in nopython mode pipeline (step: nopython frontend)\n\u001b[1m\u001b[1m\u001b[1mNo implementation of function Function(<built-in function getitem>) found for signature:\n \n >>> getitem(array(float64, 2d, C), Tuple(slice<a:b>, slice<a:b>, none))\n \nThere are 22 candidate implementations:\n\u001b[1m   - Of which 20 did not match due to:\n   Overload of function 'getitem': File: <numerous>: Line N/A.\n     With argument(s): '(array(float64, 2d, C), Tuple(slice<a:b>, slice<a:b>, none))':\u001b[0m\n\u001b[1m    No match.\u001b[0m\n\u001b[1m   - Of which 2 did not match due to:\n   Overload in function 'GetItemBuffer.generic': File: numba\\core\\typing\\arraydecl.py: Line 166.\n     With argument(s): '(array(float64, 2d, C), Tuple(slice<a:b>, slice<a:b>, none))':\u001b[0m\n\u001b[1m    Rejected as the implementation raised a specific error:\n      NumbaTypeError: \u001b[1munsupported array index type none in Tuple(slice<a:b>, slice<a:b>, none)\u001b[0m\u001b[0m\n  raised from C:\\Users\\oscar\\anaconda3\\lib\\site-packages\\numba\\core\\typing\\arraydecl.py:72\n\u001b[0m\n\u001b[0m\u001b[1mDuring: typing of intrinsic-call at C:\\Users\\oscar\\AppData\\Local\\Temp\\ipykernel_19288\\1186126865.py (5)\u001b[0m\n\u001b[0m\u001b[1mDuring: typing of static-get-item at C:\\Users\\oscar\\AppData\\Local\\Temp\\ipykernel_19288\\1186126865.py (5)\u001b[0m\n\u001b[1m\nFile \"..\\..\\..\\AppData\\Local\\Temp\\ipykernel_19288\\1186126865.py\", line 5:\u001b[0m\n\u001b[1m<source missing, REPL/exec in use?>\u001b[0m\n"
     ]
    }
   ],
   "source": [
    "log_like_comp_numba(votes[\"legislator\"].theta, votes[\"bill\"].theta, votes.pkl, votes.links, votes.labels_array\n",
    ")"
   ]
  },
  {
   "cell_type": "code",
   "execution_count": null,
   "id": "df828d0c24105610",
   "metadata": {
    "ExecuteTime": {
     "start_time": "2024-02-21T13:24:21.715207900Z"
    }
   },
   "outputs": [],
   "source": [
    "votes.labels_array"
   ]
  },
  {
   "cell_type": "code",
   "execution_count": null,
   "id": "d628af79b135acbf",
   "metadata": {
    "ExecuteTime": {
     "start_time": "2024-02-21T13:24:21.717267900Z"
    }
   },
   "outputs": [],
   "source": []
  },
  {
   "cell_type": "code",
   "execution_count": null,
   "id": "edf2bfc8ce29c9",
   "metadata": {
    "ExecuteTime": {
     "start_time": "2024-02-21T13:24:21.721897200Z"
    }
   },
   "outputs": [],
   "source": []
  },
  {
   "cell_type": "code",
   "execution_count": null,
   "id": "e6d0f5d67df9e0a1",
   "metadata": {
    "ExecuteTime": {
     "start_time": "2024-02-21T13:24:21.724998Z"
    }
   },
   "outputs": [],
   "source": []
  },
  {
   "cell_type": "code",
   "execution_count": null,
   "id": "3322b3fcf2938251",
   "metadata": {
    "ExecuteTime": {
     "start_time": "2024-02-21T13:24:21.730912Z"
    }
   },
   "outputs": [],
   "source": []
  },
  {
   "cell_type": "code",
   "execution_count": null,
   "id": "47327c177c59ab95",
   "metadata": {
    "ExecuteTime": {
     "start_time": "2024-02-21T13:24:21.733052900Z"
    }
   },
   "outputs": [],
   "source": []
  },
  {
   "cell_type": "code",
   "execution_count": null,
   "id": "92c91fc81cc36aa9",
   "metadata": {
    "ExecuteTime": {
     "start_time": "2024-02-21T13:24:21.736219300Z"
    }
   },
   "outputs": [],
   "source": []
  },
  {
   "cell_type": "code",
   "execution_count": null,
   "id": "fe9f5b44bec91c30",
   "metadata": {
    "ExecuteTime": {
     "start_time": "2024-02-21T13:24:21.738424300Z"
    }
   },
   "outputs": [],
   "source": []
  },
  {
   "cell_type": "code",
   "execution_count": null,
   "id": "b914c56395c5ad59",
   "metadata": {
    "ExecuteTime": {
     "start_time": "2024-02-21T13:24:21.741818600Z"
    }
   },
   "outputs": [],
   "source": []
  },
  {
   "cell_type": "code",
   "execution_count": null,
   "id": "10b68eace39f780d",
   "metadata": {
    "ExecuteTime": {
     "start_time": "2024-02-21T13:24:21.744064800Z"
    }
   },
   "outputs": [],
   "source": []
  },
  {
   "cell_type": "code",
   "execution_count": null,
   "id": "5078077cc3617951",
   "metadata": {
    "ExecuteTime": {
     "start_time": "2024-02-21T13:24:21.749592500Z"
    }
   },
   "outputs": [],
   "source": []
  },
  {
   "cell_type": "code",
   "execution_count": null,
   "id": "d376ecd273d57249",
   "metadata": {
    "ExecuteTime": {
     "start_time": "2024-02-21T13:24:21.751367100Z"
    }
   },
   "outputs": [],
   "source": []
  },
  {
   "cell_type": "code",
   "execution_count": null,
   "id": "451e988971912c25",
   "metadata": {
    "ExecuteTime": {
     "start_time": "2024-02-21T13:24:21.754182Z"
    }
   },
   "outputs": [],
   "source": []
  },
  {
   "cell_type": "code",
   "execution_count": null,
   "id": "e54999860f23fa7e",
   "metadata": {
    "ExecuteTime": {
     "start_time": "2024-02-21T13:24:21.757250700Z"
    }
   },
   "outputs": [],
   "source": []
  },
  {
   "cell_type": "code",
   "execution_count": null,
   "id": "ab2eab4135f83a2c",
   "metadata": {
    "ExecuteTime": {
     "start_time": "2024-02-21T13:24:21.759402200Z"
    }
   },
   "outputs": [],
   "source": []
  },
  {
   "cell_type": "code",
   "execution_count": 47,
   "id": "c79c8b15ccb73b00",
   "metadata": {
    "ExecuteTime": {
     "end_time": "2024-02-21T13:24:22.072785900Z",
     "start_time": "2024-02-21T13:24:21.773808700Z"
    }
   },
   "outputs": [],
   "source": []
  },
  {
   "cell_type": "code",
   "execution_count": 47,
   "id": "ad7bfc9faf06e975",
   "metadata": {
    "ExecuteTime": {
     "end_time": "2024-02-21T13:24:22.099424100Z",
     "start_time": "2024-02-21T13:24:21.975164700Z"
    }
   },
   "outputs": [],
   "source": []
  },
  {
   "cell_type": "code",
   "execution_count": 118,
   "id": "39b075ae2d334821",
   "metadata": {
    "ExecuteTime": {
     "end_time": "2024-02-21T13:15:29.097099Z",
     "start_time": "2024-02-21T13:15:29.042395100Z"
    }
   },
   "outputs": [],
   "source": []
  },
  {
   "cell_type": "code",
   "execution_count": 118,
   "id": "8b15833157d6e2c2",
   "metadata": {
    "ExecuteTime": {
     "end_time": "2024-02-21T13:15:29.122912900Z",
     "start_time": "2024-02-21T13:15:29.088652800Z"
    }
   },
   "outputs": [],
   "source": []
  },
  {
   "cell_type": "code",
   "execution_count": 118,
   "id": "e6a19096fa2d7db1",
   "metadata": {
    "ExecuteTime": {
     "end_time": "2024-02-21T13:15:29.178836300Z",
     "start_time": "2024-02-21T13:15:29.110845500Z"
    }
   },
   "outputs": [],
   "source": []
  },
  {
   "cell_type": "code",
   "execution_count": 118,
   "id": "224d9d53019dca30",
   "metadata": {
    "ExecuteTime": {
     "end_time": "2024-02-21T13:15:29.202716400Z",
     "start_time": "2024-02-21T13:15:29.144468900Z"
    }
   },
   "outputs": [],
   "source": []
  },
  {
   "cell_type": "code",
   "execution_count": 118,
   "id": "9ed0880ec6fd3306",
   "metadata": {
    "ExecuteTime": {
     "end_time": "2024-02-21T13:15:29.256913500Z",
     "start_time": "2024-02-21T13:15:29.201691700Z"
    }
   },
   "outputs": [],
   "source": []
  },
  {
   "cell_type": "code",
   "execution_count": 118,
   "id": "eee8f31b70ff19f0",
   "metadata": {
    "ExecuteTime": {
     "end_time": "2024-02-21T13:15:29.278727800Z",
     "start_time": "2024-02-21T13:15:29.231744400Z"
    }
   },
   "outputs": [],
   "source": []
  },
  {
   "cell_type": "code",
   "execution_count": 118,
   "id": "4e99ae97e40c5f51",
   "metadata": {
    "ExecuteTime": {
     "end_time": "2024-02-21T13:15:29.330390600Z",
     "start_time": "2024-02-21T13:15:29.275613900Z"
    }
   },
   "outputs": [],
   "source": []
  },
  {
   "cell_type": "code",
   "execution_count": 118,
   "id": "2df6b8946789193f",
   "metadata": {
    "ExecuteTime": {
     "end_time": "2024-02-21T13:15:29.356659800Z",
     "start_time": "2024-02-21T13:15:29.321100Z"
    }
   },
   "outputs": [],
   "source": []
  },
  {
   "cell_type": "code",
   "execution_count": 118,
   "id": "49084a95dc5183e5",
   "metadata": {
    "ExecuteTime": {
     "end_time": "2024-02-21T13:15:29.394964200Z",
     "start_time": "2024-02-21T13:15:29.346157Z"
    }
   },
   "outputs": [],
   "source": []
  },
  {
   "cell_type": "code",
   "execution_count": 118,
   "id": "5f45d78430d24d5b",
   "metadata": {
    "ExecuteTime": {
     "end_time": "2024-02-21T13:15:29.418866700Z",
     "start_time": "2024-02-21T13:15:29.373024700Z"
    }
   },
   "outputs": [],
   "source": []
  },
  {
   "cell_type": "code",
   "execution_count": 118,
   "id": "8e431bb72fdcaae3",
   "metadata": {
    "ExecuteTime": {
     "end_time": "2024-02-21T13:15:29.475077300Z",
     "start_time": "2024-02-21T13:15:29.417865100Z"
    }
   },
   "outputs": [],
   "source": []
  },
  {
   "cell_type": "code",
   "execution_count": 118,
   "id": "711a863a75544d37",
   "metadata": {
    "ExecuteTime": {
     "end_time": "2024-02-21T13:15:29.493301900Z",
     "start_time": "2024-02-21T13:15:29.448934900Z"
    }
   },
   "outputs": [],
   "source": []
  },
  {
   "cell_type": "code",
   "execution_count": 118,
   "id": "ae622713797eb248",
   "metadata": {
    "ExecuteTime": {
     "end_time": "2024-02-21T13:15:29.556600600Z",
     "start_time": "2024-02-21T13:15:29.492266200Z"
    }
   },
   "outputs": [],
   "source": []
  },
  {
   "cell_type": "code",
   "execution_count": 118,
   "id": "37b7b7db8be42666",
   "metadata": {
    "ExecuteTime": {
     "end_time": "2024-02-21T13:15:29.576764600Z",
     "start_time": "2024-02-21T13:15:29.544763800Z"
    }
   },
   "outputs": [],
   "source": []
  },
  {
   "cell_type": "code",
   "execution_count": 118,
   "id": "8be8e3b1eb09e1da",
   "metadata": {
    "ExecuteTime": {
     "end_time": "2024-02-21T13:15:29.635402800Z",
     "start_time": "2024-02-21T13:15:29.570254100Z"
    }
   },
   "outputs": [],
   "source": []
  },
  {
   "cell_type": "code",
   "execution_count": 118,
   "id": "4f6979f56801ceed",
   "metadata": {
    "ExecuteTime": {
     "end_time": "2024-02-21T13:15:29.654169800Z",
     "start_time": "2024-02-21T13:15:29.620821500Z"
    }
   },
   "outputs": [],
   "source": []
  },
  {
   "cell_type": "code",
   "execution_count": 118,
   "id": "89175e57ae0c2273",
   "metadata": {
    "ExecuteTime": {
     "end_time": "2024-02-21T13:15:29.719759900Z",
     "start_time": "2024-02-21T13:15:29.654169800Z"
    }
   },
   "outputs": [],
   "source": []
  },
  {
   "cell_type": "code",
   "execution_count": 118,
   "id": "f519819f4de3b2f9",
   "metadata": {
    "ExecuteTime": {
     "end_time": "2024-02-21T13:15:29.743645500Z",
     "start_time": "2024-02-21T13:15:29.706286Z"
    }
   },
   "outputs": [],
   "source": []
  },
  {
   "cell_type": "code",
   "execution_count": 118,
   "id": "b9babea9d091903",
   "metadata": {
    "ExecuteTime": {
     "end_time": "2024-02-21T13:15:29.802649300Z",
     "start_time": "2024-02-21T13:15:29.743645500Z"
    }
   },
   "outputs": [],
   "source": []
  },
  {
   "cell_type": "code",
   "execution_count": 118,
   "id": "9acd0d2f62e30210",
   "metadata": {
    "ExecuteTime": {
     "end_time": "2024-02-21T13:15:29.830515200Z",
     "start_time": "2024-02-21T13:15:29.792267400Z"
    }
   },
   "outputs": [],
   "source": []
  },
  {
   "cell_type": "code",
   "execution_count": 118,
   "id": "41b8954ac40ef78",
   "metadata": {
    "ExecuteTime": {
     "end_time": "2024-02-21T13:15:29.873421100Z",
     "start_time": "2024-02-21T13:15:29.821940Z"
    }
   },
   "outputs": [],
   "source": []
  },
  {
   "cell_type": "code",
   "execution_count": 118,
   "id": "a5f20ce331ec1cd7",
   "metadata": {
    "ExecuteTime": {
     "end_time": "2024-02-21T13:15:29.895947200Z",
     "start_time": "2024-02-21T13:15:29.869061900Z"
    }
   },
   "outputs": [],
   "source": []
  },
  {
   "cell_type": "code",
   "execution_count": 118,
   "id": "5a5fdc97a9549ecf",
   "metadata": {
    "ExecuteTime": {
     "end_time": "2024-02-21T13:15:29.939524300Z",
     "start_time": "2024-02-21T13:15:29.892596700Z"
    }
   },
   "outputs": [],
   "source": []
  },
  {
   "cell_type": "code",
   "execution_count": 118,
   "id": "83133f76441ec4e5",
   "metadata": {
    "ExecuteTime": {
     "end_time": "2024-02-21T13:15:29.960095300Z",
     "start_time": "2024-02-21T13:15:29.913147Z"
    }
   },
   "outputs": [],
   "source": []
  },
  {
   "cell_type": "code",
   "execution_count": 118,
   "id": "c63c91afea1a96e2",
   "metadata": {
    "ExecuteTime": {
     "end_time": "2024-02-21T13:15:30.008590900Z",
     "start_time": "2024-02-21T13:15:29.960095300Z"
    }
   },
   "outputs": [],
   "source": []
  },
  {
   "cell_type": "code",
   "execution_count": 118,
   "id": "5bf07b6d9353e7d1",
   "metadata": {
    "ExecuteTime": {
     "end_time": "2024-02-21T13:15:30.025379200Z",
     "start_time": "2024-02-21T13:15:30.004394500Z"
    }
   },
   "outputs": [],
   "source": []
  },
  {
   "cell_type": "code",
   "execution_count": 118,
   "id": "5c4fc6b1c8583f48",
   "metadata": {
    "ExecuteTime": {
     "end_time": "2024-02-21T13:15:30.083361300Z",
     "start_time": "2024-02-21T13:15:30.024363Z"
    }
   },
   "outputs": [],
   "source": []
  },
  {
   "cell_type": "code",
   "execution_count": 118,
   "id": "38f1ac4c2a9ebcda",
   "metadata": {
    "ExecuteTime": {
     "end_time": "2024-02-21T13:15:30.118104500Z",
     "start_time": "2024-02-21T13:15:30.073727900Z"
    }
   },
   "outputs": [],
   "source": []
  },
  {
   "cell_type": "code",
   "execution_count": 118,
   "id": "6a7436a92716ff2f",
   "metadata": {
    "ExecuteTime": {
     "end_time": "2024-02-21T13:15:30.175529100Z",
     "start_time": "2024-02-21T13:15:30.097897700Z"
    }
   },
   "outputs": [],
   "source": []
  },
  {
   "cell_type": "code",
   "execution_count": 118,
   "id": "a21617b0e591e158",
   "metadata": {
    "ExecuteTime": {
     "end_time": "2024-02-21T13:15:30.214436900Z",
     "start_time": "2024-02-21T13:15:30.173952100Z"
    }
   },
   "outputs": [],
   "source": []
  },
  {
   "cell_type": "code",
   "execution_count": 118,
   "id": "7ad042571a561a72",
   "metadata": {
    "ExecuteTime": {
     "end_time": "2024-02-21T13:15:30.261324500Z",
     "start_time": "2024-02-21T13:15:30.210324900Z"
    }
   },
   "outputs": [],
   "source": []
  },
  {
   "cell_type": "code",
   "execution_count": 118,
   "id": "9c31e6140949be79",
   "metadata": {
    "ExecuteTime": {
     "end_time": "2024-02-21T13:15:30.280021300Z",
     "start_time": "2024-02-21T13:15:30.256150900Z"
    }
   },
   "outputs": [],
   "source": []
  },
  {
   "cell_type": "code",
   "execution_count": 118,
   "id": "768a6a1d0c9c7fd2",
   "metadata": {
    "ExecuteTime": {
     "end_time": "2024-02-21T13:15:30.339029600Z",
     "start_time": "2024-02-21T13:15:30.278925700Z"
    }
   },
   "outputs": [],
   "source": []
  },
  {
   "cell_type": "code",
   "execution_count": 118,
   "id": "d918945a61e32242",
   "metadata": {
    "ExecuteTime": {
     "end_time": "2024-02-21T13:15:30.363140900Z",
     "start_time": "2024-02-21T13:15:30.308156500Z"
    }
   },
   "outputs": [],
   "source": []
  },
  {
   "cell_type": "code",
   "execution_count": 118,
   "id": "4f033ffeb58cdcd7",
   "metadata": {
    "ExecuteTime": {
     "end_time": "2024-02-21T13:15:30.417489400Z",
     "start_time": "2024-02-21T13:15:30.361075100Z"
    }
   },
   "outputs": [],
   "source": []
  },
  {
   "cell_type": "code",
   "execution_count": 118,
   "id": "94e7a91898b93d63",
   "metadata": {
    "ExecuteTime": {
     "end_time": "2024-02-21T13:15:30.446831600Z",
     "start_time": "2024-02-21T13:15:30.386981500Z"
    }
   },
   "outputs": [],
   "source": []
  },
  {
   "cell_type": "code",
   "execution_count": 118,
   "id": "3b421ab897642f44",
   "metadata": {
    "ExecuteTime": {
     "end_time": "2024-02-21T13:15:30.488537200Z",
     "start_time": "2024-02-21T13:15:30.439568900Z"
    }
   },
   "outputs": [],
   "source": []
  },
  {
   "cell_type": "code",
   "execution_count": 118,
   "id": "1e236ee34dc7d2d6",
   "metadata": {
    "ExecuteTime": {
     "end_time": "2024-02-21T13:15:30.521097900Z",
     "start_time": "2024-02-21T13:15:30.463637700Z"
    }
   },
   "outputs": [],
   "source": []
  }
 ],
 "metadata": {
  "kernelspec": {
   "display_name": "Python 3 (ipykernel)",
   "language": "python",
   "name": "python3"
  },
  "language_info": {
   "codemirror_mode": {
    "name": "ipython",
    "version": 3
   },
   "file_extension": ".py",
   "mimetype": "text/x-python",
   "name": "python",
   "nbconvert_exporter": "python",
   "pygments_lexer": "ipython3",
   "version": "3.8.10"
  },
  "toc-autonumbering": true,
  "toc-showcode": true,
  "toc-showmarkdowntxt": true
 },
 "nbformat": 4,
 "nbformat_minor": 5
}

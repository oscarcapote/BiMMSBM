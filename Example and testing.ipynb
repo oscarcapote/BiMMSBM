{
 "cells": [
  {
   "cell_type": "code",
   "execution_count": null,
   "metadata": {
    "colab": {
     "base_uri": "https://localhost:8080/"
    },
    "id": "jV_9Lq5g0eS5",
    "outputId": "16303cff-6626-42d6-d114-19b213cc0773"
   },
   "outputs": [
    {
     "name": "stdout",
     "output_type": "stream",
     "text": [
      "Cloning into 'MMSBM_library'...\n",
      "remote: Enumerating objects: 318, done.\u001b[K\n",
      "remote: Counting objects: 100% (49/49), done.\u001b[K\n",
      "remote: Compressing objects: 100% (35/35), done.\u001b[K\n",
      "remote: Total 318 (delta 20), reused 34 (delta 14), pack-reused 269\u001b[K\n",
      "Receiving objects: 100% (318/318), 322.41 KiB | 3.93 MiB/s, done.\n",
      "Resolving deltas: 100% (155/155), done.\n"
     ]
    }
   ],
   "source": [
    "# !git clone https://github.com/oscarcapote/MMSBM_library"
   ]
  },
  {
   "cell_type": "code",
   "execution_count": null,
   "metadata": {
    "id": "YS8Cdz3MJ_nT"
   },
   "outputs": [],
   "source": [
    "# !rm -r MMSBM_library/"
   ]
  },
  {
   "cell_type": "code",
   "execution_count": 6,
   "metadata": {
    "ExecuteTime": {
     "end_time": "2024-09-16T01:27:53.351809Z",
     "start_time": "2024-09-16T01:27:53.312625Z"
    }
   },
   "outputs": [],
   "source": [
    "import pandas as pd\n",
    "import numpy as np\n",
    "from numba import jit\n",
    "import sys, os\n",
    "\n",
    "\n",
    "\n",
    "\n",
    "sys.path.append(r'..')\n",
    "import MMSBM_library as sbm\n",
    "from MMSBM_library.functions.utils import save_MMSBM_parameters,add_codes,load_EM_parameters"
   ]
  },
  {
   "cell_type": "code",
   "execution_count": 7,
   "metadata": {
    "ExecuteTime": {
     "end_time": "2024-09-16T01:28:39.740576Z",
     "start_time": "2024-09-16T01:28:39.465391Z"
    }
   },
   "outputs": [
    {
     "name": "stdout",
     "output_type": "stream",
     "text": [
      "/home/oscarf/Documents/MMSBM_library\r\n"
     ]
    }
   ],
   "source": [
    "!pwd"
   ]
  },
  {
   "cell_type": "code",
   "execution_count": 8,
   "metadata": {},
   "outputs": [],
   "source": [
    "# Download MovieLens data.\n",
    "# print(\"Downloading movielens data...\")\n",
    "# from urllib.request import urlretrieve\n",
    "# import zipfile\n",
    "\n",
    "# urlretrieve(\"http://files.grouplens.org/datasets/movielens/ml-100k.zip\", \"movielens.zip\")\n",
    "# zip_ref = zipfile.ZipFile('movielens.zip', \"r\")\n",
    "# zip_ref.extractall()\n",
    "# print(\"Done. Dataset contains:\")\n",
    "# print(zip_ref.read('ml-100k/u.info'))"
   ]
  },
  {
   "cell_type": "code",
   "execution_count": 9,
   "metadata": {},
   "outputs": [],
   "source": [
    "genres = [\"unknown\",\n",
    "        \"Action\",\n",
    "        \"Adventure\",\n",
    "        \"Animation\",\n",
    "        \"Children's\",\n",
    "        \"Comedy\",\n",
    "        \"Crime\",\n",
    "        \"Documentary\",\n",
    "        \"Drama\",\n",
    "        \"Fantasy\",\n",
    "        \"Film-Noir\",\n",
    "        \"Horror\",\n",
    "        \"Musical\",\n",
    "        \"Mystery\",\n",
    "        \"Romance\",\n",
    "        \"Sci-Fi\",\n",
    "        \"Thriller\",\n",
    "        \"War\",\n",
    "        \"Western\"]"
   ]
  },
  {
   "cell_type": "code",
   "execution_count": 10,
   "metadata": {},
   "outputs": [],
   "source": [
    "df_users = pd.read_csv(\"ml-100k/u.user\",sep=\"|\",names=[\"uid\",\"age\",\"gender\",\"occupation\",\"zip_code\"])\n",
    "df_movies = pd.read_csv(\"ml-100k/u.item\",sep=\"|\",usecols=[0,1,2],names=[\"mid\",\"title\",\"date\"], encoding='latin-1')\n"
   ]
  },
  {
   "cell_type": "code",
   "execution_count": null,
   "metadata": {},
   "outputs": [],
   "source": []
  },
  {
   "cell_type": "code",
   "execution_count": 11,
   "metadata": {},
   "outputs": [],
   "source": [
    "df_movies_genres =  pd.read_csv(\"ml-100k/u.item\",sep=\"|\",usecols=[0]+[i for i in range(5,24)],names =[\"mid\"]+ genres, encoding='latin-1')\n",
    "\n",
    "L = []\n",
    "\n",
    "for i in df_movies_genres.iloc():\n",
    "    L.append( \"|\".join([g for g in genres if i[g]!=0]))\n",
    "df_movies[\"genres\"] = L"
   ]
  },
  {
   "cell_type": "code",
   "execution_count": 12,
   "metadata": {},
   "outputs": [
    {
     "data": {
      "text/html": [
       "<div>\n",
       "<style scoped>\n",
       "    .dataframe tbody tr th:only-of-type {\n",
       "        vertical-align: middle;\n",
       "    }\n",
       "\n",
       "    .dataframe tbody tr th {\n",
       "        vertical-align: top;\n",
       "    }\n",
       "\n",
       "    .dataframe thead th {\n",
       "        text-align: right;\n",
       "    }\n",
       "</style>\n",
       "<table border=\"1\" class=\"dataframe\">\n",
       "  <thead>\n",
       "    <tr style=\"text-align: right;\">\n",
       "      <th></th>\n",
       "      <th>mid</th>\n",
       "      <th>title</th>\n",
       "      <th>date</th>\n",
       "      <th>genres</th>\n",
       "    </tr>\n",
       "  </thead>\n",
       "  <tbody>\n",
       "    <tr>\n",
       "      <th>0</th>\n",
       "      <td>1</td>\n",
       "      <td>Toy Story (1995)</td>\n",
       "      <td>01-Jan-1995</td>\n",
       "      <td>Animation|Children's|Comedy</td>\n",
       "    </tr>\n",
       "    <tr>\n",
       "      <th>1</th>\n",
       "      <td>2</td>\n",
       "      <td>GoldenEye (1995)</td>\n",
       "      <td>01-Jan-1995</td>\n",
       "      <td>Action|Adventure|Thriller</td>\n",
       "    </tr>\n",
       "    <tr>\n",
       "      <th>2</th>\n",
       "      <td>3</td>\n",
       "      <td>Four Rooms (1995)</td>\n",
       "      <td>01-Jan-1995</td>\n",
       "      <td>Thriller</td>\n",
       "    </tr>\n",
       "    <tr>\n",
       "      <th>3</th>\n",
       "      <td>4</td>\n",
       "      <td>Get Shorty (1995)</td>\n",
       "      <td>01-Jan-1995</td>\n",
       "      <td>Action|Comedy|Drama</td>\n",
       "    </tr>\n",
       "    <tr>\n",
       "      <th>4</th>\n",
       "      <td>5</td>\n",
       "      <td>Copycat (1995)</td>\n",
       "      <td>01-Jan-1995</td>\n",
       "      <td>Crime|Drama|Thriller</td>\n",
       "    </tr>\n",
       "    <tr>\n",
       "      <th>...</th>\n",
       "      <td>...</td>\n",
       "      <td>...</td>\n",
       "      <td>...</td>\n",
       "      <td>...</td>\n",
       "    </tr>\n",
       "    <tr>\n",
       "      <th>1677</th>\n",
       "      <td>1678</td>\n",
       "      <td>Mat' i syn (1997)</td>\n",
       "      <td>06-Feb-1998</td>\n",
       "      <td>Drama</td>\n",
       "    </tr>\n",
       "    <tr>\n",
       "      <th>1678</th>\n",
       "      <td>1679</td>\n",
       "      <td>B. Monkey (1998)</td>\n",
       "      <td>06-Feb-1998</td>\n",
       "      <td>Romance|Thriller</td>\n",
       "    </tr>\n",
       "    <tr>\n",
       "      <th>1679</th>\n",
       "      <td>1680</td>\n",
       "      <td>Sliding Doors (1998)</td>\n",
       "      <td>01-Jan-1998</td>\n",
       "      <td>Drama|Romance</td>\n",
       "    </tr>\n",
       "    <tr>\n",
       "      <th>1680</th>\n",
       "      <td>1681</td>\n",
       "      <td>You So Crazy (1994)</td>\n",
       "      <td>01-Jan-1994</td>\n",
       "      <td>Comedy</td>\n",
       "    </tr>\n",
       "    <tr>\n",
       "      <th>1681</th>\n",
       "      <td>1682</td>\n",
       "      <td>Scream of Stone (Schrei aus Stein) (1991)</td>\n",
       "      <td>08-Mar-1996</td>\n",
       "      <td>Drama</td>\n",
       "    </tr>\n",
       "  </tbody>\n",
       "</table>\n",
       "<p>1682 rows × 4 columns</p>\n",
       "</div>"
      ],
      "text/plain": [
       "       mid                                      title         date  \\\n",
       "0        1                           Toy Story (1995)  01-Jan-1995   \n",
       "1        2                           GoldenEye (1995)  01-Jan-1995   \n",
       "2        3                          Four Rooms (1995)  01-Jan-1995   \n",
       "3        4                          Get Shorty (1995)  01-Jan-1995   \n",
       "4        5                             Copycat (1995)  01-Jan-1995   \n",
       "...    ...                                        ...          ...   \n",
       "1677  1678                          Mat' i syn (1997)  06-Feb-1998   \n",
       "1678  1679                           B. Monkey (1998)  06-Feb-1998   \n",
       "1679  1680                       Sliding Doors (1998)  01-Jan-1998   \n",
       "1680  1681                        You So Crazy (1994)  01-Jan-1994   \n",
       "1681  1682  Scream of Stone (Schrei aus Stein) (1991)  08-Mar-1996   \n",
       "\n",
       "                           genres  \n",
       "0     Animation|Children's|Comedy  \n",
       "1       Action|Adventure|Thriller  \n",
       "2                        Thriller  \n",
       "3             Action|Comedy|Drama  \n",
       "4            Crime|Drama|Thriller  \n",
       "...                           ...  \n",
       "1677                        Drama  \n",
       "1678             Romance|Thriller  \n",
       "1679                Drama|Romance  \n",
       "1680                       Comedy  \n",
       "1681                        Drama  \n",
       "\n",
       "[1682 rows x 4 columns]"
      ]
     },
     "execution_count": 12,
     "metadata": {},
     "output_type": "execute_result"
    }
   ],
   "source": [
    "df_movies"
   ]
  },
  {
   "cell_type": "code",
   "execution_count": 13,
   "metadata": {},
   "outputs": [
    {
     "data": {
      "text/plain": [
       "<MMSBM_library.inclusive_metadata at 0x7f18fd760940>"
      ]
     },
     "execution_count": 13,
     "metadata": {},
     "output_type": "execute_result"
    }
   ],
   "source": [
    "users = sbm.nodes_layer(nodes_info=df_users,K=10,nodes_name=\"uid\")\n",
    "users.add_exclusive_metadata(10,\"occupation\")\n",
    "\n",
    "movies = sbm.nodes_layer(nodes_info=df_movies,K=10,nodes_name=\"mid\")\n",
    "movies.add_inclusive_metadata(123,\"genres\",10,separator=\"|\")\n",
    "\n"
   ]
  },
  {
   "cell_type": "code",
   "execution_count": 14,
   "metadata": {},
   "outputs": [],
   "source": [
    "m = movies[\"genres\"]"
   ]
  },
  {
   "cell_type": "code",
   "execution_count": 15,
   "metadata": {},
   "outputs": [],
   "source": [
    "movies.df[str(m)+\"_id\"] = movies.df[str(m)]\n",
    "for g in m.dict_codes:\n",
    "    movies.df[str(m)+\"_id\"] = movies.df[str(m)+\"_id\"].str.replace(g,str(m.dict_codes[g]))"
   ]
  },
  {
   "cell_type": "code",
   "execution_count": null,
   "metadata": {},
   "outputs": [],
   "source": []
  },
  {
   "cell_type": "code",
   "execution_count": 16,
   "metadata": {},
   "outputs": [],
   "source": [
    "# links and neighbours\n",
    "meta_name = \"genres\"\n",
    "separator = \"|\"\n",
    "df_dropna = movies.df.dropna(subset=[meta_name])\n",
    "meta_list = movies.df[meta_name].values\n",
    "\n",
    "observed = df_dropna[movies.node_type].values  # Nodes with known metadata\n",
    "observed_id = df_dropna[movies.node_type + \"_id\"].values  # Nodes with known metadata\n"
   ]
  },
  {
   "cell_type": "code",
   "execution_count": 17,
   "metadata": {},
   "outputs": [
    {
     "data": {
      "text/plain": [
       "array([   0,    1,    2, ..., 1679, 1680, 1681], dtype=int16)"
      ]
     },
     "execution_count": 17,
     "metadata": {},
     "output_type": "execute_result"
    }
   ],
   "source": [
    "observed_id"
   ]
  },
  {
   "cell_type": "code",
   "execution_count": 18,
   "metadata": {},
   "outputs": [
    {
     "ename": "FileExistsError",
     "evalue": "[Errno 17] File exists: './kf_1'",
     "output_type": "error",
     "traceback": [
      "\u001b[0;31m---------------------------------------------------------------------------\u001b[0m",
      "\u001b[0;31mFileExistsError\u001b[0m                           Traceback (most recent call last)",
      "Cell \u001b[0;32mIn[18], line 2\u001b[0m\n\u001b[1;32m      1\u001b[0m \u001b[38;5;28;01mfor\u001b[39;00m f \u001b[38;5;129;01min\u001b[39;00m \u001b[38;5;28mrange\u001b[39m(\u001b[38;5;241m1\u001b[39m,\u001b[38;5;241m6\u001b[39m):\n\u001b[0;32m----> 2\u001b[0m   \u001b[43mos\u001b[49m\u001b[38;5;241;43m.\u001b[39;49m\u001b[43mmkdir\u001b[49m\u001b[43m(\u001b[49m\u001b[38;5;124;43mf\u001b[39;49m\u001b[38;5;124;43m\"\u001b[39;49m\u001b[38;5;124;43m./kf_\u001b[39;49m\u001b[38;5;132;43;01m{\u001b[39;49;00m\u001b[43mf\u001b[49m\u001b[38;5;132;43;01m}\u001b[39;49;00m\u001b[38;5;124;43m\"\u001b[39;49m\u001b[43m \u001b[49m\u001b[43m)\u001b[49m\n",
      "\u001b[0;31mFileExistsError\u001b[0m: [Errno 17] File exists: './kf_1'"
     ]
    }
   ],
   "source": [
    "for f in range(1,6):\n",
    "  os.mkdir(f\"./kf_{f}\" )"
   ]
  },
  {
   "cell_type": "code",
   "execution_count": 23,
   "metadata": {},
   "outputs": [
    {
     "name": "stdout",
     "output_type": "stream",
     "text": [
      "saving!\n",
      "saving!\n",
      "saving!\n",
      "saving!\n",
      "saving!\n"
     ]
    }
   ],
   "source": [
    "for f in range(1,6):\n",
    "\n",
    "    df_links = pd.read_csv(\"ml-100k/u{}.base\".format(f),sep=\"\\t\",names=[\"uid\",\"mid\",\"rating\",\"time_stamp\"])\n",
    "    ratings = sbm.BiNet(df_links,\"rating\",nodes_a=users,nodes_b=movies)\n",
    "\n",
    "    ratings.init_EM()\n",
    "\n",
    "    for step in range(1):\n",
    "        # print(step)\n",
    "        ratings.EM_step()\n",
    "\n",
    "        #     if step% 10==0:\n",
    "    print(\"saving!\")\n",
    "    save_MMSBM_parameters(ratings,dir=\"./kf_{}\".format(f),BiNet_json=True)\n"
   ]
  },
  {
   "cell_type": "code",
   "execution_count": 11,
   "metadata": {},
   "outputs": [
    {
     "ename": "NameError",
     "evalue": "name 'sbm' is not defined",
     "output_type": "error",
     "traceback": [
      "\u001b[0;31m---------------------------------------------------------------------------\u001b[0m",
      "\u001b[0;31mNameError\u001b[0m                                 Traceback (most recent call last)",
      "Cell \u001b[0;32mIn[11], line 1\u001b[0m\n\u001b[0;32m----> 1\u001b[0m \u001b[43msbm\u001b[49m\u001b[38;5;241m.\u001b[39mBiNet\u001b[38;5;241m.\u001b[39mload_BiNet_from_json(\u001b[38;5;124m\"\u001b[39m\u001b[38;5;124m./kf_1/BiNet_data.json\u001b[39m\u001b[38;5;124m\"\u001b[39m,df_links,\u001b[38;5;124m\"\u001b[39m\u001b[38;5;124mratings\u001b[39m\u001b[38;5;124m\"\u001b[39m)\n",
      "\u001b[0;31mNameError\u001b[0m: name 'sbm' is not defined"
     ]
    }
   ],
   "source": [
    "sbm.BiNet.load_BiNet_from_json(\"./kf_1/BiNet_data.json\",df_links,\"ratings\")"
   ]
  },
  {
   "cell_type": "code",
   "execution_count": 12,
   "metadata": {},
   "outputs": [
    {
     "name": "stdout",
     "output_type": "stream",
     "text": [
      "BiNet_data.json  qka_occupation.npy  theta_a.npy  zeta_genres.npy\r\n",
      "pkl.npy\t\t q_k_tau_genres.npy  theta_b.npy\r\n"
     ]
    }
   ],
   "source": [
    "!ls kf_1"
   ]
  },
  {
   "cell_type": "code",
   "execution_count": 13,
   "metadata": {
    "id": "ItpFuv0733BF"
   },
   "outputs": [
    {
     "ename": "NameError",
     "evalue": "name 'movies' is not defined",
     "output_type": "error",
     "traceback": [
      "\u001b[0;31m---------------------------------------------------------------------------\u001b[0m",
      "\u001b[0;31mNameError\u001b[0m                                 Traceback (most recent call last)",
      "Cell \u001b[0;32mIn[13], line 1\u001b[0m\n\u001b[0;32m----> 1\u001b[0m \u001b[43mmovies\u001b[49m\u001b[38;5;241m.\u001b[39mtheta\n",
      "\u001b[0;31mNameError\u001b[0m: name 'movies' is not defined"
     ]
    }
   ],
   "source": [
    "movies.theta"
   ]
  },
  {
   "cell_type": "code",
   "execution_count": null,
   "metadata": {},
   "outputs": [],
   "source": [
    "sbm.functions.utils.save_nodes_layer_dict(users)"
   ]
  },
  {
   "cell_type": "code",
   "execution_count": null,
   "metadata": {},
   "outputs": [],
   "source": [
    "sbm.functions.utils.save_nodes_layer_dict(movies)"
   ]
  },
  {
   "cell_type": "code",
   "execution_count": null,
   "metadata": {},
   "outputs": [],
   "source": [
    "!ls -ltr"
   ]
  },
  {
   "cell_type": "code",
   "execution_count": 17,
   "metadata": {},
   "outputs": [
    {
     "name": "stdout",
     "output_type": "stream",
     "text": [
      "Help on function __init__ in module MMSBM_library:\n",
      "\n",
      "__init__(self, K, nodes_name, nodes_info, *, separator='\\t', dict_codes=None, **kwargs)\n",
      "    Initialization of the nodes_layer class\n",
      "    \n",
      "    Parameters\n",
      "    ----------\n",
      "    K : int\n",
      "        Number of memberships groups for the layer.\n",
      "    nodes_name : str\n",
      "        Name of the nodes column in the nodes_layer class\n",
      "    nodes_info : str or pandas DataFrame\n",
      "        If it is a string, it is the directory of the file with the nodes information.\n",
      "        If it is a DataFrame, it is the DataFrame with the nodes information.\n",
      "    separator : str, default        \n",
      "        Separator if the columns of the file that contains the nodes information\n",
      "    dict_codes : dict, default None\n",
      "        Dictionary with the integer id of the nodes. The key is the nodes' name and the value its id.\n",
      "\n"
     ]
    }
   ],
   "source": [
    "help(sbm.nodes_layer.__init__)"
   ]
  },
  {
   "cell_type": "code",
   "execution_count": 18,
   "metadata": {},
   "outputs": [],
   "source": [
    "import json\n",
    "with open(\"./uid_data.json\", \"r\") as f:\n",
    "  data = json.load(f)"
   ]
  },
  {
   "cell_type": "code",
   "execution_count": 19,
   "metadata": {},
   "outputs": [],
   "source": [
    "df_users = pd.read_csv(\"ml-100k/u.user\",sep=\"|\",names=[\"uid\",\"age\",\"gender\",\"occupation\",\"zip_code\"])\n",
    "# df_movies = pd.read_csv(\"ml-100k/u.item\",sep=\"|\",usecols=[0,1,2],names=[\"mid\",\"title\",\"date\"], encoding='latin-1')\n"
   ]
  },
  {
   "cell_type": "code",
   "execution_count": 20,
   "metadata": {},
   "outputs": [],
   "source": [
    "users2 = sbm.nodes_layer.load_nodes_layer_from_file(df_users,\"./uid_data.json\")"
   ]
  },
  {
   "cell_type": "code",
   "execution_count": null,
   "metadata": {},
   "outputs": [],
   "source": []
  },
  {
   "cell_type": "code",
   "execution_count": 21,
   "metadata": {},
   "outputs": [
    {
     "data": {
      "text/html": [
       "<div>\n",
       "<style scoped>\n",
       "    .dataframe tbody tr th:only-of-type {\n",
       "        vertical-align: middle;\n",
       "    }\n",
       "\n",
       "    .dataframe tbody tr th {\n",
       "        vertical-align: top;\n",
       "    }\n",
       "\n",
       "    .dataframe thead th {\n",
       "        text-align: right;\n",
       "    }\n",
       "</style>\n",
       "<table border=\"1\" class=\"dataframe\">\n",
       "  <thead>\n",
       "    <tr style=\"text-align: right;\">\n",
       "      <th></th>\n",
       "      <th>uid</th>\n",
       "      <th>age</th>\n",
       "      <th>gender</th>\n",
       "      <th>occupation</th>\n",
       "      <th>zip_code</th>\n",
       "      <th>uid_id</th>\n",
       "      <th>occupation_id</th>\n",
       "    </tr>\n",
       "  </thead>\n",
       "  <tbody>\n",
       "    <tr>\n",
       "      <th>0</th>\n",
       "      <td>1</td>\n",
       "      <td>24</td>\n",
       "      <td>M</td>\n",
       "      <td>technician</td>\n",
       "      <td>85711</td>\n",
       "      <td>0</td>\n",
       "      <td>19</td>\n",
       "    </tr>\n",
       "    <tr>\n",
       "      <th>1</th>\n",
       "      <td>2</td>\n",
       "      <td>53</td>\n",
       "      <td>F</td>\n",
       "      <td>other</td>\n",
       "      <td>94043</td>\n",
       "      <td>1</td>\n",
       "      <td>13</td>\n",
       "    </tr>\n",
       "    <tr>\n",
       "      <th>2</th>\n",
       "      <td>3</td>\n",
       "      <td>23</td>\n",
       "      <td>M</td>\n",
       "      <td>writer</td>\n",
       "      <td>32067</td>\n",
       "      <td>2</td>\n",
       "      <td>20</td>\n",
       "    </tr>\n",
       "    <tr>\n",
       "      <th>3</th>\n",
       "      <td>4</td>\n",
       "      <td>24</td>\n",
       "      <td>M</td>\n",
       "      <td>technician</td>\n",
       "      <td>43537</td>\n",
       "      <td>3</td>\n",
       "      <td>19</td>\n",
       "    </tr>\n",
       "    <tr>\n",
       "      <th>4</th>\n",
       "      <td>5</td>\n",
       "      <td>33</td>\n",
       "      <td>F</td>\n",
       "      <td>other</td>\n",
       "      <td>15213</td>\n",
       "      <td>4</td>\n",
       "      <td>13</td>\n",
       "    </tr>\n",
       "    <tr>\n",
       "      <th>...</th>\n",
       "      <td>...</td>\n",
       "      <td>...</td>\n",
       "      <td>...</td>\n",
       "      <td>...</td>\n",
       "      <td>...</td>\n",
       "      <td>...</td>\n",
       "      <td>...</td>\n",
       "    </tr>\n",
       "    <tr>\n",
       "      <th>938</th>\n",
       "      <td>939</td>\n",
       "      <td>26</td>\n",
       "      <td>F</td>\n",
       "      <td>student</td>\n",
       "      <td>33319</td>\n",
       "      <td>938</td>\n",
       "      <td>18</td>\n",
       "    </tr>\n",
       "    <tr>\n",
       "      <th>939</th>\n",
       "      <td>940</td>\n",
       "      <td>32</td>\n",
       "      <td>M</td>\n",
       "      <td>administrator</td>\n",
       "      <td>02215</td>\n",
       "      <td>939</td>\n",
       "      <td>0</td>\n",
       "    </tr>\n",
       "    <tr>\n",
       "      <th>940</th>\n",
       "      <td>941</td>\n",
       "      <td>20</td>\n",
       "      <td>M</td>\n",
       "      <td>student</td>\n",
       "      <td>97229</td>\n",
       "      <td>940</td>\n",
       "      <td>18</td>\n",
       "    </tr>\n",
       "    <tr>\n",
       "      <th>941</th>\n",
       "      <td>942</td>\n",
       "      <td>48</td>\n",
       "      <td>F</td>\n",
       "      <td>librarian</td>\n",
       "      <td>78209</td>\n",
       "      <td>941</td>\n",
       "      <td>10</td>\n",
       "    </tr>\n",
       "    <tr>\n",
       "      <th>942</th>\n",
       "      <td>943</td>\n",
       "      <td>22</td>\n",
       "      <td>M</td>\n",
       "      <td>student</td>\n",
       "      <td>77841</td>\n",
       "      <td>942</td>\n",
       "      <td>18</td>\n",
       "    </tr>\n",
       "  </tbody>\n",
       "</table>\n",
       "<p>943 rows × 7 columns</p>\n",
       "</div>"
      ],
      "text/plain": [
       "     uid  age gender     occupation zip_code  uid_id  occupation_id\n",
       "0      1   24      M     technician    85711       0             19\n",
       "1      2   53      F          other    94043       1             13\n",
       "2      3   23      M         writer    32067       2             20\n",
       "3      4   24      M     technician    43537       3             19\n",
       "4      5   33      F          other    15213       4             13\n",
       "..   ...  ...    ...            ...      ...     ...            ...\n",
       "938  939   26      F        student    33319     938             18\n",
       "939  940   32      M  administrator    02215     939              0\n",
       "940  941   20      M        student    97229     940             18\n",
       "941  942   48      F      librarian    78209     941             10\n",
       "942  943   22      M        student    77841     942             18\n",
       "\n",
       "[943 rows x 7 columns]"
      ]
     },
     "execution_count": 21,
     "metadata": {},
     "output_type": "execute_result"
    }
   ],
   "source": [
    "df_users"
   ]
  },
  {
   "cell_type": "code",
   "execution_count": 22,
   "metadata": {},
   "outputs": [
    {
     "data": {
      "text/html": [
       "<div>\n",
       "<style scoped>\n",
       "    .dataframe tbody tr th:only-of-type {\n",
       "        vertical-align: middle;\n",
       "    }\n",
       "\n",
       "    .dataframe tbody tr th {\n",
       "        vertical-align: top;\n",
       "    }\n",
       "\n",
       "    .dataframe thead th {\n",
       "        text-align: right;\n",
       "    }\n",
       "</style>\n",
       "<table border=\"1\" class=\"dataframe\">\n",
       "  <thead>\n",
       "    <tr style=\"text-align: right;\">\n",
       "      <th></th>\n",
       "      <th>uid</th>\n",
       "      <th>age</th>\n",
       "      <th>gender</th>\n",
       "      <th>occupation</th>\n",
       "      <th>zip_code</th>\n",
       "      <th>uid_id</th>\n",
       "      <th>occupation_id</th>\n",
       "    </tr>\n",
       "  </thead>\n",
       "  <tbody>\n",
       "    <tr>\n",
       "      <th>0</th>\n",
       "      <td>1</td>\n",
       "      <td>24</td>\n",
       "      <td>M</td>\n",
       "      <td>technician</td>\n",
       "      <td>85711</td>\n",
       "      <td>0</td>\n",
       "      <td>19</td>\n",
       "    </tr>\n",
       "    <tr>\n",
       "      <th>1</th>\n",
       "      <td>2</td>\n",
       "      <td>53</td>\n",
       "      <td>F</td>\n",
       "      <td>other</td>\n",
       "      <td>94043</td>\n",
       "      <td>1</td>\n",
       "      <td>13</td>\n",
       "    </tr>\n",
       "    <tr>\n",
       "      <th>2</th>\n",
       "      <td>3</td>\n",
       "      <td>23</td>\n",
       "      <td>M</td>\n",
       "      <td>writer</td>\n",
       "      <td>32067</td>\n",
       "      <td>2</td>\n",
       "      <td>20</td>\n",
       "    </tr>\n",
       "    <tr>\n",
       "      <th>3</th>\n",
       "      <td>4</td>\n",
       "      <td>24</td>\n",
       "      <td>M</td>\n",
       "      <td>technician</td>\n",
       "      <td>43537</td>\n",
       "      <td>3</td>\n",
       "      <td>19</td>\n",
       "    </tr>\n",
       "    <tr>\n",
       "      <th>4</th>\n",
       "      <td>5</td>\n",
       "      <td>33</td>\n",
       "      <td>F</td>\n",
       "      <td>other</td>\n",
       "      <td>15213</td>\n",
       "      <td>4</td>\n",
       "      <td>13</td>\n",
       "    </tr>\n",
       "    <tr>\n",
       "      <th>...</th>\n",
       "      <td>...</td>\n",
       "      <td>...</td>\n",
       "      <td>...</td>\n",
       "      <td>...</td>\n",
       "      <td>...</td>\n",
       "      <td>...</td>\n",
       "      <td>...</td>\n",
       "    </tr>\n",
       "    <tr>\n",
       "      <th>938</th>\n",
       "      <td>939</td>\n",
       "      <td>26</td>\n",
       "      <td>F</td>\n",
       "      <td>student</td>\n",
       "      <td>33319</td>\n",
       "      <td>938</td>\n",
       "      <td>18</td>\n",
       "    </tr>\n",
       "    <tr>\n",
       "      <th>939</th>\n",
       "      <td>940</td>\n",
       "      <td>32</td>\n",
       "      <td>M</td>\n",
       "      <td>administrator</td>\n",
       "      <td>02215</td>\n",
       "      <td>939</td>\n",
       "      <td>0</td>\n",
       "    </tr>\n",
       "    <tr>\n",
       "      <th>940</th>\n",
       "      <td>941</td>\n",
       "      <td>20</td>\n",
       "      <td>M</td>\n",
       "      <td>student</td>\n",
       "      <td>97229</td>\n",
       "      <td>940</td>\n",
       "      <td>18</td>\n",
       "    </tr>\n",
       "    <tr>\n",
       "      <th>941</th>\n",
       "      <td>942</td>\n",
       "      <td>48</td>\n",
       "      <td>F</td>\n",
       "      <td>librarian</td>\n",
       "      <td>78209</td>\n",
       "      <td>941</td>\n",
       "      <td>10</td>\n",
       "    </tr>\n",
       "    <tr>\n",
       "      <th>942</th>\n",
       "      <td>943</td>\n",
       "      <td>22</td>\n",
       "      <td>M</td>\n",
       "      <td>student</td>\n",
       "      <td>77841</td>\n",
       "      <td>942</td>\n",
       "      <td>18</td>\n",
       "    </tr>\n",
       "  </tbody>\n",
       "</table>\n",
       "<p>943 rows × 7 columns</p>\n",
       "</div>"
      ],
      "text/plain": [
       "     uid  age gender     occupation zip_code  uid_id  occupation_id\n",
       "0      1   24      M     technician    85711       0             19\n",
       "1      2   53      F          other    94043       1             13\n",
       "2      3   23      M         writer    32067       2             20\n",
       "3      4   24      M     technician    43537       3             19\n",
       "4      5   33      F          other    15213       4             13\n",
       "..   ...  ...    ...            ...      ...     ...            ...\n",
       "938  939   26      F        student    33319     938             18\n",
       "939  940   32      M  administrator    02215     939              0\n",
       "940  941   20      M        student    97229     940             18\n",
       "941  942   48      F      librarian    78209     941             10\n",
       "942  943   22      M        student    77841     942             18\n",
       "\n",
       "[943 rows x 7 columns]"
      ]
     },
     "execution_count": 22,
     "metadata": {},
     "output_type": "execute_result"
    }
   ],
   "source": [
    "users.df"
   ]
  },
  {
   "cell_type": "code",
   "execution_count": 23,
   "metadata": {},
   "outputs": [
    {
     "data": {
      "text/plain": [
       "True"
      ]
     },
     "execution_count": 23,
     "metadata": {},
     "output_type": "execute_result"
    }
   ],
   "source": [
    "np.all(users2.df[\"occupation_id\"] == users.df[\"occupation_id\"])"
   ]
  },
  {
   "cell_type": "code",
   "execution_count": 24,
   "metadata": {},
   "outputs": [
    {
     "ename": "NameError",
     "evalue": "name 'data2' is not defined",
     "output_type": "error",
     "traceback": [
      "\u001b[0;31m---------------------------------------------------------------------------\u001b[0m",
      "\u001b[0;31mNameError\u001b[0m                                 Traceback (most recent call last)",
      "Cell \u001b[0;32mIn[24], line 1\u001b[0m\n\u001b[0;32m----> 1\u001b[0m \u001b[43mdata2\u001b[49m\u001b[38;5;241m.\u001b[39mkeys()\n",
      "\u001b[0;31mNameError\u001b[0m: name 'data2' is not defined"
     ]
    }
   ],
   "source": [
    "data2.keys()"
   ]
  },
  {
   "cell_type": "code",
   "execution_count": 25,
   "metadata": {},
   "outputs": [
    {
     "name": "stdout",
     "output_type": "stream",
     "text": [
      "{'meta_name': 'occupation', 'lambda_val': 10, 'N_atts': 21, 'dict_codes': {'technician': '19', 'other': '13', 'writer': '20', 'executive': '6', 'administrator': '0', 'student': '18', 'lawyer': '9', 'educator': '3', 'scientist': '17', 'entertainment': '5', 'programmer': '14', 'librarian': '10', 'homemaker': '8', 'artist': '1', 'engineer': '4', 'marketing': '11', 'none': '12', 'healthcare': '7', 'retired': '15', 'salesman': '16', 'doctor': '2'}}\n"
     ]
    }
   ],
   "source": [
    "for m in data[\"metadata_exclusives\"]:\n",
    "    print(m)\n",
    "    users2.add_exclusive_metadata(**m)"
   ]
  },
  {
   "cell_type": "code",
   "execution_count": null,
   "metadata": {},
   "outputs": [],
   "source": []
  },
  {
   "cell_type": "code",
   "execution_count": null,
   "metadata": {},
   "outputs": [],
   "source": []
  },
  {
   "cell_type": "code",
   "execution_count": 26,
   "metadata": {},
   "outputs": [],
   "source": [
    "df_movies2 =  df_movies#.drop(\"genres_id\", axis='columns')\n"
   ]
  },
  {
   "cell_type": "code",
   "execution_count": 27,
   "metadata": {},
   "outputs": [],
   "source": [
    "movies2 = sbm.nodes_layer.load_nodes_layer_from_file(df_movies2,\"./mid_data.json\")"
   ]
  },
  {
   "cell_type": "code",
   "execution_count": 28,
   "metadata": {},
   "outputs": [],
   "source": [
    "import json\n",
    "with open(\"./mid_data.json\", \"r\") as f:\n",
    "  data2 = json.load(f)"
   ]
  },
  {
   "cell_type": "code",
   "execution_count": null,
   "metadata": {},
   "outputs": [],
   "source": []
  },
  {
   "cell_type": "code",
   "execution_count": 29,
   "metadata": {},
   "outputs": [],
   "source": [
    "for m in data2[\"metadata_inclusives\"]:\n",
    "    movies2.add_inclusive_metadata(**m)"
   ]
  },
  {
   "cell_type": "code",
   "execution_count": 30,
   "metadata": {},
   "outputs": [
    {
     "data": {
      "text/html": [
       "<div>\n",
       "<style scoped>\n",
       "    .dataframe tbody tr th:only-of-type {\n",
       "        vertical-align: middle;\n",
       "    }\n",
       "\n",
       "    .dataframe tbody tr th {\n",
       "        vertical-align: top;\n",
       "    }\n",
       "\n",
       "    .dataframe thead th {\n",
       "        text-align: right;\n",
       "    }\n",
       "</style>\n",
       "<table border=\"1\" class=\"dataframe\">\n",
       "  <thead>\n",
       "    <tr style=\"text-align: right;\">\n",
       "      <th></th>\n",
       "      <th>mid</th>\n",
       "      <th>title</th>\n",
       "      <th>date</th>\n",
       "      <th>genres</th>\n",
       "      <th>mid_id</th>\n",
       "      <th>genres_id</th>\n",
       "    </tr>\n",
       "  </thead>\n",
       "  <tbody>\n",
       "    <tr>\n",
       "      <th>0</th>\n",
       "      <td>1</td>\n",
       "      <td>Toy Story (1995)</td>\n",
       "      <td>01-Jan-1995</td>\n",
       "      <td>Animation|Children's|Comedy</td>\n",
       "      <td>0</td>\n",
       "      <td>0|1|2</td>\n",
       "    </tr>\n",
       "    <tr>\n",
       "      <th>1</th>\n",
       "      <td>2</td>\n",
       "      <td>GoldenEye (1995)</td>\n",
       "      <td>01-Jan-1995</td>\n",
       "      <td>Action|Adventure|Thriller</td>\n",
       "      <td>1</td>\n",
       "      <td>3|4|5</td>\n",
       "    </tr>\n",
       "    <tr>\n",
       "      <th>2</th>\n",
       "      <td>3</td>\n",
       "      <td>Four Rooms (1995)</td>\n",
       "      <td>01-Jan-1995</td>\n",
       "      <td>Thriller</td>\n",
       "      <td>2</td>\n",
       "      <td>5</td>\n",
       "    </tr>\n",
       "    <tr>\n",
       "      <th>3</th>\n",
       "      <td>4</td>\n",
       "      <td>Get Shorty (1995)</td>\n",
       "      <td>01-Jan-1995</td>\n",
       "      <td>Action|Comedy|Drama</td>\n",
       "      <td>3</td>\n",
       "      <td>3|2|6</td>\n",
       "    </tr>\n",
       "    <tr>\n",
       "      <th>4</th>\n",
       "      <td>5</td>\n",
       "      <td>Copycat (1995)</td>\n",
       "      <td>01-Jan-1995</td>\n",
       "      <td>Crime|Drama|Thriller</td>\n",
       "      <td>4</td>\n",
       "      <td>7|6|5</td>\n",
       "    </tr>\n",
       "    <tr>\n",
       "      <th>...</th>\n",
       "      <td>...</td>\n",
       "      <td>...</td>\n",
       "      <td>...</td>\n",
       "      <td>...</td>\n",
       "      <td>...</td>\n",
       "      <td>...</td>\n",
       "    </tr>\n",
       "    <tr>\n",
       "      <th>1677</th>\n",
       "      <td>1678</td>\n",
       "      <td>Mat' i syn (1997)</td>\n",
       "      <td>06-Feb-1998</td>\n",
       "      <td>Drama</td>\n",
       "      <td>1677</td>\n",
       "      <td>6</td>\n",
       "    </tr>\n",
       "    <tr>\n",
       "      <th>1678</th>\n",
       "      <td>1679</td>\n",
       "      <td>B. Monkey (1998)</td>\n",
       "      <td>06-Feb-1998</td>\n",
       "      <td>Romance|Thriller</td>\n",
       "      <td>1678</td>\n",
       "      <td>10|5</td>\n",
       "    </tr>\n",
       "    <tr>\n",
       "      <th>1679</th>\n",
       "      <td>1680</td>\n",
       "      <td>Sliding Doors (1998)</td>\n",
       "      <td>01-Jan-1998</td>\n",
       "      <td>Drama|Romance</td>\n",
       "      <td>1679</td>\n",
       "      <td>6|10</td>\n",
       "    </tr>\n",
       "    <tr>\n",
       "      <th>1680</th>\n",
       "      <td>1681</td>\n",
       "      <td>You So Crazy (1994)</td>\n",
       "      <td>01-Jan-1994</td>\n",
       "      <td>Comedy</td>\n",
       "      <td>1680</td>\n",
       "      <td>2</td>\n",
       "    </tr>\n",
       "    <tr>\n",
       "      <th>1681</th>\n",
       "      <td>1682</td>\n",
       "      <td>Scream of Stone (Schrei aus Stein) (1991)</td>\n",
       "      <td>08-Mar-1996</td>\n",
       "      <td>Drama</td>\n",
       "      <td>1681</td>\n",
       "      <td>6</td>\n",
       "    </tr>\n",
       "  </tbody>\n",
       "</table>\n",
       "<p>1682 rows × 6 columns</p>\n",
       "</div>"
      ],
      "text/plain": [
       "       mid                                      title         date  \\\n",
       "0        1                           Toy Story (1995)  01-Jan-1995   \n",
       "1        2                           GoldenEye (1995)  01-Jan-1995   \n",
       "2        3                          Four Rooms (1995)  01-Jan-1995   \n",
       "3        4                          Get Shorty (1995)  01-Jan-1995   \n",
       "4        5                             Copycat (1995)  01-Jan-1995   \n",
       "...    ...                                        ...          ...   \n",
       "1677  1678                          Mat' i syn (1997)  06-Feb-1998   \n",
       "1678  1679                           B. Monkey (1998)  06-Feb-1998   \n",
       "1679  1680                       Sliding Doors (1998)  01-Jan-1998   \n",
       "1680  1681                        You So Crazy (1994)  01-Jan-1994   \n",
       "1681  1682  Scream of Stone (Schrei aus Stein) (1991)  08-Mar-1996   \n",
       "\n",
       "                           genres  mid_id genres_id  \n",
       "0     Animation|Children's|Comedy       0     0|1|2  \n",
       "1       Action|Adventure|Thriller       1     3|4|5  \n",
       "2                        Thriller       2         5  \n",
       "3             Action|Comedy|Drama       3     3|2|6  \n",
       "4            Crime|Drama|Thriller       4     7|6|5  \n",
       "...                           ...     ...       ...  \n",
       "1677                        Drama    1677         6  \n",
       "1678             Romance|Thriller    1678      10|5  \n",
       "1679                Drama|Romance    1679      6|10  \n",
       "1680                       Comedy    1680         2  \n",
       "1681                        Drama    1681         6  \n",
       "\n",
       "[1682 rows x 6 columns]"
      ]
     },
     "execution_count": 30,
     "metadata": {},
     "output_type": "execute_result"
    }
   ],
   "source": [
    "movies2.df"
   ]
  },
  {
   "cell_type": "code",
   "execution_count": 31,
   "metadata": {},
   "outputs": [
    {
     "data": {
      "text/html": [
       "<div>\n",
       "<style scoped>\n",
       "    .dataframe tbody tr th:only-of-type {\n",
       "        vertical-align: middle;\n",
       "    }\n",
       "\n",
       "    .dataframe tbody tr th {\n",
       "        vertical-align: top;\n",
       "    }\n",
       "\n",
       "    .dataframe thead th {\n",
       "        text-align: right;\n",
       "    }\n",
       "</style>\n",
       "<table border=\"1\" class=\"dataframe\">\n",
       "  <thead>\n",
       "    <tr style=\"text-align: right;\">\n",
       "      <th></th>\n",
       "      <th>mid</th>\n",
       "      <th>title</th>\n",
       "      <th>date</th>\n",
       "      <th>genres</th>\n",
       "      <th>mid_id</th>\n",
       "      <th>genres_id</th>\n",
       "    </tr>\n",
       "  </thead>\n",
       "  <tbody>\n",
       "    <tr>\n",
       "      <th>0</th>\n",
       "      <td>1</td>\n",
       "      <td>Toy Story (1995)</td>\n",
       "      <td>01-Jan-1995</td>\n",
       "      <td>Animation|Children's|Comedy</td>\n",
       "      <td>0</td>\n",
       "      <td>0|1|2</td>\n",
       "    </tr>\n",
       "    <tr>\n",
       "      <th>1</th>\n",
       "      <td>2</td>\n",
       "      <td>GoldenEye (1995)</td>\n",
       "      <td>01-Jan-1995</td>\n",
       "      <td>Action|Adventure|Thriller</td>\n",
       "      <td>1</td>\n",
       "      <td>3|4|5</td>\n",
       "    </tr>\n",
       "    <tr>\n",
       "      <th>2</th>\n",
       "      <td>3</td>\n",
       "      <td>Four Rooms (1995)</td>\n",
       "      <td>01-Jan-1995</td>\n",
       "      <td>Thriller</td>\n",
       "      <td>2</td>\n",
       "      <td>5</td>\n",
       "    </tr>\n",
       "    <tr>\n",
       "      <th>3</th>\n",
       "      <td>4</td>\n",
       "      <td>Get Shorty (1995)</td>\n",
       "      <td>01-Jan-1995</td>\n",
       "      <td>Action|Comedy|Drama</td>\n",
       "      <td>3</td>\n",
       "      <td>3|2|6</td>\n",
       "    </tr>\n",
       "    <tr>\n",
       "      <th>4</th>\n",
       "      <td>5</td>\n",
       "      <td>Copycat (1995)</td>\n",
       "      <td>01-Jan-1995</td>\n",
       "      <td>Crime|Drama|Thriller</td>\n",
       "      <td>4</td>\n",
       "      <td>7|6|5</td>\n",
       "    </tr>\n",
       "    <tr>\n",
       "      <th>...</th>\n",
       "      <td>...</td>\n",
       "      <td>...</td>\n",
       "      <td>...</td>\n",
       "      <td>...</td>\n",
       "      <td>...</td>\n",
       "      <td>...</td>\n",
       "    </tr>\n",
       "    <tr>\n",
       "      <th>1677</th>\n",
       "      <td>1678</td>\n",
       "      <td>Mat' i syn (1997)</td>\n",
       "      <td>06-Feb-1998</td>\n",
       "      <td>Drama</td>\n",
       "      <td>1677</td>\n",
       "      <td>6</td>\n",
       "    </tr>\n",
       "    <tr>\n",
       "      <th>1678</th>\n",
       "      <td>1679</td>\n",
       "      <td>B. Monkey (1998)</td>\n",
       "      <td>06-Feb-1998</td>\n",
       "      <td>Romance|Thriller</td>\n",
       "      <td>1678</td>\n",
       "      <td>10|5</td>\n",
       "    </tr>\n",
       "    <tr>\n",
       "      <th>1679</th>\n",
       "      <td>1680</td>\n",
       "      <td>Sliding Doors (1998)</td>\n",
       "      <td>01-Jan-1998</td>\n",
       "      <td>Drama|Romance</td>\n",
       "      <td>1679</td>\n",
       "      <td>6|10</td>\n",
       "    </tr>\n",
       "    <tr>\n",
       "      <th>1680</th>\n",
       "      <td>1681</td>\n",
       "      <td>You So Crazy (1994)</td>\n",
       "      <td>01-Jan-1994</td>\n",
       "      <td>Comedy</td>\n",
       "      <td>1680</td>\n",
       "      <td>2</td>\n",
       "    </tr>\n",
       "    <tr>\n",
       "      <th>1681</th>\n",
       "      <td>1682</td>\n",
       "      <td>Scream of Stone (Schrei aus Stein) (1991)</td>\n",
       "      <td>08-Mar-1996</td>\n",
       "      <td>Drama</td>\n",
       "      <td>1681</td>\n",
       "      <td>6</td>\n",
       "    </tr>\n",
       "  </tbody>\n",
       "</table>\n",
       "<p>1682 rows × 6 columns</p>\n",
       "</div>"
      ],
      "text/plain": [
       "       mid                                      title         date  \\\n",
       "0        1                           Toy Story (1995)  01-Jan-1995   \n",
       "1        2                           GoldenEye (1995)  01-Jan-1995   \n",
       "2        3                          Four Rooms (1995)  01-Jan-1995   \n",
       "3        4                          Get Shorty (1995)  01-Jan-1995   \n",
       "4        5                             Copycat (1995)  01-Jan-1995   \n",
       "...    ...                                        ...          ...   \n",
       "1677  1678                          Mat' i syn (1997)  06-Feb-1998   \n",
       "1678  1679                           B. Monkey (1998)  06-Feb-1998   \n",
       "1679  1680                       Sliding Doors (1998)  01-Jan-1998   \n",
       "1680  1681                        You So Crazy (1994)  01-Jan-1994   \n",
       "1681  1682  Scream of Stone (Schrei aus Stein) (1991)  08-Mar-1996   \n",
       "\n",
       "                           genres  mid_id genres_id  \n",
       "0     Animation|Children's|Comedy       0     0|1|2  \n",
       "1       Action|Adventure|Thriller       1     3|4|5  \n",
       "2                        Thriller       2         5  \n",
       "3             Action|Comedy|Drama       3     3|2|6  \n",
       "4            Crime|Drama|Thriller       4     7|6|5  \n",
       "...                           ...     ...       ...  \n",
       "1677                        Drama    1677         6  \n",
       "1678             Romance|Thriller    1678      10|5  \n",
       "1679                Drama|Romance    1679      6|10  \n",
       "1680                       Comedy    1680         2  \n",
       "1681                        Drama    1681         6  \n",
       "\n",
       "[1682 rows x 6 columns]"
      ]
     },
     "execution_count": 31,
     "metadata": {},
     "output_type": "execute_result"
    }
   ],
   "source": [
    "movies.df"
   ]
  },
  {
   "cell_type": "code",
   "execution_count": 32,
   "metadata": {},
   "outputs": [],
   "source": [
    "meta = users2[\"occupation\"]"
   ]
  },
  {
   "cell_type": "code",
   "execution_count": 33,
   "metadata": {},
   "outputs": [
    {
     "ename": "AttributeError",
     "evalue": "'exclusive_metadata' object has no attribute '_qka'",
     "output_type": "error",
     "traceback": [
      "\u001b[0;31m---------------------------------------------------------------------------\u001b[0m",
      "\u001b[0;31mAttributeError\u001b[0m                            Traceback (most recent call last)",
      "Cell \u001b[0;32mIn[33], line 1\u001b[0m\n\u001b[0;32m----> 1\u001b[0m \u001b[43mmeta\u001b[49m\u001b[38;5;241;43m.\u001b[39;49m\u001b[43mqka\u001b[49m\n",
      "File \u001b[0;32m~/Documents/MMSBM_library/../MMSBM_library/__init__.py:131\u001b[0m, in \u001b[0;36mexclusive_metadata.qka\u001b[0;34m(self)\u001b[0m\n\u001b[1;32m    129\u001b[0m \u001b[38;5;129m@property\u001b[39m\n\u001b[1;32m    130\u001b[0m \u001b[38;5;28;01mdef\u001b[39;00m \u001b[38;5;21mqka\u001b[39m(\u001b[38;5;28mself\u001b[39m):\n\u001b[0;32m--> 131\u001b[0m     \u001b[38;5;28;01mreturn\u001b[39;00m \u001b[38;5;28;43mself\u001b[39;49m\u001b[38;5;241;43m.\u001b[39;49m\u001b[43m_qka\u001b[49m\n",
      "\u001b[0;31mAttributeError\u001b[0m: 'exclusive_metadata' object has no attribute '_qka'"
     ]
    }
   ],
   "source": [
    "meta.qka"
   ]
  },
  {
   "cell_type": "code",
   "execution_count": 10,
   "metadata": {},
   "outputs": [
    {
     "ename": "KeyError",
     "evalue": "1325",
     "output_type": "error",
     "traceback": [
      "\u001b[0;31m---------------------------------------------------------------------------\u001b[0m",
      "\u001b[0;31mKeyError\u001b[0m                                  Traceback (most recent call last)",
      "Cell \u001b[0;32mIn[10], line 1\u001b[0m\n\u001b[0;32m----> 1\u001b[0m \u001b[43msbm\u001b[49m\u001b[38;5;241;43m.\u001b[39;49m\u001b[43mBiNet\u001b[49m\u001b[38;5;241;43m.\u001b[39;49m\u001b[43mload_BiNet_from_json\u001b[49m\u001b[43m(\u001b[49m\u001b[38;5;124;43m\"\u001b[39;49m\u001b[38;5;124;43m./kf_1/BiNet_data.json\u001b[39;49m\u001b[38;5;124;43m\"\u001b[39;49m\u001b[43m,\u001b[49m\u001b[43m \u001b[49m\u001b[43mdf_links\u001b[49m\u001b[43m,\u001b[49m\u001b[43m \u001b[49m\u001b[38;5;124;43m\"\u001b[39;49m\u001b[38;5;124;43mvotes\u001b[39;49m\u001b[38;5;124;43m\"\u001b[39;49m\u001b[43m)\u001b[49m\n",
      "File \u001b[0;32m~/Documents/MMSBM_library/../MMSBM_library/__init__.py:1032\u001b[0m, in \u001b[0;36mBiNet.load_BiNet_from_json\u001b[0;34m(cls, json_file, links, links_label, nodes_a, nodes_b, separator)\u001b[0m\n\u001b[1;32m   1030\u001b[0m \u001b[38;5;66;03m#creating BiNet\u001b[39;00m\n\u001b[1;32m   1031\u001b[0m \u001b[38;5;28;01mif\u001b[39;00m na \u001b[38;5;241m==\u001b[39m \u001b[38;5;28;01mNone\u001b[39;00m \u001b[38;5;129;01mand\u001b[39;00m nb \u001b[38;5;241m==\u001b[39m \u001b[38;5;28;01mNone\u001b[39;00m:\n\u001b[0;32m-> 1032\u001b[0m     BN \u001b[38;5;241m=\u001b[39m \u001b[38;5;28;43mcls\u001b[39;49m\u001b[43m(\u001b[49m\u001b[43mlinks\u001b[49m\u001b[43m,\u001b[49m\u001b[43mlinks_label\u001b[49m\u001b[43m,\u001b[49m\n\u001b[1;32m   1033\u001b[0m \u001b[43m             \u001b[49m\u001b[43mnodes_a\u001b[49m\u001b[43m \u001b[49m\u001b[38;5;241;43m=\u001b[39;49m\u001b[43m \u001b[49m\u001b[38;5;28;43;01mNone\u001b[39;49;00m\u001b[43m,\u001b[49m\u001b[43m \u001b[49m\u001b[43mKa\u001b[49m\u001b[38;5;241;43m=\u001b[39;49m\u001b[43mdata\u001b[49m\u001b[43m[\u001b[49m\u001b[38;5;124;43m\"\u001b[39;49m\u001b[38;5;124;43mlayer a\u001b[39;49m\u001b[38;5;124;43m\"\u001b[39;49m\u001b[43m]\u001b[49m\u001b[43m[\u001b[49m\u001b[38;5;124;43m\"\u001b[39;49m\u001b[38;5;124;43mK\u001b[39;49m\u001b[38;5;124;43m\"\u001b[39;49m\u001b[43m]\u001b[49m\u001b[43m,\u001b[49m\u001b[43m \u001b[49m\u001b[43mnodes_a_name\u001b[49m\u001b[38;5;241;43m=\u001b[39;49m\u001b[43mdata\u001b[49m\u001b[43m[\u001b[49m\u001b[38;5;124;43m\"\u001b[39;49m\u001b[38;5;124;43mlayer a\u001b[39;49m\u001b[38;5;124;43m\"\u001b[39;49m\u001b[43m]\u001b[49m\u001b[43m[\u001b[49m\u001b[38;5;124;43m\"\u001b[39;49m\u001b[38;5;124;43mname\u001b[39;49m\u001b[38;5;124;43m\"\u001b[39;49m\u001b[43m]\u001b[49m\u001b[43m,\u001b[49m\n\u001b[1;32m   1034\u001b[0m \u001b[43m                       \u001b[49m\u001b[43mdict_codes_a\u001b[49m\u001b[38;5;241;43m=\u001b[39;49m\u001b[43mdata\u001b[49m\u001b[43m[\u001b[49m\u001b[38;5;124;43m\"\u001b[39;49m\u001b[38;5;124;43mlayer a\u001b[39;49m\u001b[38;5;124;43m\"\u001b[39;49m\u001b[43m]\u001b[49m\u001b[43m[\u001b[49m\u001b[38;5;124;43m\"\u001b[39;49m\u001b[38;5;124;43mdict_codes\u001b[39;49m\u001b[38;5;124;43m\"\u001b[39;49m\u001b[43m]\u001b[49m\u001b[43m,\u001b[49m\n\u001b[1;32m   1035\u001b[0m \u001b[43m             \u001b[49m\u001b[43mnodes_b\u001b[49m\u001b[43m \u001b[49m\u001b[38;5;241;43m=\u001b[39;49m\u001b[43m \u001b[49m\u001b[38;5;28;43;01mNone\u001b[39;49;00m\u001b[43m,\u001b[49m\u001b[43m \u001b[49m\u001b[43mKb\u001b[49m\u001b[38;5;241;43m=\u001b[39;49m\u001b[43mdata\u001b[49m\u001b[43m[\u001b[49m\u001b[38;5;124;43m\"\u001b[39;49m\u001b[38;5;124;43mlayer b\u001b[39;49m\u001b[38;5;124;43m\"\u001b[39;49m\u001b[43m]\u001b[49m\u001b[43m[\u001b[49m\u001b[38;5;124;43m\"\u001b[39;49m\u001b[38;5;124;43mK\u001b[39;49m\u001b[38;5;124;43m\"\u001b[39;49m\u001b[43m]\u001b[49m\u001b[43m,\u001b[49m\u001b[43m \u001b[49m\u001b[43mnodes_b_name\u001b[49m\u001b[38;5;241;43m=\u001b[39;49m\u001b[43mdata\u001b[49m\u001b[43m[\u001b[49m\u001b[38;5;124;43m\"\u001b[39;49m\u001b[38;5;124;43mlayer b\u001b[39;49m\u001b[38;5;124;43m\"\u001b[39;49m\u001b[43m]\u001b[49m\u001b[43m[\u001b[49m\u001b[38;5;124;43m\"\u001b[39;49m\u001b[38;5;124;43mname\u001b[39;49m\u001b[38;5;124;43m\"\u001b[39;49m\u001b[43m]\u001b[49m\u001b[43m,\u001b[49m\n\u001b[1;32m   1036\u001b[0m \u001b[43m                       \u001b[49m\u001b[43mdict_codes_b\u001b[49m\u001b[38;5;241;43m=\u001b[39;49m\u001b[43mdata\u001b[49m\u001b[43m[\u001b[49m\u001b[38;5;124;43m\"\u001b[39;49m\u001b[38;5;124;43mlayer b\u001b[39;49m\u001b[38;5;124;43m\"\u001b[39;49m\u001b[43m]\u001b[49m\u001b[43m[\u001b[49m\u001b[38;5;124;43m\"\u001b[39;49m\u001b[38;5;124;43mdict_codes\u001b[39;49m\u001b[38;5;124;43m\"\u001b[39;49m\u001b[43m]\u001b[49m\u001b[43m,\u001b[49m\n\u001b[1;32m   1037\u001b[0m \u001b[43m             \u001b[49m\u001b[43mseparator\u001b[49m\u001b[38;5;241;43m=\u001b[39;49m\u001b[43mseparator\u001b[49m\u001b[43m,\u001b[49m\u001b[43mdict_codes\u001b[49m\u001b[43m \u001b[49m\u001b[38;5;241;43m=\u001b[39;49m\u001b[43m \u001b[49m\u001b[43mdata\u001b[49m\u001b[43m[\u001b[49m\u001b[38;5;124;43m\"\u001b[39;49m\u001b[38;5;124;43mdict_codes\u001b[39;49m\u001b[38;5;124;43m\"\u001b[39;49m\u001b[43m]\u001b[49m\u001b[43m)\u001b[49m\n\u001b[1;32m   1040\u001b[0m     \u001b[38;5;66;03m#layer a\u001b[39;00m\n\u001b[1;32m   1041\u001b[0m     na \u001b[38;5;241m=\u001b[39m BN\u001b[38;5;241m.\u001b[39mnodes_a\n",
      "File \u001b[0;32m~/Documents/MMSBM_library/../MMSBM_library/__init__.py:903\u001b[0m, in \u001b[0;36mBiNet.__init__\u001b[0;34m(self, links, links_label, nodes_a, nodes_b, Ka, nodes_a_name, Kb, nodes_b_name, separator, dict_codes, dict_codes_a, dict_codes_b)\u001b[0m\n\u001b[1;32m    901\u001b[0m     \u001b[38;5;28mself\u001b[39m\u001b[38;5;241m.\u001b[39mnodes_b \u001b[38;5;241m=\u001b[39m nodes_layer(Kb, nodes_b_name, nodes_b, dict_codes \u001b[38;5;241m=\u001b[39m dict_codes_b)\n\u001b[1;32m    902\u001b[0m \u001b[38;5;28;01melif\u001b[39;00m nodes_b \u001b[38;5;241m==\u001b[39m \u001b[38;5;28;01mNone\u001b[39;00m:\n\u001b[0;32m--> 903\u001b[0m     \u001b[38;5;28mself\u001b[39m\u001b[38;5;241m.\u001b[39mnodes_b \u001b[38;5;241m=\u001b[39m \u001b[43mnodes_layer\u001b[49m\u001b[38;5;241;43m.\u001b[39;49m\u001b[43mcreate_simple_layer\u001b[49m\u001b[43m(\u001b[49m\u001b[43mKb\u001b[49m\u001b[43m,\u001b[49m\u001b[43m \u001b[49m\u001b[38;5;28;43mself\u001b[39;49m\u001b[38;5;241;43m.\u001b[39;49m\u001b[43mdf\u001b[49m\u001b[43m[\u001b[49m\u001b[43mnodes_b_name\u001b[49m\u001b[43m]\u001b[49m\u001b[38;5;241;43m.\u001b[39;49m\u001b[43munique\u001b[49m\u001b[43m(\u001b[49m\u001b[43m)\u001b[49m\u001b[43m,\u001b[49m\u001b[43m \u001b[49m\u001b[43mnodes_b_name\u001b[49m\u001b[43m,\u001b[49m\u001b[43m \u001b[49m\u001b[43mdict_codes\u001b[49m\u001b[43m \u001b[49m\u001b[38;5;241;43m=\u001b[39;49m\u001b[43m \u001b[49m\u001b[43mdict_codes_b\u001b[49m\u001b[43m)\u001b[49m\n\u001b[1;32m    906\u001b[0m \u001b[38;5;66;03m## Coding labels\u001b[39;00m\n\u001b[1;32m    907\u001b[0m \u001b[38;5;28mself\u001b[39m\u001b[38;5;241m.\u001b[39mlabels_name \u001b[38;5;241m=\u001b[39m links_label\n",
      "File \u001b[0;32m~/Documents/MMSBM_library/../MMSBM_library/__init__.py:395\u001b[0m, in \u001b[0;36mnodes_layer.create_simple_layer\u001b[0;34m(cls, K, nodes_list, nodes_name, dict_codes)\u001b[0m\n\u001b[1;32m    392\u001b[0m \u001b[38;5;28;01melif\u001b[39;00m \u001b[38;5;28misinstance\u001b[39m(nodes_list, pd\u001b[38;5;241m.\u001b[39mDataFrame):\n\u001b[1;32m    393\u001b[0m     new_df \u001b[38;5;241m=\u001b[39m nodes_list\n\u001b[0;32m--> 395\u001b[0m \u001b[38;5;28;01mreturn\u001b[39;00m \u001b[38;5;28;43mcls\u001b[39;49m\u001b[43m(\u001b[49m\u001b[43mK\u001b[49m\u001b[43m,\u001b[49m\u001b[43m \u001b[49m\u001b[43mnodes_name\u001b[49m\u001b[43m,\u001b[49m\u001b[43m \u001b[49m\u001b[43mnew_df\u001b[49m\u001b[43m,\u001b[49m\u001b[43m \u001b[49m\u001b[43mdict_codes\u001b[49m\u001b[38;5;241;43m=\u001b[39;49m\u001b[43mdict_codes\u001b[49m\u001b[43m)\u001b[49m\n",
      "File \u001b[0;32m~/Documents/MMSBM_library/../MMSBM_library/__init__.py:261\u001b[0m, in \u001b[0;36mnodes_layer.__init__\u001b[0;34m(self, K, nodes_name, nodes_info, separator, dict_codes, **kwargs)\u001b[0m\n\u001b[1;32m    259\u001b[0m replacer \u001b[38;5;241m=\u001b[39m {}\n\u001b[1;32m    260\u001b[0m \u001b[38;5;28;01mfor\u001b[39;00m att \u001b[38;5;129;01min\u001b[39;00m dict_codes:\n\u001b[0;32m--> 261\u001b[0m     replacer[\u001b[38;5;28;43mself\u001b[39;49m\u001b[38;5;241;43m.\u001b[39;49m\u001b[43m_dict_codes\u001b[49m\u001b[43m[\u001b[49m\u001b[43matt\u001b[49m\u001b[43m]\u001b[49m]\u001b[38;5;241m=\u001b[39m dict_codes[att]\n\u001b[1;32m    262\u001b[0m \u001b[38;5;28mself\u001b[39m\u001b[38;5;241m.\u001b[39m_dict_codes \u001b[38;5;241m=\u001b[39m dict_codes\n\u001b[1;32m    263\u001b[0m \u001b[38;5;28mself\u001b[39m\u001b[38;5;241m.\u001b[39mdf\u001b[38;5;241m.\u001b[39mreplace({nodes_name\u001b[38;5;241m+\u001b[39m\u001b[38;5;124m\"\u001b[39m\u001b[38;5;124m_id\u001b[39m\u001b[38;5;124m\"\u001b[39m:replacer}, inplace\u001b[38;5;241m=\u001b[39m\u001b[38;5;28;01mTrue\u001b[39;00m)\n",
      "\u001b[0;31mKeyError\u001b[0m: 1325"
     ]
    }
   ],
   "source": [
    "sbm.BiNet.load_BiNet_from_json(\"./kf_1/BiNet_data.json\", df_links, \"votes\")"
   ]
  },
  {
   "cell_type": "code",
   "execution_count": 11,
   "metadata": {},
   "outputs": [],
   "source": [
    "import json\n",
    "with open(\"./kf_1/BiNet_data.json\", \"r\") as f:\n",
    "  data = json.load(f)"
   ]
  },
  {
   "cell_type": "code",
   "execution_count": null,
   "metadata": {},
   "outputs": [],
   "source": []
  },
  {
   "cell_type": "code",
   "execution_count": null,
   "metadata": {},
   "outputs": [],
   "source": [
    "sbm.nodes_layer.create_simple_layer(Kb, self.df[nodes_b_name].unique(), nodes_b_name, dict_codes = dict_codes_b)"
   ]
  },
  {
   "cell_type": "code",
   "execution_count": null,
   "metadata": {},
   "outputs": [],
   "source": []
  },
  {
   "cell_type": "code",
   "execution_count": null,
   "metadata": {},
   "outputs": [],
   "source": []
  },
  {
   "cell_type": "code",
   "execution_count": null,
   "metadata": {},
   "outputs": [],
   "source": []
  },
  {
   "cell_type": "code",
   "execution_count": null,
   "metadata": {},
   "outputs": [],
   "source": []
  },
  {
   "cell_type": "code",
   "execution_count": null,
   "metadata": {},
   "outputs": [],
   "source": []
  },
  {
   "cell_type": "code",
   "execution_count": null,
   "metadata": {
    "id": "znZttmhs479S"
   },
   "outputs": [],
   "source": [
    "users.df"
   ]
  },
  {
   "cell_type": "code",
   "execution_count": null,
   "metadata": {
    "id": "y_0tgae35SzE"
   },
   "outputs": [],
   "source": [
    "ratings.links_training.max(axis=0)"
   ]
  },
  {
   "cell_type": "code",
   "execution_count": null,
   "metadata": {
    "id": "9Mm20nFh4-O9"
   },
   "outputs": [],
   "source": [
    "def omega_comp_arrays(Na,Nb,p_kl,theta,eta,K,L,links_array,links_ratings):\n",
    "    #new_omega = np.array(omega)\n",
    "    omega = np.zeros((Na,Nb,K,L))\n",
    "    for link  in range(len(links_ratings)):\n",
    "        i = links_array[link][0]\n",
    "        j = links_array[link][1]\n",
    "        if i==944:print(i,j)\n",
    "        if j==944:print(link,i,j)\n",
    "        rating = links_ratings[link]\n",
    "        omega[i,j,:,:] = p_kl[:,:,rating]*(np.expand_dims(theta[i,:], axis=1)@np.expand_dims(eta[j,:],axis=0))\n",
    "        suma = omega[i,j,:,:].sum()\n",
    "        omega[i,j,:,:] /= suma+1e-16\n",
    "    return omega\n"
   ]
  },
  {
   "cell_type": "code",
   "execution_count": null,
   "metadata": {
    "colab": {
     "base_uri": "https://localhost:8080/",
     "height": 379
    },
    "id": "eDSZit5e-8g7",
    "outputId": "dd3f01cf-a4c6-4495-c1a9-fb0222556e10"
   },
   "outputs": [
    {
     "name": "stdout",
     "output_type": "stream",
     "text": [
      "1436 15 944\n"
     ]
    },
    {
     "ename": "IndexError",
     "evalue": "index 944 is out of bounds for axis 0 with size 943",
     "output_type": "error",
     "traceback": [
      "\u001b[0;31m---------------------------------------------------------------------------\u001b[0m",
      "\u001b[0;31mIndexError\u001b[0m                                Traceback (most recent call last)",
      "\u001b[0;32m<ipython-input-16-60b7a0ecaf99>\u001b[0m in \u001b[0;36m<cell line: 1>\u001b[0;34m()\u001b[0m\n\u001b[0;32m----> 1\u001b[0;31m omega_comp_arrays(len(ratings.nodes_a),len(ratings.nodes_b),ratings.pkl,ratings.nodes_a.theta,ratings.nodes_b.theta,ratings.nodes_a.K,ratings.nodes_b.K,\n\u001b[0m\u001b[1;32m      2\u001b[0m                                ratings.links_training,ratings.labels_training)\n",
      "\u001b[0;32m<ipython-input-15-f96b73bfa5b3>\u001b[0m in \u001b[0;36momega_comp_arrays\u001b[0;34m(Na, Nb, p_kl, theta, eta, K, L, links_array, links_ratings)\u001b[0m\n\u001b[1;32m      8\u001b[0m         \u001b[0;32mif\u001b[0m \u001b[0mj\u001b[0m\u001b[0;34m==\u001b[0m\u001b[0;36m944\u001b[0m\u001b[0;34m:\u001b[0m\u001b[0mprint\u001b[0m\u001b[0;34m(\u001b[0m\u001b[0mlink\u001b[0m\u001b[0;34m,\u001b[0m\u001b[0mi\u001b[0m\u001b[0;34m,\u001b[0m\u001b[0mj\u001b[0m\u001b[0;34m)\u001b[0m\u001b[0;34m\u001b[0m\u001b[0;34m\u001b[0m\u001b[0m\n\u001b[1;32m      9\u001b[0m         \u001b[0mrating\u001b[0m \u001b[0;34m=\u001b[0m \u001b[0mlinks_ratings\u001b[0m\u001b[0;34m[\u001b[0m\u001b[0mlink\u001b[0m\u001b[0;34m]\u001b[0m\u001b[0;34m\u001b[0m\u001b[0;34m\u001b[0m\u001b[0m\n\u001b[0;32m---> 10\u001b[0;31m         \u001b[0momega\u001b[0m\u001b[0;34m[\u001b[0m\u001b[0mi\u001b[0m\u001b[0;34m,\u001b[0m\u001b[0mj\u001b[0m\u001b[0;34m,\u001b[0m\u001b[0;34m:\u001b[0m\u001b[0;34m,\u001b[0m\u001b[0;34m:\u001b[0m\u001b[0;34m]\u001b[0m \u001b[0;34m=\u001b[0m \u001b[0mp_kl\u001b[0m\u001b[0;34m[\u001b[0m\u001b[0;34m:\u001b[0m\u001b[0;34m,\u001b[0m\u001b[0;34m:\u001b[0m\u001b[0;34m,\u001b[0m\u001b[0mrating\u001b[0m\u001b[0;34m]\u001b[0m\u001b[0;34m*\u001b[0m\u001b[0;34m(\u001b[0m\u001b[0mnp\u001b[0m\u001b[0;34m.\u001b[0m\u001b[0mexpand_dims\u001b[0m\u001b[0;34m(\u001b[0m\u001b[0mtheta\u001b[0m\u001b[0;34m[\u001b[0m\u001b[0mi\u001b[0m\u001b[0;34m,\u001b[0m\u001b[0;34m:\u001b[0m\u001b[0;34m]\u001b[0m\u001b[0;34m,\u001b[0m \u001b[0maxis\u001b[0m\u001b[0;34m=\u001b[0m\u001b[0;36m1\u001b[0m\u001b[0;34m)\u001b[0m\u001b[0;34m@\u001b[0m\u001b[0mnp\u001b[0m\u001b[0;34m.\u001b[0m\u001b[0mexpand_dims\u001b[0m\u001b[0;34m(\u001b[0m\u001b[0meta\u001b[0m\u001b[0;34m[\u001b[0m\u001b[0mj\u001b[0m\u001b[0;34m,\u001b[0m\u001b[0;34m:\u001b[0m\u001b[0;34m]\u001b[0m\u001b[0;34m,\u001b[0m\u001b[0maxis\u001b[0m\u001b[0;34m=\u001b[0m\u001b[0;36m0\u001b[0m\u001b[0;34m)\u001b[0m\u001b[0;34m)\u001b[0m\u001b[0;34m\u001b[0m\u001b[0;34m\u001b[0m\u001b[0m\n\u001b[0m\u001b[1;32m     11\u001b[0m         \u001b[0msuma\u001b[0m \u001b[0;34m=\u001b[0m \u001b[0momega\u001b[0m\u001b[0;34m[\u001b[0m\u001b[0mi\u001b[0m\u001b[0;34m,\u001b[0m\u001b[0mj\u001b[0m\u001b[0;34m,\u001b[0m\u001b[0;34m:\u001b[0m\u001b[0;34m,\u001b[0m\u001b[0;34m:\u001b[0m\u001b[0;34m]\u001b[0m\u001b[0;34m.\u001b[0m\u001b[0msum\u001b[0m\u001b[0;34m(\u001b[0m\u001b[0;34m)\u001b[0m\u001b[0;34m\u001b[0m\u001b[0;34m\u001b[0m\u001b[0m\n\u001b[1;32m     12\u001b[0m         \u001b[0momega\u001b[0m\u001b[0;34m[\u001b[0m\u001b[0mi\u001b[0m\u001b[0;34m,\u001b[0m\u001b[0mj\u001b[0m\u001b[0;34m,\u001b[0m\u001b[0;34m:\u001b[0m\u001b[0;34m,\u001b[0m\u001b[0;34m:\u001b[0m\u001b[0;34m]\u001b[0m \u001b[0;34m/=\u001b[0m \u001b[0msuma\u001b[0m\u001b[0;34m+\u001b[0m\u001b[0;36m1e-16\u001b[0m\u001b[0;34m\u001b[0m\u001b[0;34m\u001b[0m\u001b[0m\n",
      "\u001b[0;31mIndexError\u001b[0m: index 944 is out of bounds for axis 0 with size 943"
     ]
    }
   ],
   "source": [
    "omega_comp_arrays(len(ratings.nodes_a),len(ratings.nodes_b),ratings.pkl,ratings.nodes_a.theta,ratings.nodes_b.theta,ratings.nodes_a.K,ratings.nodes_b.K,\n",
    "                               ratings.links_training,ratings.labels_training)"
   ]
  },
  {
   "cell_type": "code",
   "execution_count": null,
   "metadata": {
    "colab": {
     "base_uri": "https://localhost:8080/",
     "height": 162
    },
    "id": "zb3TxDE3_TJo",
    "outputId": "c4f2ab88-de8c-49fd-c63c-428a7f4f189f"
   },
   "outputs": [
    {
     "ename": "IndexError",
     "evalue": "index 944 is out of bounds for axis 0 with size 943",
     "output_type": "error",
     "traceback": [
      "\u001b[0;31m---------------------------------------------------------------------------\u001b[0m",
      "\u001b[0;31mIndexError\u001b[0m                                Traceback (most recent call last)",
      "\u001b[0;32m<ipython-input-20-b3f20aec2614>\u001b[0m in \u001b[0;36m<cell line: 1>\u001b[0;34m()\u001b[0m\n\u001b[0;32m----> 1\u001b[0;31m \u001b[0mratings\u001b[0m\u001b[0;34m.\u001b[0m\u001b[0mpkl\u001b[0m\u001b[0;34m[\u001b[0m\u001b[0;34m:\u001b[0m\u001b[0;34m,\u001b[0m\u001b[0;34m:\u001b[0m\u001b[0;34m,\u001b[0m\u001b[0;36m0\u001b[0m\u001b[0;34m]\u001b[0m\u001b[0;34m*\u001b[0m\u001b[0;34m(\u001b[0m\u001b[0mnp\u001b[0m\u001b[0;34m.\u001b[0m\u001b[0mexpand_dims\u001b[0m\u001b[0;34m(\u001b[0m\u001b[0musers\u001b[0m\u001b[0;34m.\u001b[0m\u001b[0mtheta\u001b[0m\u001b[0;34m[\u001b[0m\u001b[0;36m15\u001b[0m\u001b[0;34m,\u001b[0m\u001b[0;34m:\u001b[0m\u001b[0;34m]\u001b[0m\u001b[0;34m,\u001b[0m \u001b[0maxis\u001b[0m\u001b[0;34m=\u001b[0m\u001b[0;36m1\u001b[0m\u001b[0;34m)\u001b[0m\u001b[0;34m@\u001b[0m\u001b[0mnp\u001b[0m\u001b[0;34m.\u001b[0m\u001b[0mexpand_dims\u001b[0m\u001b[0;34m(\u001b[0m\u001b[0mmovies\u001b[0m\u001b[0;34m.\u001b[0m\u001b[0mtheta\u001b[0m\u001b[0;34m[\u001b[0m\u001b[0;36m944\u001b[0m\u001b[0;34m,\u001b[0m\u001b[0;34m:\u001b[0m\u001b[0;34m]\u001b[0m\u001b[0;34m,\u001b[0m\u001b[0maxis\u001b[0m\u001b[0;34m=\u001b[0m\u001b[0;36m0\u001b[0m\u001b[0;34m)\u001b[0m\u001b[0;34m)\u001b[0m\u001b[0;34m\u001b[0m\u001b[0;34m\u001b[0m\u001b[0m\n\u001b[0m",
      "\u001b[0;31mIndexError\u001b[0m: index 944 is out of bounds for axis 0 with size 943"
     ]
    }
   ],
   "source": [
    "ratings.pkl[:,:,0]*(np.expand_dims(users.theta[15,:], axis=1)@np.expand_dims(movies.theta[944,:],axis=0))"
   ]
  },
  {
   "cell_type": "code",
   "execution_count": null,
   "metadata": {
    "colab": {
     "base_uri": "https://localhost:8080/"
    },
    "id": "9yo5P5R2BkKR",
    "outputId": "0ad6094f-e6b6-481f-f32c-94ecb9d63d59"
   },
   "outputs": [
    {
     "data": {
      "text/plain": [
       "(943, 10)"
      ]
     },
     "execution_count": 7,
     "metadata": {},
     "output_type": "execute_result"
    }
   ],
   "source": [
    "movies.theta.shape"
   ]
  },
  {
   "cell_type": "code",
   "execution_count": null,
   "metadata": {
    "colab": {
     "base_uri": "https://localhost:8080/"
    },
    "id": "d_s272kCB8FI",
    "outputId": "b43f801c-cce6-4bae-cebe-c74236c3f90f"
   },
   "outputs": [
    {
     "name": "stdout",
     "output_type": "stream",
     "text": [
      "(10, 10, 5)\n",
      "(943, 10)\n",
      "(1682, 10)\n"
     ]
    }
   ],
   "source": [
    "ratings"
   ]
  },
  {
   "cell_type": "code",
   "execution_count": 25,
   "metadata": {
    "id": "MzeYSEPKCoRA"
   },
   "outputs": [
    {
     "name": "stdout",
     "output_type": "stream",
     "text": [
      "Help on function __init__ in module MMSBM_library:\n",
      "\n",
      "__init__(self, links, links_label, *, nodes_a=None, nodes_b=None, Ka=1, nodes_a_name='nodes_a', Kb=1, nodes_b_name='nodes_b', separator='\\t', dict_codes=None, dict_codes_a=None, dict_codes_b=None)\n",
      "    Initialization of a BiNet class\n",
      "    \n",
      "    Parameters\n",
      "    -----------\n",
      "    links: str, pandas DataFrame\n",
      "       DataFrame or directory containing the links between nodes_a and nodes_b and their labels.\n",
      "    \n",
      "    links_label: str\n",
      "        Name of the column where the labels are stored in the links DataFrame.\n",
      "    \n",
      "    nodes_a: nodes_layer, str, DataFrame, None, default: None\n",
      "        One of the nodes layer that forms the bipartite network\n",
      "        - If nodes_layer: Existing instance of the nodes_layer class representing the first layer.\n",
      "        - If str or pd.DataFrame: If str, a directory containing the file information about nodes_a.\n",
      "        - If pd.DataFrame, DataFrame with nodes_a information.\n",
      "        - If None: A simple nodes_layer will be created from the information in links.\n",
      "    \n",
      "    nodes_b: nodes_layer, str, DataFrame, None, default: None\n",
      "        One of the nodes layer that forms the bipartite network\n",
      "        - If nodes_layer: Existing instance of the nodes_layer class representing the first layer.\n",
      "        - If str or pd.DataFrame: If str, a directory containing the file information about nodes_b.\n",
      "        - If pd.DataFrame, DataFrame with nodes_b information.\n",
      "        - If None: A simple nodes_layer will be created from the information in links.\n",
      "    \n",
      "    Ka: int, default: 1\n",
      "       Number of membership groups for nodes_a layer\n",
      "    \n",
      "    Kb: int, default: 1\n",
      "       Number of membership groups for nodes_b layer\n",
      "    \n",
      "    nodes_a_name: str, default: nodes_a\n",
      "       Name of the column where the names of nodes_a are in the links DataFrame and nodes_a DataFrame\n",
      "    \n",
      "    nodes_b_name: str, default: nodes_b\n",
      "       Name of the column where the names of nodes_b are in the links DataFrame and nodes_b DataFrame\n",
      "    \n",
      "    dict_codes: dict, None, default: None\n",
      "       Dictionary where the keys are the names of the labels, and the values are the ids. If None, new ids will be provided.\n",
      "    \n",
      "    dict_codes_a: dict, None, default: None\n",
      "       Dictionary where the keys are the names of the nodes from nodes_a and the values are the ids. If None, new ids will be provided.\n",
      "    \n",
      "    dict_codes_b: dict, None, default: None\n",
      "       Dictionary where the keys are the names of the nodes from nodes_b and the values are the ids. If None, new ids will be provided.\n",
      "    \n",
      "    separator: str, default:       \n",
      "       Separator used to read links DataFrame file. Default is\n",
      "\n"
     ]
    }
   ],
   "source": [
    "help(sbm.BiNet.__init__)"
   ]
  },
  {
   "cell_type": "code",
   "execution_count": null,
   "metadata": {},
   "outputs": [],
   "source": []
  }
 ],
 "metadata": {
  "colab": {
   "provenance": []
  },
  "kernelspec": {
   "display_name": "Python 3 (ipykernel)",
   "language": "python",
   "name": "python3"
  },
  "language_info": {
   "codemirror_mode": {
    "name": "ipython",
    "version": 3
   },
   "file_extension": ".py",
   "mimetype": "text/x-python",
   "name": "python",
   "nbconvert_exporter": "python",
   "pygments_lexer": "ipython3",
   "version": "3.8.10"
  }
 },
 "nbformat": 4,
 "nbformat_minor": 1
}

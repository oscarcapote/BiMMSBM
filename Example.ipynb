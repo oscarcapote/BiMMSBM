{
 "cells": [
  {
   "cell_type": "markdown",
   "metadata": {},
   "source": [
    "# Loading libraries and nodes layers"
   ]
  },
  {
   "cell_type": "code",
   "execution_count": 1,
   "metadata": {
    "ExecuteTime": {
     "end_time": "2024-06-10T11:03:05.737790Z",
     "start_time": "2024-06-10T11:03:04.224831Z"
    },
    "id": "mayXkXxr3HW0"
   },
   "outputs": [
    {
     "name": "stdout",
     "output_type": "stream",
     "text": [
      "Numba imported\n"
     ]
    }
   ],
   "source": [
    "import pandas as pd\n",
    "import numpy as np\n",
    "from numba import jit\n",
    "import sys, os\n",
    "\n",
    "\n",
    "\n",
    "\n",
    "sys.path.append(r'..')\n",
    "import MMSBM_library as sbm\n",
    "from MMSBM_library.functions.utils import save_MMSBM_parameters,add_codes,load_EM_parameters"
   ]
  },
  {
   "cell_type": "code",
   "execution_count": 2,
   "metadata": {
    "ExecuteTime": {
     "end_time": "2024-06-10T10:30:27.587515Z",
     "start_time": "2024-06-10T10:30:24.581674Z"
    },
    "colab": {
     "base_uri": "https://localhost:8080/"
    },
    "id": "8aqBYkrq3MYL",
    "outputId": "bcc9e782-41d9-4e31-c4ca-911283888d4c"
   },
   "outputs": [],
   "source": [
    "# Download MovieLens data.\n",
    "# print(\"Downloading movielens data...\")\n",
    "# from urllib.request import urlretrieve\n",
    "# \n",
    "# urlretrieve(\"http://files.grouplens.org/datasets/movielens/ml-100k.zip\", \"movielens.zip\")\n",
    "\n",
    "\n",
    "# import zipfile\n",
    "# zip_ref = zipfile.ZipFile('movielens.zip', \"r\")\n",
    "# zip_ref.extractall()\n",
    "# print(\"Done. Dataset contains:\")\n",
    "# print(zip_ref.read('ml-100k/u.info'))"
   ]
  },
  {
   "cell_type": "code",
   "execution_count": 3,
   "metadata": {
    "ExecuteTime": {
     "end_time": "2024-06-10T11:06:57.695601Z",
     "start_time": "2024-06-10T11:06:57.681055Z"
    }
   },
   "outputs": [],
   "source": [
    "genres = [\"unknown\",\n",
    "        \"Action\",\n",
    "        \"Adventure\",\n",
    "        \"Animation\",\n",
    "        \"Children's\",\n",
    "        \"Comedy\",\n",
    "        \"Crime\",\n",
    "        \"Documentary\",\n",
    "        \"Drama\",\n",
    "        \"Fantasy\",\n",
    "        \"Film-Noir\",\n",
    "        \"Horror\",\n",
    "        \"Musical\",\n",
    "        \"Mystery\",\n",
    "        \"Romance\",\n",
    "        \"Sci-Fi\",\n",
    "        \"Thriller\",\n",
    "        \"War\",\n",
    "        \"Western\"]"
   ]
  },
  {
   "cell_type": "code",
   "execution_count": 4,
   "metadata": {
    "ExecuteTime": {
     "end_time": "2024-06-10T11:06:58.192054Z",
     "start_time": "2024-06-10T11:06:58.166057Z"
    },
    "id": "iPlau4qQ3eIY"
   },
   "outputs": [],
   "source": [
    "df_users = pd.read_csv(\"ml-100k/u.user\",sep=\"|\",names=[\"uid\",\"age\",\"gender\",\"occupation\",\"zip_code\"])\n",
    "df_movies = pd.read_csv(\"ml-100k/u.item\",sep=\"|\",usecols=[0,1,2],names=[\"mid\",\"title\",\"date\"], encoding='latin-1')\n"
   ]
  },
  {
   "cell_type": "code",
   "execution_count": 5,
   "metadata": {
    "ExecuteTime": {
     "end_time": "2024-06-10T11:07:00.198166Z",
     "start_time": "2024-06-10T11:06:59.294962Z"
    }
   },
   "outputs": [],
   "source": [
    "df_movies_genres =  pd.read_csv(\"ml-100k/u.item\",sep=\"|\",usecols=[0]+[i for i in range(5,24)],names =[\"mid\"]+ genres, encoding='latin-1')\n",
    "\n",
    "L = []\n",
    "\n",
    "for i in df_movies_genres.iloc():\n",
    "    L.append( \"|\".join([g for g in genres if i[g]!=0]))\n",
    "df_movies[\"genres\"] = L"
   ]
  },
  {
   "cell_type": "code",
   "execution_count": 7,
   "metadata": {
    "ExecuteTime": {
     "end_time": "2024-06-10T11:07:05.059857Z",
     "start_time": "2024-06-10T11:07:04.733316Z"
    },
    "id": "1L7ADjMf3wL-"
   },
   "outputs": [
    {
     "data": {
      "text/plain": [
       "<MMSBM_library.inclusive_metadata at 0x1e4835fba00>"
      ]
     },
     "execution_count": 7,
     "metadata": {},
     "output_type": "execute_result"
    }
   ],
   "source": [
    "users = sbm.nodes_layer(nodes_info=df_users,K=10,nodes_name=\"uid\")\n",
    "users.add_exclusive_metadata(10,\"occupation\")\n",
    "\n",
    "movies = sbm.nodes_layer(nodes_info=df_movies,K=10,nodes_name=\"mid\")\n",
    "movies.add_inclusive_metadata(123,\"genres\",10,separator=\"|\")\n",
    "\n"
   ]
  },
  {
   "cell_type": "code",
   "execution_count": null,
   "metadata": {
    "ExecuteTime": {
     "end_time": "2024-06-10T11:07:05.666393Z",
     "start_time": "2024-06-10T11:07:05.654467Z"
    }
   },
   "outputs": [],
   "source": [
    "m = movies[\"genres\"]"
   ]
  },
  {
   "cell_type": "code",
   "execution_count": 9,
   "metadata": {
    "ExecuteTime": {
     "end_time": "2024-06-10T11:07:06.149773Z",
     "start_time": "2024-06-10T11:07:06.095292Z"
    }
   },
   "outputs": [],
   "source": [
    "movies.df[str(m)+\"_id\"] = movies.df[str(m)]\n",
    "for g in m.dict_codes:\n",
    "    movies.df[str(m)+\"_id\"] = movies.df[str(m)+\"_id\"].str.replace(g,str(m.dict_codes[g]))"
   ]
  },
  {
   "cell_type": "code",
   "execution_count": 17,
   "metadata": {
    "ExecuteTime": {
     "end_time": "2024-06-10T11:07:06.445796Z",
     "start_time": "2024-06-10T11:07:06.431738Z"
    }
   },
   "outputs": [],
   "source": []
  },
  {
   "cell_type": "code",
   "execution_count": 10,
   "metadata": {
    "ExecuteTime": {
     "end_time": "2024-06-10T11:07:06.851666Z",
     "start_time": "2024-06-10T11:07:06.828973Z"
    }
   },
   "outputs": [],
   "source": [
    "# links and neighbours\n",
    "meta_name = \"genres\"\n",
    "separator = \"|\"\n",
    "df_dropna = movies.df.dropna(subset=[meta_name])\n",
    "meta_list = movies.df[meta_name].values\n",
    "\n",
    "observed = df_dropna[movies.node_type].values  # Nodes with known metadata\n",
    "observed_id = df_dropna[movies.node_type + \"_id\"].values  # Nodes with known metadata\n"
   ]
  },
  {
   "cell_type": "code",
   "execution_count": 11,
   "metadata": {
    "ExecuteTime": {
     "end_time": "2024-06-10T11:07:10.197160Z",
     "start_time": "2024-06-10T11:07:10.186612Z"
    }
   },
   "outputs": [
    {
     "data": {
      "text/plain": [
       "array([   0,    1,    2, ..., 1679, 1680, 1681], dtype=int16)"
      ]
     },
     "execution_count": 11,
     "metadata": {},
     "output_type": "execute_result"
    }
   ],
   "source": [
    "observed_id"
   ]
  },
  {
   "cell_type": "code",
   "execution_count": 12,
   "metadata": {
    "ExecuteTime": {
     "end_time": "2024-06-10T11:07:10.507814Z",
     "start_time": "2024-06-10T11:07:10.484477Z"
    }
   },
   "outputs": [],
   "source": [
    "try:\n",
    "  os.mkdir(\"example_parameters\")\n",
    "except:\n",
    "  pass\n",
    "try:\n",
    "  for f in range(1,6):\n",
    "    os.mkdir(f\"./example_parameters/kf_{f}\")\n",
    "except:\n",
    "  pass"
   ]
  },
  {
   "cell_type": "markdown",
   "metadata": {},
   "source": [
    "# Using 5-fold cross validation with training and tests sets split in files "
   ]
  },
  {
   "cell_type": "code",
   "execution_count": null,
   "metadata": {
    "ExecuteTime": {
     "end_time": "2024-06-10T11:07:12.986144Z",
     "start_time": "2024-06-10T11:07:10.989182Z"
    },
    "colab": {
     "base_uri": "https://localhost:8080/",
     "height": 454
    },
    "id": "EcPkEGgG3z-C",
    "outputId": "327af0d6-7c6e-4e8c-986d-b73e09fb066f"
   },
   "outputs": [
    {
     "name": "stdout",
     "output_type": "stream",
     "text": [
      "0\n",
      "100\n",
      "200\n",
      "saving!\n",
      "0\n",
      "100\n",
      "200\n",
      "saving!\n",
      "0\n"
     ]
    }
   ],
   "source": [
    "N_steps = 300\n",
    "N_measures = 100\n",
    "\n",
    "for f in range(1,6):\n",
    "\n",
    "  df_links = pd.read_csv(\"ml-100k/u{}.base\".format(f),sep=\"\\t\",names=[\"uid\",\"mid\",\"rating\",\"time_stamp\"])\n",
    "  ratings = sbm.BiNet(df_links,\"rating\",nodes_a=users,nodes_b=movies)\n",
    "\n",
    "  ratings.init_EM()\n",
    "\n",
    "  for step in range(N_steps//N_measures):\n",
    "    print(step*N_measures)\n",
    "    ratings.EM_step(N_measures)\n",
    "    if ratings.converges():\n",
    "      print(f\"Fold {f} converged! {step*N_measures} steps\")\n",
    "      break\n",
    "\n",
    "#     if step% 10==0:\n",
    "  print(\"saving!\")\n",
    "  save_MMSBM_parameters(ratings,dir=\"./kf_{}\".format(f),BiNet_json=True)\n"
   ]
  },
  {
   "cell_type": "code",
   "execution_count": 13,
   "metadata": {},
   "outputs": [
    {
     "data": {
      "text/html": [
       "<div>\n",
       "<style scoped>\n",
       "    .dataframe tbody tr th:only-of-type {\n",
       "        vertical-align: middle;\n",
       "    }\n",
       "\n",
       "    .dataframe tbody tr th {\n",
       "        vertical-align: top;\n",
       "    }\n",
       "\n",
       "    .dataframe thead th {\n",
       "        text-align: right;\n",
       "    }\n",
       "</style>\n",
       "<table border=\"1\" class=\"dataframe\">\n",
       "  <thead>\n",
       "    <tr style=\"text-align: right;\">\n",
       "      <th></th>\n",
       "      <th>uid</th>\n",
       "      <th>mid</th>\n",
       "      <th>rating</th>\n",
       "      <th>time_stamp</th>\n",
       "      <th>rating_id</th>\n",
       "      <th>uid_id</th>\n",
       "      <th>mid_id</th>\n",
       "    </tr>\n",
       "  </thead>\n",
       "  <tbody>\n",
       "    <tr>\n",
       "      <th>0</th>\n",
       "      <td>1</td>\n",
       "      <td>1</td>\n",
       "      <td>5</td>\n",
       "      <td>874965758</td>\n",
       "      <td>4</td>\n",
       "      <td>0</td>\n",
       "      <td>0</td>\n",
       "    </tr>\n",
       "    <tr>\n",
       "      <th>1</th>\n",
       "      <td>1</td>\n",
       "      <td>2</td>\n",
       "      <td>3</td>\n",
       "      <td>876893171</td>\n",
       "      <td>2</td>\n",
       "      <td>0</td>\n",
       "      <td>1</td>\n",
       "    </tr>\n",
       "    <tr>\n",
       "      <th>2</th>\n",
       "      <td>1</td>\n",
       "      <td>4</td>\n",
       "      <td>3</td>\n",
       "      <td>876893119</td>\n",
       "      <td>2</td>\n",
       "      <td>0</td>\n",
       "      <td>3</td>\n",
       "    </tr>\n",
       "    <tr>\n",
       "      <th>3</th>\n",
       "      <td>1</td>\n",
       "      <td>5</td>\n",
       "      <td>3</td>\n",
       "      <td>889751712</td>\n",
       "      <td>2</td>\n",
       "      <td>0</td>\n",
       "      <td>4</td>\n",
       "    </tr>\n",
       "    <tr>\n",
       "      <th>4</th>\n",
       "      <td>1</td>\n",
       "      <td>6</td>\n",
       "      <td>5</td>\n",
       "      <td>887431973</td>\n",
       "      <td>4</td>\n",
       "      <td>0</td>\n",
       "      <td>5</td>\n",
       "    </tr>\n",
       "    <tr>\n",
       "      <th>...</th>\n",
       "      <td>...</td>\n",
       "      <td>...</td>\n",
       "      <td>...</td>\n",
       "      <td>...</td>\n",
       "      <td>...</td>\n",
       "      <td>...</td>\n",
       "      <td>...</td>\n",
       "    </tr>\n",
       "    <tr>\n",
       "      <th>79995</th>\n",
       "      <td>943</td>\n",
       "      <td>943</td>\n",
       "      <td>5</td>\n",
       "      <td>888639614</td>\n",
       "      <td>4</td>\n",
       "      <td>942</td>\n",
       "      <td>942</td>\n",
       "    </tr>\n",
       "    <tr>\n",
       "      <th>79996</th>\n",
       "      <td>943</td>\n",
       "      <td>1011</td>\n",
       "      <td>2</td>\n",
       "      <td>875502560</td>\n",
       "      <td>1</td>\n",
       "      <td>942</td>\n",
       "      <td>1010</td>\n",
       "    </tr>\n",
       "    <tr>\n",
       "      <th>79997</th>\n",
       "      <td>943</td>\n",
       "      <td>1067</td>\n",
       "      <td>2</td>\n",
       "      <td>875501756</td>\n",
       "      <td>1</td>\n",
       "      <td>942</td>\n",
       "      <td>1066</td>\n",
       "    </tr>\n",
       "    <tr>\n",
       "      <th>79998</th>\n",
       "      <td>943</td>\n",
       "      <td>1074</td>\n",
       "      <td>4</td>\n",
       "      <td>888640250</td>\n",
       "      <td>3</td>\n",
       "      <td>942</td>\n",
       "      <td>1073</td>\n",
       "    </tr>\n",
       "    <tr>\n",
       "      <th>79999</th>\n",
       "      <td>943</td>\n",
       "      <td>1188</td>\n",
       "      <td>3</td>\n",
       "      <td>888640250</td>\n",
       "      <td>2</td>\n",
       "      <td>942</td>\n",
       "      <td>1187</td>\n",
       "    </tr>\n",
       "  </tbody>\n",
       "</table>\n",
       "<p>80000 rows × 7 columns</p>\n",
       "</div>"
      ],
      "text/plain": [
       "       uid   mid  rating  time_stamp  rating_id  uid_id  mid_id\n",
       "0        1     1       5   874965758          4       0       0\n",
       "1        1     2       3   876893171          2       0       1\n",
       "2        1     4       3   876893119          2       0       3\n",
       "3        1     5       3   889751712          2       0       4\n",
       "4        1     6       5   887431973          4       0       5\n",
       "...    ...   ...     ...         ...        ...     ...     ...\n",
       "79995  943   943       5   888639614          4     942     942\n",
       "79996  943  1011       2   875502560          1     942    1010\n",
       "79997  943  1067       2   875501756          1     942    1066\n",
       "79998  943  1074       4   888640250          3     942    1073\n",
       "79999  943  1188       3   888640250          2     942    1187\n",
       "\n",
       "[80000 rows x 7 columns]"
      ]
     },
     "execution_count": 13,
     "metadata": {},
     "output_type": "execute_result"
    }
   ],
   "source": [
    "ratings.df"
   ]
  },
  {
   "cell_type": "code",
   "execution_count": 22,
   "metadata": {},
   "outputs": [
    {
     "name": "stdout",
     "output_type": "stream",
     "text": [
      "Help on method load_BiNet_from_json in module MMSBM_library:\n",
      "\n",
      "load_BiNet_from_json(json_file, links, links_label, *, nodes_a=None, nodes_b=None, nodes_a_dir=None, nodes_b_dir=None, separator='\\t') method of builtins.type instance\n",
      "    Load a BiNet instance from a JSON file containing MMSBM parameters and link information.\n",
      "    \n",
      "    Parameters\n",
      "    ----------\n",
      "    json_file: str\n",
      "        Path to the JSON files containing MMSBM parameters.\n",
      "    \n",
      "    links: str, pandas DataFrame\n",
      "        DataFrame or directory containing the links between nodes_a and nodes_b and their labels.\n",
      "    \n",
      "    links_label: array-like\n",
      "        Array-like object representing the labels corresponding to the links.\n",
      "    \n",
      "    nodes_a: nodes_layer, str, pd.DataFrame, None, default: None\n",
      "        - If nodes_layer: Existing instance of the nodes_layer class representing the first layer.\n",
      "        - If str or pd.DataFrame: If str, a name for the first layer. If pd.DataFrame, DataFrame with nodes and attributes.\n",
      "        - If None: The first layer will be created later.\n",
      "    \n",
      "    nodes_b: nodes_layer, str, pd.DataFrame, None, default: None\n",
      "        - If nodes_layer: Existing instance of the nodes_layer class representing the second layer.\n",
      "        - If str or pd.DataFrame: If str, a name for the second layer. If pd.DataFrame, DataFrame with nodes and attributes.\n",
      "        - If None: The second layer will be created later as a simple layer (no metadata)\n",
      "    \n",
      "    separator: str, default: \"      \"\n",
      "        Separator used in the provided JSON file.\n",
      "    \n",
      "    Returns\n",
      "    -------\n",
      "    BN: BiNet\n",
      "        Instance of the BiNet class loaded from the JSON file.\n",
      "    \n",
      "    Notes\n",
      "    -----\n",
      "    This class method allows loading a BiNet instance from a JSON file, along with links and labels. It constructs both\n",
      "    nodes layers' objects with metadata initialized based on the provided information.\n",
      "\n"
     ]
    }
   ],
   "source": [
    "help(sbm.BiNet.load_BiNet_from_json)"
   ]
  },
  {
   "cell_type": "code",
   "execution_count": 23,
   "metadata": {},
   "outputs": [
    {
     "data": {
      "text/plain": [
       "0        5\n",
       "1        3\n",
       "2        4\n",
       "3        3\n",
       "4        3\n",
       "        ..\n",
       "79995    2\n",
       "79996    4\n",
       "79997    3\n",
       "79998    3\n",
       "79999    3\n",
       "Name: rating, Length: 80000, dtype: int64"
      ]
     },
     "execution_count": 23,
     "metadata": {},
     "output_type": "execute_result"
    }
   ],
   "source": [
    "df_links[\"rating\"]"
   ]
  },
  {
   "cell_type": "code",
   "execution_count": null,
   "metadata": {},
   "outputs": [
    {
     "name": "stderr",
     "output_type": "stream",
     "text": [
      "c:\\Users\\oscar\\OneDrive\\Documentos\\MMSBM_library\\..\\MMSBM_library\\functions\\MMSBM_functions.py:78: RuntimeWarning: invalid value encountered in true_divide\n",
      "  new_theta /= na.denominators\n"
     ]
    },
    {
     "name": "stdout",
     "output_type": "stream",
     "text": [
      "Fold 1 accuracy: 0.4341\n"
     ]
    },
    {
     "name": "stderr",
     "output_type": "stream",
     "text": [
      "c:\\Users\\oscar\\OneDrive\\Documentos\\MMSBM_library\\..\\MMSBM_library\\functions\\MMSBM_functions.py:78: RuntimeWarning: invalid value encountered in true_divide\n",
      "  new_theta /= na.denominators\n"
     ]
    },
    {
     "name": "stdout",
     "output_type": "stream",
     "text": [
      "Fold 2 accuracy: 0.4393\n"
     ]
    },
    {
     "name": "stderr",
     "output_type": "stream",
     "text": [
      "c:\\Users\\oscar\\OneDrive\\Documentos\\MMSBM_library\\..\\MMSBM_library\\functions\\MMSBM_functions.py:78: RuntimeWarning: invalid value encountered in true_divide\n",
      "  new_theta /= na.denominators\n"
     ]
    },
    {
     "name": "stdout",
     "output_type": "stream",
     "text": [
      "Fold 3 accuracy: 0.43525\n"
     ]
    },
    {
     "name": "stderr",
     "output_type": "stream",
     "text": [
      "c:\\Users\\oscar\\OneDrive\\Documentos\\MMSBM_library\\..\\MMSBM_library\\functions\\MMSBM_functions.py:78: RuntimeWarning: invalid value encountered in true_divide\n",
      "  new_theta /= na.denominators\n"
     ]
    },
    {
     "name": "stdout",
     "output_type": "stream",
     "text": [
      "Fold 4 accuracy: 0.43025\n"
     ]
    },
    {
     "name": "stderr",
     "output_type": "stream",
     "text": [
      "c:\\Users\\oscar\\OneDrive\\Documentos\\MMSBM_library\\..\\MMSBM_library\\functions\\MMSBM_functions.py:78: RuntimeWarning: invalid value encountered in true_divide\n",
      "  new_theta /= na.denominators\n"
     ]
    },
    {
     "name": "stdout",
     "output_type": "stream",
     "text": [
      "Fold 5 accuracy: 0.4239\n",
      "Mean accuracy: 0.43256000000000006\n"
     ]
    }
   ],
   "source": [
    "# Loading data from files\n",
    "\n",
    "mean_accuracy = 0\n",
    "for f in range(1,6):\n",
    "  # Loading data from files and calculating accuracy for each fold\n",
    "  # Mean accuracy is computed across all 5 folds\n",
    "  df_links = pd.read_csv(f\"ml-100k/u{f}.base\",sep=\"\\t\",names=[\"uid\",\"mid\",\"rating\",\"time_stamp\"])\n",
    "  df_test = pd.read_csv(f\"ml-100k/u{f}.test\",sep=\"\\t\",names=[\"uid\",\"mid\",\"rating\",\"time_stamp\"])\n",
    "\n",
    "  ratings = sbm.BiNet.load_BiNet_from_json(\"./example_parameters/kf_{}/BiNet_data.json\".format(f),links=df_links,links_label=\"rating\",nodes_a=users,nodes_b=movies)\n",
    "  ratings.init_EM_from_directory(dir=\"./example_parameters/kf_{}\".format(f))\n",
    "\n",
    "\n",
    "  accuracy = ratings.get_accuracy(links=df_test)\n",
    "  mean_accuracy += accuracy\n",
    "  print(f\"Fold {f} accuracy: {accuracy}\")\n",
    "\n",
    "print(f\"Mean accuracy: {mean_accuracy/5}\")"
   ]
  },
  {
   "cell_type": "markdown",
   "metadata": {},
   "source": [
    "# Creating a 5-fold from scratch"
   ]
  },
  {
   "cell_type": "code",
   "execution_count": 14,
   "metadata": {},
   "outputs": [
    {
     "name": "stdout",
     "output_type": "stream",
     "text": [
      "Processing fold 1\n"
     ]
    },
    {
     "name": "stderr",
     "output_type": "stream",
     "text": [
      "c:\\Users\\oscar\\OneDrive\\Documentos\\MMSBM_library\\..\\MMSBM_library\\functions\\MMSBM_functions.py:78: RuntimeWarning: invalid value encountered in true_divide\n",
      "  new_theta /= na.denominators\n"
     ]
    },
    {
     "name": "stdout",
     "output_type": "stream",
     "text": [
      "Fold 1 complete\n",
      "Processing fold 2\n"
     ]
    },
    {
     "name": "stderr",
     "output_type": "stream",
     "text": [
      "c:\\Users\\oscar\\OneDrive\\Documentos\\MMSBM_library\\..\\MMSBM_library\\functions\\MMSBM_functions.py:78: RuntimeWarning: invalid value encountered in true_divide\n",
      "  new_theta /= na.denominators\n"
     ]
    },
    {
     "name": "stdout",
     "output_type": "stream",
     "text": [
      "Fold 2 complete\n",
      "Processing fold 3\n"
     ]
    },
    {
     "name": "stderr",
     "output_type": "stream",
     "text": [
      "c:\\Users\\oscar\\OneDrive\\Documentos\\MMSBM_library\\..\\MMSBM_library\\functions\\MMSBM_functions.py:78: RuntimeWarning: invalid value encountered in true_divide\n",
      "  new_theta /= na.denominators\n"
     ]
    },
    {
     "name": "stdout",
     "output_type": "stream",
     "text": [
      "Fold 3 complete\n",
      "Processing fold 4\n"
     ]
    },
    {
     "name": "stderr",
     "output_type": "stream",
     "text": [
      "c:\\Users\\oscar\\OneDrive\\Documentos\\MMSBM_library\\..\\MMSBM_library\\functions\\MMSBM_functions.py:78: RuntimeWarning: invalid value encountered in true_divide\n",
      "  new_theta /= na.denominators\n"
     ]
    },
    {
     "name": "stdout",
     "output_type": "stream",
     "text": [
      "Fold 4 complete\n",
      "Processing fold 5\n"
     ]
    },
    {
     "name": "stderr",
     "output_type": "stream",
     "text": [
      "c:\\Users\\oscar\\OneDrive\\Documentos\\MMSBM_library\\..\\MMSBM_library\\functions\\MMSBM_functions.py:78: RuntimeWarning: invalid value encountered in true_divide\n",
      "  new_theta /= na.denominators\n"
     ]
    },
    {
     "name": "stdout",
     "output_type": "stream",
     "text": [
      "Fold 5 complete\n"
     ]
    }
   ],
   "source": [
    "# Read full dataset\n",
    "df_links = pd.read_csv(\"ml-100k/u.data\", sep=\"\\t\", names=[\"uid\",\"mid\",\"rating\",\"time_stamp\"])\n",
    "\n",
    "# Create initial BiNet with full dataset\n",
    "ratings = sbm.BiNet(nodes_a=users, nodes_b=movies, links=df_links, links_label=\"rating\")\n",
    "\n",
    "# Create 5 random folds\n",
    "from sklearn.model_selection import KFold\n",
    "kf = KFold(n_splits=5, shuffle=True, random_state=42)\n",
    "\n",
    "# For each fold\n",
    "for fold, (train_idx, test_idx) in enumerate(kf.split(df_links), 1):\n",
    "    print(f\"Processing fold {fold}\")\n",
    "    \n",
    "    # Split into train/test\n",
    "    df_train = df_links.iloc[train_idx]\n",
    "    df_test = df_links.iloc[test_idx]\n",
    "    \n",
    "    # Initialize EM with training data for this fold\n",
    "    ratings.links = df_links  # Keep full dataset\n",
    "    ratings.init_EM(training=df_train)  # Initialize EM with training set\n",
    "    \n",
    "    # Run EM algorithm\n",
    "    ratings.EM_step(100)\n",
    "    \n",
    "    # Save parameters and train/test indices\n",
    "    save_MMSBM_parameters(ratings, dir=f\"./kf_{fold}\", BiNet_json=True)\n",
    "    \n",
    "    # Save indices for reproducibility\n",
    "    np.save(f\"./kf_{fold}/train_idx.npy\", train_idx)\n",
    "    np.save(f\"./kf_{fold}/test_idx.npy\", test_idx)\n",
    "    \n",
    "    print(f\"Fold {fold} complete\")\n",
    "\n",
    "\n",
    "\n",
    "\n"
   ]
  },
  {
   "cell_type": "code",
   "execution_count": 10,
   "metadata": {},
   "outputs": [
    {
     "name": "stdout",
     "output_type": "stream",
     "text": [
      "\n",
      "Fold 1 test accuracy: 0.4381\n",
      "\n",
      "Fold 2 test accuracy: 0.4385\n",
      "\n",
      "Fold 3 test accuracy: 0.4330\n",
      "\n",
      "Fold 4 test accuracy: 0.4362\n",
      "\n",
      "Fold 5 test accuracy: 0.4344\n",
      "\n",
      "Average test accuracy across folds:\n",
      "0.4360 ± 0.0021\n"
     ]
    }
   ],
   "source": [
    "# Read full dataset\n",
    "df_links = pd.read_csv(\"ml-100k/u.data\", sep=\"\\t\", names=[\"uid\",\"mid\",\"rating\",\"time_stamp\"])\n",
    "\n",
    "\n",
    "# Create initial BiNet with full dataset\n",
    "ratings_loaded = sbm.BiNet(nodes_a=users, nodes_b=movies, links=df_links, links_label=\"rating\")\n",
    "\n",
    "# Initialize list to store accuracies\n",
    "test_accuracies = []\n",
    "\n",
    "# For each fold\n",
    "for fold in range(1,6):\n",
    "    # Load test indices\n",
    "    test_idx = np.load(f\"./kf_{fold}/test_idx.npy\")\n",
    "    train_idx = np.load(f\"./kf_{fold}/train_idx.npy\")\n",
    "    \n",
    "    # Get train/test data\n",
    "    df_train = df_links.iloc[train_idx]\n",
    "    df_test = df_links.iloc[test_idx]\n",
    "    \n",
    "    \n",
    "    # Load trained parameters from directory\n",
    "    ratings_loaded.init_EM_from_directory(df_train,f\"./kf_{fold}\")\n",
    "    \n",
    "    # Get predicted labels for test set\n",
    "    test_predictions = ratings_loaded.get_predicted_labels(df_test)\n",
    "    test_labels = df_test['rating'].replace(ratings_loaded.dict_codes).values\n",
    "    \n",
    "    # Calculate accuracy \n",
    "    test_acc = ratings_loaded.get_accuracy(links=df_test)\n",
    "    test_accuracies.append(test_acc)\n",
    "    \n",
    "    print(f\"\\nFold {fold} test accuracy: {test_acc:.4f}\")\n",
    "\n",
    "# Print average accuracy\n",
    "print(\"\\nAverage test accuracy across folds:\")\n",
    "print(f\"{np.mean(test_accuracies):.4f} ± {np.std(test_accuracies):.4f}\")\n",
    "\n",
    "\n",
    "\n"
   ]
  }
 ],
 "metadata": {
  "colab": {
   "provenance": []
  },
  "kernelspec": {
   "display_name": "base",
   "language": "python",
   "name": "python3"
  },
  "language_info": {
   "codemirror_mode": {
    "name": "ipython",
    "version": 3
   },
   "file_extension": ".py",
   "mimetype": "text/x-python",
   "name": "python",
   "nbconvert_exporter": "python",
   "pygments_lexer": "ipython3",
   "version": "3.9.13"
  }
 },
 "nbformat": 4,
 "nbformat_minor": 1
}
